{
 "metadata": {
  "name": "",
  "signature": "sha256:ace12a353959c036478d242a2a06a803e11cf3eda4406586d6637262dcb10ea1"
 },
 "nbformat": 3,
 "nbformat_minor": 0,
 "worksheets": [
  {
   "cells": [
    {
     "cell_type": "heading",
     "level": 1,
     "metadata": {},
     "source": [
      "$x^2$ potential"
     ]
    },
    {
     "cell_type": "code",
     "collapsed": false,
     "input": [
      "import pickle\n",
      "import numpy as np\n",
      "import pycuda.gpuarray as gpuarray\n",
      "import pycuda.cumath as cumath\n",
      "from scipy.special import hyp1f1\n",
      "import scipy.fftpack as fftpack\n",
      "import pylab as plt\n",
      "import time\n",
      "\n",
      "#-------------------------------------------------------------------------------------\n",
      "from pywignercuda_path import SetPyWignerCUDA_Path\n",
      "SetPyWignerCUDA_Path()\n",
      "\n",
      "from GPU_Wigner4D import *"
     ],
     "language": "python",
     "metadata": {},
     "outputs": [
      {
       "output_type": "stream",
       "stream": "stdout",
       "text": [
        " PyWignerCUDA PATH =  /home/rcabrera/Documents/source/Python/PyWignerCUDA2\n"
       ]
      }
     ],
     "prompt_number": 1
    },
    {
     "cell_type": "code",
     "collapsed": false,
     "input": [
      "%matplotlib inline"
     ],
     "language": "python",
     "metadata": {},
     "outputs": [],
     "prompt_number": 2
    },
    {
     "cell_type": "heading",
     "level": 2,
     "metadata": {},
     "source": [
      "Settings"
     ]
    },
    {
     "cell_type": "code",
     "collapsed": false,
     "input": [
      "class frame( GPU_Wigner4D ):\n",
      "    def __init__ (self):\n",
      "    \n",
      "        self.skipFrames = 1\n",
      "        self.dt         = 0.1\n",
      "        self.timeSteps  = 5\n",
      "    \n",
      "        # Phase space window \n",
      "        self.p_y_amplitude = 7.          #axis 0\n",
      "        self.y_amplitude   = 7.          #axis 1\n",
      "        self.p_x_amplitude = 14.         #axis 2\n",
      "        self.x_amplitude   = 14.         #axis 3\n",
      "        \n",
      "        # Ambiguity space window \n",
      "        self.theta_y_amplitude  = 9.     #axis 0             \n",
      "        self.lambda_y_amplitude = 9.     #axis 1\n",
      "        self.theta_x_amplitude  = 12.    #axis 2\n",
      "        self.lambda_x_amplitude = 12.    #axis 3\n",
      "           \n",
      "        # Dynamics    \n",
      "        self.mass    = 1.\n",
      "        self.omega_x = 1.\n",
      "        self.omega_y = 1.\n",
      "        \n",
      "        self.kinematicString  = '0.5*p*p/{mass}'.format(mass=self.mass)\n",
      "        \n",
      "        self.potentialString  = '{c1}*pow(x,2) + {c2}*pow(y,2)'    \n",
      "        self.potentialString = self.potentialString.format(\n",
      "                               mass=self.mass, c1=0.5*self.mass*self.omega_x**2, c2=0.5*self.mass*self.omega_y**2 )    \n",
      "            \n",
      "        # Dephasing     \n",
      "        self.D_theta_x  = 0.001 \n",
      "        self.D_theta_y  = 0.001 \n",
      "        self.D_lambda_x = 0.001 \n",
      "        self.D_lambda_y = 0.001 \n",
      "            \n",
      "        GPU_Wigner4D.__init__(self)\n",
      "        \n",
      "    def Set_Initial_Condition(self):\n",
      "        \"\"\"\n",
      "        Sets   self.PsiInitial_XP with the Wigner function of the Harmonic oscillator  \n",
      "        \"\"\"\n",
      "        \n",
      "        self.fileName = '/home/rcabrera/DATA/Wigner4D/' + 'HO.hdf5'\n",
      "        \n",
      "        x_mu   = 0.\n",
      "        y_mu   = 0.\n",
      "        p_x_mu = 4.\n",
      "        p_y_mu = 1.\n",
      "        \n",
      "        self.HOscillatorGound_GPU( instance.W_init_gpu, x_mu, y_mu, p_x_mu, p_y_mu, self.omega_x, self.omega_y, self.mass )   \n",
      "        \n",
      "        norm = instance.Norm_GPU( instance.W_init_gpu )\n",
      "        \n",
      "        instance.W_init_gpu /= norm\n",
      "        "
     ],
     "language": "python",
     "metadata": {},
     "outputs": [],
     "prompt_number": 3
    },
    {
     "cell_type": "heading",
     "level": 2,
     "metadata": {},
     "source": [
      "Initialize"
     ]
    },
    {
     "cell_type": "code",
     "collapsed": false,
     "input": [
      "instance = frame()"
     ],
     "language": "python",
     "metadata": {},
     "outputs": [
      {
       "output_type": "stream",
       "stream": "stdout",
       "text": [
        "         GPU memory Total                5.17700195312 GB\n",
        "         GPU memory Free  (Before)       5.13043212891 GB\n",
        "         GPU memory Free  (After)       "
       ]
      },
      {
       "output_type": "stream",
       "stream": "stdout",
       "text": [
        " 4.12945556641 GB\n"
       ]
      }
     ],
     "prompt_number": 4
    },
    {
     "cell_type": "code",
     "collapsed": false,
     "input": [
      "instance.Set_Initial_Condition()"
     ],
     "language": "python",
     "metadata": {},
     "outputs": [],
     "prompt_number": 5
    },
    {
     "cell_type": "markdown",
     "metadata": {},
     "source": [
      "********************************************"
     ]
    },
    {
     "cell_type": "code",
     "collapsed": false,
     "input": [
      "W = instance.W_init_gpu.get()"
     ],
     "language": "python",
     "metadata": {},
     "outputs": [],
     "prompt_number": 6
    },
    {
     "cell_type": "code",
     "collapsed": false,
     "input": [
      "# Phase space x\n",
      "plt.imshow( W[::,::,instance.gridDIM_x/2, instance.gridDIM_x/2 ].real, \n",
      "           extent=[-instance.y_amplitude , instance.y_amplitude-instance.dy,\n",
      "                   -instance.p_y_amplitude, instance.p_y_amplitude-instance.dp_y] ,\n",
      "           origin='lower', interpolation='none')\n",
      "\n",
      "axis_font = {'size':'24'}\n",
      "plt.title( '$W$' , **axis_font)\n",
      "plt.xlabel('$y$',**axis_font)\n",
      "plt.ylabel('$p_y$',**axis_font)\n",
      "\n",
      "plt.colorbar()\n"
     ],
     "language": "python",
     "metadata": {},
     "outputs": [
      {
       "metadata": {},
       "output_type": "pyout",
       "prompt_number": 7,
       "text": [
        "<matplotlib.colorbar.Colorbar at 0x7f682434ab50>"
       ]
      },
      {
       "metadata": {},
       "output_type": "display_data",
       "png": "[encoded data removed]",
       "text": [
        "<matplotlib.figure.Figure at 0x7f682463d650>"
       ]
      }
     ],
     "prompt_number": 7
    },
    {
     "cell_type": "code",
     "collapsed": false,
     "input": [
      "# Phase space y\n",
      "plt.imshow( W[instance.gridDIM_y/2, instance.gridDIM_y/2, :, : ].real, \n",
      "           extent=[-instance.x_amplitude , instance.x_amplitude-instance.dx,\n",
      "                   -instance.p_x_amplitude, instance.p_x_amplitude-instance.dp_x] ,\n",
      "           origin='lower', interpolation='none')\n",
      "\n",
      "axis_font = {'size':'24'}\n",
      "plt.title( '$W$' , **axis_font)\n",
      "plt.xlabel('$x$',**axis_font)\n",
      "plt.ylabel('$p_x$',**axis_font)\n",
      "\n",
      "plt.colorbar()"
     ],
     "language": "python",
     "metadata": {},
     "outputs": [
      {
       "metadata": {},
       "output_type": "pyout",
       "prompt_number": 8,
       "text": [
        "<matplotlib.colorbar.Colorbar at 0x7f68240efc50>"
       ]
      },
      {
       "metadata": {},
       "output_type": "display_data",
       "png": "[encoded data removed]",
       "text": [
        "<matplotlib.figure.Figure at 0x7f682463d0d0>"
       ]
      }
     ],
     "prompt_number": 8
    },
    {
     "cell_type": "code",
     "collapsed": false,
     "input": [
      "# Configuration space  \n",
      "plt.imshow( W[ instance.gridDIM_y/2 , : , instance.gridDIM_x/2 , : ].real, \n",
      "           extent=[-instance.x_amplitude , instance.x_amplitude-instance.dx,\n",
      "                   -instance.y_amplitude , instance.y_amplitude-instance.dy] ,\n",
      "           origin='lower', interpolation='none')\n",
      "\n",
      "axis_font = {'size':'24'}\n",
      "plt.title( '$W$' , **axis_font)\n",
      "plt.xlabel('$x$',**axis_font)\n",
      "plt.ylabel('$y$',**axis_font)\n",
      "plt.axes().set_aspect(1)\n",
      "plt.colorbar()"
     ],
     "language": "python",
     "metadata": {},
     "outputs": [
      {
       "metadata": {},
       "output_type": "pyout",
       "prompt_number": 9,
       "text": [
        "<matplotlib.colorbar.Colorbar at 0x7f67dffb9950>"
       ]
      },
      {
       "metadata": {},
       "output_type": "display_data",
       "png": "[encoded data removed]",
       "text": [
        "<matplotlib.figure.Figure at 0x7f68240a3910>"
       ]
      }
     ],
     "prompt_number": 9
    },
    {
     "cell_type": "code",
     "collapsed": false,
     "input": [
      "# Momentum space  \n",
      "plt.imshow( W[ :, instance.gridDIM_y/2 ,  :, instance.gridDIM_x/2 ].real, \n",
      "           extent=[-instance.p_x_amplitude , instance.p_x_amplitude-instance.dp_x,\n",
      "                   -instance.p_y_amplitude , instance.p_y_amplitude-instance.dp_y] ,\n",
      "           origin='lower', interpolation='none')\n",
      "\n",
      "axis_font = {'size':'24'}\n",
      "plt.title( '$W$' , **axis_font)\n",
      "plt.xlabel('$p_x$',**axis_font)\n",
      "plt.ylabel('$p_y$',**axis_font)\n",
      "plt.axes().set_aspect(1)\n",
      "plt.colorbar()"
     ],
     "language": "python",
     "metadata": {},
     "outputs": [
      {
       "metadata": {},
       "output_type": "pyout",
       "prompt_number": 10,
       "text": [
        "<matplotlib.colorbar.Colorbar at 0x7f67dfe58b50>"
       ]
      },
      {
       "metadata": {},
       "output_type": "display_data",
       "png": "[encoded data removed]",
       "text": [
        "<matplotlib.figure.Figure at 0x7f67dff6bc50>"
       ]
      }
     ],
     "prompt_number": 10
    },
    {
     "cell_type": "markdown",
     "metadata": {},
     "source": [
      "RUN"
     ]
    },
    {
     "cell_type": "code",
     "collapsed": false,
     "input": [
      "instance.Run()"
     ],
     "language": "python",
     "metadata": {},
     "outputs": [
      {
       "output_type": "stream",
       "stream": "stdout",
       "text": [
        "         GPU memory Total        5.17700195312 GB\n",
        "         GPU memory Free         4.12945556641 GB\n",
        " t index =  0\n",
        " t index = "
       ]
      },
      {
       "output_type": "stream",
       "stream": "stdout",
       "text": [
        " 1\n",
        " t index = "
       ]
      },
      {
       "output_type": "stream",
       "stream": "stdout",
       "text": [
        " 2\n",
        " t index = "
       ]
      },
      {
       "output_type": "stream",
       "stream": "stdout",
       "text": [
        " 3\n",
        " t index = "
       ]
      },
      {
       "output_type": "stream",
       "stream": "stdout",
       "text": [
        " 4\n",
        " t index = "
       ]
      },
      {
       "output_type": "stream",
       "stream": "stdout",
       "text": [
        " 5\n"
       ]
      }
     ],
     "prompt_number": 11
    },
    {
     "cell_type": "code",
     "collapsed": false,
     "input": [
      "W = instance.W_init_gpu.get()"
     ],
     "language": "python",
     "metadata": {},
     "outputs": [],
     "prompt_number": 12
    },
    {
     "cell_type": "code",
     "collapsed": false,
     "input": [
      "# Phase space y\n",
      "plt.imshow( W[:,:,instance.gridDIM_x/2, instance.gridDIM_x/2 ].real, \n",
      "           extent=[-instance.y_amplitude , instance.y_amplitude-instance.dy,\n",
      "                   -instance.p_y_amplitude, instance.p_y_amplitude-instance.dp_y] ,\n",
      "           origin='lower', interpolation='none')\n",
      "\n",
      "axis_font = {'size':'24'}\n",
      "plt.title( '$W$' , **axis_font)\n",
      "plt.xlabel('$y$',**axis_font)\n",
      "plt.ylabel('$p_y$',**axis_font)\n",
      "\n",
      "plt.colorbar()"
     ],
     "language": "python",
     "metadata": {},
     "outputs": [
      {
       "metadata": {},
       "output_type": "pyout",
       "prompt_number": 13,
       "text": [
        "<matplotlib.colorbar.Colorbar at 0x7f679fcbe590>"
       ]
      },
      {
       "metadata": {},
       "output_type": "display_data",
       "png": "[encoded data removed]",
       "text": [
        "<matplotlib.figure.Figure at 0x7f6824677a50>"
       ]
      }
     ],
     "prompt_number": 13
    },
    {
     "cell_type": "code",
     "collapsed": false,
     "input": [
      "# Phase space x\n",
      "plt.imshow( W[instance.gridDIM_y/2, instance.gridDIM_y/2, :, : ].real, \n",
      "           extent=[-instance.x_amplitude , instance.x_amplitude-instance.dx,\n",
      "                   -instance.p_x_amplitude, instance.p_x_amplitude-instance.dp_x] ,\n",
      "           origin='lower', interpolation='none')\n",
      "\n",
      "axis_font = {'size':'24'}\n",
      "plt.title( '$W$' , **axis_font)\n",
      "plt.xlabel('$x$',**axis_font)\n",
      "plt.ylabel('$p_x$',**axis_font)\n",
      "\n",
      "plt.colorbar()"
     ],
     "language": "python",
     "metadata": {},
     "outputs": [
      {
       "metadata": {},
       "output_type": "pyout",
       "prompt_number": 14,
       "text": [
        "<matplotlib.colorbar.Colorbar at 0x7f679fb97e50>"
       ]
      },
      {
       "metadata": {},
       "output_type": "display_data",
       "png": "[encoded data removed]",
       "text": [
        "<matplotlib.figure.Figure at 0x7f679fce0410>"
       ]
      }
     ],
     "prompt_number": 14
    },
    {
     "cell_type": "code",
     "collapsed": false,
     "input": [
      "plt.plot( instance.average_x  )"
     ],
     "language": "python",
     "metadata": {},
     "outputs": [
      {
       "metadata": {},
       "output_type": "pyout",
       "prompt_number": 15,
       "text": [
        "[<matplotlib.lines.Line2D at 0x7f679fadacd0>]"
       ]
      },
      {
       "metadata": {},
       "output_type": "display_data",
       "png": "[encoded data removed]",
       "text": [
        "<matplotlib.figure.Figure at 0x7f682427ff10>"
       ]
      }
     ],
     "prompt_number": 15
    },
    {
     "cell_type": "code",
     "collapsed": false,
     "input": [
      "plt.plot( instance.average_p_x )"
     ],
     "language": "python",
     "metadata": {},
     "outputs": [
      {
       "metadata": {},
       "output_type": "pyout",
       "prompt_number": 16,
       "text": [
        "[<matplotlib.lines.Line2D at 0x7f679fa0ab10>]"
       ]
      },
      {
       "metadata": {},
       "output_type": "display_data",
       "png": "[encoded data removed]",
       "text": [
        "<matplotlib.figure.Figure at 0x7f679fa91ad0>"
       ]
      }
     ],
     "prompt_number": 16
    },
    {
     "cell_type": "code",
     "collapsed": false,
     "input": [
      "np.sum(W.real)*instance.dx*instance.dp_x*instance.dy*instance.dp_y"
     ],
     "language": "python",
     "metadata": {},
     "outputs": [
      {
       "metadata": {},
       "output_type": "pyout",
       "prompt_number": 17,
       "text": [
        "0.99999999999999489"
       ]
      }
     ],
     "prompt_number": 17
    },
    {
     "cell_type": "code",
     "collapsed": false,
     "input": [
      "instance.average_x[0]*instance.dx*instance.dp_x*instance.dy*instance.dp_y"
     ],
     "language": "python",
     "metadata": {},
     "outputs": [
      {
       "metadata": {},
       "output_type": "pyout",
       "prompt_number": 18,
       "text": [
        "0.0022897720336914058"
       ]
      }
     ],
     "prompt_number": 18
    },
    {
     "cell_type": "code",
     "collapsed": false,
     "input": [
      "instance.dx*instance.dp_x*instance.dy*instance.dp_y"
     ],
     "language": "python",
     "metadata": {},
     "outputs": [
      {
       "metadata": {},
       "output_type": "pyout",
       "prompt_number": 19,
       "text": [
        "0.0022897720336914062"
       ]
      }
     ],
     "prompt_number": 19
    },
    {
     "cell_type": "code",
     "collapsed": false,
     "input": [],
     "language": "python",
     "metadata": {},
     "outputs": [],
     "prompt_number": 19
    }
   ],
   "metadata": {}
  }
 ]
}