{
 "metadata": {
  "name": "",
  "signature": "sha256:054d702440775d2442a56938928f67737d5761579ad8cf70f5b75e5636d0f3be"
 },
 "nbformat": 3,
 "nbformat_minor": 0,
 "worksheets": [
  {
   "cells": [
    {
     "cell_type": "heading",
     "level": 1,
     "metadata": {},
     "source": [
      "$x^2$ potential"
     ]
    },
    {
     "cell_type": "code",
     "collapsed": false,
     "input": [
      "import pickle\n",
      "import numpy as np\n",
      "import pycuda.gpuarray as gpuarray\n",
      "import pycuda.cumath as cumath\n",
      "from scipy.special import hyp1f1\n",
      "import scipy.fftpack as fftpack\n",
      "import pylab as plt\n",
      "import time\n",
      "\n",
      "#-------------------------------------------------------------------------------------\n",
      "from pywignercuda_path import SetPyWignerCUDA_Path\n",
      "SetPyWignerCUDA_Path()\n",
      "\n",
      "from GPU_WignerDirac4D import *"
     ],
     "language": "python",
     "metadata": {},
     "outputs": [
      {
       "output_type": "stream",
       "stream": "stdout",
       "text": [
        " PyWignerCUDA PATH =  /home/rcabrera/Documents/source/Python/PyWignerCUDA2\n"
       ]
      }
     ],
     "prompt_number": 1
    },
    {
     "cell_type": "code",
     "collapsed": false,
     "input": [
      "%matplotlib inline"
     ],
     "language": "python",
     "metadata": {},
     "outputs": [],
     "prompt_number": 2
    },
    {
     "cell_type": "code",
     "collapsed": false,
     "input": [
      "500*0.002"
     ],
     "language": "python",
     "metadata": {},
     "outputs": [
      {
       "metadata": {},
       "output_type": "pyout",
       "prompt_number": 3,
       "text": [
        "1.0"
       ]
      }
     ],
     "prompt_number": 3
    },
    {
     "cell_type": "heading",
     "level": 2,
     "metadata": {},
     "source": [
      "Settings"
     ]
    },
    {
     "cell_type": "code",
     "collapsed": false,
     "input": [
      "class frame( GPU_WignerDirac4D ):\n",
      "    def __init__ (self):\n",
      "        \n",
      "        \n",
      "        self.gridDIM_p_y = 64      #axis 0\n",
      "        self.gridDIM_y   = 64      #axis 1    \n",
      "        self.gridDIM_p_x = 64     #axis 2\n",
      "        self.gridDIM_x   = 64     #axis 3\n",
      "    \n",
      "        self.skipFrames = 1\n",
      "        self.dt         = 0.002\n",
      "        self.timeSteps  =   200\n",
      "    \n",
      "        # Phase space window \n",
      "        self.p_y_amplitude = 4.          #axis 0\n",
      "        self.y_amplitude   = 16.          #axis 1\n",
      "        self.p_x_amplitude = 4.         #axis 2\n",
      "        self.x_amplitude   = 16.        #axis 3\n",
      "        \n",
      "        # Ambiguity space window \n",
      "        self.theta_y_amplitude  = 22.     #axis 0             \n",
      "        self.lambda_y_amplitude = 6.     #axis 1\n",
      "        self.theta_x_amplitude  = 22.    #axis 2\n",
      "        self.lambda_x_amplitude = 6.    #axis 3\n",
      "           \n",
      "        # Dynamics    \n",
      "        self.c       = 1.    \n",
      "        self.HBar    = 1.\n",
      "        \n",
      "        self.mass    = 1.\n",
      "        self.omega_x = 1.\n",
      "        self.omega_y = 1.\n",
      "        \n",
      "        self.kineticString  = '0.5*(p_x*p_x  + p_y*p_y)/{mass}'.format(mass=self.mass)\n",
      "        \n",
      "        self.potential_0_String  = 'x*0'    \n",
      "        self.potential_1_String  = 'x*0'\n",
      "        self.potential_2_String  = 'x*0' \n",
      "            \n",
      "        # Dephasing     \n",
      "        self.D_theta_x  = 0.0001 \n",
      "        self.D_theta_y  = 0.0001 \n",
      "        self.D_lambda_x = 0.0001 \n",
      "        self.D_lambda_y = 0.0001 \n",
      "            \n",
      "        GPU_WignerDirac4D.__init__(self)\n",
      "        \n",
      "    def Set_Initial_Condition(self):\n",
      "        \"\"\"\n",
      "        Sets   self.PsiInitial_XP with the Wigner function of the Harmonic oscillator  \n",
      "        \"\"\"\n",
      "        \n",
      "        self.FilterParticle = False #1  #------------------------Filter-----------------------    \n",
      "        \n",
      "        self.fileName = '/home/rcabrera/DATA/Wigner4D/' + 'HO.hdf5'\n",
      "        \n",
      "        x_mu    = 0.\n",
      "        y_mu    = 0.\n",
      "        x_sigma = 2.\n",
      "        y_sigma = 2.\n",
      "        \n",
      "        u_x = 1.\n",
      "        u_y = 0.\n",
      "\n",
      "        self.WignerDiracGaussian_ParticleUp_GPU(\n",
      "            self.W11 ,  self.W12 ,  self.W13 ,  self.W14 ,\n",
      "                        self.W22 ,  self.W23 ,  self.W24 ,\n",
      "                                    self.W33 ,  self.W34 , \n",
      "                                                self.W44 , u_x, u_y, x_mu, y_mu, x_sigma, y_sigma)\n",
      "        \n",
      "        self.Fourier_Theta_To_P_64_64_4x4_GPU(\n",
      "            self.W11 ,  self.W12 ,  self.W13 ,  self.W14 ,\n",
      "                        self.W22 ,  self.W23 ,  self.W24 ,\n",
      "                                    self.W33 ,  self.W34 , \n",
      "                                                self.W44 )\n",
      "        \n",
      "        \n",
      "        self.Normalize_4x4_GPU(\n",
      "            self.W11 ,  self.W12 ,  self.W13 ,  self.W14 ,\n",
      "                        self.W22 ,  self.W23 ,  self.W24 ,\n",
      "                                    self.W33 ,  self.W34 , \n",
      "                                                self.W44 )\n",
      "        \n",
      "  \n",
      "        "
     ],
     "language": "python",
     "metadata": {},
     "outputs": [],
     "prompt_number": 4
    },
    {
     "cell_type": "heading",
     "level": 2,
     "metadata": {},
     "source": [
      "Initialize"
     ]
    },
    {
     "cell_type": "code",
     "collapsed": false,
     "input": [
      "instance = frame()"
     ],
     "language": "python",
     "metadata": {},
     "outputs": [
      {
       "output_type": "stream",
       "stream": "stdout",
       "text": [
        "\n",
        "__device__ double c      = 1.000000;   __device__ double HBar   = 1.000000;   __device__ double dt   = 0.002000;   __device__ double mass = 1.000000; \n",
        "__device__ double dp_y   = 0.125000; __device__ double dy     = 0.500000; __device__ double dp_x   = 0.125000; __device__ double dx     = 0.500000; \n",
        "__device__ double dtheta_y   = 0.687500; __device__ double dlambda_y  = 0.187500; __device__ double dtheta_x   = 0.687500; __device__ double dlambda_x  = 0.187500; \n",
        "__device__ int gridDIM_x = 64; __device__ int gridDIM_y = 64; __device__ double D_lambda_x = 0.000100; __device__ double D_lambda_y = 0.000100; __device__ double D_theta_x  = 0.000100; __device__ double D_theta_y  = 0.000100; \n",
        "\n",
        "\n",
        "         GPU memory Total                5.17700195312 GB\n",
        "         GPU memory Free  (Before)       5.13043212891 GB\n",
        "         GPU memory Free  (After)       "
       ]
      },
      {
       "output_type": "stream",
       "stream": "stdout",
       "text": [
        " 2.62945556641 GB\n"
       ]
      }
     ],
     "prompt_number": 5
    },
    {
     "cell_type": "code",
     "collapsed": false,
     "input": [
      "instance.Set_Initial_Condition()\n",
      "#instance.Set_Initial_Condition_FilterParticle()"
     ],
     "language": "python",
     "metadata": {},
     "outputs": [
      {
       "output_type": "stream",
       "stream": "stdout",
       "text": [
        "\t\t\t Norm =  (44794.5204832-8.14665340602e-12j)\n"
       ]
      }
     ],
     "prompt_number": 6
    },
    {
     "cell_type": "markdown",
     "metadata": {},
     "source": [
      "********************************************"
     ]
    },
    {
     "cell_type": "code",
     "collapsed": false,
     "input": [
      "W = instance.W11 .get() + instance.W22 .get() + instance.W33 .get() + instance.W44 .get()"
     ],
     "language": "python",
     "metadata": {},
     "outputs": [],
     "prompt_number": 7
    },
    {
     "cell_type": "code",
     "collapsed": false,
     "input": [
      "# Phase space x\n",
      "plt.imshow( W[::,::,instance.gridDIM_x/2, instance.gridDIM_x/2 ].real, \n",
      "           extent=[-instance.y_amplitude , instance.y_amplitude-instance.dy,\n",
      "                   -instance.p_y_amplitude, instance.p_y_amplitude-instance.dp_y] ,\n",
      "           origin='lower', interpolation='none')\n",
      "\n",
      "axis_font = {'size':'24'}\n",
      "plt.title( '$W$' , **axis_font)\n",
      "plt.xlabel('$y$',**axis_font)\n",
      "plt.ylabel('$p_y$',**axis_font)\n",
      "\n",
      "plt.colorbar()\n",
      "plt.axes().set_aspect(4)"
     ],
     "language": "python",
     "metadata": {},
     "outputs": [
      {
       "metadata": {},
       "output_type": "display_data",
       "png": "[encoded data removed]",
       "text": [
        "<matplotlib.figure.Figure at 0x7fdd0b5e7350>"
       ]
      }
     ],
     "prompt_number": 8
    },
    {
     "cell_type": "code",
     "collapsed": false,
     "input": [
      "# Phase space y\n",
      "plt.imshow( W[instance.gridDIM_y/2, instance.gridDIM_y/2, :, : ].real, \n",
      "           extent=[-instance.x_amplitude , instance.x_amplitude-instance.dx,\n",
      "                   -instance.p_x_amplitude, instance.p_x_amplitude-instance.dp_x] ,\n",
      "           origin='lower', interpolation='none')\n",
      "\n",
      "axis_font = {'size':'24'}\n",
      "plt.title( '$W$' , **axis_font)\n",
      "plt.xlabel('$x$',**axis_font)\n",
      "plt.ylabel('$p_x$',**axis_font)\n",
      "\n",
      "plt.colorbar()\n",
      "plt.axes().set_aspect(4)"
     ],
     "language": "python",
     "metadata": {},
     "outputs": [
      {
       "metadata": {},
       "output_type": "display_data",
       "png": "[encoded data removed]",
       "text": [
        "<matplotlib.figure.Figure at 0x7fdd0b1cd790>"
       ]
      }
     ],
     "prompt_number": 9
    },
    {
     "cell_type": "code",
     "collapsed": false,
     "input": [
      "# Configuration space  \n",
      "plt.imshow( W[ instance.gridDIM_y/2 , : , instance.gridDIM_x/2 , : ].real, \n",
      "           extent=[-instance.x_amplitude , instance.x_amplitude-instance.dx,\n",
      "                   -instance.y_amplitude , instance.y_amplitude-instance.dy] ,\n",
      "           origin='lower', interpolation='none')\n",
      "\n",
      "axis_font = {'size':'24'}\n",
      "plt.title( '$W$' , **axis_font)\n",
      "plt.xlabel('$x$',**axis_font)\n",
      "plt.ylabel('$y$',**axis_font)\n",
      "plt.axes().set_aspect(1)\n",
      "plt.colorbar()"
     ],
     "language": "python",
     "metadata": {},
     "outputs": [
      {
       "metadata": {},
       "output_type": "pyout",
       "prompt_number": 10,
       "text": [
        "<matplotlib.colorbar.Colorbar at 0x7fdd0af5eed0>"
       ]
      },
      {
       "metadata": {},
       "output_type": "display_data",
       "png": "[encoded data removed]",
       "text": [
        "<matplotlib.figure.Figure at 0x7fdd0b0ca310>"
       ]
      }
     ],
     "prompt_number": 10
    },
    {
     "cell_type": "code",
     "collapsed": false,
     "input": [
      "# Momentum space  \n",
      "plt.imshow( W[ :, instance.gridDIM_y/2 ,  :, instance.gridDIM_x/2 ].real, \n",
      "           extent=[-instance.p_x_amplitude , instance.p_x_amplitude-instance.dp_x,\n",
      "                   -instance.p_y_amplitude , instance.p_y_amplitude-instance.dp_y] ,\n",
      "           origin='lower', interpolation='none')\n",
      "\n",
      "axis_font = {'size':'24'}\n",
      "plt.title( '$W$' , **axis_font)\n",
      "plt.xlabel('$p_x$',**axis_font)\n",
      "plt.ylabel('$p_y$',**axis_font)\n",
      "plt.axes().set_aspect(1)\n",
      "plt.colorbar()"
     ],
     "language": "python",
     "metadata": {},
     "outputs": [
      {
       "metadata": {},
       "output_type": "pyout",
       "prompt_number": 11,
       "text": [
        "<matplotlib.colorbar.Colorbar at 0x7fdd0b131610>"
       ]
      },
      {
       "metadata": {},
       "output_type": "display_data",
       "png": "[encoded data removed]",
       "text": [
        "<matplotlib.figure.Figure at 0x7fdd0af82110>"
       ]
      }
     ],
     "prompt_number": 11
    },
    {
     "cell_type": "markdown",
     "metadata": {},
     "source": [
      "RUN"
     ]
    },
    {
     "cell_type": "code",
     "collapsed": false,
     "input": [
      "t_init = time.time()\n",
      "\n",
      "instance.Run()\n",
      "\n",
      "print ' running time = ', (time.time() - t_init)/60. , 'min'"
     ],
     "language": "python",
     "metadata": {},
     "outputs": [
      {
       "output_type": "stream",
       "stream": "stdout",
       "text": [
        "         GPU memory Total        5.17700195312 GB\n",
        "         GPU memory Free         2.62811279297 GB\n",
        " t index =  0\n",
        "\t\t\t Norm =  (1+1.1497801768e-31j)\n",
        " t index = "
       ]
      },
      {
       "output_type": "stream",
       "stream": "stdout",
       "text": [
        " 1\n",
        "\t\t\t Norm =  (109.661722814-2.47606199976e-13j)\n",
        " t index = "
       ]
      },
      {
       "output_type": "stream",
       "stream": "stdout",
       "text": [
        " 2\n",
        "\t\t\t Norm =  (109.661722815-2.46288531972e-13j)\n",
        " t index = "
       ]
      },
      {
       "output_type": "stream",
       "stream": "stdout",
       "text": [
        " 3\n",
        "\t\t\t Norm =  (109.661722816-2.49229104151e-13j)\n",
        " t index = "
       ]
      },
      {
       "output_type": "stream",
       "stream": "stdout",
       "text": [
        " 4\n",
        "\t\t\t Norm =  (109.661722817-2.46965943925e-13j)\n",
        " t index = "
       ]
      },
      {
       "output_type": "stream",
       "stream": "stdout",
       "text": [
        " 5\n",
        "\t\t\t Norm =  (109.661722818-2.48486051698e-13j)\n",
        " t index = "
       ]
      },
      {
       "output_type": "stream",
       "stream": "stdout",
       "text": [
        " 6\n",
        "\t\t\t Norm =  (109.661722819-2.4926617836e-13j)\n",
        " t index = "
       ]
      },
      {
       "output_type": "stream",
       "stream": "stdout",
       "text": [
        " 7\n",
        "\t\t\t Norm =  (109.66172282-2.47535831927e-13j)\n",
        " t index = "
       ]
      },
      {
       "output_type": "stream",
       "stream": "stdout",
       "text": [
        " 8\n",
        "\t\t\t Norm =  (109.661722821-2.47492854322e-13j)\n",
        " t index = "
       ]
      },
      {
       "output_type": "stream",
       "stream": "stdout",
       "text": [
        " 9\n",
        "\t\t\t Norm =  (109.661722822-2.49790524365e-13j)\n",
        " t index = "
       ]
      },
      {
       "output_type": "stream",
       "stream": "stdout",
       "text": [
        " 10\n",
        "\t\t\t Norm =  (109.661722823-2.47009759245e-13j)\n",
        " t index = "
       ]
      },
      {
       "output_type": "stream",
       "stream": "stdout",
       "text": [
        " 11\n",
        "\t\t\t Norm =  (109.661722824-2.45400928582e-13j)\n",
        " t index = "
       ]
      },
      {
       "output_type": "stream",
       "stream": "stdout",
       "text": [
        " 12\n",
        "\t\t\t Norm =  (109.661722825-2.47862511359e-13j)\n",
        " t index = "
       ]
      },
      {
       "output_type": "stream",
       "stream": "stdout",
       "text": [
        " 13\n",
        "\t\t\t Norm =  (109.661722826-2.47717258761e-13j)\n",
        " t index = "
       ]
      },
      {
       "output_type": "stream",
       "stream": "stdout",
       "text": [
        " 14\n",
        "\t\t\t Norm =  (109.661722827-2.46798336433e-13j)\n",
        " t index = "
       ]
      },
      {
       "output_type": "stream",
       "stream": "stdout",
       "text": [
        " 15\n",
        "\t\t\t Norm =  (109.661722828-2.47770526969e-13j)\n",
        " t index = "
       ]
      },
      {
       "output_type": "stream",
       "stream": "stdout",
       "text": [
        " 16\n",
        "\t\t\t Norm =  (109.661722829-2.47495722376e-13j)\n",
        " t index = "
       ]
      },
      {
       "output_type": "stream",
       "stream": "stdout",
       "text": [
        " 17\n",
        "\t\t\t Norm =  (109.66172283-2.4745423809e-13j)\n",
        " t index = "
       ]
      },
      {
       "output_type": "stream",
       "stream": "stdout",
       "text": [
        " 18\n",
        "\t\t\t Norm =  (109.661722831-2.47115289386e-13j)\n",
        " t index = "
       ]
      },
      {
       "output_type": "stream",
       "stream": "stdout",
       "text": [
        " 19\n",
        "\t\t\t Norm =  (109.661722832-2.47527177791e-13j)\n",
        " t index = "
       ]
      },
      {
       "output_type": "stream",
       "stream": "stdout",
       "text": [
        " 20\n",
        "\t\t\t Norm =  (109.661722833-2.46922328504e-13j)\n",
        " t index = "
       ]
      },
      {
       "output_type": "stream",
       "stream": "stdout",
       "text": [
        " 21\n",
        "\t\t\t Norm =  (109.661722834-2.48389037203e-13j)\n",
        " t index = "
       ]
      },
      {
       "output_type": "stream",
       "stream": "stdout",
       "text": [
        " 22\n",
        "\t\t\t Norm =  (109.661722835-2.4855725117e-13j)\n",
        " t index = "
       ]
      },
      {
       "output_type": "stream",
       "stream": "stdout",
       "text": [
        " 23\n",
        "\t\t\t Norm =  (109.661722836-2.47861572846e-13j)\n",
        " t index = "
       ]
      },
      {
       "output_type": "stream",
       "stream": "stdout",
       "text": [
        " 24\n",
        "\t\t\t Norm =  (109.661722837-2.47412875777e-13j)\n",
        " t index = "
       ]
      },
      {
       "output_type": "stream",
       "stream": "stdout",
       "text": [
        " 25\n",
        "\t\t\t Norm =  (109.661722838-2.45692897451e-13j)\n",
        " t index = "
       ]
      },
      {
       "output_type": "stream",
       "stream": "stdout",
       "text": [
        " 26\n",
        "\t\t\t Norm =  (109.661722839-2.47273447378e-13j)\n",
        " t index = "
       ]
      },
      {
       "output_type": "stream",
       "stream": "stdout",
       "text": [
        " 27\n",
        "\t\t\t Norm =  (109.661722839-2.47668368019e-13j)\n",
        " t index = "
       ]
      },
      {
       "output_type": "stream",
       "stream": "stdout",
       "text": [
        " 28\n",
        "\t\t\t Norm =  (109.66172284-2.46076108708e-13j)\n",
        " t index = "
       ]
      },
      {
       "output_type": "stream",
       "stream": "stdout",
       "text": [
        " 29\n",
        "\t\t\t Norm =  (109.661722841-2.47544497921e-13j)\n",
        " t index = "
       ]
      },
      {
       "output_type": "stream",
       "stream": "stdout",
       "text": [
        " 30\n",
        "\t\t\t Norm =  (109.661722842-2.47198637428e-13j)\n",
        " t index = "
       ]
      },
      {
       "output_type": "stream",
       "stream": "stdout",
       "text": [
        " 31\n",
        "\t\t\t Norm =  (109.661722843-2.46795151589e-13j)\n",
        " t index = "
       ]
      },
      {
       "output_type": "stream",
       "stream": "stdout",
       "text": [
        " 32\n",
        "\t\t\t Norm =  (109.661722844-2.47053029076e-13j)\n",
        " t index = "
       ]
      },
      {
       "output_type": "stream",
       "stream": "stdout",
       "text": [
        " 33\n",
        "\t\t\t Norm =  (109.661722845-2.47179230209e-13j)\n",
        " t index = "
       ]
      },
      {
       "output_type": "stream",
       "stream": "stdout",
       "text": [
        " 34\n",
        "\t\t\t Norm =  (109.661722846-2.47868782791e-13j)\n",
        " t index = "
       ]
      },
      {
       "output_type": "stream",
       "stream": "stdout",
       "text": [
        " 35\n",
        "\t\t\t Norm =  (109.661722847-2.47450389172e-13j)\n",
        " t index = "
       ]
      },
      {
       "output_type": "stream",
       "stream": "stdout",
       "text": [
        " 36\n",
        "\t\t\t Norm =  (109.661722848-2.45750034905e-13j)\n",
        " t index = "
       ]
      },
      {
       "output_type": "stream",
       "stream": "stdout",
       "text": [
        " 37\n",
        "\t\t\t Norm =  (109.661722849-2.46365211218e-13j)\n",
        " t index = "
       ]
      },
      {
       "output_type": "stream",
       "stream": "stdout",
       "text": [
        " 38\n",
        "\t\t\t Norm =  (109.66172285-2.47155594602e-13j)\n",
        " t index = "
       ]
      },
      {
       "output_type": "stream",
       "stream": "stdout",
       "text": [
        " 39\n",
        "\t\t\t Norm =  (109.661722851-2.4520825908e-13j)\n",
        " t index = "
       ]
      },
      {
       "output_type": "stream",
       "stream": "stdout",
       "text": [
        " 40\n",
        "\t\t\t Norm =  (109.661722852-2.45846528898e-13j)\n",
        " t index = "
       ]
      },
      {
       "output_type": "stream",
       "stream": "stdout",
       "text": [
        " 41\n",
        "\t\t\t Norm =  (109.661722853-2.46382124772e-13j)\n",
        " t index = "
       ]
      },
      {
       "output_type": "stream",
       "stream": "stdout",
       "text": [
        " 42\n",
        "\t\t\t Norm =  (109.661722854-2.46753138755e-13j)\n",
        " t index = "
       ]
      },
      {
       "output_type": "stream",
       "stream": "stdout",
       "text": [
        " 43\n",
        "\t\t\t Norm =  (109.661722855-2.45986390979e-13j)\n",
        " t index = "
       ]
      },
      {
       "output_type": "stream",
       "stream": "stdout",
       "text": [
        " 44\n",
        "\t\t\t Norm =  (109.661722856-2.47025924022e-13j)\n",
        " t index = "
       ]
      },
      {
       "output_type": "stream",
       "stream": "stdout",
       "text": [
        " 45\n",
        "\t\t\t Norm =  (109.661722857-2.45181262445e-13j)\n",
        " t index = "
       ]
      },
      {
       "output_type": "stream",
       "stream": "stdout",
       "text": [
        " 46\n",
        "\t\t\t Norm =  (109.661722858-2.47478253168e-13j)\n",
        " t index = "
       ]
      },
      {
       "output_type": "stream",
       "stream": "stdout",
       "text": [
        " 47\n",
        "\t\t\t Norm =  (109.661722859-2.44743244768e-13j)\n",
        " t index = "
       ]
      },
      {
       "output_type": "stream",
       "stream": "stdout",
       "text": [
        " 48\n",
        "\t\t\t Norm =  (109.66172286-2.47175543922e-13j)\n",
        " t index = "
       ]
      },
      {
       "output_type": "stream",
       "stream": "stdout",
       "text": [
        " 49\n",
        "\t\t\t Norm =  (109.661722861-2.47099649769e-13j)\n",
        " t index = "
       ]
      },
      {
       "output_type": "stream",
       "stream": "stdout",
       "text": [
        " 50\n",
        "\t\t\t Norm =  (109.661722862-2.46997301084e-13j)\n",
        " t index = "
       ]
      },
      {
       "output_type": "stream",
       "stream": "stdout",
       "text": [
        " 51\n",
        "\t\t\t Norm =  (109.661722863-2.46177644242e-13j)\n",
        " t index = "
       ]
      },
      {
       "output_type": "stream",
       "stream": "stdout",
       "text": [
        " 52\n",
        "\t\t\t Norm =  (109.661722864-2.46290834949e-13j)\n",
        " t index = "
       ]
      },
      {
       "output_type": "stream",
       "stream": "stdout",
       "text": [
        " 53\n",
        "\t\t\t Norm =  (109.661722865-2.46768751266e-13j)\n",
        " t index = "
       ]
      },
      {
       "output_type": "stream",
       "stream": "stdout",
       "text": [
        " 54\n",
        "\t\t\t Norm =  (109.661722866-2.45818990163e-13j)\n",
        " t index = "
       ]
      },
      {
       "output_type": "stream",
       "stream": "stdout",
       "text": [
        " 55\n",
        "\t\t\t Norm =  (109.661722867-2.45401355486e-13j)\n",
        " t index = "
       ]
      },
      {
       "output_type": "stream",
       "stream": "stdout",
       "text": [
        " 56\n",
        "\t\t\t Norm =  (109.661722868-2.45545771216e-13j)\n",
        " t index = "
       ]
      },
      {
       "output_type": "stream",
       "stream": "stdout",
       "text": [
        " 57\n",
        "\t\t\t Norm =  (109.661722869-2.46018917044e-13j)\n",
        " t index = "
       ]
      },
      {
       "output_type": "stream",
       "stream": "stdout",
       "text": [
        " 58\n",
        "\t\t\t Norm =  (109.66172287-2.45930879827e-13j)\n",
        " t index = "
       ]
      },
      {
       "output_type": "stream",
       "stream": "stdout",
       "text": [
        " 59\n",
        "\t\t\t Norm =  (109.661722871-2.47904995143e-13j)\n",
        " t index = "
       ]
      },
      {
       "output_type": "stream",
       "stream": "stdout",
       "text": [
        " 60\n",
        "\t\t\t Norm =  (109.661722872-2.45859322484e-13j)\n",
        " t index = "
       ]
      },
      {
       "output_type": "stream",
       "stream": "stdout",
       "text": [
        " 61\n",
        "\t\t\t Norm =  (109.661722873-2.44872264826e-13j)\n",
        " t index = "
       ]
      },
      {
       "output_type": "stream",
       "stream": "stdout",
       "text": [
        " 62\n",
        "\t\t\t Norm =  (109.661722874-2.47486493105e-13j)\n",
        " t index = "
       ]
      },
      {
       "output_type": "stream",
       "stream": "stdout",
       "text": [
        " 63\n",
        "\t\t\t Norm =  (109.661722875-2.46045371577e-13j)\n",
        " t index = "
       ]
      },
      {
       "output_type": "stream",
       "stream": "stdout",
       "text": [
        " 64\n",
        "\t\t\t Norm =  (109.661722876-2.44980251363e-13j)\n",
        " t index = "
       ]
      },
      {
       "output_type": "stream",
       "stream": "stdout",
       "text": [
        " 65\n",
        "\t\t\t Norm =  (109.661722877-2.46348948185e-13j)\n",
        " t index = "
       ]
      },
      {
       "output_type": "stream",
       "stream": "stdout",
       "text": [
        " 66\n",
        "\t\t\t Norm =  (109.661722878-2.46462572573e-13j)\n",
        " t index = "
       ]
      },
      {
       "output_type": "stream",
       "stream": "stdout",
       "text": [
        " 67\n",
        "\t\t\t Norm =  (109.661722879-2.45707967861e-13j)\n",
        " t index = "
       ]
      },
      {
       "output_type": "stream",
       "stream": "stdout",
       "text": [
        " 68\n",
        "\t\t\t Norm =  (109.66172288-2.4658573794e-13j)\n",
        " t index = "
       ]
      },
      {
       "output_type": "stream",
       "stream": "stdout",
       "text": [
        " 69\n",
        "\t\t\t Norm =  (109.661722881-2.45454698233e-13j)\n",
        " t index = "
       ]
      },
      {
       "output_type": "stream",
       "stream": "stdout",
       "text": [
        " 70\n",
        "\t\t\t Norm =  (109.661722882-2.45361023166e-13j)\n",
        " t index = "
       ]
      },
      {
       "output_type": "stream",
       "stream": "stdout",
       "text": [
        " 71\n",
        "\t\t\t Norm =  (109.661722883-2.46169404305e-13j)\n",
        " t index = "
       ]
      },
      {
       "output_type": "stream",
       "stream": "stdout",
       "text": [
        " 72\n",
        "\t\t\t Norm =  (109.661722884-2.45170203583e-13j)\n",
        " t index = "
       ]
      },
      {
       "output_type": "stream",
       "stream": "stdout",
       "text": [
        " 73\n",
        "\t\t\t Norm =  (109.661722885-2.44009673578e-13j)\n",
        " t index = "
       ]
      },
      {
       "output_type": "stream",
       "stream": "stdout",
       "text": [
        " 74\n",
        "\t\t\t Norm =  (109.661722886-2.44448558617e-13j)\n",
        " t index = "
       ]
      },
      {
       "output_type": "stream",
       "stream": "stdout",
       "text": [
        " 75\n",
        "\t\t\t Norm =  (109.661722887-2.44952495787e-13j)\n",
        " t index = "
       ]
      },
      {
       "output_type": "stream",
       "stream": "stdout",
       "text": [
        " 76\n",
        "\t\t\t Norm =  (109.661722888-2.45314185632e-13j)\n",
        " t index = "
       ]
      },
      {
       "output_type": "stream",
       "stream": "stdout",
       "text": [
        " 77\n",
        "\t\t\t Norm =  (109.661722889-2.43921202681e-13j)\n",
        " t index = "
       ]
      },
      {
       "output_type": "stream",
       "stream": "stdout",
       "text": [
        " 78\n",
        "\t\t\t Norm =  (109.66172289-2.43909059616e-13j)\n",
        " t index = "
       ]
      },
      {
       "output_type": "stream",
       "stream": "stdout",
       "text": [
        " 79\n",
        "\t\t\t Norm =  (109.661722891-2.45196224435e-13j)\n",
        " t index = "
       ]
      },
      {
       "output_type": "stream",
       "stream": "stdout",
       "text": [
        " 80\n",
        "\t\t\t Norm =  (109.661722892-2.45203163329e-13j)\n",
        " t index = "
       ]
      },
      {
       "output_type": "stream",
       "stream": "stdout",
       "text": [
        " 81\n",
        "\t\t\t Norm =  (109.661722893-2.4565766088e-13j)\n",
        " t index = "
       ]
      },
      {
       "output_type": "stream",
       "stream": "stdout",
       "text": [
        " 82\n",
        "\t\t\t Norm =  (109.661722894-2.45380105124e-13j)\n",
        " t index = "
       ]
      },
      {
       "output_type": "stream",
       "stream": "stdout",
       "text": [
        " 83\n",
        "\t\t\t Norm =  (109.661722895-2.44918668679e-13j)\n",
        " t index = "
       ]
      },
      {
       "output_type": "stream",
       "stream": "stdout",
       "text": [
        " 84\n",
        "\t\t\t Norm =  (109.661722896-2.44566519814e-13j)\n",
        " t index = "
       ]
      },
      {
       "output_type": "stream",
       "stream": "stdout",
       "text": [
        " 85\n",
        "\t\t\t Norm =  (109.661722897-2.4565766088e-13j)\n",
        " t index = "
       ]
      },
      {
       "output_type": "stream",
       "stream": "stdout",
       "text": [
        " 86\n",
        "\t\t\t Norm =  (109.661722898-2.45237857799e-13j)\n",
        " t index = "
       ]
      },
      {
       "output_type": "stream",
       "stream": "stdout",
       "text": [
        " 87\n",
        "\t\t\t Norm =  (109.661722899-2.45007139577e-13j)\n",
        " t index = "
       ]
      },
      {
       "output_type": "stream",
       "stream": "stdout",
       "text": [
        " 88\n",
        "\t\t\t Norm =  (109.6617229-2.44396516913e-13j)\n",
        " t index = "
       ]
      },
      {
       "output_type": "stream",
       "stream": "stdout",
       "text": [
        " 89\n",
        "\t\t\t Norm =  (109.661722901-2.44507539215e-13j)\n",
        " t index = "
       ]
      },
      {
       "output_type": "stream",
       "stream": "stdout",
       "text": [
        " 90\n",
        "\t\t\t Norm =  (109.661722902-2.44512743386e-13j)\n",
        " t index = "
       ]
      },
      {
       "output_type": "stream",
       "stream": "stdout",
       "text": [
        " 91\n",
        "\t\t\t Norm =  (109.661722903-2.45175407754e-13j)\n",
        " t index = "
       ]
      },
      {
       "output_type": "stream",
       "stream": "stdout",
       "text": [
        " 92\n",
        "\t\t\t Norm =  (109.661722904-2.44778156078e-13j)\n",
        " t index = "
       ]
      },
      {
       "output_type": "stream",
       "stream": "stdout",
       "text": [
        " 93\n",
        "\t\t\t Norm =  (109.661722905-2.44672337946e-13j)\n",
        " t index = "
       ]
      },
      {
       "output_type": "stream",
       "stream": "stdout",
       "text": [
        " 94\n",
        "\t\t\t Norm =  (109.661722906-2.43405989808e-13j)\n",
        " t index = "
       ]
      },
      {
       "output_type": "stream",
       "stream": "stdout",
       "text": [
        " 95\n",
        "\t\t\t Norm =  (109.661722907-2.44327127974e-13j)\n",
        " t index = "
       ]
      },
      {
       "output_type": "stream",
       "stream": "stdout",
       "text": [
        " 96\n",
        "\t\t\t Norm =  (109.661722908-2.44099879199e-13j)\n",
        " t index = "
       ]
      },
      {
       "output_type": "stream",
       "stream": "stdout",
       "text": [
        " 97\n",
        "\t\t\t Norm =  (109.661722909-2.44469375299e-13j)\n",
        " t index = "
       ]
      },
      {
       "output_type": "stream",
       "stream": "stdout",
       "text": [
        " 98\n",
        "\t\t\t Norm =  (109.66172291-2.44264677929e-13j)\n",
        " t index = "
       ]
      },
      {
       "output_type": "stream",
       "stream": "stdout",
       "text": [
        " 99\n",
        "\t\t\t Norm =  (109.661722911-2.44205697331e-13j)\n",
        " t index = "
       ]
      },
      {
       "output_type": "stream",
       "stream": "stdout",
       "text": [
        " 100\n",
        "\t\t\t Norm =  (109.661722912-2.42271480655e-13j)\n",
        " t index = "
       ]
      },
      {
       "output_type": "stream",
       "stream": "stdout",
       "text": [
        " 101\n",
        "\t\t\t Norm =  (109.661722913-2.44249065418e-13j)\n",
        " t index = "
       ]
      },
      {
       "output_type": "stream",
       "stream": "stdout",
       "text": [
        " 102\n",
        "\t\t\t Norm =  (109.661722914-2.44717440756e-13j)\n",
        " t index = "
       ]
      },
      {
       "output_type": "stream",
       "stream": "stdout",
       "text": [
        " 103\n",
        "\t\t\t Norm =  (109.661722914-2.42993125621e-13j)\n",
        " t index = "
       ]
      },
      {
       "output_type": "stream",
       "stream": "stdout",
       "text": [
        " 104\n",
        "\t\t\t Norm =  (109.661722915-2.44582132325e-13j)\n",
        " t index = "
       ]
      },
      {
       "output_type": "stream",
       "stream": "stdout",
       "text": [
        " 105\n",
        "\t\t\t Norm =  (109.661722916-2.44672337946e-13j)\n",
        " t index = "
       ]
      },
      {
       "output_type": "stream",
       "stream": "stdout",
       "text": [
        " 106\n",
        "\t\t\t Norm =  (109.661722917-2.42819653273e-13j)\n",
        " t index = "
       ]
      },
      {
       "output_type": "stream",
       "stream": "stdout",
       "text": [
        " 107\n",
        "\t\t\t Norm =  (109.661722918-2.4403049026e-13j)\n",
        " t index = "
       ]
      },
      {
       "output_type": "stream",
       "stream": "stdout",
       "text": [
        " 108\n",
        "\t\t\t Norm =  (109.661722919-2.43804976208e-13j)\n",
        " t index = "
       ]
      },
      {
       "output_type": "stream",
       "stream": "stdout",
       "text": [
        " 109\n",
        "\t\t\t Norm =  (109.66172292-2.43010472856e-13j)\n",
        " t index = "
       ]
      },
      {
       "output_type": "stream",
       "stream": "stdout",
       "text": [
        " 110\n",
        "\t\t\t Norm =  (109.661722921-2.42361686276e-13j)\n",
        " t index = "
       ]
      },
      {
       "output_type": "stream",
       "stream": "stdout",
       "text": [
        " 111\n",
        "\t\t\t Norm =  (109.661722922-2.44845810293e-13j)\n",
        " t index = "
       ]
      },
      {
       "output_type": "stream",
       "stream": "stdout",
       "text": [
        " 112\n",
        "\t\t\t Norm =  (109.661722923-2.4148044675e-13j)\n",
        " t index = "
       ]
      },
      {
       "output_type": "stream",
       "stream": "stdout",
       "text": [
        " 113\n",
        "\t\t\t Norm =  (109.661722924-2.42965370045e-13j)\n",
        " t index = "
       ]
      },
      {
       "output_type": "stream",
       "stream": "stdout",
       "text": [
        " 114\n",
        "\t\t\t Norm =  (109.661722925-2.43215170226e-13j)\n",
        " t index = "
       ]
      },
      {
       "output_type": "stream",
       "stream": "stdout",
       "text": [
        " 115\n",
        "\t\t\t Norm =  (109.661722926-2.43572523262e-13j)\n",
        " t index = "
       ]
      },
      {
       "output_type": "stream",
       "stream": "stdout",
       "text": [
        " 116\n",
        "\t\t\t Norm =  (109.661722927-2.43815384549e-13j)\n",
        " t index = "
       ]
      },
      {
       "output_type": "stream",
       "stream": "stdout",
       "text": [
        " 117\n",
        "\t\t\t Norm =  (109.661722928-2.44904790891e-13j)\n",
        " t index = "
       ]
      },
      {
       "output_type": "stream",
       "stream": "stdout",
       "text": [
        " 118\n",
        "\t\t\t Norm =  (109.661722929-2.44262943205e-13j)\n",
        " t index = "
       ]
      },
      {
       "output_type": "stream",
       "stream": "stdout",
       "text": [
        " 119\n",
        "\t\t\t Norm =  (109.66172293-2.4334700921e-13j)\n",
        " t index = "
       ]
      },
      {
       "output_type": "stream",
       "stream": "stdout",
       "text": [
        " 120\n",
        "\t\t\t Norm =  (109.661722931-2.44353148826e-13j)\n",
        " t index = "
       ]
      },
      {
       "output_type": "stream",
       "stream": "stdout",
       "text": [
        " 121\n",
        "\t\t\t Norm =  (109.661722932-2.42309644571e-13j)\n",
        " t index = "
       ]
      },
      {
       "output_type": "stream",
       "stream": "stdout",
       "text": [
        " 122\n",
        "\t\t\t Norm =  (109.661722933-2.45581333047e-13j)\n",
        " t index = "
       ]
      },
      {
       "output_type": "stream",
       "stream": "stdout",
       "text": [
        " 123\n",
        "\t\t\t Norm =  (109.661722934-2.43961101321e-13j)\n",
        " t index = "
       ]
      },
      {
       "output_type": "stream",
       "stream": "stdout",
       "text": [
        " 124\n",
        "\t\t\t Norm =  (109.661722935-2.42889042212e-13j)\n",
        " t index = "
       ]
      },
      {
       "output_type": "stream",
       "stream": "stdout",
       "text": [
        " 125\n",
        "\t\t\t Norm =  (109.661722936-2.43308845294e-13j)\n",
        " t index = "
       ]
      },
      {
       "output_type": "stream",
       "stream": "stdout",
       "text": [
        " 126\n",
        "\t\t\t Norm =  (109.661722937-2.4375640395e-13j)\n",
        " t index = "
       ]
      },
      {
       "output_type": "stream",
       "stream": "stdout",
       "text": [
        " 127\n",
        "\t\t\t Norm =  (109.661722938-2.45463371851e-13j)\n",
        " t index = "
       ]
      },
      {
       "output_type": "stream",
       "stream": "stdout",
       "text": [
        " 128\n",
        "\t\t\t Norm =  (109.661722939-2.4277801991e-13j)\n",
        " t index = "
       ]
      },
      {
       "output_type": "stream",
       "stream": "stdout",
       "text": [
        " 129\n",
        "\t\t\t Norm =  (109.66172294-2.43173536862e-13j)\n",
        " t index = "
       ]
      },
      {
       "output_type": "stream",
       "stream": "stdout",
       "text": [
        " 130\n",
        "\t\t\t Norm =  (109.661722941-2.43936815192e-13j)\n",
        " t index = "
       ]
      },
      {
       "output_type": "stream",
       "stream": "stdout",
       "text": [
        " 131\n",
        "\t\t\t Norm =  (109.661722942-2.44158859797e-13j)\n",
        " t index = "
       ]
      },
      {
       "output_type": "stream",
       "stream": "stdout",
       "text": [
        " 132\n",
        "\t\t\t Norm =  (109.661722943-2.44665399052e-13j)\n",
        " t index = "
       ]
      },
      {
       "output_type": "stream",
       "stream": "stdout",
       "text": [
        " 133\n",
        "\t\t\t Norm =  (109.661722944-2.42840469955e-13j)\n",
        " t index = "
       ]
      },
      {
       "output_type": "stream",
       "stream": "stdout",
       "text": [
        " 134\n",
        "\t\t\t Norm =  (109.661722945-2.42389441851e-13j)\n",
        " t index = "
       ]
      },
      {
       "output_type": "stream",
       "stream": "stdout",
       "text": [
        " 135\n",
        "\t\t\t Norm =  (109.661722946-2.43055575666e-13j)\n",
        " t index = "
       ]
      },
      {
       "output_type": "stream",
       "stream": "stdout",
       "text": [
        " 136\n",
        "\t\t\t Norm =  (109.661722947-2.43104147923e-13j)\n",
        " t index = "
       ]
      },
      {
       "output_type": "stream",
       "stream": "stdout",
       "text": [
        " 137\n",
        "\t\t\t Norm =  (109.661722948-2.42472708578e-13j)\n",
        " t index = "
       ]
      },
      {
       "output_type": "stream",
       "stream": "stdout",
       "text": [
        " 138\n",
        "\t\t\t Norm =  (109.661722949-2.43305375847e-13j)\n",
        " t index = "
       ]
      },
      {
       "output_type": "stream",
       "stream": "stdout",
       "text": [
        " 139\n",
        "\t\t\t Norm =  (109.66172295-2.43395581467e-13j)\n",
        " t index = "
       ]
      },
      {
       "output_type": "stream",
       "stream": "stdout",
       "text": [
        " 140\n",
        "\t\t\t Norm =  (109.661722951-2.42798836592e-13j)\n",
        " t index = "
       ]
      },
      {
       "output_type": "stream",
       "stream": "stdout",
       "text": [
        " 141\n",
        "\t\t\t Norm =  (109.661722952-2.43388642573e-13j)\n",
        " t index = "
       ]
      },
      {
       "output_type": "stream",
       "stream": "stdout",
       "text": [
        " 142\n",
        "\t\t\t Norm =  (109.661722953-2.43846609571e-13j)\n",
        " t index = "
       ]
      },
      {
       "output_type": "stream",
       "stream": "stdout",
       "text": [
        " 143\n",
        "\t\t\t Norm =  (109.661722954-2.43229048014e-13j)\n",
        " t index = "
       ]
      },
      {
       "output_type": "stream",
       "stream": "stdout",
       "text": [
        " 144\n",
        "\t\t\t Norm =  (109.661722955-2.43992326343e-13j)\n",
        " t index = "
       ]
      },
      {
       "output_type": "stream",
       "stream": "stdout",
       "text": [
        " 145\n",
        "\t\t\t Norm =  (109.661722956-2.42555975305e-13j)\n",
        " t index = "
       ]
      },
      {
       "output_type": "stream",
       "stream": "stdout",
       "text": [
        " 146\n",
        "\t\t\t Norm =  (109.661722957-2.41473507856e-13j)\n",
        " t index = "
       ]
      },
      {
       "output_type": "stream",
       "stream": "stdout",
       "text": [
        " 147\n",
        "\t\t\t Norm =  (109.661722958-2.42895981106e-13j)\n",
        " t index = "
       ]
      },
      {
       "output_type": "stream",
       "stream": "stdout",
       "text": [
        " 148\n",
        "\t\t\t Norm =  (109.661722959-2.4293761447e-13j)\n",
        " t index = "
       ]
      },
      {
       "output_type": "stream",
       "stream": "stdout",
       "text": [
        " 149\n",
        "\t\t\t Norm =  (109.66172296-2.43124964605e-13j)\n",
        " t index = "
       ]
      },
      {
       "output_type": "stream",
       "stream": "stdout",
       "text": [
        " 150\n",
        "\t\t\t Norm =  (109.661722961-2.4290292e-13j)\n",
        " t index = "
       ]
      },
      {
       "output_type": "stream",
       "stream": "stdout",
       "text": [
        " 151\n",
        "\t\t\t Norm =  (109.661722962-2.44165798691e-13j)\n",
        " t index = "
       ]
      },
      {
       "output_type": "stream",
       "stream": "stdout",
       "text": [
        " 152\n",
        "\t\t\t Norm =  (109.661722963-2.44096409752e-13j)\n",
        " t index = "
       ]
      },
      {
       "output_type": "stream",
       "stream": "stdout",
       "text": [
        " 153\n",
        "\t\t\t Norm =  (109.661722964-2.40987785283e-13j)\n",
        " t index = "
       ]
      },
      {
       "output_type": "stream",
       "stream": "stdout",
       "text": [
        " 154\n",
        "\t\t\t Norm =  (109.661722965-2.42944553364e-13j)\n",
        " t index = "
       ]
      },
      {
       "output_type": "stream",
       "stream": "stdout",
       "text": [
        " 155\n",
        "\t\t\t Norm =  (109.661722966-2.42292297337e-13j)\n",
        " t index = "
       ]
      },
      {
       "output_type": "stream",
       "stream": "stdout",
       "text": [
        " 156\n",
        "\t\t\t Norm =  (109.661722967-2.41140440949e-13j)\n",
        " t index = "
       ]
      },
      {
       "output_type": "stream",
       "stream": "stdout",
       "text": [
        " 157\n",
        "\t\t\t Norm =  (109.661722968-2.43804976208e-13j)\n",
        " t index = "
       ]
      },
      {
       "output_type": "stream",
       "stream": "stdout",
       "text": [
        " 158\n",
        "\t\t\t Norm =  (109.661722969-2.43333131422e-13j)\n",
        " t index = "
       ]
      },
      {
       "output_type": "stream",
       "stream": "stdout",
       "text": [
        " 159\n",
        "\t\t\t Norm =  (109.66172297-2.41404118917e-13j)\n",
        " t index = "
       ]
      },
      {
       "output_type": "stream",
       "stream": "stdout",
       "text": [
        " 160\n",
        "\t\t\t Norm =  (109.661722971-2.42708630971e-13j)\n",
        " t index = "
       ]
      },
      {
       "output_type": "stream",
       "stream": "stdout",
       "text": [
        " 161\n",
        "\t\t\t Norm =  (109.661722972-2.43152720181e-13j)\n",
        " t index = "
       ]
      },
      {
       "output_type": "stream",
       "stream": "stdout",
       "text": [
        " 162\n",
        "\t\t\t Norm =  (109.661722973-2.41334729978e-13j)\n",
        " t index = "
       ]
      },
      {
       "output_type": "stream",
       "stream": "stdout",
       "text": [
        " 163\n",
        "\t\t\t Norm =  (109.661722974-2.43138842393e-13j)\n",
        " t index = "
       ]
      },
      {
       "output_type": "stream",
       "stream": "stdout",
       "text": [
        " 164\n",
        "\t\t\t Norm =  (109.661722975-2.41168196524e-13j)\n",
        " t index = "
       ]
      },
      {
       "output_type": "stream",
       "stream": "stdout",
       "text": [
        " 165\n",
        "\t\t\t Norm =  (109.661722976-2.43541298239e-13j)\n",
        " t index = "
       ]
      },
      {
       "output_type": "stream",
       "stream": "stdout",
       "text": [
        " 166\n",
        "\t\t\t Norm =  (109.661722977-2.42417197427e-13j)\n",
        " t index = "
       ]
      },
      {
       "output_type": "stream",
       "stream": "stdout",
       "text": [
        " 167\n",
        "\t\t\t Norm =  (109.661722978-2.42042497156e-13j)\n",
        " t index = "
       ]
      },
      {
       "output_type": "stream",
       "stream": "stdout",
       "text": [
        " 168\n",
        "\t\t\t Norm =  (109.661722979-2.42819653273e-13j)\n",
        " t index = "
       ]
      },
      {
       "output_type": "stream",
       "stream": "stdout",
       "text": [
        " 169\n",
        "\t\t\t Norm =  (109.66172298-2.42972308939e-13j)\n",
        " t index = "
       ]
      },
      {
       "output_type": "stream",
       "stream": "stdout",
       "text": [
        " 170\n",
        "\t\t\t Norm =  (109.661722981-2.41737185824e-13j)\n",
        " t index = "
       ]
      },
      {
       "output_type": "stream",
       "stream": "stdout",
       "text": [
        " 171\n",
        "\t\t\t Norm =  (109.661722982-2.41695552461e-13j)\n",
        " t index = "
       ]
      },
      {
       "output_type": "stream",
       "stream": "stdout",
       "text": [
        " 172\n",
        "\t\t\t Norm =  (109.661722983-2.40363284831e-13j)\n",
        " t index = "
       ]
      },
      {
       "output_type": "stream",
       "stream": "stdout",
       "text": [
        " 173\n",
        "\t\t\t Norm =  (109.661722984-2.42125763883e-13j)\n",
        " t index = "
       ]
      },
      {
       "output_type": "stream",
       "stream": "stdout",
       "text": [
        " 174\n",
        "\t\t\t Norm =  (109.661722985-2.42181275034e-13j)\n",
        " t index = "
       ]
      },
      {
       "output_type": "stream",
       "stream": "stdout",
       "text": [
        " 175\n",
        "\t\t\t Norm =  (109.661722986-2.41806574763e-13j)\n",
        " t index = "
       ]
      },
      {
       "output_type": "stream",
       "stream": "stdout",
       "text": [
        " 176\n",
        "\t\t\t Norm =  (109.661722987-2.42347808488e-13j)\n",
        " t index = "
       ]
      },
      {
       "output_type": "stream",
       "stream": "stdout",
       "text": [
        " 177\n",
        "\t\t\t Norm =  (109.661722987-2.41043296434e-13j)\n",
        " t index = "
       ]
      },
      {
       "output_type": "stream",
       "stream": "stdout",
       "text": [
        " 178\n",
        "\t\t\t Norm =  (109.661722988-2.40932274131e-13j)\n",
        " t index = "
       ]
      },
      {
       "output_type": "stream",
       "stream": "stdout",
       "text": [
        " 179\n",
        "\t\t\t Norm =  (109.661722989-2.4087676298e-13j)\n",
        " t index = "
       ]
      },
      {
       "output_type": "stream",
       "stream": "stdout",
       "text": [
        " 180\n",
        "\t\t\t Norm =  (109.66172299-2.41792696976e-13j)\n",
        " t index = "
       ]
      },
      {
       "output_type": "stream",
       "stream": "stdout",
       "text": [
        " 181\n",
        "\t\t\t Norm =  (109.661722991-2.43333131422e-13j)\n",
        " t index = "
       ]
      },
      {
       "output_type": "stream",
       "stream": "stdout",
       "text": [
        " 182\n",
        "\t\t\t Norm =  (109.661722992-2.41223707675e-13j)\n",
        " t index = "
       ]
      },
      {
       "output_type": "stream",
       "stream": "stdout",
       "text": [
        " 183\n",
        "\t\t\t Norm =  (109.661722993-2.40737985102e-13j)\n",
        " t index = "
       ]
      },
      {
       "output_type": "stream",
       "stream": "stdout",
       "text": [
        " 184\n",
        "\t\t\t Norm =  (109.661722994-2.42111886095e-13j)\n",
        " t index = "
       ]
      },
      {
       "output_type": "stream",
       "stream": "stdout",
       "text": [
        " 185\n",
        "\t\t\t Norm =  (109.661722995-2.41862085915e-13j)\n",
        " t index = "
       ]
      },
      {
       "output_type": "stream",
       "stream": "stdout",
       "text": [
        " 186\n",
        "\t\t\t Norm =  (109.661722996-2.411959521e-13j)\n",
        " t index = "
       ]
      },
      {
       "output_type": "stream",
       "stream": "stdout",
       "text": [
        " 187\n",
        "\t\t\t Norm =  (109.661722997-2.41931474854e-13j)\n",
        " t index = "
       ]
      },
      {
       "output_type": "stream",
       "stream": "stdout",
       "text": [
        " 188\n",
        "\t\t\t Norm =  (109.661722998-2.41598407946e-13j)\n",
        " t index = "
       ]
      },
      {
       "output_type": "stream",
       "stream": "stdout",
       "text": [
        " 189\n",
        "\t\t\t Norm =  (109.661722999-2.41431874493e-13j)\n",
        " t index = "
       ]
      },
      {
       "output_type": "stream",
       "stream": "stdout",
       "text": [
        " 190\n",
        "\t\t\t Norm =  (109.661723-2.42666997607e-13j)\n",
        " t index = "
       ]
      },
      {
       "output_type": "stream",
       "stream": "stdout",
       "text": [
        " 191\n",
        "\t\t\t Norm =  (109.661723001-2.41556774583e-13j)\n",
        " t index = "
       ]
      },
      {
       "output_type": "stream",
       "stream": "stdout",
       "text": [
        " 192\n",
        "\t\t\t Norm =  (109.661723002-2.41667796885e-13j)\n",
        " t index = "
       ]
      },
      {
       "output_type": "stream",
       "stream": "stdout",
       "text": [
        " 193\n",
        "\t\t\t Norm =  (109.661723003-2.40613085012e-13j)\n",
        " t index = "
       ]
      },
      {
       "output_type": "stream",
       "stream": "stdout",
       "text": [
        " 194\n",
        "\t\t\t Norm =  (109.661723004-2.41001663071e-13j)\n",
        " t index = "
       ]
      },
      {
       "output_type": "stream",
       "stream": "stdout",
       "text": [
        " 195\n",
        "\t\t\t Norm =  (109.661723005-2.41057174222e-13j)\n",
        " t index = "
       ]
      },
      {
       "output_type": "stream",
       "stream": "stdout",
       "text": [
        " 196\n",
        "\t\t\t Norm =  (109.661723006-2.42889042212e-13j)\n",
        " t index = "
       ]
      },
      {
       "output_type": "stream",
       "stream": "stdout",
       "text": [
        " 197\n",
        "\t\t\t Norm =  (109.661723007-2.41209829888e-13j)\n",
        " t index = "
       ]
      },
      {
       "output_type": "stream",
       "stream": "stdout",
       "text": [
        " 198\n",
        "\t\t\t Norm =  (109.661723008-2.41751063612e-13j)\n",
        " t index = "
       ]
      },
      {
       "output_type": "stream",
       "stream": "stdout",
       "text": [
        " 199\n",
        "\t\t\t Norm =  (109.661723009-2.41612285734e-13j)\n",
        " t index = "
       ]
      },
      {
       "output_type": "stream",
       "stream": "stdout",
       "text": [
        " 200\n",
        "\t\t\t Norm =  (109.66172301-2.4208413052e-13j)\n",
        "\t\t\t Norm = "
       ]
      },
      {
       "output_type": "stream",
       "stream": "stdout",
       "text": [
        " (109.661723011-2.40640840588e-13j)\n",
        " running time =  109.630864882 min\n"
       ]
      }
     ],
     "prompt_number": 12
    },
    {
     "cell_type": "code",
     "collapsed": false,
     "input": [
      "W = instance.W11 .get() + instance.W22 .get() + instance.W33 .get() + instance.W44 .get()"
     ],
     "language": "python",
     "metadata": {},
     "outputs": [],
     "prompt_number": 13
    },
    {
     "cell_type": "code",
     "collapsed": false,
     "input": [
      "np.sum(W).real*instance.dx*instance.dy*instance.dp_x*instance.dp_y"
     ],
     "language": "python",
     "metadata": {},
     "outputs": [
      {
       "metadata": {},
       "output_type": "pyout",
       "prompt_number": 14,
       "text": [
        "0.99999999999999944"
       ]
      }
     ],
     "prompt_number": 14
    },
    {
     "cell_type": "code",
     "collapsed": false,
     "input": [
      "# Phase space y \n",
      "plt.imshow( W[:,:,instance.gridDIM_x/2, instance.gridDIM_x/2 ].real, \n",
      "           extent=[-instance.y_amplitude , instance.y_amplitude-instance.dy,\n",
      "                   -instance.p_y_amplitude, instance.p_y_amplitude-instance.dp_y] ,\n",
      "           origin='lower', interpolation='none')\n",
      "\n",
      "axis_font = {'size':'24'}\n",
      "plt.title( '$W$' , **axis_font)\n",
      "plt.xlabel('$y$',**axis_font)\n",
      "plt.ylabel('$p_y$',**axis_font)\n",
      "\n",
      "plt.colorbar()\n",
      "plt.axes().set_aspect(4)"
     ],
     "language": "python",
     "metadata": {},
     "outputs": [
      {
       "metadata": {},
       "output_type": "display_data",
       "png": "[encoded data removed]",
       "text": [
        "<matplotlib.figure.Figure at 0x7fdd0b2b0950>"
       ]
      }
     ],
     "prompt_number": 15
    },
    {
     "cell_type": "code",
     "collapsed": false,
     "input": [
      "# Phase space x\n",
      "plt.imshow( W[instance.gridDIM_y/2, instance.gridDIM_y/2, :, : ].real, \n",
      "           extent=[-instance.x_amplitude , instance.x_amplitude-instance.dx,\n",
      "                   -instance.p_x_amplitude, instance.p_x_amplitude-instance.dp_x] ,\n",
      "           origin='lower', interpolation='none')\n",
      "\n",
      "axis_font = {'size':'24'}\n",
      "plt.title( '$W$' , **axis_font)\n",
      "plt.xlabel('$x$',**axis_font)\n",
      "plt.ylabel('$p_x$',**axis_font)\n",
      "\n",
      "plt.colorbar()\n",
      "plt.axes().set_aspect(4)"
     ],
     "language": "python",
     "metadata": {},
     "outputs": [
      {
       "metadata": {},
       "output_type": "display_data",
       "png": "[encoded data removed]",
       "text": [
        "<matplotlib.figure.Figure at 0x7fdd0b100750>"
       ]
      }
     ],
     "prompt_number": 16
    },
    {
     "cell_type": "code",
     "collapsed": false,
     "input": [
      "# Configuration space  \n",
      "plt.imshow( W[ instance.gridDIM_y/2 , : , instance.gridDIM_x/2 , : ].real, \n",
      "           extent=[-instance.x_amplitude , instance.x_amplitude-instance.dx,\n",
      "                   -instance.y_amplitude , instance.y_amplitude-instance.dy] ,\n",
      "           origin='lower', interpolation='none')\n",
      "\n",
      "axis_font = {'size':'24'}\n",
      "plt.title( '$W$' , **axis_font)\n",
      "plt.xlabel('$x$',**axis_font)\n",
      "plt.ylabel('$y$',**axis_font)\n",
      "plt.axes().set_aspect(1)\n",
      "plt.colorbar()"
     ],
     "language": "python",
     "metadata": {},
     "outputs": [
      {
       "metadata": {},
       "output_type": "pyout",
       "prompt_number": 17,
       "text": [
        "<matplotlib.colorbar.Colorbar at 0x7fdd0acc9a50>"
       ]
      },
      {
       "metadata": {},
       "output_type": "display_data",
       "png": "[encoded data removed]",
       "text": [
        "<matplotlib.figure.Figure at 0x7fdd0aea24d0>"
       ]
      }
     ],
     "prompt_number": 17
    },
    {
     "cell_type": "code",
     "collapsed": false,
     "input": [
      "# Momentum space  \n",
      "plt.imshow( W[ :, instance.gridDIM_y/2 ,  :, instance.gridDIM_x/2 ].real, \n",
      "           extent=[-instance.p_x_amplitude , instance.p_x_amplitude-instance.dp_x,\n",
      "                   -instance.p_y_amplitude , instance.p_y_amplitude-instance.dp_y] ,\n",
      "           origin='lower', interpolation='none')\n",
      "\n",
      "axis_font = {'size':'24'}\n",
      "plt.title( '$W$' , **axis_font)\n",
      "plt.xlabel('$p_x$',**axis_font)\n",
      "plt.ylabel('$p_y$',**axis_font)\n",
      "plt.axes().set_aspect(1)\n",
      "plt.colorbar()"
     ],
     "language": "python",
     "metadata": {},
     "outputs": [
      {
       "metadata": {},
       "output_type": "pyout",
       "prompt_number": 18,
       "text": [
        "<matplotlib.colorbar.Colorbar at 0x7fdd0b28d9d0>"
       ]
      },
      {
       "metadata": {},
       "output_type": "display_data",
       "png": "[encoded data removed]",
       "text": [
        "<matplotlib.figure.Figure at 0x7fdd0ae2c690>"
       ]
      }
     ],
     "prompt_number": 18
    },
    {
     "cell_type": "code",
     "collapsed": false,
     "input": [
      "plt.plot( instance.average_x  , label=\"$x$\")\n",
      "plt.plot( instance.average_y  ,'r--', label=\"$y$\")\n",
      "plt.ylabel(\"$x$\")\n",
      "plt.xlabel(\"t\")\n",
      "plt.legend(fontsize=20) "
     ],
     "language": "python",
     "metadata": {},
     "outputs": [
      {
       "metadata": {},
       "output_type": "pyout",
       "prompt_number": 19,
       "text": [
        "<matplotlib.legend.Legend at 0x7fdd0b2b0f10>"
       ]
      },
      {
       "metadata": {},
       "output_type": "display_data",
       "png": "[encoded data removed]",
       "text": [
        "<matplotlib.figure.Figure at 0x7fdd0aea82d0>"
       ]
      }
     ],
     "prompt_number": 19
    },
    {
     "cell_type": "code",
     "collapsed": false,
     "input": [
      "plt.plot( instance.average_p_x , label=\"$p_x$\")\n",
      "plt.plot( instance.average_p_y ,'r--', label=\"$p_y$\")\n",
      "plt.ylabel(\"$p_x$\")\n",
      "plt.xlabel(\"t\")\n",
      "plt.ylim(-1,3)\n",
      "plt.legend(fontsize=20) "
     ],
     "language": "python",
     "metadata": {},
     "outputs": [
      {
       "metadata": {},
       "output_type": "pyout",
       "prompt_number": 20,
       "text": [
        "<matplotlib.legend.Legend at 0x7fdd0added50>"
       ]
      },
      {
       "metadata": {},
       "output_type": "display_data",
       "png": "[encoded data removed]",
       "text": [
        "<matplotlib.figure.Figure at 0x7fdd0b109310>"
       ]
      }
     ],
     "prompt_number": 20
    },
    {
     "cell_type": "code",
     "collapsed": false,
     "input": [
      "instance.average_x.shape"
     ],
     "language": "python",
     "metadata": {},
     "outputs": [
      {
       "metadata": {},
       "output_type": "pyout",
       "prompt_number": 21,
       "text": [
        "(201,)"
       ]
      }
     ],
     "prompt_number": 21
    },
    {
     "cell_type": "code",
     "collapsed": false,
     "input": [
      "print 'initial velocity x = ', 2/np.sqrt( 1 + 2**2 + 2**2  )\n",
      "\n",
      "plt.figure(figsize=(8,8))\n",
      "\n",
      "plt.plot(  np.gradient( instance.average_x , instance.dt)  , label=\"$\\\\frac{dx}{dt}$\")\n",
      "plt.plot( instance.average_Alpha_1 ,'r--', label=\"$\\\\alpha^1$\")\n",
      "plt.ylabel(\"$x$\")\n",
      "plt.xlabel(\"t\")\n",
      "\n",
      "plt.ylim( 0.66 , 0.72 )\n",
      "plt.legend(fontsize=30) "
     ],
     "language": "python",
     "metadata": {},
     "outputs": [
      {
       "output_type": "stream",
       "stream": "stdout",
       "text": [
        "initial velocity x =  0.666666666667\n"
       ]
      },
      {
       "metadata": {},
       "output_type": "pyout",
       "prompt_number": 22,
       "text": [
        "<matplotlib.legend.Legend at 0x7fdd0abad750>"
       ]
      },
      {
       "metadata": {},
       "output_type": "display_data",
       "png": "[encoded data removed]",
       "text": [
        "<matplotlib.figure.Figure at 0x7fdd0b37f310>"
       ]
      }
     ],
     "prompt_number": 22
    },
    {
     "cell_type": "code",
     "collapsed": false,
     "input": [
      "0.698-0.690"
     ],
     "language": "python",
     "metadata": {},
     "outputs": [
      {
       "metadata": {},
       "output_type": "pyout",
       "prompt_number": 23,
       "text": [
        "0.008000000000000007"
       ]
      }
     ],
     "prompt_number": 23
    },
    {
     "cell_type": "code",
     "collapsed": false,
     "input": [
      "print 'initial velocity y = ', 2/np.sqrt( 1 + 2**2 + 2**2  )\n",
      "\n",
      "plt.figure(figsize=(8,8))\n",
      "\n",
      "plt.plot(  np.gradient( instance.average_y , instance.dt )  , label=\"$\\\\frac{dy}{dt}$\")\n",
      "#plt.plot( instance.average_p_x/instance.mass, 'r--' , label=\"$\\\\frac{p_x}{m}$\")\n",
      "plt.plot( instance.average_Alpha_2 ,'r--', label=\"$\\\\alpha^2$\")\n",
      "plt.ylabel(\"$x$\")\n",
      "plt.xlabel(\"t\")\n",
      "\n",
      "plt.ylim(-0.1,0.1)\n",
      "\n",
      "plt.legend(fontsize=30) "
     ],
     "language": "python",
     "metadata": {},
     "outputs": [
      {
       "output_type": "stream",
       "stream": "stdout",
       "text": [
        "initial velocity y =  0.666666666667\n"
       ]
      },
      {
       "metadata": {},
       "output_type": "pyout",
       "prompt_number": 24,
       "text": [
        "<matplotlib.legend.Legend at 0x7fdd0aaeaad0>"
       ]
      },
      {
       "metadata": {},
       "output_type": "display_data",
       "png": "[encoded data removed]",
       "text": [
        "<matplotlib.figure.Figure at 0x7fdd0ac24090>"
       ]
      }
     ],
     "prompt_number": 24
    },
    {
     "cell_type": "code",
     "collapsed": false,
     "input": [
      "plt.figure(figsize=(8,8))\n",
      "\n",
      "plt.plot(  instance.energyKinetic , label=\"$Kinetic\\, Energy$\")\n",
      "plt.plot(  instance.energyPotential+instance.energyKinetic , 'r--',label=\"$Total\\, Energy$\")\n",
      "\n",
      "plt.ylabel(\"$E$\")\n",
      "plt.xlabel(\"t\")\n",
      "plt.ylim(1,2)\n",
      "plt.legend(fontsize=30) "
     ],
     "language": "python",
     "metadata": {},
     "outputs": [
      {
       "metadata": {},
       "output_type": "pyout",
       "prompt_number": 25,
       "text": [
        "<matplotlib.legend.Legend at 0x7fdd0aa22e10>"
       ]
      },
      {
       "metadata": {},
       "output_type": "display_data",
       "png": "[encoded data removed]",
       "text": [
        "<matplotlib.figure.Figure at 0x7fdd0aa9fe90>"
       ]
      }
     ],
     "prompt_number": 25
    },
    {
     "cell_type": "code",
     "collapsed": false,
     "input": [
      "sigma_x   = np.sqrt(instance.average_x_square   - instance.average_x**2)\n",
      "sigma_p_x = np.sqrt(instance.average_p_x_square - instance.average_p_x**2)\n",
      "\n",
      "sigma_y   = np.sqrt(instance.average_y_square   - instance.average_y**2)\n",
      "sigma_p_y = np.sqrt(instance.average_p_y_square - instance.average_p_y**2)\n",
      "\n",
      "plt.figure(figsize=(8,8))\n",
      "\n",
      "plt.plot( sigma_x*sigma_p_x ,   label=\"$\\\\Delta x \\\\Delta p_x$\")\n",
      "plt.plot( sigma_y*sigma_p_y ,'r--', label=\"$\\\\Delta y \\\\Delta p_y$\")\n",
      "\n",
      "plt.ylabel(\"$\\\\Delta$\")\n",
      "plt.xlabel(\"t\")\n",
      "plt.ylim(0.46,0.54)\n",
      "plt.legend(fontsize=30) \n",
      "plt.grid()"
     ],
     "language": "python",
     "metadata": {},
     "outputs": [
      {
       "metadata": {},
       "output_type": "display_data",
       "png": "[encoded data removed]",
       "text": [
        "<matplotlib.figure.Figure at 0x7fdd0b638190>"
       ]
      }
     ],
     "prompt_number": 26
    },
    {
     "cell_type": "code",
     "collapsed": false,
     "input": [
      "plt.figure(figsize=(8,8))\n",
      "\n",
      "plt.plot(  instance.average_x_square - instance.average_x**2, label=\"$\\\\langle x^2 \\\\rangle - \\\\langle x \\\\rangle^2 $\")\n",
      "plt.plot(  instance.average_y_square - instance.average_y**2, 'r--' , label=\"$\\\\langle y^2 \\\\rangle - \\\\langle y \\\\rangle^2 $\")\n",
      "plt.ylabel(\"$\\\\Delta$\")\n",
      "plt.xlabel(\"t\")\n",
      "plt.ylim(1.5,2.5)\n",
      "plt.legend(fontsize=30) \n",
      "plt.grid()"
     ],
     "language": "python",
     "metadata": {},
     "outputs": [
      {
       "metadata": {},
       "output_type": "display_data",
       "png": "[encoded data removed]",
       "text": [
        "<matplotlib.figure.Figure at 0x7fdd0b100e10>"
       ]
      }
     ],
     "prompt_number": 27
    },
    {
     "cell_type": "code",
     "collapsed": false,
     "input": [
      "plt.figure(figsize=(8,8))\n",
      "\n",
      "plt.plot(  instance.average_p_x_square - instance.average_p_x**2 ,\n",
      "         label=\"$\\\\langle p_x^2 \\\\rangle - \\\\langle p_x \\\\rangle^2 $\")\n",
      "plt.plot(  instance.average_p_y_square - instance.average_p_y**2 ,'r--',\n",
      "         label=\"$\\\\langle p_y^2 \\\\rangle - \\\\langle p_y\\\\rangle^2 $\")\n",
      "plt.ylabel(\"$E$\")\n",
      "plt.xlabel(\"t\")\n",
      "plt.ylim(0.,0.25)\n",
      "plt.legend(fontsize=30) "
     ],
     "language": "python",
     "metadata": {},
     "outputs": [
      {
       "metadata": {},
       "output_type": "pyout",
       "prompt_number": 28,
       "text": [
        "<matplotlib.legend.Legend at 0x7fdd0a800d50>"
       ]
      },
      {
       "metadata": {},
       "output_type": "display_data",
       "png": "[encoded data removed]",
       "text": [
        "<matplotlib.figure.Figure at 0x7fdd0b385050>"
       ]
      }
     ],
     "prompt_number": 28
    },
    {
     "cell_type": "code",
     "collapsed": false,
     "input": [
      "instance.Norm_4x4_GPU( instance.W11, instance.W22, instance.W33, instance.W44 )"
     ],
     "language": "python",
     "metadata": {},
     "outputs": [
      {
       "metadata": {},
       "output_type": "pyout",
       "prompt_number": 29,
       "text": [
        "(1+8.6736173798840355e-19j)"
       ]
      }
     ],
     "prompt_number": 29
    },
    {
     "cell_type": "code",
     "collapsed": false,
     "input": [
      "sign = np.int32(1)\n",
      "\n",
      "instance.ParticleProjector_GPU( instance.W11,instance.W12,instance.W13,instance.W14,\n",
      "                                             instance.W22,instance.W23,instance.W24,\n",
      "                                                      instance.W33,instance.W34,instance.W44, sign)"
     ],
     "language": "python",
     "metadata": {},
     "outputs": [],
     "prompt_number": 30
    },
    {
     "cell_type": "code",
     "collapsed": false,
     "input": [
      "instance.Norm_4x4_GPU( instance.W11, instance.W22, instance.W33, instance.W44 )"
     ],
     "language": "python",
     "metadata": {},
     "outputs": [
      {
       "metadata": {},
       "output_type": "pyout",
       "prompt_number": 31,
       "text": [
        "(0.98365334084222644+9.624110802167532e-06j)"
       ]
      }
     ],
     "prompt_number": 31
    },
    {
     "cell_type": "code",
     "collapsed": false,
     "input": [],
     "language": "python",
     "metadata": {},
     "outputs": [],
     "prompt_number": 31
    }
   ],
   "metadata": {}
  }
 ]
}