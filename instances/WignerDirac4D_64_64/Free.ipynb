{
 "metadata": {
  "name": "",
  "signature": "sha256:3c78e2e6f2523b2a316d55cfdf3bc2c844f5e9ee52342f7ca5672fa441760636"
 },
 "nbformat": 3,
 "nbformat_minor": 0,
 "worksheets": [
  {
   "cells": [
    {
     "cell_type": "heading",
     "level": 1,
     "metadata": {},
     "source": [
      "$x^2$ potential"
     ]
    },
    {
     "cell_type": "code",
     "collapsed": false,
     "input": [
      "import pickle\n",
      "import numpy as np\n",
      "import pycuda.gpuarray as gpuarray\n",
      "import pycuda.cumath as cumath\n",
      "from scipy.special import hyp1f1\n",
      "import scipy.fftpack as fftpack\n",
      "import pylab as plt\n",
      "import time\n",
      "\n",
      "#-------------------------------------------------------------------------------------\n",
      "from pywignercuda_path import SetPyWignerCUDA_Path\n",
      "SetPyWignerCUDA_Path()\n",
      "\n",
      "from GPU_WignerDirac4D import *"
     ],
     "language": "python",
     "metadata": {},
     "outputs": [
      {
       "output_type": "stream",
       "stream": "stdout",
       "text": [
        " PyWignerCUDA PATH =  /home/rcabrera/Documents/source/Python/PyWignerCUDA2\n"
       ]
      }
     ],
     "prompt_number": 1
    },
    {
     "cell_type": "code",
     "collapsed": false,
     "input": [
      "%matplotlib inline"
     ],
     "language": "python",
     "metadata": {},
     "outputs": [],
     "prompt_number": 2
    },
    {
     "cell_type": "heading",
     "level": 2,
     "metadata": {},
     "source": [
      "Settings"
     ]
    },
    {
     "cell_type": "code",
     "collapsed": false,
     "input": [
      "class frame( GPU_WignerDirac4D ):\n",
      "    def __init__ (self):\n",
      "        \n",
      "        \n",
      "        self.gridDIM_p_y = 64      #axis 0\n",
      "        self.gridDIM_y   = 64      #axis 1    \n",
      "        self.gridDIM_p_x = 64     #axis 2\n",
      "        self.gridDIM_x   = 64     #axis 3\n",
      "    \n",
      "        self.skipFrames = 1\n",
      "        self.dt         =   0.005\n",
      "        self.timeSteps  =     200\n",
      "        self.skipFrame  = 1\n",
      "    \n",
      "        # Phase space window \n",
      "        self.p_y_amplitude = 2.6;          #axis 0\n",
      "        self.y_amplitude   = 15.          #axis 1\n",
      "        self.p_x_amplitude = 2.6         #axis 2\n",
      "        self.x_amplitude   = 15.        #axis 3\n",
      "        \n",
      "        # Ambiguity space window \n",
      "        self.theta_y_amplitude  = 28.    #axis 0             \n",
      "        self.lambda_y_amplitude = 6.     #axis 1\n",
      "        self.theta_x_amplitude  = 28.    #axis 2\n",
      "        self.lambda_x_amplitude = 6.     #axis 3\n",
      "           \n",
      "        # Dynamics    \n",
      "        self.c       = 1.    \n",
      "        self.HBar    = 1.\n",
      "        \n",
      "        self.mass    = 1.\n",
      "        self.omega_x = 1.\n",
      "        self.omega_y = 1.\n",
      "        \n",
      "        \n",
      "        self.potential_0_String  = '0.'    \n",
      "        self.potential_1_String  = '0.'\n",
      "        self.potential_2_String  = '0.' \n",
      "        self.potential_3_String  = '0.' \n",
      "        \n",
      "        self.D_1_potential_0_String  = '0.'\n",
      "        self.D_1_potential_1_String  = '0.'\n",
      "        self.D_1_potential_2_String  = '0.'\n",
      "            \n",
      "        # Dephasing     \n",
      "        self.D_theta_x  = 0.0001 \n",
      "        self.D_theta_y  = 0.0001 \n",
      "        self.D_lambda_x = 0.0001 \n",
      "        self.D_lambda_y = 0.0001 \n",
      "        \n",
      "            \n",
      "        GPU_WignerDirac4D.__init__(self)\n",
      "        \n",
      "    def Set_Initial_Condition(self):\n",
      "        \"\"\"\n",
      "        Sets   self.PsiInitial_XP with the Wigner function of the Harmonic oscillator  \n",
      "        \"\"\"\n",
      "        \n",
      "        self.FilterParticle = False #1  #------------------------Filter-----------------------    \n",
      "        \n",
      "        self.fileName = '/home/rcabrera/DATA/Wigner4D/' + 'HO.hdf5'\n",
      "        \n",
      "        x_mu    = 0.\n",
      "        y_mu    = 0.\n",
      "        x_sigma = 2.2\n",
      "        y_sigma = 2.2\n",
      "        \n",
      "        u_x = 0.5\n",
      "        u_y = 0.\n",
      "\n",
      "        self.WignerDiracGaussian_ParticleUp_GPU(\n",
      "            self.W11 , self.W12 ,  self.W13 ,  self.W14 ,\n",
      "            self.W21 , self.W22 ,  self.W23 ,  self.W24 ,\n",
      "            self.W31 , self.W32 ,  self.W33 ,  self.W34 , \n",
      "            self.W41 , self.W42 ,  self.W43 ,  self.W44 ,\n",
      "                u_x, u_y, x_mu, y_mu, x_sigma, y_sigma)\n",
      "        \n",
      "        \n",
      "        self._Fourier_Theta_To_P_64_64_4x4_GPU(\n",
      "            self.W11 , self.W12 ,  self.W13 ,  self.W14 ,\n",
      "            self.W21 , self.W22 ,  self.W23 ,  self.W24 ,\n",
      "            self.W31 , self.W32 ,  self.W33 ,  self.W34 , \n",
      "            self.W41 , self.W42 ,  self.W43 ,  self.W44 )\n",
      "        \n",
      "        self.boundary_p_GPU(\n",
      "            self.W11 , self.W12 ,  self.W13 ,  self.W14 ,\n",
      "            self.W21 , self.W22 ,  self.W23 ,  self.W24 ,\n",
      "            self.W31 , self.W32 ,  self.W33 ,  self.W34 , \n",
      "            self.W41 , self.W42 ,  self.W43 ,  self.W44 )\n",
      "        \n",
      "        self.Real_GPU( self.W11 ) \n",
      "        self.Real_GPU( self.W22 ) \n",
      "        self.Real_GPU( self.W33 ) \n",
      "        self.Real_GPU( self.W44 ) \n",
      "        \n",
      "        self.Normalize_4x4_GPU(\n",
      "            self.W11 , self.W12 ,  self.W13 ,  self.W14 ,\n",
      "            self.W21 , self.W22 ,  self.W23 ,  self.W24 ,\n",
      "            self.W31 , self.W32 ,  self.W33 ,  self.W34 , \n",
      "            self.W41 , self.W42 ,  self.W43 ,  self.W44 )\n",
      "        \n",
      "  \n",
      "        "
     ],
     "language": "python",
     "metadata": {},
     "outputs": [],
     "prompt_number": 3
    },
    {
     "cell_type": "code",
     "collapsed": false,
     "input": [],
     "language": "python",
     "metadata": {},
     "outputs": [],
     "prompt_number": 3
    },
    {
     "cell_type": "code",
     "collapsed": false,
     "input": [
      "#instance.theta_x_amplitude  ,  np.pi/instance.dp_x"
     ],
     "language": "python",
     "metadata": {},
     "outputs": [],
     "prompt_number": 4
    },
    {
     "cell_type": "heading",
     "level": 2,
     "metadata": {},
     "source": [
      "Initialize"
     ]
    },
    {
     "cell_type": "code",
     "collapsed": false,
     "input": [
      "instance = frame()"
     ],
     "language": "python",
     "metadata": {},
     "outputs": [
      {
       "output_type": "stream",
       "stream": "stdout",
       "text": [
        "\n",
        "__device__ double c      = 1.000000;\n",
        "__device__ double HBar   = 1.000000;\n",
        "__device__ double dt   = 0.005000;\n",
        "__device__ double mass = 1.000000;\n",
        "__device__ double dp_y   = 0.081250; \n",
        "__device__ double dy     = 0.468750; \n",
        "__device__ double dp_x   = 0.081250; \n",
        "__device__ double dx     = 0.468750; \n",
        "__device__ double dtheta_y   = 0.875000; \n",
        "__device__ double dlambda_y  = 0.187500; \n",
        "__device__ double dtheta_x   = 0.875000; \n",
        "__device__ double dlambda_x  = 0.187500; \n",
        "__device__ int gridDIM_x = 64; \n",
        "__device__ int gridDIM_y = 64; \n",
        "__device__ double D_lambda_x = 0.000100; \n",
        "__device__ double D_lambda_y = 0.000100; \n",
        "__device__ double D_theta_x  = 0.000100; \n",
        "__device__ double D_theta_y  = 0.000100; \n",
        "\n",
        "\n",
        "         GPU memory Total                5.17700195312 GB\n",
        "         GPU memory Free  (Before)       5.13043212891 GB\n",
        "         GPU memory Free  (After)       "
       ]
      },
      {
       "output_type": "stream",
       "stream": "stdout",
       "text": [
        " 1.12945556641 GB\n",
        "potential012_Define = "
       ]
      },
      {
       "output_type": "stream",
       "stream": "stdout",
       "text": [
        " \n",
        "#define A0  (0.) \n",
        " \n",
        "#define A1  (0.) \n",
        " \n",
        "#define A2  (0.) \n",
        " \n",
        "#define A3  (0.) \n",
        " \n",
        "#define D_1_A_0  (0.) \n",
        " \n",
        "#define D_1_A_1  (0.) \n",
        " \n",
        "#define D_1_A_2  (0.) \n",
        " \n"
       ]
      }
     ],
     "prompt_number": 5
    },
    {
     "cell_type": "code",
     "collapsed": false,
     "input": [
      "instance.Set_Initial_Condition()\n",
      "#instance.Set_Initial_Condition_FilterParticle()"
     ],
     "language": "python",
     "metadata": {},
     "outputs": [
      {
       "output_type": "stream",
       "stream": "stdout",
       "text": [
        "\t\t\t Norm =  (9805.29422924+0j)\n"
       ]
      }
     ],
     "prompt_number": 6
    },
    {
     "cell_type": "markdown",
     "metadata": {},
     "source": [
      "********************************************"
     ]
    },
    {
     "cell_type": "code",
     "collapsed": false,
     "input": [
      "boundary  = 1-np.exp( -7*(instance.p_x_range - instance.p_x_amplitude)**4  )\n",
      "boundary *= 1-np.exp( -7*(instance.p_x_range + instance.p_x_amplitude)**4  )\n",
      "\n",
      "plt.plot(boundary)"
     ],
     "language": "python",
     "metadata": {},
     "outputs": [
      {
       "metadata": {},
       "output_type": "pyout",
       "prompt_number": 7,
       "text": [
        "[<matplotlib.lines.Line2D at 0x7f8d73fb45d0>]"
       ]
      },
      {
       "metadata": {},
       "output_type": "display_data",
       "png": "[encoded data removed]",
       "text": [
        "<matplotlib.figure.Figure at 0x7f8d78288290>"
       ]
      }
     ],
     "prompt_number": 7
    },
    {
     "cell_type": "code",
     "collapsed": false,
     "input": [
      "W = instance.W11 .get() + instance.W22 .get() + instance.W33 .get() + instance.W44 .get()"
     ],
     "language": "python",
     "metadata": {},
     "outputs": [],
     "prompt_number": 8
    },
    {
     "cell_type": "code",
     "collapsed": false,
     "input": [
      "# Phase space x\n",
      "axis_font = {'size':'24'}\n",
      "\n",
      "\n",
      "fig = plt.figure(figsize=(12,10))\n",
      "a=fig.add_subplot(1,2,1)\n",
      "\n",
      "im1 = plt.imshow( np.log( W[instance.gridDIM_y/2, instance.gridDIM_y/2, :, : ].real ), \n",
      "           extent=[-instance.y_amplitude , instance.y_amplitude-instance.dy,\n",
      "                   -instance.p_y_amplitude, instance.p_y_amplitude-instance.dp_y] ,\n",
      "           origin='lower', interpolation='none')\n",
      "\n",
      "a.set_aspect(4)\n",
      "plt.xlabel('$x$',**axis_font)\n",
      "plt.ylabel('$p_x$',**axis_font)\n",
      "\n",
      "plt.colorbar(im1,fraction=0.04)\n",
      "\n",
      "a=fig.add_subplot(1,2,2)\n",
      "\n",
      "plt.imshow( W[instance.gridDIM_y/2, instance.gridDIM_y/2, :, : ].real , \n",
      "           extent=[-instance.y_amplitude , instance.y_amplitude-instance.dy,\n",
      "                   -instance.p_y_amplitude, instance.p_y_amplitude-instance.dp_y] ,\n",
      "           origin='lower', interpolation='none')\n",
      "\n",
      "plt.xlabel('$x$',**axis_font)\n",
      "#plt.ylabel('$p_y$',**axis_font)\n",
      "\n",
      "a.set_aspect(4)\n",
      "plt.colorbar(fraction=0.04)"
     ],
     "language": "python",
     "metadata": {},
     "outputs": [
      {
       "output_type": "stream",
       "stream": "stderr",
       "text": [
        "-c:8: RuntimeWarning: invalid value encountered in log\n"
       ]
      },
      {
       "metadata": {},
       "output_type": "pyout",
       "prompt_number": 9,
       "text": [
        "<matplotlib.colorbar.Colorbar at 0x7f8d73ce0b90>"
       ]
      },
      {
       "metadata": {},
       "output_type": "display_data",
       "png": "[encoded data removed]",
       "text": [
        "<matplotlib.figure.Figure at 0x7f8d73f3d090>"
       ]
      }
     ],
     "prompt_number": 9
    },
    {
     "cell_type": "code",
     "collapsed": false,
     "input": [
      "# Phase space y \n",
      "    \n",
      "fig = plt.figure(figsize=(12,10))\n",
      "a=fig.add_subplot(1,2,1)\n",
      "\n",
      "im1 = plt.imshow( np.log( W[:,:,instance.gridDIM_x/2, instance.gridDIM_x/2 ].real ), \n",
      "           extent=[-instance.y_amplitude , instance.y_amplitude-instance.dy,\n",
      "                   -instance.p_y_amplitude, instance.p_y_amplitude-instance.dp_y] ,\n",
      "           origin='lower', interpolation='none')\n",
      "\n",
      "a.set_aspect(4)\n",
      "plt.xlabel('$y$',**axis_font)\n",
      "plt.ylabel('$p_y$',**axis_font)\n",
      "\n",
      "plt.colorbar(im1,fraction=0.04)\n",
      "\n",
      "a=fig.add_subplot(1,2,2)\n",
      "\n",
      "plt.imshow( W[:,:,instance.gridDIM_x/2, instance.gridDIM_x/2 ].real , \n",
      "           extent=[-instance.y_amplitude , instance.y_amplitude-instance.dy,\n",
      "                   -instance.p_y_amplitude, instance.p_y_amplitude-instance.dp_y] ,\n",
      "           origin='lower', interpolation='none')\n",
      "\n",
      "plt.xlabel('$y$',**axis_font)\n",
      "#plt.ylabel('$p_y$',**axis_font)\n",
      "\n",
      "a.set_aspect(4)\n",
      "plt.colorbar(fraction=0.04)"
     ],
     "language": "python",
     "metadata": {},
     "outputs": [
      {
       "metadata": {},
       "output_type": "pyout",
       "prompt_number": 10,
       "text": [
        "<matplotlib.colorbar.Colorbar at 0x7f8d73a0dd10>"
       ]
      },
      {
       "metadata": {},
       "output_type": "display_data",
       "png": "[encoded data removed]",
       "text": [
        "<matplotlib.figure.Figure at 0x7f8d73ceeb90>"
       ]
      }
     ],
     "prompt_number": 10
    },
    {
     "cell_type": "code",
     "collapsed": false,
     "input": [
      "fig = plt.figure(figsize=(12,10))\n",
      "a=fig.add_subplot(1,2,1)\n",
      "\n",
      "im1 = plt.imshow( np.log( W[ instance.gridDIM_y/2 , : , instance.gridDIM_x/2 , : ].real ), \n",
      "           extent=[-instance.y_amplitude , instance.y_amplitude-instance.dy,\n",
      "                   -instance.p_y_amplitude, instance.p_y_amplitude-instance.dp_y] ,\n",
      "           origin='lower', interpolation='none')\n",
      "\n",
      "a.set_aspect(4)\n",
      "plt.xlabel('$x$',**axis_font)\n",
      "plt.ylabel('$y$',**axis_font)\n",
      "\n",
      "plt.colorbar(im1,fraction=0.04)\n",
      "\n",
      "a=fig.add_subplot(1,2,2)\n",
      "\n",
      "plt.imshow( W[ instance.gridDIM_y/2 , : , instance.gridDIM_x/2 , : ].real , \n",
      "           extent=[-instance.y_amplitude , instance.y_amplitude-instance.dy,\n",
      "                   -instance.p_y_amplitude, instance.p_y_amplitude-instance.dp_y] ,\n",
      "           origin='lower', interpolation='none')\n",
      "\n",
      "plt.xlabel('$x$',**axis_font)\n",
      "#plt.ylabel('$p_y$',**axis_font)\n",
      "\n",
      "a.set_aspect(4)\n",
      "plt.colorbar(fraction=0.04)"
     ],
     "language": "python",
     "metadata": {},
     "outputs": [
      {
       "metadata": {},
       "output_type": "pyout",
       "prompt_number": 11,
       "text": [
        "<matplotlib.colorbar.Colorbar at 0x7f8d737b8750>"
       ]
      },
      {
       "metadata": {},
       "output_type": "display_data",
       "png": "[encoded data removed]",
       "text": [
        "<matplotlib.figure.Figure at 0x7f8d782c1f50>"
       ]
      }
     ],
     "prompt_number": 11
    },
    {
     "cell_type": "code",
     "collapsed": false,
     "input": [
      "fig = plt.figure(figsize=(12,10))\n",
      "a=fig.add_subplot(1,2,1)\n",
      "\n",
      "im1 = plt.imshow( np.log( W[ :, instance.gridDIM_y/2 ,  :, instance.gridDIM_x/2 ].real ), \n",
      "           extent=[-instance.y_amplitude , instance.y_amplitude-instance.dy,\n",
      "                   -instance.p_y_amplitude, instance.p_y_amplitude-instance.dp_y] ,\n",
      "           origin='lower', interpolation='none')\n",
      "\n",
      "a.set_aspect(4)\n",
      "plt.xlabel('$p_x$',**axis_font)\n",
      "plt.ylabel('$p_y$',**axis_font)\n",
      "\n",
      "plt.colorbar(im1,fraction=0.04)\n",
      "\n",
      "a=fig.add_subplot(1,2,2)\n",
      "\n",
      "plt.imshow( W[ :, instance.gridDIM_y/2 ,  :, instance.gridDIM_x/2 ].real , \n",
      "           extent=[-instance.y_amplitude , instance.y_amplitude-instance.dy,\n",
      "                   -instance.p_y_amplitude, instance.p_y_amplitude-instance.dp_y] ,\n",
      "           origin='lower', interpolation='none')\n",
      "\n",
      "plt.xlabel('$p_x$',**axis_font)\n",
      "#plt.ylabel('$p_y$',**axis_font)\n",
      "\n",
      "a.set_aspect(4)\n",
      "plt.colorbar(fraction=0.04)"
     ],
     "language": "python",
     "metadata": {},
     "outputs": [
      {
       "output_type": "stream",
       "stream": "stderr",
       "text": [
        "-c:4: RuntimeWarning: invalid value encountered in log\n"
       ]
      },
      {
       "metadata": {},
       "output_type": "pyout",
       "prompt_number": 12,
       "text": [
        "<matplotlib.colorbar.Colorbar at 0x7f8d734c19d0>"
       ]
      },
      {
       "metadata": {},
       "output_type": "display_data",
       "png": "[encoded data removed]",
       "text": [
        "<matplotlib.figure.Figure at 0x7f8d73c40990>"
       ]
      }
     ],
     "prompt_number": 12
    },
    {
     "cell_type": "markdown",
     "metadata": {},
     "source": [
      "RUN ----------------------------------------------------------------------------------"
     ]
    },
    {
     "cell_type": "code",
     "collapsed": false,
     "input": [
      "t_init = time.time()\n",
      "\n",
      "instance.Run()\n",
      "\n",
      "print ' running time = ', (time.time() - t_init)/60. , 'min'"
     ],
     "language": "python",
     "metadata": {},
     "outputs": [
      {
       "output_type": "stream",
       "stream": "stdout",
       "text": [
        "         GPU memory Total        5.17700195312 GB\n",
        "         GPU memory Free         1.12811279297 GB\n",
        " t index =  0\n",
        "\t\t\t Norm = "
       ]
      },
      {
       "output_type": "stream",
       "stream": "stdout",
       "text": [
        " (0.999994477361+0j)\n",
        " t index = "
       ]
      },
      {
       "output_type": "stream",
       "stream": "stdout",
       "text": [
        " 1\n",
        "\t\t\t Norm = "
       ]
      },
      {
       "output_type": "stream",
       "stream": "stdout",
       "text": [
        " (96.3823905412+0j)\n",
        " t index = "
       ]
      },
      {
       "output_type": "stream",
       "stream": "stdout",
       "text": [
        " 2\n",
        "\t\t\t Norm = "
       ]
      },
      {
       "output_type": "stream",
       "stream": "stdout",
       "text": [
        " (96.3824379652+0j)\n",
        " t index = "
       ]
      },
      {
       "output_type": "stream",
       "stream": "stdout",
       "text": [
        " 3\n",
        "\t\t\t Norm = "
       ]
      },
      {
       "output_type": "stream",
       "stream": "stdout",
       "text": [
        " (96.3824738761+0j)\n",
        " t index = "
       ]
      },
      {
       "output_type": "stream",
       "stream": "stdout",
       "text": [
        " 4\n",
        "\t\t\t Norm = "
       ]
      },
      {
       "output_type": "stream",
       "stream": "stdout",
       "text": [
        " (96.3825023591+0j)\n",
        " t index = "
       ]
      },
      {
       "output_type": "stream",
       "stream": "stdout",
       "text": [
        " 5\n",
        "\t\t\t Norm = "
       ]
      },
      {
       "output_type": "stream",
       "stream": "stdout",
       "text": [
        " (96.3825256964+0j)\n",
        " t index = "
       ]
      },
      {
       "output_type": "stream",
       "stream": "stdout",
       "text": [
        " 6\n",
        "\t\t\t Norm = "
       ]
      },
      {
       "output_type": "stream",
       "stream": "stdout",
       "text": [
        " (96.382545285+0j)\n",
        " t index = "
       ]
      },
      {
       "output_type": "stream",
       "stream": "stdout",
       "text": [
        " 7\n",
        "\t\t\t Norm = "
       ]
      },
      {
       "output_type": "stream",
       "stream": "stdout",
       "text": [
        " (96.3825620378+0j)\n",
        " t index = "
       ]
      },
      {
       "output_type": "stream",
       "stream": "stdout",
       "text": [
        " 8\n",
        "\t\t\t Norm = "
       ]
      },
      {
       "output_type": "stream",
       "stream": "stdout",
       "text": [
        " (96.3825765815+0j)\n",
        " t index = "
       ]
      },
      {
       "output_type": "stream",
       "stream": "stdout",
       "text": [
        " 9\n",
        "\t\t\t Norm = "
       ]
      },
      {
       "output_type": "stream",
       "stream": "stdout",
       "text": [
        " (96.3825893632+0j)\n",
        " t index = "
       ]
      },
      {
       "output_type": "stream",
       "stream": "stdout",
       "text": [
        " 10\n",
        "\t\t\t Norm = "
       ]
      },
      {
       "output_type": "stream",
       "stream": "stdout",
       "text": [
        " (96.3826007118+0j)\n",
        " t index = "
       ]
      },
      {
       "output_type": "stream",
       "stream": "stdout",
       "text": [
        " 11\n",
        "\t\t\t Norm = "
       ]
      },
      {
       "output_type": "stream",
       "stream": "stdout",
       "text": [
        " (96.382610876+0j)\n",
        " t index = "
       ]
      },
      {
       "output_type": "stream",
       "stream": "stdout",
       "text": [
        " 12\n",
        "\t\t\t Norm = "
       ]
      },
      {
       "output_type": "stream",
       "stream": "stdout",
       "text": [
        " (96.3826200474+0j)\n",
        " t index = "
       ]
      },
      {
       "output_type": "stream",
       "stream": "stdout",
       "text": [
        " 13\n",
        "\t\t\t Norm = "
       ]
      },
      {
       "output_type": "stream",
       "stream": "stdout",
       "text": [
        " (96.3826283769+0j)\n",
        " t index = "
       ]
      },
      {
       "output_type": "stream",
       "stream": "stdout",
       "text": [
        " 14\n",
        "\t\t\t Norm = "
       ]
      },
      {
       "output_type": "stream",
       "stream": "stdout",
       "text": [
        " (96.3826359848+0j)\n",
        " t index = "
       ]
      },
      {
       "output_type": "stream",
       "stream": "stdout",
       "text": [
        " 15\n",
        "\t\t\t Norm = "
       ]
      },
      {
       "output_type": "stream",
       "stream": "stdout",
       "text": [
        " (96.3826429687+0j)\n",
        " t index = "
       ]
      },
      {
       "output_type": "stream",
       "stream": "stdout",
       "text": [
        " 16\n",
        "\t\t\t Norm = "
       ]
      },
      {
       "output_type": "stream",
       "stream": "stdout",
       "text": [
        " (96.3826494086+0j)\n",
        " t index = "
       ]
      },
      {
       "output_type": "stream",
       "stream": "stdout",
       "text": [
        " 17\n",
        "\t\t\t Norm = "
       ]
      },
      {
       "output_type": "stream",
       "stream": "stdout",
       "text": [
        " (96.3826553708+0j)\n",
        " t index = "
       ]
      },
      {
       "output_type": "stream",
       "stream": "stdout",
       "text": [
        " 18\n",
        "\t\t\t Norm = "
       ]
      },
      {
       "output_type": "stream",
       "stream": "stdout",
       "text": [
        " (96.382660911+0j)\n",
        " t index = "
       ]
      },
      {
       "output_type": "stream",
       "stream": "stdout",
       "text": [
        " 19\n",
        "\t\t\t Norm = "
       ]
      },
      {
       "output_type": "stream",
       "stream": "stdout",
       "text": [
        " (96.3826660761+0j)\n",
        " t index = "
       ]
      },
      {
       "output_type": "stream",
       "stream": "stdout",
       "text": [
        " 20\n",
        "\t\t\t Norm = "
       ]
      },
      {
       "output_type": "stream",
       "stream": "stdout",
       "text": [
        " (96.3826709061+0j)\n",
        " t index = "
       ]
      },
      {
       "output_type": "stream",
       "stream": "stdout",
       "text": [
        " 21\n",
        "\t\t\t Norm = "
       ]
      },
      {
       "output_type": "stream",
       "stream": "stdout",
       "text": [
        " (96.3826754354+0j)\n",
        " t index = "
       ]
      },
      {
       "output_type": "stream",
       "stream": "stdout",
       "text": [
        " 22\n",
        "\t\t\t Norm = "
       ]
      },
      {
       "output_type": "stream",
       "stream": "stdout",
       "text": [
        " (96.3826796936+0j)\n",
        " t index = "
       ]
      },
      {
       "output_type": "stream",
       "stream": "stdout",
       "text": [
        " 23\n",
        "\t\t\t Norm = "
       ]
      },
      {
       "output_type": "stream",
       "stream": "stdout",
       "text": [
        " (96.3826837064+0j)\n",
        " t index = "
       ]
      },
      {
       "output_type": "stream",
       "stream": "stdout",
       "text": [
        " 24\n",
        "\t\t\t Norm = "
       ]
      },
      {
       "output_type": "stream",
       "stream": "stdout",
       "text": [
        " (96.3826874963+0j)\n",
        " t index = "
       ]
      },
      {
       "output_type": "stream",
       "stream": "stdout",
       "text": [
        " 25\n",
        "\t\t\t Norm = "
       ]
      },
      {
       "output_type": "stream",
       "stream": "stdout",
       "text": [
        " (96.382691083+0j)\n",
        " t index = "
       ]
      },
      {
       "output_type": "stream",
       "stream": "stdout",
       "text": [
        " 26\n",
        "\t\t\t Norm = "
       ]
      },
      {
       "output_type": "stream",
       "stream": "stdout",
       "text": [
        " (96.3826944839+0j)\n",
        " t index = "
       ]
      },
      {
       "output_type": "stream",
       "stream": "stdout",
       "text": [
        " 27\n",
        "\t\t\t Norm = "
       ]
      },
      {
       "output_type": "stream",
       "stream": "stdout",
       "text": [
        " (96.3826977142+0j)\n",
        " t index = "
       ]
      },
      {
       "output_type": "stream",
       "stream": "stdout",
       "text": [
        " 28\n",
        "\t\t\t Norm = "
       ]
      },
      {
       "output_type": "stream",
       "stream": "stdout",
       "text": [
        " (96.3827007876+0j)\n",
        " t index = "
       ]
      },
      {
       "output_type": "stream",
       "stream": "stdout",
       "text": [
        " 29\n",
        "\t\t\t Norm = "
       ]
      },
      {
       "output_type": "stream",
       "stream": "stdout",
       "text": [
        " (96.3827037163+0j)\n",
        " t index = "
       ]
      },
      {
       "output_type": "stream",
       "stream": "stdout",
       "text": [
        " 30\n",
        "\t\t\t Norm = "
       ]
      },
      {
       "output_type": "stream",
       "stream": "stdout",
       "text": [
        " (96.3827065111+0j)\n",
        " t index = "
       ]
      },
      {
       "output_type": "stream",
       "stream": "stdout",
       "text": [
        " 31\n",
        "\t\t\t Norm = "
       ]
      },
      {
       "output_type": "stream",
       "stream": "stdout",
       "text": [
        " (96.3827091817+0j)\n",
        " t index = "
       ]
      },
      {
       "output_type": "stream",
       "stream": "stdout",
       "text": [
        " 32\n",
        "\t\t\t Norm = "
       ]
      },
      {
       "output_type": "stream",
       "stream": "stdout",
       "text": [
        " (96.3827117369+0j)\n",
        " t index = "
       ]
      },
      {
       "output_type": "stream",
       "stream": "stdout",
       "text": [
        " 33\n",
        "\t\t\t Norm = "
       ]
      },
      {
       "output_type": "stream",
       "stream": "stdout",
       "text": [
        " (96.3827141845+0j)\n",
        " t index = "
       ]
      },
      {
       "output_type": "stream",
       "stream": "stdout",
       "text": [
        " 34\n",
        "\t\t\t Norm = "
       ]
      },
      {
       "output_type": "stream",
       "stream": "stdout",
       "text": [
        " (96.3827165317+0j)\n",
        " t index = "
       ]
      },
      {
       "output_type": "stream",
       "stream": "stdout",
       "text": [
        " 35\n",
        "\t\t\t Norm = "
       ]
      },
      {
       "output_type": "stream",
       "stream": "stdout",
       "text": [
        " (96.3827187851+0j)\n",
        " t index = "
       ]
      },
      {
       "output_type": "stream",
       "stream": "stdout",
       "text": [
        " 36\n",
        "\t\t\t Norm = "
       ]
      },
      {
       "output_type": "stream",
       "stream": "stdout",
       "text": [
        " (96.3827209504+0j)\n",
        " t index = "
       ]
      },
      {
       "output_type": "stream",
       "stream": "stdout",
       "text": [
        " 37\n",
        "\t\t\t Norm = "
       ]
      },
      {
       "output_type": "stream",
       "stream": "stdout",
       "text": [
        " (96.3827230331+0j)\n",
        " t index = "
       ]
      },
      {
       "output_type": "stream",
       "stream": "stdout",
       "text": [
        " 38\n",
        "\t\t\t Norm = "
       ]
      },
      {
       "output_type": "stream",
       "stream": "stdout",
       "text": [
        " (96.382725038+0j)\n",
        " t index = "
       ]
      },
      {
       "output_type": "stream",
       "stream": "stdout",
       "text": [
        " 39\n",
        "\t\t\t Norm = "
       ]
      },
      {
       "output_type": "stream",
       "stream": "stdout",
       "text": [
        " (96.3827269697+0j)\n",
        " t index = "
       ]
      },
      {
       "output_type": "stream",
       "stream": "stdout",
       "text": [
        " 40\n",
        "\t\t\t Norm = "
       ]
      },
      {
       "output_type": "stream",
       "stream": "stdout",
       "text": [
        " (96.3827288324+0j)\n",
        " t index = "
       ]
      },
      {
       "output_type": "stream",
       "stream": "stdout",
       "text": [
        " 41\n",
        "\t\t\t Norm = "
       ]
      },
      {
       "output_type": "stream",
       "stream": "stdout",
       "text": [
        " (96.3827306298+0j)\n",
        " t index = "
       ]
      },
      {
       "output_type": "stream",
       "stream": "stdout",
       "text": [
        " 42\n",
        "\t\t\t Norm = "
       ]
      },
      {
       "output_type": "stream",
       "stream": "stdout",
       "text": [
        " (96.3827323655+0j)\n",
        " t index = "
       ]
      },
      {
       "output_type": "stream",
       "stream": "stdout",
       "text": [
        " 43\n",
        "\t\t\t Norm = "
       ]
      },
      {
       "output_type": "stream",
       "stream": "stdout",
       "text": [
        " (96.3827340427+0j)\n",
        " t index = "
       ]
      },
      {
       "output_type": "stream",
       "stream": "stdout",
       "text": [
        " 44\n",
        "\t\t\t Norm = "
       ]
      },
      {
       "output_type": "stream",
       "stream": "stdout",
       "text": [
        " (96.3827356645+0j)\n",
        " t index = "
       ]
      },
      {
       "output_type": "stream",
       "stream": "stdout",
       "text": [
        " 45\n",
        "\t\t\t Norm = "
       ]
      },
      {
       "output_type": "stream",
       "stream": "stdout",
       "text": [
        " (96.3827372337+0j)\n",
        " t index = "
       ]
      },
      {
       "output_type": "stream",
       "stream": "stdout",
       "text": [
        " 46\n",
        "\t\t\t Norm = "
       ]
      },
      {
       "output_type": "stream",
       "stream": "stdout",
       "text": [
        " (96.3827387528+0j)\n",
        " t index = "
       ]
      },
      {
       "output_type": "stream",
       "stream": "stdout",
       "text": [
        " 47\n",
        "\t\t\t Norm = "
       ]
      },
      {
       "output_type": "stream",
       "stream": "stdout",
       "text": [
        " (96.3827402244+0j)\n",
        " t index = "
       ]
      },
      {
       "output_type": "stream",
       "stream": "stdout",
       "text": [
        " 48\n",
        "\t\t\t Norm = "
       ]
      },
      {
       "output_type": "stream",
       "stream": "stdout",
       "text": [
        " (96.3827416507+0j)\n",
        " t index = "
       ]
      },
      {
       "output_type": "stream",
       "stream": "stdout",
       "text": [
        " 49\n",
        "\t\t\t Norm = "
       ]
      },
      {
       "output_type": "stream",
       "stream": "stdout",
       "text": [
        " (96.3827430338+0j)\n",
        " t index = "
       ]
      },
      {
       "output_type": "stream",
       "stream": "stdout",
       "text": [
        " 50\n",
        "\t\t\t Norm = "
       ]
      },
      {
       "output_type": "stream",
       "stream": "stdout",
       "text": [
        " (96.3827443758+0j)\n",
        " t index = "
       ]
      },
      {
       "output_type": "stream",
       "stream": "stdout",
       "text": [
        " 51\n",
        "\t\t\t Norm = "
       ]
      },
      {
       "output_type": "stream",
       "stream": "stdout",
       "text": [
        " (96.3827456785+0j)\n",
        " t index = "
       ]
      },
      {
       "output_type": "stream",
       "stream": "stdout",
       "text": [
        " 52\n",
        "\t\t\t Norm = "
       ]
      },
      {
       "output_type": "stream",
       "stream": "stdout",
       "text": [
        " (96.3827469437+0j)\n",
        " t index = "
       ]
      },
      {
       "output_type": "stream",
       "stream": "stdout",
       "text": [
        " 53\n",
        "\t\t\t Norm = "
       ]
      },
      {
       "output_type": "stream",
       "stream": "stdout",
       "text": [
        " (96.382748173+0j)\n",
        " t index = "
       ]
      },
      {
       "output_type": "stream",
       "stream": "stdout",
       "text": [
        " 54\n",
        "\t\t\t Norm = "
       ]
      },
      {
       "output_type": "stream",
       "stream": "stdout",
       "text": [
        " (96.3827493681+0j)\n",
        " t index = "
       ]
      },
      {
       "output_type": "stream",
       "stream": "stdout",
       "text": [
        " 55\n",
        "\t\t\t Norm = "
       ]
      },
      {
       "output_type": "stream",
       "stream": "stdout",
       "text": [
        " (96.3827505303+0j)\n",
        " t index = "
       ]
      },
      {
       "output_type": "stream",
       "stream": "stdout",
       "text": [
        " 56\n",
        "\t\t\t Norm = "
       ]
      },
      {
       "output_type": "stream",
       "stream": "stdout",
       "text": [
        " (96.3827516611+0j)\n",
        " t index = "
       ]
      },
      {
       "output_type": "stream",
       "stream": "stdout",
       "text": [
        " 57\n",
        "\t\t\t Norm = "
       ]
      },
      {
       "output_type": "stream",
       "stream": "stdout",
       "text": [
        " (96.3827527619+0j)\n",
        " t index = "
       ]
      },
      {
       "output_type": "stream",
       "stream": "stdout",
       "text": [
        " 58\n",
        "\t\t\t Norm = "
       ]
      },
      {
       "output_type": "stream",
       "stream": "stdout",
       "text": [
        " (96.3827538337+0j)\n",
        " t index = "
       ]
      },
      {
       "output_type": "stream",
       "stream": "stdout",
       "text": [
        " 59\n",
        "\t\t\t Norm = "
       ]
      },
      {
       "output_type": "stream",
       "stream": "stdout",
       "text": [
        " (96.382754878+0j)\n",
        " t index = "
       ]
      },
      {
       "output_type": "stream",
       "stream": "stdout",
       "text": [
        " 60\n",
        "\t\t\t Norm = "
       ]
      },
      {
       "output_type": "stream",
       "stream": "stdout",
       "text": [
        " (96.3827558956+0j)\n",
        " t index = "
       ]
      },
      {
       "output_type": "stream",
       "stream": "stdout",
       "text": [
        " 61\n",
        "\t\t\t Norm = "
       ]
      },
      {
       "output_type": "stream",
       "stream": "stdout",
       "text": [
        " (96.3827568878+0j)\n",
        " t index = "
       ]
      },
      {
       "output_type": "stream",
       "stream": "stdout",
       "text": [
        " 62\n",
        "\t\t\t Norm = "
       ]
      },
      {
       "output_type": "stream",
       "stream": "stdout",
       "text": [
        " (96.3827578556+0j)\n",
        " t index = "
       ]
      },
      {
       "output_type": "stream",
       "stream": "stdout",
       "text": [
        " 63\n",
        "\t\t\t Norm = "
       ]
      },
      {
       "output_type": "stream",
       "stream": "stdout",
       "text": [
        " (96.3827587998+0j)\n",
        " t index = "
       ]
      },
      {
       "output_type": "stream",
       "stream": "stdout",
       "text": [
        " 64\n",
        "\t\t\t Norm = "
       ]
      },
      {
       "output_type": "stream",
       "stream": "stdout",
       "text": [
        " (96.3827597214+0j)\n",
        " t index = "
       ]
      },
      {
       "output_type": "stream",
       "stream": "stdout",
       "text": [
        " 65\n",
        "\t\t\t Norm = "
       ]
      },
      {
       "output_type": "stream",
       "stream": "stdout",
       "text": [
        " (96.3827606213+0j)\n",
        " t index = "
       ]
      },
      {
       "output_type": "stream",
       "stream": "stdout",
       "text": [
        " 66\n",
        "\t\t\t Norm = "
       ]
      },
      {
       "output_type": "stream",
       "stream": "stdout",
       "text": [
        " (96.3827615003+0j)\n",
        " t index = "
       ]
      },
      {
       "output_type": "stream",
       "stream": "stdout",
       "text": [
        " 67\n",
        "\t\t\t Norm = "
       ]
      },
      {
       "output_type": "stream",
       "stream": "stdout",
       "text": [
        " (96.3827623591+0j)\n",
        " t index = "
       ]
      },
      {
       "output_type": "stream",
       "stream": "stdout",
       "text": [
        " 68\n",
        "\t\t\t Norm = "
       ]
      },
      {
       "output_type": "stream",
       "stream": "stdout",
       "text": [
        " (96.3827631986+0j)\n",
        " t index = "
       ]
      },
      {
       "output_type": "stream",
       "stream": "stdout",
       "text": [
        " 69\n",
        "\t\t\t Norm = "
       ]
      },
      {
       "output_type": "stream",
       "stream": "stdout",
       "text": [
        " (96.3827640194+0j)\n",
        " t index = "
       ]
      },
      {
       "output_type": "stream",
       "stream": "stdout",
       "text": [
        " 70\n",
        "\t\t\t Norm = "
       ]
      },
      {
       "output_type": "stream",
       "stream": "stdout",
       "text": [
        " (96.3827648222+0j)\n",
        " t index = "
       ]
      },
      {
       "output_type": "stream",
       "stream": "stdout",
       "text": [
        " 71\n",
        "\t\t\t Norm = "
       ]
      },
      {
       "output_type": "stream",
       "stream": "stdout",
       "text": [
        " (96.3827656077+0j)\n",
        " t index = "
       ]
      },
      {
       "output_type": "stream",
       "stream": "stdout",
       "text": [
        " 72\n",
        "\t\t\t Norm = "
       ]
      },
      {
       "output_type": "stream",
       "stream": "stdout",
       "text": [
        " (96.3827663765+0j)\n",
        " t index = "
       ]
      },
      {
       "output_type": "stream",
       "stream": "stdout",
       "text": [
        " 73\n",
        "\t\t\t Norm = "
       ]
      },
      {
       "output_type": "stream",
       "stream": "stdout",
       "text": [
        " (96.3827671291+0j)\n",
        " t index = "
       ]
      },
      {
       "output_type": "stream",
       "stream": "stdout",
       "text": [
        " 74\n",
        "\t\t\t Norm = "
       ]
      },
      {
       "output_type": "stream",
       "stream": "stdout",
       "text": [
        " (96.3827678662+0j)\n",
        " t index = "
       ]
      },
      {
       "output_type": "stream",
       "stream": "stdout",
       "text": [
        " 75\n",
        "\t\t\t Norm = "
       ]
      },
      {
       "output_type": "stream",
       "stream": "stdout",
       "text": [
        " (96.3827685883+0j)\n",
        " t index = "
       ]
      },
      {
       "output_type": "stream",
       "stream": "stdout",
       "text": [
        " 76\n",
        "\t\t\t Norm = "
       ]
      },
      {
       "output_type": "stream",
       "stream": "stdout",
       "text": [
        " (96.3827692958+0j)\n",
        " t index = "
       ]
      },
      {
       "output_type": "stream",
       "stream": "stdout",
       "text": [
        " 77\n",
        "\t\t\t Norm = "
       ]
      },
      {
       "output_type": "stream",
       "stream": "stdout",
       "text": [
        " (96.3827699893+0j)\n",
        " t index = "
       ]
      },
      {
       "output_type": "stream",
       "stream": "stdout",
       "text": [
        " 78\n",
        "\t\t\t Norm = "
       ]
      },
      {
       "output_type": "stream",
       "stream": "stdout",
       "text": [
        " (96.3827706693+0j)\n",
        " t index = "
       ]
      },
      {
       "output_type": "stream",
       "stream": "stdout",
       "text": [
        " 79\n",
        "\t\t\t Norm = "
       ]
      },
      {
       "output_type": "stream",
       "stream": "stdout",
       "text": [
        " (96.3827713362+0j)\n",
        " t index = "
       ]
      },
      {
       "output_type": "stream",
       "stream": "stdout",
       "text": [
        " 80\n",
        "\t\t\t Norm = "
       ]
      },
      {
       "output_type": "stream",
       "stream": "stdout",
       "text": [
        " (96.3827719904+0j)\n",
        " t index = "
       ]
      },
      {
       "output_type": "stream",
       "stream": "stdout",
       "text": [
        " 81\n",
        "\t\t\t Norm = "
       ]
      },
      {
       "output_type": "stream",
       "stream": "stdout",
       "text": [
        " (96.3827726323+0j)\n",
        " t index = "
       ]
      },
      {
       "output_type": "stream",
       "stream": "stdout",
       "text": [
        " 82\n",
        "\t\t\t Norm = "
       ]
      },
      {
       "output_type": "stream",
       "stream": "stdout",
       "text": [
        " (96.3827732624+0j)\n",
        " t index = "
       ]
      },
      {
       "output_type": "stream",
       "stream": "stdout",
       "text": [
        " 83\n",
        "\t\t\t Norm = "
       ]
      },
      {
       "output_type": "stream",
       "stream": "stdout",
       "text": [
        " (96.382773881+0j)\n",
        " t index = "
       ]
      },
      {
       "output_type": "stream",
       "stream": "stdout",
       "text": [
        " 84\n",
        "\t\t\t Norm = "
       ]
      },
      {
       "output_type": "stream",
       "stream": "stdout",
       "text": [
        " (96.3827744884+0j)\n",
        " t index = "
       ]
      },
      {
       "output_type": "stream",
       "stream": "stdout",
       "text": [
        " 85\n",
        "\t\t\t Norm = "
       ]
      },
      {
       "output_type": "stream",
       "stream": "stdout",
       "text": [
        " (96.3827750851+0j)\n",
        " t index = "
       ]
      },
      {
       "output_type": "stream",
       "stream": "stdout",
       "text": [
        " 86\n",
        "\t\t\t Norm = "
       ]
      },
      {
       "output_type": "stream",
       "stream": "stdout",
       "text": [
        " (96.3827756713+0j)\n",
        " t index = "
       ]
      },
      {
       "output_type": "stream",
       "stream": "stdout",
       "text": [
        " 87\n",
        "\t\t\t Norm = "
       ]
      },
      {
       "output_type": "stream",
       "stream": "stdout",
       "text": [
        " (96.3827762474+0j)\n",
        " t index = "
       ]
      },
      {
       "output_type": "stream",
       "stream": "stdout",
       "text": [
        " 88\n",
        "\t\t\t Norm = "
       ]
      },
      {
       "output_type": "stream",
       "stream": "stdout",
       "text": [
        " (96.3827768137+0j)\n",
        " t index = "
       ]
      },
      {
       "output_type": "stream",
       "stream": "stdout",
       "text": [
        " 89\n",
        "\t\t\t Norm = "
       ]
      },
      {
       "output_type": "stream",
       "stream": "stdout",
       "text": [
        " (96.3827773704+0j)\n",
        " t index = "
       ]
      },
      {
       "output_type": "stream",
       "stream": "stdout",
       "text": [
        " 90\n",
        "\t\t\t Norm = "
       ]
      },
      {
       "output_type": "stream",
       "stream": "stdout",
       "text": [
        " (96.3827779178+0j)\n",
        " t index = "
       ]
      },
      {
       "output_type": "stream",
       "stream": "stdout",
       "text": [
        " 91\n",
        "\t\t\t Norm = "
       ]
      },
      {
       "output_type": "stream",
       "stream": "stdout",
       "text": [
        " (96.3827784563+0j)\n",
        " t index = "
       ]
      },
      {
       "output_type": "stream",
       "stream": "stdout",
       "text": [
        " 92\n",
        "\t\t\t Norm = "
       ]
      },
      {
       "output_type": "stream",
       "stream": "stdout",
       "text": [
        " (96.382778986+0j)\n",
        " t index = "
       ]
      },
      {
       "output_type": "stream",
       "stream": "stdout",
       "text": [
        " 93\n",
        "\t\t\t Norm = "
       ]
      },
      {
       "output_type": "stream",
       "stream": "stdout",
       "text": [
        " (96.3827795073+0j)\n",
        " t index = "
       ]
      },
      {
       "output_type": "stream",
       "stream": "stdout",
       "text": [
        " 94\n",
        "\t\t\t Norm = "
       ]
      },
      {
       "output_type": "stream",
       "stream": "stdout",
       "text": [
        " (96.3827800203+0j)\n",
        " t index = "
       ]
      },
      {
       "output_type": "stream",
       "stream": "stdout",
       "text": [
        " 95\n",
        "\t\t\t Norm = "
       ]
      },
      {
       "output_type": "stream",
       "stream": "stdout",
       "text": [
        " (96.3827805252+0j)\n",
        " t index = "
       ]
      },
      {
       "output_type": "stream",
       "stream": "stdout",
       "text": [
        " 96\n",
        "\t\t\t Norm = "
       ]
      },
      {
       "output_type": "stream",
       "stream": "stdout",
       "text": [
        " (96.3827810224+0j)\n",
        " t index = "
       ]
      },
      {
       "output_type": "stream",
       "stream": "stdout",
       "text": [
        " 97\n",
        "\t\t\t Norm = "
       ]
      },
      {
       "output_type": "stream",
       "stream": "stdout",
       "text": [
        " (96.382781512+0j)\n",
        " t index = "
       ]
      },
      {
       "output_type": "stream",
       "stream": "stdout",
       "text": [
        " 98\n",
        "\t\t\t Norm = "
       ]
      },
      {
       "output_type": "stream",
       "stream": "stdout",
       "text": [
        " (96.3827819941+0j)\n",
        " t index = "
       ]
      },
      {
       "output_type": "stream",
       "stream": "stdout",
       "text": [
        " 99\n",
        "\t\t\t Norm = "
       ]
      },
      {
       "output_type": "stream",
       "stream": "stdout",
       "text": [
        " (96.3827824691+0j)\n",
        " t index = "
       ]
      },
      {
       "output_type": "stream",
       "stream": "stdout",
       "text": [
        " 100\n",
        "\t\t\t Norm = "
       ]
      },
      {
       "output_type": "stream",
       "stream": "stdout",
       "text": [
        " (96.3827829371+0j)\n",
        " t index = "
       ]
      },
      {
       "output_type": "stream",
       "stream": "stdout",
       "text": [
        " 101\n",
        "\t\t\t Norm = "
       ]
      },
      {
       "output_type": "stream",
       "stream": "stdout",
       "text": [
        " (96.3827833982+0j)\n",
        " t index = "
       ]
      },
      {
       "output_type": "stream",
       "stream": "stdout",
       "text": [
        " 102\n",
        "\t\t\t Norm = "
       ]
      },
      {
       "output_type": "stream",
       "stream": "stdout",
       "text": [
        " (96.3827838527+0j)\n",
        " t index = "
       ]
      },
      {
       "output_type": "stream",
       "stream": "stdout",
       "text": [
        " 103\n",
        "\t\t\t Norm = "
       ]
      },
      {
       "output_type": "stream",
       "stream": "stdout",
       "text": [
        " (96.3827843006+0j)\n",
        " t index = "
       ]
      },
      {
       "output_type": "stream",
       "stream": "stdout",
       "text": [
        " 104\n",
        "\t\t\t Norm = "
       ]
      },
      {
       "output_type": "stream",
       "stream": "stdout",
       "text": [
        " (96.3827847423+0j)\n",
        " t index = "
       ]
      },
      {
       "output_type": "stream",
       "stream": "stdout",
       "text": [
        " 105\n",
        "\t\t\t Norm = "
       ]
      },
      {
       "output_type": "stream",
       "stream": "stdout",
       "text": [
        " (96.3827851777+0j)\n",
        " t index = "
       ]
      },
      {
       "output_type": "stream",
       "stream": "stdout",
       "text": [
        " 106\n",
        "\t\t\t Norm = "
       ]
      },
      {
       "output_type": "stream",
       "stream": "stdout",
       "text": [
        " (96.3827856072+0j)\n",
        " t index = "
       ]
      },
      {
       "output_type": "stream",
       "stream": "stdout",
       "text": [
        " 107\n",
        "\t\t\t Norm = "
       ]
      },
      {
       "output_type": "stream",
       "stream": "stdout",
       "text": [
        " (96.3827860307+0j)\n",
        " t index = "
       ]
      },
      {
       "output_type": "stream",
       "stream": "stdout",
       "text": [
        " 108\n",
        "\t\t\t Norm = "
       ]
      },
      {
       "output_type": "stream",
       "stream": "stdout",
       "text": [
        " (96.3827864485+0j)\n",
        " t index = "
       ]
      },
      {
       "output_type": "stream",
       "stream": "stdout",
       "text": [
        " 109\n",
        "\t\t\t Norm = "
       ]
      },
      {
       "output_type": "stream",
       "stream": "stdout",
       "text": [
        " (96.3827868607+0j)\n",
        " t index = "
       ]
      },
      {
       "output_type": "stream",
       "stream": "stdout",
       "text": [
        " 110\n",
        "\t\t\t Norm = "
       ]
      },
      {
       "output_type": "stream",
       "stream": "stdout",
       "text": [
        " (96.3827872673+0j)\n",
        " t index = "
       ]
      },
      {
       "output_type": "stream",
       "stream": "stdout",
       "text": [
        " 111\n",
        "\t\t\t Norm = "
       ]
      },
      {
       "output_type": "stream",
       "stream": "stdout",
       "text": [
        " (96.3827876687+0j)\n",
        " t index = "
       ]
      },
      {
       "output_type": "stream",
       "stream": "stdout",
       "text": [
        " 112\n",
        "\t\t\t Norm = "
       ]
      },
      {
       "output_type": "stream",
       "stream": "stdout",
       "text": [
        " (96.3827880647+0j)\n",
        " t index = "
       ]
      },
      {
       "output_type": "stream",
       "stream": "stdout",
       "text": [
        " 113\n",
        "\t\t\t Norm = "
       ]
      },
      {
       "output_type": "stream",
       "stream": "stdout",
       "text": [
        " (96.3827884556+0j)\n",
        " t index = "
       ]
      },
      {
       "output_type": "stream",
       "stream": "stdout",
       "text": [
        " 114\n",
        "\t\t\t Norm = "
       ]
      },
      {
       "output_type": "stream",
       "stream": "stdout",
       "text": [
        " (96.3827888415+0j)\n",
        " t index = "
       ]
      },
      {
       "output_type": "stream",
       "stream": "stdout",
       "text": [
        " 115\n",
        "\t\t\t Norm = "
       ]
      },
      {
       "output_type": "stream",
       "stream": "stdout",
       "text": [
        " (96.3827892225+0j)\n",
        " t index = "
       ]
      },
      {
       "output_type": "stream",
       "stream": "stdout",
       "text": [
        " 116\n",
        "\t\t\t Norm = "
       ]
      },
      {
       "output_type": "stream",
       "stream": "stdout",
       "text": [
        " (96.3827895987+0j)\n",
        " t index = "
       ]
      },
      {
       "output_type": "stream",
       "stream": "stdout",
       "text": [
        " 117\n",
        "\t\t\t Norm = "
       ]
      },
      {
       "output_type": "stream",
       "stream": "stdout",
       "text": [
        " (96.3827899702+0j)\n",
        " t index = "
       ]
      },
      {
       "output_type": "stream",
       "stream": "stdout",
       "text": [
        " 118\n",
        "\t\t\t Norm = "
       ]
      },
      {
       "output_type": "stream",
       "stream": "stdout",
       "text": [
        " (96.382790337+0j)\n",
        " t index = "
       ]
      },
      {
       "output_type": "stream",
       "stream": "stdout",
       "text": [
        " 119\n",
        "\t\t\t Norm = "
       ]
      },
      {
       "output_type": "stream",
       "stream": "stdout",
       "text": [
        " (96.3827906994+0j)\n",
        " t index = "
       ]
      },
      {
       "output_type": "stream",
       "stream": "stdout",
       "text": [
        " 120\n",
        "\t\t\t Norm = "
       ]
      },
      {
       "output_type": "stream",
       "stream": "stdout",
       "text": [
        " (96.3827910573+0j)\n",
        " t index = "
       ]
      },
      {
       "output_type": "stream",
       "stream": "stdout",
       "text": [
        " 121\n",
        "\t\t\t Norm = "
       ]
      },
      {
       "output_type": "stream",
       "stream": "stdout",
       "text": [
        " (96.3827914108+0j)\n",
        " t index = "
       ]
      },
      {
       "output_type": "stream",
       "stream": "stdout",
       "text": [
        " 122\n",
        "\t\t\t Norm = "
       ]
      },
      {
       "output_type": "stream",
       "stream": "stdout",
       "text": [
        " (96.3827917601+0j)\n",
        " t index = "
       ]
      },
      {
       "output_type": "stream",
       "stream": "stdout",
       "text": [
        " 123\n",
        "\t\t\t Norm = "
       ]
      },
      {
       "output_type": "stream",
       "stream": "stdout",
       "text": [
        " (96.3827921052+0j)\n",
        " t index = "
       ]
      },
      {
       "output_type": "stream",
       "stream": "stdout",
       "text": [
        " 124\n",
        "\t\t\t Norm = "
       ]
      },
      {
       "output_type": "stream",
       "stream": "stdout",
       "text": [
        " (96.3827924463+0j)\n",
        " t index = "
       ]
      },
      {
       "output_type": "stream",
       "stream": "stdout",
       "text": [
        " 125\n",
        "\t\t\t Norm = "
       ]
      },
      {
       "output_type": "stream",
       "stream": "stdout",
       "text": [
        " (96.3827927833+0j)\n",
        " t index = "
       ]
      },
      {
       "output_type": "stream",
       "stream": "stdout",
       "text": [
        " 126\n",
        "\t\t\t Norm = "
       ]
      },
      {
       "output_type": "stream",
       "stream": "stdout",
       "text": [
        " (96.3827931163+0j)\n",
        " t index = "
       ]
      },
      {
       "output_type": "stream",
       "stream": "stdout",
       "text": [
        " 127\n",
        "\t\t\t Norm = "
       ]
      },
      {
       "output_type": "stream",
       "stream": "stdout",
       "text": [
        " (96.3827934455+0j)\n",
        " t index = "
       ]
      },
      {
       "output_type": "stream",
       "stream": "stdout",
       "text": [
        " 128\n",
        "\t\t\t Norm = "
       ]
      },
      {
       "output_type": "stream",
       "stream": "stdout",
       "text": [
        " (96.3827937709+0j)\n",
        " t index = "
       ]
      },
      {
       "output_type": "stream",
       "stream": "stdout",
       "text": [
        " 129\n",
        "\t\t\t Norm = "
       ]
      },
      {
       "output_type": "stream",
       "stream": "stdout",
       "text": [
        " (96.3827940926+0j)\n",
        " t index = "
       ]
      },
      {
       "output_type": "stream",
       "stream": "stdout",
       "text": [
        " 130\n",
        "\t\t\t Norm = "
       ]
      },
      {
       "output_type": "stream",
       "stream": "stdout",
       "text": [
        " (96.3827944105+0j)\n",
        " t index = "
       ]
      },
      {
       "output_type": "stream",
       "stream": "stdout",
       "text": [
        " 131\n",
        "\t\t\t Norm = "
       ]
      },
      {
       "output_type": "stream",
       "stream": "stdout",
       "text": [
        " (96.3827947249+0j)\n",
        " t index = "
       ]
      },
      {
       "output_type": "stream",
       "stream": "stdout",
       "text": [
        " 132\n",
        "\t\t\t Norm = "
       ]
      },
      {
       "output_type": "stream",
       "stream": "stdout",
       "text": [
        " (96.3827950358+0j)\n",
        " t index = "
       ]
      },
      {
       "output_type": "stream",
       "stream": "stdout",
       "text": [
        " 133\n",
        "\t\t\t Norm = "
       ]
      },
      {
       "output_type": "stream",
       "stream": "stdout",
       "text": [
        " (96.3827953431+0j)\n",
        " t index = "
       ]
      },
      {
       "output_type": "stream",
       "stream": "stdout",
       "text": [
        " 134\n",
        "\t\t\t Norm = "
       ]
      },
      {
       "output_type": "stream",
       "stream": "stdout",
       "text": [
        " (96.3827956471+0j)\n",
        " t index = "
       ]
      },
      {
       "output_type": "stream",
       "stream": "stdout",
       "text": [
        " 135\n",
        "\t\t\t Norm = "
       ]
      },
      {
       "output_type": "stream",
       "stream": "stdout",
       "text": [
        " (96.3827959476+0j)\n",
        " t index = "
       ]
      },
      {
       "output_type": "stream",
       "stream": "stdout",
       "text": [
        " 136\n",
        "\t\t\t Norm = "
       ]
      },
      {
       "output_type": "stream",
       "stream": "stdout",
       "text": [
        " (96.3827962449+0j)\n",
        " t index = "
       ]
      },
      {
       "output_type": "stream",
       "stream": "stdout",
       "text": [
        " 137\n",
        "\t\t\t Norm = "
       ]
      },
      {
       "output_type": "stream",
       "stream": "stdout",
       "text": [
        " (96.3827965389+0j)\n",
        " t index = "
       ]
      },
      {
       "output_type": "stream",
       "stream": "stdout",
       "text": [
        " 138\n",
        "\t\t\t Norm = "
       ]
      },
      {
       "output_type": "stream",
       "stream": "stdout",
       "text": [
        " (96.3827968297+0j)\n",
        " t index = "
       ]
      },
      {
       "output_type": "stream",
       "stream": "stdout",
       "text": [
        " 139\n",
        "\t\t\t Norm = "
       ]
      },
      {
       "output_type": "stream",
       "stream": "stdout",
       "text": [
        " (96.3827971174+0j)\n",
        " t index = "
       ]
      },
      {
       "output_type": "stream",
       "stream": "stdout",
       "text": [
        " 140\n",
        "\t\t\t Norm = "
       ]
      },
      {
       "output_type": "stream",
       "stream": "stdout",
       "text": [
        " (96.3827974019+0j)\n",
        " t index = "
       ]
      },
      {
       "output_type": "stream",
       "stream": "stdout",
       "text": [
        " 141\n",
        "\t\t\t Norm = "
       ]
      },
      {
       "output_type": "stream",
       "stream": "stdout",
       "text": [
        " (96.3827976834+0j)\n",
        " t index = "
       ]
      },
      {
       "output_type": "stream",
       "stream": "stdout",
       "text": [
        " 142\n",
        "\t\t\t Norm = "
       ]
      },
      {
       "output_type": "stream",
       "stream": "stdout",
       "text": [
        " (96.3827979619+0j)\n",
        " t index = "
       ]
      },
      {
       "output_type": "stream",
       "stream": "stdout",
       "text": [
        " 143\n",
        "\t\t\t Norm = "
       ]
      },
      {
       "output_type": "stream",
       "stream": "stdout",
       "text": [
        " (96.3827982375+0j)\n",
        " t index = "
       ]
      },
      {
       "output_type": "stream",
       "stream": "stdout",
       "text": [
        " 144\n",
        "\t\t\t Norm = "
       ]
      },
      {
       "output_type": "stream",
       "stream": "stdout",
       "text": [
        " (96.3827985101+0j)\n",
        " t index = "
       ]
      },
      {
       "output_type": "stream",
       "stream": "stdout",
       "text": [
        " 145\n",
        "\t\t\t Norm = "
       ]
      },
      {
       "output_type": "stream",
       "stream": "stdout",
       "text": [
        " (96.3827987799+0j)\n",
        " t index = "
       ]
      },
      {
       "output_type": "stream",
       "stream": "stdout",
       "text": [
        " 146\n",
        "\t\t\t Norm = "
       ]
      },
      {
       "output_type": "stream",
       "stream": "stdout",
       "text": [
        " (96.3827990468+0j)\n",
        " t index = "
       ]
      },
      {
       "output_type": "stream",
       "stream": "stdout",
       "text": [
        " 147\n",
        "\t\t\t Norm = "
       ]
      },
      {
       "output_type": "stream",
       "stream": "stdout",
       "text": [
        " (96.382799311+0j)\n",
        " t index = "
       ]
      },
      {
       "output_type": "stream",
       "stream": "stdout",
       "text": [
        " 148\n",
        "\t\t\t Norm = "
       ]
      },
      {
       "output_type": "stream",
       "stream": "stdout",
       "text": [
        " (96.3827995724+0j)\n",
        " t index = "
       ]
      },
      {
       "output_type": "stream",
       "stream": "stdout",
       "text": [
        " 149\n",
        "\t\t\t Norm = "
       ]
      },
      {
       "output_type": "stream",
       "stream": "stdout",
       "text": [
        " (96.3827998311+0j)\n",
        " t index = "
       ]
      },
      {
       "output_type": "stream",
       "stream": "stdout",
       "text": [
        " 150\n",
        "\t\t\t Norm = "
       ]
      },
      {
       "output_type": "stream",
       "stream": "stdout",
       "text": [
        " (96.3828000872+0j)\n",
        " t index = "
       ]
      },
      {
       "output_type": "stream",
       "stream": "stdout",
       "text": [
        " 151\n",
        "\t\t\t Norm = "
       ]
      },
      {
       "output_type": "stream",
       "stream": "stdout",
       "text": [
        " (96.3828003406+0j)\n",
        " t index = "
       ]
      },
      {
       "output_type": "stream",
       "stream": "stdout",
       "text": [
        " 152\n",
        "\t\t\t Norm = "
       ]
      },
      {
       "output_type": "stream",
       "stream": "stdout",
       "text": [
        " (96.3828005915+0j)\n",
        " t index = "
       ]
      },
      {
       "output_type": "stream",
       "stream": "stdout",
       "text": [
        " 153\n",
        "\t\t\t Norm = "
       ]
      },
      {
       "output_type": "stream",
       "stream": "stdout",
       "text": [
        " (96.3828008398+0j)\n",
        " t index = "
       ]
      },
      {
       "output_type": "stream",
       "stream": "stdout",
       "text": [
        " 154\n",
        "\t\t\t Norm = "
       ]
      },
      {
       "output_type": "stream",
       "stream": "stdout",
       "text": [
        " (96.3828010855+0j)\n",
        " t index = "
       ]
      },
      {
       "output_type": "stream",
       "stream": "stdout",
       "text": [
        " 155\n",
        "\t\t\t Norm = "
       ]
      },
      {
       "output_type": "stream",
       "stream": "stdout",
       "text": [
        " (96.3828013288+0j)\n",
        " t index = "
       ]
      },
      {
       "output_type": "stream",
       "stream": "stdout",
       "text": [
        " 156\n",
        "\t\t\t Norm = "
       ]
      },
      {
       "output_type": "stream",
       "stream": "stdout",
       "text": [
        " (96.3828015697+0j)\n",
        " t index = "
       ]
      },
      {
       "output_type": "stream",
       "stream": "stdout",
       "text": [
        " 157\n",
        "\t\t\t Norm = "
       ]
      },
      {
       "output_type": "stream",
       "stream": "stdout",
       "text": [
        " (96.3828018081+0j)\n",
        " t index = "
       ]
      },
      {
       "output_type": "stream",
       "stream": "stdout",
       "text": [
        " 158\n",
        "\t\t\t Norm = "
       ]
      },
      {
       "output_type": "stream",
       "stream": "stdout",
       "text": [
        " (96.3828020442+0j)\n",
        " t index = "
       ]
      },
      {
       "output_type": "stream",
       "stream": "stdout",
       "text": [
        " 159\n",
        "\t\t\t Norm = "
       ]
      },
      {
       "output_type": "stream",
       "stream": "stdout",
       "text": [
        " (96.3828022779+0j)\n",
        " t index = "
       ]
      },
      {
       "output_type": "stream",
       "stream": "stdout",
       "text": [
        " 160\n",
        "\t\t\t Norm = "
       ]
      },
      {
       "output_type": "stream",
       "stream": "stdout",
       "text": [
        " (96.3828025093+0j)\n",
        " t index = "
       ]
      },
      {
       "output_type": "stream",
       "stream": "stdout",
       "text": [
        " 161\n",
        "\t\t\t Norm = "
       ]
      },
      {
       "output_type": "stream",
       "stream": "stdout",
       "text": [
        " (96.3828027384+0j)\n",
        " t index = "
       ]
      },
      {
       "output_type": "stream",
       "stream": "stdout",
       "text": [
        " 162\n",
        "\t\t\t Norm = "
       ]
      },
      {
       "output_type": "stream",
       "stream": "stdout",
       "text": [
        " (96.3828029653+0j)\n",
        " t index = "
       ]
      },
      {
       "output_type": "stream",
       "stream": "stdout",
       "text": [
        " 163\n",
        "\t\t\t Norm = "
       ]
      },
      {
       "output_type": "stream",
       "stream": "stdout",
       "text": [
        " (96.3828031899+0j)\n",
        " t index = "
       ]
      },
      {
       "output_type": "stream",
       "stream": "stdout",
       "text": [
        " 164\n",
        "\t\t\t Norm = "
       ]
      },
      {
       "output_type": "stream",
       "stream": "stdout",
       "text": [
        " (96.3828034124+0j)\n",
        " t index = "
       ]
      },
      {
       "output_type": "stream",
       "stream": "stdout",
       "text": [
        " 165\n",
        "\t\t\t Norm = "
       ]
      },
      {
       "output_type": "stream",
       "stream": "stdout",
       "text": [
        " (96.3828036326+0j)\n",
        " t index = "
       ]
      },
      {
       "output_type": "stream",
       "stream": "stdout",
       "text": [
        " 166\n",
        "\t\t\t Norm = "
       ]
      },
      {
       "output_type": "stream",
       "stream": "stdout",
       "text": [
        " (96.3828038507+0j)\n",
        " t index = "
       ]
      },
      {
       "output_type": "stream",
       "stream": "stdout",
       "text": [
        " 167\n",
        "\t\t\t Norm = "
       ]
      },
      {
       "output_type": "stream",
       "stream": "stdout",
       "text": [
        " (96.3828040668+0j)\n",
        " t index = "
       ]
      },
      {
       "output_type": "stream",
       "stream": "stdout",
       "text": [
        " 168\n",
        "\t\t\t Norm = "
       ]
      },
      {
       "output_type": "stream",
       "stream": "stdout",
       "text": [
        " (96.3828042807+0j)\n",
        " t index = "
       ]
      },
      {
       "output_type": "stream",
       "stream": "stdout",
       "text": [
        " 169\n",
        "\t\t\t Norm = "
       ]
      },
      {
       "output_type": "stream",
       "stream": "stdout",
       "text": [
        " (96.3828044926+0j)\n",
        " t index = "
       ]
      },
      {
       "output_type": "stream",
       "stream": "stdout",
       "text": [
        " 170\n",
        "\t\t\t Norm = "
       ]
      },
      {
       "output_type": "stream",
       "stream": "stdout",
       "text": [
        " (96.3828047024+0j)\n",
        " t index = "
       ]
      },
      {
       "output_type": "stream",
       "stream": "stdout",
       "text": [
        " 171\n",
        "\t\t\t Norm = "
       ]
      },
      {
       "output_type": "stream",
       "stream": "stdout",
       "text": [
        " (96.3828049102+0j)\n",
        " t index = "
       ]
      },
      {
       "output_type": "stream",
       "stream": "stdout",
       "text": [
        " 172\n",
        "\t\t\t Norm = "
       ]
      },
      {
       "output_type": "stream",
       "stream": "stdout",
       "text": [
        " (96.3828051161+0j)\n",
        " t index = "
       ]
      },
      {
       "output_type": "stream",
       "stream": "stdout",
       "text": [
        " 173\n",
        "\t\t\t Norm = "
       ]
      },
      {
       "output_type": "stream",
       "stream": "stdout",
       "text": [
        " (96.38280532+0j)\n",
        " t index = "
       ]
      },
      {
       "output_type": "stream",
       "stream": "stdout",
       "text": [
        " 174\n",
        "\t\t\t Norm = "
       ]
      },
      {
       "output_type": "stream",
       "stream": "stdout",
       "text": [
        " (96.3828055219+0j)\n",
        " t index = "
       ]
      },
      {
       "output_type": "stream",
       "stream": "stdout",
       "text": [
        " 175\n",
        "\t\t\t Norm = "
       ]
      },
      {
       "output_type": "stream",
       "stream": "stdout",
       "text": [
        " (96.382805722+0j)\n",
        " t index = "
       ]
      },
      {
       "output_type": "stream",
       "stream": "stdout",
       "text": [
        " 176\n",
        "\t\t\t Norm = "
       ]
      },
      {
       "output_type": "stream",
       "stream": "stdout",
       "text": [
        " (96.3828059201+0j)\n",
        " t index = "
       ]
      },
      {
       "output_type": "stream",
       "stream": "stdout",
       "text": [
        " 177\n",
        "\t\t\t Norm = "
       ]
      },
      {
       "output_type": "stream",
       "stream": "stdout",
       "text": [
        " (96.3828061164+0j)\n",
        " t index = "
       ]
      },
      {
       "output_type": "stream",
       "stream": "stdout",
       "text": [
        " 178\n",
        "\t\t\t Norm = "
       ]
      },
      {
       "output_type": "stream",
       "stream": "stdout",
       "text": [
        " (96.3828063109+0j)\n",
        " t index = "
       ]
      },
      {
       "output_type": "stream",
       "stream": "stdout",
       "text": [
        " 179\n",
        "\t\t\t Norm = "
       ]
      },
      {
       "output_type": "stream",
       "stream": "stdout",
       "text": [
        " (96.3828065035+0j)\n",
        " t index = "
       ]
      },
      {
       "output_type": "stream",
       "stream": "stdout",
       "text": [
        " 180\n",
        "\t\t\t Norm = "
       ]
      },
      {
       "output_type": "stream",
       "stream": "stdout",
       "text": [
        " (96.3828066944+0j)\n",
        " t index = "
       ]
      },
      {
       "output_type": "stream",
       "stream": "stdout",
       "text": [
        " 181\n",
        "\t\t\t Norm = "
       ]
      },
      {
       "output_type": "stream",
       "stream": "stdout",
       "text": [
        " (96.3828068834+0j)\n",
        " t index = "
       ]
      },
      {
       "output_type": "stream",
       "stream": "stdout",
       "text": [
        " 182\n",
        "\t\t\t Norm = "
       ]
      },
      {
       "output_type": "stream",
       "stream": "stdout",
       "text": [
        " (96.3828070707+0j)\n",
        " t index = "
       ]
      },
      {
       "output_type": "stream",
       "stream": "stdout",
       "text": [
        " 183\n",
        "\t\t\t Norm = "
       ]
      },
      {
       "output_type": "stream",
       "stream": "stdout",
       "text": [
        " (96.3828072563+0j)\n",
        " t index = "
       ]
      },
      {
       "output_type": "stream",
       "stream": "stdout",
       "text": [
        " 184\n",
        "\t\t\t Norm = "
       ]
      },
      {
       "output_type": "stream",
       "stream": "stdout",
       "text": [
        " (96.3828074402+0j)\n",
        " t index = "
       ]
      },
      {
       "output_type": "stream",
       "stream": "stdout",
       "text": [
        " 185\n",
        "\t\t\t Norm = "
       ]
      },
      {
       "output_type": "stream",
       "stream": "stdout",
       "text": [
        " (96.3828076223+0j)\n",
        " t index = "
       ]
      },
      {
       "output_type": "stream",
       "stream": "stdout",
       "text": [
        " 186\n",
        "\t\t\t Norm = "
       ]
      },
      {
       "output_type": "stream",
       "stream": "stdout",
       "text": [
        " (96.3828078028+0j)\n",
        " t index = "
       ]
      },
      {
       "output_type": "stream",
       "stream": "stdout",
       "text": [
        " 187\n",
        "\t\t\t Norm = "
       ]
      },
      {
       "output_type": "stream",
       "stream": "stdout",
       "text": [
        " (96.3828079817+0j)\n",
        " t index = "
       ]
      },
      {
       "output_type": "stream",
       "stream": "stdout",
       "text": [
        " 188\n",
        "\t\t\t Norm = "
       ]
      },
      {
       "output_type": "stream",
       "stream": "stdout",
       "text": [
        " (96.3828081589+0j)\n",
        " t index = "
       ]
      },
      {
       "output_type": "stream",
       "stream": "stdout",
       "text": [
        " 189\n",
        "\t\t\t Norm = "
       ]
      },
      {
       "output_type": "stream",
       "stream": "stdout",
       "text": [
        " (96.3828083345+0j)\n",
        " t index = "
       ]
      },
      {
       "output_type": "stream",
       "stream": "stdout",
       "text": [
        " 190\n",
        "\t\t\t Norm = "
       ]
      },
      {
       "output_type": "stream",
       "stream": "stdout",
       "text": [
        " (96.3828085084+0j)\n",
        " t index = "
       ]
      },
      {
       "output_type": "stream",
       "stream": "stdout",
       "text": [
        " 191\n",
        "\t\t\t Norm = "
       ]
      },
      {
       "output_type": "stream",
       "stream": "stdout",
       "text": [
        " (96.3828086809+0j)\n",
        " t index = "
       ]
      },
      {
       "output_type": "stream",
       "stream": "stdout",
       "text": [
        " 192\n",
        "\t\t\t Norm = "
       ]
      },
      {
       "output_type": "stream",
       "stream": "stdout",
       "text": [
        " (96.3828088517+0j)\n",
        " t index = "
       ]
      },
      {
       "output_type": "stream",
       "stream": "stdout",
       "text": [
        " 193\n",
        "\t\t\t Norm = "
       ]
      },
      {
       "output_type": "stream",
       "stream": "stdout",
       "text": [
        " (96.382809021+0j)\n",
        " t index = "
       ]
      },
      {
       "output_type": "stream",
       "stream": "stdout",
       "text": [
        " 194\n",
        "\t\t\t Norm = "
       ]
      },
      {
       "output_type": "stream",
       "stream": "stdout",
       "text": [
        " (96.3828091888+0j)\n",
        " t index = "
       ]
      },
      {
       "output_type": "stream",
       "stream": "stdout",
       "text": [
        " 195\n",
        "\t\t\t Norm = "
       ]
      },
      {
       "output_type": "stream",
       "stream": "stdout",
       "text": [
        " (96.3828093551+0j)\n",
        " t index = "
       ]
      },
      {
       "output_type": "stream",
       "stream": "stdout",
       "text": [
        " 196\n",
        "\t\t\t Norm = "
       ]
      },
      {
       "output_type": "stream",
       "stream": "stdout",
       "text": [
        " (96.3828095198+0j)\n",
        " t index = "
       ]
      },
      {
       "output_type": "stream",
       "stream": "stdout",
       "text": [
        " 197\n",
        "\t\t\t Norm = "
       ]
      },
      {
       "output_type": "stream",
       "stream": "stdout",
       "text": [
        " (96.3828096831+0j)\n",
        " t index = "
       ]
      },
      {
       "output_type": "stream",
       "stream": "stdout",
       "text": [
        " 198\n",
        "\t\t\t Norm = "
       ]
      },
      {
       "output_type": "stream",
       "stream": "stdout",
       "text": [
        " (96.382809845+0j)\n",
        " t index = "
       ]
      },
      {
       "output_type": "stream",
       "stream": "stdout",
       "text": [
        " 199\n",
        "\t\t\t Norm = "
       ]
      },
      {
       "output_type": "stream",
       "stream": "stdout",
       "text": [
        " (96.3828100054+0j)\n",
        " t index = "
       ]
      },
      {
       "output_type": "stream",
       "stream": "stdout",
       "text": [
        " 200\n",
        "\t\t\t Norm = "
       ]
      },
      {
       "output_type": "stream",
       "stream": "stdout",
       "text": [
        " (96.3828101644+0j)\n",
        " running time = "
       ]
      },
      {
       "output_type": "stream",
       "stream": "stdout",
       "text": [
        " 176.777453085 min\n"
       ]
      }
     ],
     "prompt_number": 13
    },
    {
     "cell_type": "code",
     "collapsed": false,
     "input": [
      "W_end = instance.W11.get() + instance.W22 .get() + instance.W33 .get() + instance.W44 .get()"
     ],
     "language": "python",
     "metadata": {},
     "outputs": [],
     "prompt_number": 14
    },
    {
     "cell_type": "code",
     "collapsed": false,
     "input": [
      "np.sum(W_end).real*instance.dx*instance.dy*instance.dp_x*instance.dp_y"
     ],
     "language": "python",
     "metadata": {},
     "outputs": [
      {
       "metadata": {},
       "output_type": "pyout",
       "prompt_number": 15,
       "text": [
        "96.382855479846199"
       ]
      }
     ],
     "prompt_number": 15
    },
    {
     "cell_type": "code",
     "collapsed": false,
     "input": [
      "# Phase space y \n",
      "    \n",
      "fig = plt.figure(figsize=(12,10))\n",
      "a=fig.add_subplot(1,2,1)\n",
      "\n",
      "im1 = plt.imshow( np.log( W_end[:,:,instance.gridDIM_x/2, instance.gridDIM_x/2 ].real ), \n",
      "           extent=[-instance.y_amplitude , instance.y_amplitude-instance.dy,\n",
      "                   -instance.p_y_amplitude, instance.p_y_amplitude-instance.dp_y] ,\n",
      "           origin='lower', interpolation='none')\n",
      "\n",
      "a.set_aspect(4)\n",
      "plt.xlabel('$y$',**axis_font)\n",
      "plt.ylabel('$p_y$',**axis_font)\n",
      "\n",
      "plt.colorbar(im1,fraction=0.04)\n",
      "\n",
      "a=fig.add_subplot(1,2,2)\n",
      "\n",
      "plt.imshow( W_end[:,:,instance.gridDIM_x/2, instance.gridDIM_x/2 ].real , \n",
      "           extent=[-instance.y_amplitude , instance.y_amplitude-instance.dy,\n",
      "                   -instance.p_y_amplitude, instance.p_y_amplitude-instance.dp_y] ,\n",
      "           origin='lower', interpolation='none')\n",
      "\n",
      "plt.xlabel('$y$',**axis_font)\n",
      "#plt.ylabel('$p_y$',**axis_font)\n",
      "\n",
      "a.set_aspect(4)\n",
      "plt.colorbar(fraction=0.04)"
     ],
     "language": "python",
     "metadata": {},
     "outputs": [
      {
       "output_type": "stream",
       "stream": "stderr",
       "text": [
        "-c:6: RuntimeWarning: divide by zero encountered in log\n",
        "-c:6: RuntimeWarning: invalid value encountered in log\n"
       ]
      },
      {
       "metadata": {},
       "output_type": "pyout",
       "prompt_number": 16,
       "text": [
        "<matplotlib.colorbar.Colorbar at 0x7f8d733590d0>"
       ]
      },
      {
       "metadata": {},
       "output_type": "display_data",
       "png": "[encoded data removed]",
       "text": [
        "<matplotlib.figure.Figure at 0x7f8d73c6d1d0>"
       ]
      }
     ],
     "prompt_number": 16
    },
    {
     "cell_type": "code",
     "collapsed": false,
     "input": [
      "# Phase space x\n",
      "    \n",
      "fig = plt.figure(figsize=(12,10))\n",
      "a=fig.add_subplot(1,2,1)\n",
      "\n",
      "im1 = plt.imshow( np.log( W_end[instance.gridDIM_y/2, instance.gridDIM_y/2, :, : ].real ), \n",
      "           extent=[-instance.y_amplitude , instance.y_amplitude-instance.dy,\n",
      "                   -instance.p_y_amplitude, instance.p_y_amplitude-instance.dp_y] ,\n",
      "           origin='lower', interpolation='none')\n",
      "\n",
      "a.set_aspect(4)\n",
      "plt.xlabel('$x$',**axis_font)\n",
      "plt.ylabel('$p_x$',**axis_font)\n",
      "\n",
      "plt.colorbar(im1,fraction=0.04)\n",
      "\n",
      "a=fig.add_subplot(1,2,2)\n",
      "\n",
      "plt.imshow( W_end[instance.gridDIM_y/2, instance.gridDIM_y/2, :, : ].real , \n",
      "           extent=[-instance.y_amplitude , instance.y_amplitude-instance.dy,\n",
      "                   -instance.p_y_amplitude, instance.p_y_amplitude-instance.dp_y] ,\n",
      "           origin='lower', interpolation='none')\n",
      "\n",
      "plt.xlabel('$x$',**axis_font)\n",
      "#plt.ylabel('$p_y$',**axis_font)\n",
      "\n",
      "a.set_aspect(4)\n",
      "plt.colorbar(fraction=0.04)"
     ],
     "language": "python",
     "metadata": {},
     "outputs": [
      {
       "metadata": {},
       "output_type": "pyout",
       "prompt_number": 17,
       "text": [
        "<matplotlib.colorbar.Colorbar at 0x7f8d72fb8a50>"
       ]
      },
      {
       "metadata": {},
       "output_type": "display_data",
       "png": "[encoded data removed]",
       "text": [
        "<matplotlib.figure.Figure at 0x7f8d73200b50>"
       ]
      }
     ],
     "prompt_number": 17
    },
    {
     "cell_type": "code",
     "collapsed": false,
     "input": [
      "fig = plt.figure(figsize=(12,10))\n",
      "a=fig.add_subplot(1,2,1)\n",
      "\n",
      "im1 = plt.imshow( np.log( W_end[ instance.gridDIM_y/2 , : , instance.gridDIM_x/2 , : ].real ), \n",
      "           extent=[-instance.y_amplitude , instance.y_amplitude-instance.dy,\n",
      "                   -instance.p_y_amplitude, instance.p_y_amplitude-instance.dp_y] ,\n",
      "           origin='lower', interpolation='none')\n",
      "\n",
      "a.set_aspect(4)\n",
      "plt.xlabel('$x$',**axis_font)\n",
      "plt.ylabel('$y$',**axis_font)\n",
      "\n",
      "plt.colorbar(im1,fraction=0.04)\n",
      "\n",
      "a=fig.add_subplot(1,2,2)\n",
      "\n",
      "plt.imshow( W_end[ instance.gridDIM_y/2 , : , instance.gridDIM_x/2 , : ].real , \n",
      "           extent=[-instance.y_amplitude , instance.y_amplitude-instance.dy,\n",
      "                   -instance.p_y_amplitude, instance.p_y_amplitude-instance.dp_y] ,\n",
      "           origin='lower', interpolation='none')\n",
      "\n",
      "plt.xlabel('$x$',**axis_font)\n",
      "#plt.ylabel('$p_y$',**axis_font)\n",
      "\n",
      "a.set_aspect(4)\n",
      "plt.colorbar(fraction=0.04)"
     ],
     "language": "python",
     "metadata": {},
     "outputs": [
      {
       "metadata": {},
       "output_type": "pyout",
       "prompt_number": 18,
       "text": [
        "<matplotlib.colorbar.Colorbar at 0x7f8d72d29990>"
       ]
      },
      {
       "metadata": {},
       "output_type": "display_data",
       "png": "[encoded data removed]",
       "text": [
        "<matplotlib.figure.Figure at 0x7f8d737d0a90>"
       ]
      }
     ],
     "prompt_number": 18
    },
    {
     "cell_type": "code",
     "collapsed": false,
     "input": [
      "fig = plt.figure(figsize=(12,10))\n",
      "a=fig.add_subplot(1,2,1)\n",
      "\n",
      "im1 = plt.imshow( np.log( W_end[ :, instance.gridDIM_y/2 ,  :, instance.gridDIM_x/2 ].real ), \n",
      "           extent=[-instance.y_amplitude , instance.y_amplitude-instance.dy,\n",
      "                   -instance.p_y_amplitude, instance.p_y_amplitude-instance.dp_y] ,\n",
      "           origin='lower', interpolation='none')\n",
      "\n",
      "a.set_aspect(4)\n",
      "plt.xlabel('$p_x$',**axis_font)\n",
      "plt.ylabel('$p_y$',**axis_font)\n",
      "\n",
      "plt.colorbar(im1,fraction=0.04)\n",
      "\n",
      "a=fig.add_subplot(1,2,2)\n",
      "\n",
      "plt.imshow( W_end[ :, instance.gridDIM_y/2 ,  :, instance.gridDIM_x/2 ].real , \n",
      "           extent=[-instance.y_amplitude , instance.y_amplitude-instance.dy,\n",
      "                   -instance.p_y_amplitude, instance.p_y_amplitude-instance.dp_y] ,\n",
      "           origin='lower', interpolation='none')\n",
      "\n",
      "plt.xlabel('$p_x$',**axis_font)\n",
      "#plt.ylabel('$p_y$',**axis_font)\n",
      "\n",
      "a.set_aspect(4)\n",
      "plt.colorbar(fraction=0.04)"
     ],
     "language": "python",
     "metadata": {},
     "outputs": [
      {
       "output_type": "stream",
       "stream": "stderr",
       "text": [
        "-c:4: RuntimeWarning: divide by zero encountered in log\n"
       ]
      },
      {
       "metadata": {},
       "output_type": "pyout",
       "prompt_number": 19,
       "text": [
        "<matplotlib.colorbar.Colorbar at 0x7f8d72ae6610>"
       ]
      },
      {
       "metadata": {},
       "output_type": "display_data",
       "png": "[encoded data removed]",
       "text": [
        "<matplotlib.figure.Figure at 0x7f8d72ce3850>"
       ]
      }
     ],
     "prompt_number": 19
    },
    {
     "cell_type": "code",
     "collapsed": false,
     "input": [
      "plt.plot( instance.average_x  , label=\"$x$\")\n",
      "plt.plot( instance.average_y  ,'r--', label=\"$y$\")\n",
      "plt.ylabel(\"$x$\")\n",
      "plt.xlabel(\"t\")\n",
      "plt.legend(fontsize=20) "
     ],
     "language": "python",
     "metadata": {},
     "outputs": [
      {
       "metadata": {},
       "output_type": "pyout",
       "prompt_number": 20,
       "text": [
        "<matplotlib.legend.Legend at 0x7f8d729df4d0>"
       ]
      },
      {
       "metadata": {},
       "output_type": "display_data",
       "png": "[encoded data removed]",
       "text": [
        "<matplotlib.figure.Figure at 0x7f8d73497e90>"
       ]
      }
     ],
     "prompt_number": 20
    },
    {
     "cell_type": "code",
     "collapsed": false,
     "input": [
      "plt.plot( instance.skipFrameTime, instance.average_p_x , label=\"$p_x$\")\n",
      "plt.plot( instance.skipFrameTime, instance.average_p_y ,'r--', label=\"$p_y$\")\n",
      "plt.ylabel(\"$p_x$\")\n",
      "plt.xlabel(\"t\")\n",
      "plt.ylim(-0.1,1)\n",
      "plt.legend(fontsize=20) "
     ],
     "language": "python",
     "metadata": {},
     "outputs": [
      {
       "metadata": {},
       "output_type": "pyout",
       "prompt_number": 21,
       "text": [
        "<matplotlib.legend.Legend at 0x7f8d72933d90>"
       ]
      },
      {
       "metadata": {},
       "output_type": "display_data",
       "png": "[encoded data removed]",
       "text": [
        "<matplotlib.figure.Figure at 0x7f8d72a16490>"
       ]
      }
     ],
     "prompt_number": 21
    },
    {
     "cell_type": "code",
     "collapsed": false,
     "input": [
      "instance.average_x.shape"
     ],
     "language": "python",
     "metadata": {},
     "outputs": [
      {
       "metadata": {},
       "output_type": "pyout",
       "prompt_number": 22,
       "text": [
        "(201,)"
       ]
      }
     ],
     "prompt_number": 22
    },
    {
     "cell_type": "code",
     "collapsed": false,
     "input": [
      "print 'initial velocity x = ', 2/np.sqrt( 1 + 2**2 + 2**2  )\n",
      "\n",
      "plt.figure(figsize=(8,8))\n",
      "\n",
      "plt.plot( instance.skipFrameTime, np.gradient( instance.average_x , instance.dt)  , label=\"$\\\\frac{dx}{dt}$\")\n",
      "plt.plot( instance.skipFrameTime, instance.average_Alpha_1 ,'r--', label=\"$\\\\alpha^1$\")\n",
      "plt.ylabel(\"$x$\")\n",
      "plt.xlabel(\"t\")\n",
      "\n",
      "plt.ylim( -0.1 , 1.0 )\n",
      "plt.legend(fontsize=30) \n",
      "plt.legend(loc='upper center', bbox_to_anchor=(0.5, 1.3) , fontsize=24)"
     ],
     "language": "python",
     "metadata": {},
     "outputs": [
      {
       "output_type": "stream",
       "stream": "stdout",
       "text": [
        "initial velocity x =  0.666666666667\n"
       ]
      },
      {
       "metadata": {},
       "output_type": "pyout",
       "prompt_number": 23,
       "text": [
        "<matplotlib.legend.Legend at 0x7f8d728078d0>"
       ]
      },
      {
       "metadata": {},
       "output_type": "display_data",
       "png": "[encoded data removed]",
       "text": [
        "<matplotlib.figure.Figure at 0x7f8d7295d2d0>"
       ]
      }
     ],
     "prompt_number": 23
    },
    {
     "cell_type": "code",
     "collapsed": false,
     "input": [
      "print 'initial velocity y = ', 2/np.sqrt( 1 + 2**2 + 2**2  )\n",
      "\n",
      "plt.figure(figsize=(8,8))\n",
      "\n",
      "plt.plot(  instance.skipFrameTime, np.gradient( instance.average_y , instance.dt )  , label=\"$\\\\frac{dy}{dt}$\")\n",
      "#plt.plot( instance.average_p_x/instance.mass, 'r--' , label=\"$\\\\frac{p_x}{m}$\")\n",
      "plt.plot( instance.skipFrameTime, instance.average_Alpha_2 ,'r--', label=\"$\\\\alpha^2$\")\n",
      "plt.ylabel(\"$y$\")\n",
      "plt.xlabel(\"t\")\n",
      "\n",
      "plt.ylim(-0.01,0.06)\n",
      "\n",
      "plt.legend(fontsize=30) \n",
      "plt.legend(loc='upper center', bbox_to_anchor=(0.5, 1.3) , fontsize=24)\n"
     ],
     "language": "python",
     "metadata": {},
     "outputs": [
      {
       "output_type": "stream",
       "stream": "stdout",
       "text": [
        "initial velocity y =  0.666666666667\n"
       ]
      },
      {
       "metadata": {},
       "output_type": "pyout",
       "prompt_number": 32,
       "text": [
        "<matplotlib.legend.Legend at 0x7f8d722d9c10>"
       ]
      },
      {
       "metadata": {},
       "output_type": "display_data",
       "png": "[encoded data removed]",
       "text": [
        "<matplotlib.figure.Figure at 0x7f8d72191090>"
       ]
      }
     ],
     "prompt_number": 32
    },
    {
     "cell_type": "code",
     "collapsed": false,
     "input": [
      "DA = -instance.average_D_1_A_0 - instance.average_D_1_A_1 - instance.average_D_1_A_2\n",
      " \n",
      "plt.figure(figsize=(8,8))\n",
      "\n",
      "plt.plot(  instance.skipFrameTime, np.gradient( instance.average_p_x , instance.dt)  , label=\"$\\\\frac{dp_1}{dt}$\")\n",
      "plt.plot(  instance.skipFrameTime, DA ,'r--' , label=\"$-\\partial_1 A^0 -\\partial_1 A_1\\\\alpha^1 -\\partial_1 A_2 \\\\alpha^2$\")\n",
      "plt.ylabel(\"$x$\")\n",
      "plt.xlabel(\"t\")\n",
      "\n",
      "plt.ylim( -0.01 , 0.01 )\n",
      "#plt.legend(fontsize=30) \n",
      "plt.legend(loc='upper center', bbox_to_anchor=(0.5, 1.3) , fontsize=24)"
     ],
     "language": "python",
     "metadata": {},
     "outputs": [
      {
       "metadata": {},
       "output_type": "pyout",
       "prompt_number": 25,
       "text": [
        "<matplotlib.legend.Legend at 0x7f8d726eac50>"
       ]
      },
      {
       "metadata": {},
       "output_type": "display_data",
       "png": "[encoded data removed]",
       "text": [
        "<matplotlib.figure.Figure at 0x7f8d7295db90>"
       ]
      }
     ],
     "prompt_number": 25
    },
    {
     "cell_type": "code",
     "collapsed": false,
     "input": [
      "plt.figure(figsize=(8,8))\n",
      "\n",
      "plt.plot(  instance.skipFrameTime, instance.energyKinetic , label=\"$Kinetic\\, Energy$\")\n",
      "plt.plot(  instance.skipFrameTime, instance.energyPotential+instance.energyKinetic , 'r--',label=\"$Total\\, Energy$\")\n",
      "\n",
      "plt.grid()\n",
      "plt.ylabel(\"$E$\")\n",
      "plt.xlabel(\"t\")\n",
      "plt.ylim(1.1,1.12)\n",
      "plt.legend(fontsize=30) \n",
      "plt.legend(loc='upper center', bbox_to_anchor=(0.5, 1.3) , fontsize=24)"
     ],
     "language": "python",
     "metadata": {},
     "outputs": [
      {
       "metadata": {},
       "output_type": "pyout",
       "prompt_number": 33,
       "text": [
        "<matplotlib.legend.Legend at 0x7f8d724e65d0>"
       ]
      },
      {
       "metadata": {},
       "output_type": "display_data",
       "png": "[encoded data removed]",
       "text": [
        "<matplotlib.figure.Figure at 0x7f8d72a1f110>"
       ]
      }
     ],
     "prompt_number": 33
    },
    {
     "cell_type": "code",
     "collapsed": false,
     "input": [
      "sigma_x   = np.sqrt( instance.average_x_square   - instance.average_x**2)\n",
      "sigma_p_x = np.sqrt( instance.average_p_x_square - instance.average_p_x**2)\n",
      "\n",
      "sigma_y   = np.sqrt(instance.average_y_square   - instance.average_y**2)\n",
      "sigma_p_y = np.sqrt(instance.average_p_y_square - instance.average_p_y**2)\n",
      "\n",
      "plt.figure(figsize=(8,8))\n",
      "\n",
      "plt.plot(instance.skipFrameTime, sigma_x*sigma_p_x ,   label=\"$\\\\Delta x \\\\Delta p_x$\")\n",
      "plt.plot(instance.skipFrameTime, sigma_y*sigma_p_y ,'r--', label=\"$\\\\Delta y \\\\Delta p_y$\")\n",
      "\n",
      "plt.ylabel(\"$\\\\Delta$\")\n",
      "plt.xlabel(\"t\")\n",
      "plt.ylim(0.490,0.55)\n",
      "plt.legend(fontsize=30) \n",
      "plt.grid()"
     ],
     "language": "python",
     "metadata": {},
     "outputs": [
      {
       "metadata": {},
       "output_type": "display_data",
       "png": "[encoded data removed]",
       "text": [
        "<matplotlib.figure.Figure at 0x7f8d7263d150>"
       ]
      }
     ],
     "prompt_number": 27
    },
    {
     "cell_type": "code",
     "collapsed": false,
     "input": [
      "plt.figure(figsize=(8,8))\n",
      "\n",
      "plt.plot(instance.skipFrameTime,  instance.average_x_square - instance.average_x**2, label=\"$\\\\langle x^2 \\\\rangle - \\\\langle x \\\\rangle^2 $\")\n",
      "plt.plot(instance.skipFrameTime,  instance.average_y_square - instance.average_y**2, 'r--' , label=\"$\\\\langle y^2 \\\\rangle - \\\\langle y \\\\rangle^2 $\")\n",
      "plt.ylabel(\"$\\\\Delta$\")\n",
      "plt.xlabel(\"t\")\n",
      "plt.ylim(2.4,2.5)\n",
      "plt.legend(fontsize=30) \n",
      "plt.grid()"
     ],
     "language": "python",
     "metadata": {},
     "outputs": [
      {
       "metadata": {},
       "output_type": "display_data",
       "png": "[encoded data removed]",
       "text": [
        "<matplotlib.figure.Figure at 0x7f8d739bfe50>"
       ]
      }
     ],
     "prompt_number": 28
    },
    {
     "cell_type": "code",
     "collapsed": false,
     "input": [
      "plt.figure(figsize=(8,8))\n",
      "\n",
      "plt.plot(instance.skipFrameTime,  instance.average_p_x_square - instance.average_p_x**2 ,\n",
      "         label=\"$\\\\langle p_x^2 \\\\rangle - \\\\langle p_x \\\\rangle^2 $\")\n",
      "plt.plot(instance.skipFrameTime,  instance.average_p_y_square - instance.average_p_y**2 ,'r--',\n",
      "         label=\"$\\\\langle p_y^2 \\\\rangle - \\\\langle p_y\\\\rangle^2 $\")\n",
      "plt.ylabel(\"$E$\")\n",
      "plt.xlabel(\"t\")\n",
      "plt.ylim(0.,0.25)\n",
      "plt.legend(fontsize=30) "
     ],
     "language": "python",
     "metadata": {},
     "outputs": [
      {
       "metadata": {},
       "output_type": "pyout",
       "prompt_number": 29,
       "text": [
        "<matplotlib.legend.Legend at 0x7f8d7235ed90>"
       ]
      },
      {
       "metadata": {},
       "output_type": "display_data",
       "png": "[encoded data removed]",
       "text": [
        "<matplotlib.figure.Figure at 0x7f8d7259c8d0>"
       ]
      }
     ],
     "prompt_number": 29
    },
    {
     "cell_type": "code",
     "collapsed": false,
     "input": [
      "plt.figure(figsize=(8,8))\n",
      "\n",
      "plt.plot(instance.skipFrameTime, np.gradient( instance.average_x_square , instance.dt),\n",
      "         label=\"$ \\\\frac{d}{dt} \\\\langle x^1 x^1 \\\\rangle  $\")\n",
      "\n",
      "plt.plot(instance.skipFrameTime, 2*instance.average_Alpha_1_x  ,'r--',\n",
      "         label=\"$2 c \\\\langle x^1 \\\\alpha^1  \\\\rangle  $\")\n",
      "\n",
      "plt.ylabel(\"$\\\\Delta$\")\n",
      "plt.xlabel(\"t\")\n",
      "plt.ylim(-0.05, 1)\n",
      "plt.legend(loc='upper center', bbox_to_anchor=(0.5, 1.3) , fontsize=24)\n",
      "plt.grid()"
     ],
     "language": "python",
     "metadata": {},
     "outputs": [
      {
       "metadata": {},
       "output_type": "display_data",
       "png": "[encoded data removed]",
       "text": [
        "<matplotlib.figure.Figure at 0x7f8d722b1ed0>"
       ]
      }
     ],
     "prompt_number": 34
    },
    {
     "cell_type": "code",
     "collapsed": false,
     "input": [],
     "language": "python",
     "metadata": {},
     "outputs": []
    }
   ],
   "metadata": {}
  }
 ]
}