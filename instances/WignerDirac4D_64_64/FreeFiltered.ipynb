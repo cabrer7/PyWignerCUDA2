{
 "metadata": {
  "name": "",
  "signature": "sha256:3f18fd07050928adc0b18ca20f0a4fd5a18daa9c3f562fd9ae188ee254924da7"
 },
 "nbformat": 3,
 "nbformat_minor": 0,
 "worksheets": [
  {
   "cells": [
    {
     "cell_type": "heading",
     "level": 1,
     "metadata": {},
     "source": [
      "$x^2$ potential"
     ]
    },
    {
     "cell_type": "code",
     "collapsed": false,
     "input": [
      "import pickle\n",
      "import numpy as np\n",
      "import pycuda.gpuarray as gpuarray\n",
      "import pycuda.cumath as cumath\n",
      "from scipy.special import hyp1f1\n",
      "import scipy.fftpack as fftpack\n",
      "import pylab as plt\n",
      "import time\n",
      "\n",
      "#-------------------------------------------------------------------------------------\n",
      "from pywignercuda_path import SetPyWignerCUDA_Path\n",
      "SetPyWignerCUDA_Path()\n",
      "\n",
      "from GPU_WignerDirac4D import *"
     ],
     "language": "python",
     "metadata": {},
     "outputs": [
      {
       "output_type": "stream",
       "stream": "stdout",
       "text": [
        " PyWignerCUDA PATH =  /home/rcabrera/Documents/source/Python/PyWignerCUDA2\n"
       ]
      }
     ],
     "prompt_number": 1
    },
    {
     "cell_type": "code",
     "collapsed": false,
     "input": [
      "%matplotlib inline"
     ],
     "language": "python",
     "metadata": {},
     "outputs": [],
     "prompt_number": 2
    },
    {
     "cell_type": "heading",
     "level": 2,
     "metadata": {},
     "source": [
      "Settings"
     ]
    },
    {
     "cell_type": "code",
     "collapsed": false,
     "input": [
      "class frame( GPU_WignerDirac4D ):\n",
      "    def __init__ (self):\n",
      "        \n",
      "        \n",
      "        self.gridDIM_p_y = 64      #axis 0\n",
      "        self.gridDIM_y   = 64      #axis 1    \n",
      "        self.gridDIM_p_x = 64     #axis 2\n",
      "        self.gridDIM_x   = 64     #axis 3\n",
      "    \n",
      "        self.skipFrames = 1\n",
      "        self.dt         = 0.002\n",
      "        self.timeSteps  =   500\n",
      "    \n",
      "        # Phase space window \n",
      "        self.p_y_amplitude = 4.          #axis 0\n",
      "        self.y_amplitude   = 16.          #axis 1\n",
      "        self.p_x_amplitude = 4.         #axis 2\n",
      "        self.x_amplitude   = 16.        #axis 3\n",
      "        \n",
      "        # Ambiguity space window \n",
      "        self.theta_y_amplitude  = 10.     #axis 0             \n",
      "        self.lambda_y_amplitude = 6.     #axis 1\n",
      "        self.theta_x_amplitude  = 10.    #axis 2\n",
      "        self.lambda_x_amplitude = 6.    #axis 3\n",
      "           \n",
      "        # Dynamics    \n",
      "        self.c       = 1.    \n",
      "        self.HBar    = 1.\n",
      "        \n",
      "        self.mass    = 1.\n",
      "        self.omega_x = 1.\n",
      "        self.omega_y = 1.\n",
      "        \n",
      "        self.kineticString  = '0.5*(p_x*p_x  + p_y*p_y)/{mass}'.format(mass=self.mass)\n",
      "        \n",
      "        self.potential_0_String  = 'x*0'    \n",
      "        self.potential_1_String  = 'x*0'\n",
      "        self.potential_2_String  = 'x*0' \n",
      "            \n",
      "        # Dephasing     \n",
      "        self.D_theta_x  = 0.0001 \n",
      "        self.D_theta_y  = 0.0001 \n",
      "        self.D_lambda_x = 0.0001 \n",
      "        self.D_lambda_y = 0.0001 \n",
      "            \n",
      "        GPU_WignerDirac4D.__init__(self)\n",
      "        \n",
      "    def Set_Initial_Condition(self):\n",
      "        \"\"\"\n",
      "        Sets   self.PsiInitial_XP with the Wigner function of the Harmonic oscillator  \n",
      "        \"\"\"\n",
      "        \n",
      "        self.FilterParticle = False #1  #------------------------Filter-----------------------    \n",
      "        \n",
      "        self.fileName = '/home/rcabrera/DATA/Wigner4D/' + 'HO.hdf5'\n",
      "        \n",
      "        x_mu    = 0.\n",
      "        y_mu    = 0.\n",
      "        x_sigma = 2.\n",
      "        y_sigma = 2.\n",
      "        \n",
      "        u_x = 1.\n",
      "        u_y = 0.\n",
      "\n",
      "        self.WignerDiracGaussian_ParticleUp_GPU(\n",
      "            self.W11_init_gpu,  self.W12_init_gpu,  self.W13_init_gpu,  self.W14_init_gpu,\n",
      "                                self.W22_init_gpu,  self.W23_init_gpu,  self.W24_init_gpu,\n",
      "                                                    self.W33_init_gpu,  self.W34_init_gpu, \n",
      "                                                                        self.W44_init_gpu, u_x, u_y, x_mu, y_mu, x_sigma, y_sigma)\n",
      "        \n",
      "        self.Fourier_Theta_To_P_64_64_4x4_GPU(\n",
      "            self.W11_init_gpu,  self.W12_init_gpu,  self.W13_init_gpu,  self.W14_init_gpu,\n",
      "                                self.W22_init_gpu,  self.W23_init_gpu,  self.W24_init_gpu,\n",
      "                                                    self.W33_init_gpu,  self.W34_init_gpu, \n",
      "                                                                        self.W44_init_gpu)\n",
      "        \n",
      "        \n",
      "        self.Normalize_4x4_GPU(\n",
      "            self.W11_init_gpu,  self.W12_init_gpu,  self.W13_init_gpu,  self.W14_init_gpu,\n",
      "                                self.W22_init_gpu,  self.W23_init_gpu,  self.W24_init_gpu,\n",
      "                                                    self.W33_init_gpu,  self.W34_init_gpu, \n",
      "                                                                        self.W44_init_gpu)\n",
      "        \n",
      "    def Set_Initial_Condition_FilterParticle(self):\n",
      "        \"\"\"\n",
      "        Sets   self.PsiInitial_XP with the Wigner function of the Harmonic oscillator  \n",
      "        \"\"\"\n",
      "        \n",
      "        self.FilterParticle = False  #------------------------Filter-----------------------    \n",
      "        \n",
      "        self.fileName = '/home/rcabrera/DATA/Wigner4D/' + 'HO.hdf5'\n",
      "        \n",
      "        x_mu    = 0.\n",
      "        y_mu    = 0.\n",
      "        x_sigma = 2.\n",
      "        y_sigma = 2.\n",
      "        \n",
      "        u_x = 1.\n",
      "        u_y = 0.\n",
      "\n",
      "        self.WignerDiracGaussian_ParticleUp_GPU(\n",
      "            self.W11_init_gpu,  self.W12_init_gpu,  self.W13_init_gpu,  self.W14_init_gpu,\n",
      "                                self.W22_init_gpu,  self.W23_init_gpu,  self.W24_init_gpu,\n",
      "                                                    self.W33_init_gpu,  self.W34_init_gpu, \n",
      "                                                                        self.W44_init_gpu, u_x, u_y, x_mu, y_mu, x_sigma, y_sigma)\n",
      "        \n",
      "        self.Fourier_Theta_To_P_64_64_4x4_GPU(\n",
      "            self.W11_init_gpu,  self.W12_init_gpu,  self.W13_init_gpu,  self.W14_init_gpu,\n",
      "                                self.W22_init_gpu,  self.W23_init_gpu,  self.W24_init_gpu,\n",
      "                                                    self.W33_init_gpu,  self.W34_init_gpu, \n",
      "                                                                        self.W44_init_gpu)\n",
      "        \n",
      "        sign = np.int32(1)    \n",
      "        #------------------------  p x  ->  p lambda --------------------------------------------\n",
      "        self.Fourier_X_To_Lambda_64_64_4x4_GPU(\n",
      "            self.W11_init_gpu,  self.W12_init_gpu,  self.W13_init_gpu,  self.W14_init_gpu,\n",
      "                                self.W22_init_gpu,  self.W23_init_gpu,  self.W24_init_gpu,\n",
      "                                                    self.W33_init_gpu,  self.W34_init_gpu, \n",
      "                                                                        self.W44_init_gpu)\n",
      "        # --------------------------------Filter-------------------------------------------------\n",
      "        self.ParticleProjector_GPU(\n",
      "            self.W11_init_gpu,  self.W12_init_gpu,  self.W13_init_gpu,  self.W14_init_gpu,\n",
      "                                self.W22_init_gpu,  self.W23_init_gpu,  self.W24_init_gpu,\n",
      "                                                    self.W33_init_gpu,  self.W34_init_gpu, \n",
      "                                                                        self.W44_init_gpu, sign)\n",
      "        #-------------------------p lambda -> p x  ----------------------------------------------\n",
      "        self.Fourier_Lambda_To_X_64_64_4x4_GPU(\n",
      "            self.W11_init_gpu,  self.W12_init_gpu,  self.W13_init_gpu,  self.W14_init_gpu,\n",
      "                                self.W22_init_gpu,  self.W23_init_gpu,  self.W24_init_gpu,\n",
      "                                                    self.W33_init_gpu,  self.W34_init_gpu, \n",
      "                                                                        self.W44_init_gpu)\n",
      "        #----------------------------------------------------------------------------------------\n",
      "        \n",
      "        self.Normalize_4x4_GPU(\n",
      "            self.W11_init_gpu,  self.W12_init_gpu,  self.W13_init_gpu,  self.W14_init_gpu,\n",
      "                                self.W22_init_gpu,  self.W23_init_gpu,  self.W24_init_gpu,\n",
      "                                                    self.W33_init_gpu,  self.W34_init_gpu, \n",
      "                                                                        self.W44_init_gpu)\n",
      "        \n",
      "        "
     ],
     "language": "python",
     "metadata": {},
     "outputs": [],
     "prompt_number": 3
    },
    {
     "cell_type": "heading",
     "level": 2,
     "metadata": {},
     "source": [
      "Initialize"
     ]
    },
    {
     "cell_type": "code",
     "collapsed": false,
     "input": [
      "instance = frame()"
     ],
     "language": "python",
     "metadata": {},
     "outputs": [
      {
       "output_type": "stream",
       "stream": "stdout",
       "text": [
        "\n",
        "__device__ double c      = 1.000000;   __device__ double HBar   = 1.000000;   __device__ double dt   = 0.002000;   __device__ double mass = 1.000000; \n",
        "__device__ double dp_y   = 0.125000; __device__ double dy     = 0.500000; __device__ double dp_x   = 0.125000; __device__ double dx     = 0.500000; \n",
        "__device__ double dtheta_y   = 0.312500; __device__ double dlambda_y  = 0.187500; __device__ double dtheta_x   = 0.312500; __device__ double dlambda_x  = 0.187500; \n",
        "__device__ int gridDIM_x = 64; __device__ int gridDIM_y = 64; __device__ double D_lambda_x = 0.000100; __device__ double D_lambda_y = 0.000100; __device__ double D_theta_x  = 0.000100; __device__ double D_theta_y  = 0.000100; \n",
        "\n",
        "\n",
        "         GPU memory Total                5.17700195312 GB\n",
        "         GPU memory Free  (Before)       5.13043212891 GB\n",
        "         GPU memory Free  (After)       "
       ]
      },
      {
       "output_type": "stream",
       "stream": "stdout",
       "text": [
        " 2.62945556641 GB\n"
       ]
      }
     ],
     "prompt_number": 4
    },
    {
     "cell_type": "code",
     "collapsed": false,
     "input": [
      "#instance.Set_Initial_Condition()\n",
      "instance.Set_Initial_Condition_FilterParticle()"
     ],
     "language": "python",
     "metadata": {},
     "outputs": [],
     "prompt_number": 5
    },
    {
     "cell_type": "markdown",
     "metadata": {},
     "source": [
      "********************************************"
     ]
    },
    {
     "cell_type": "code",
     "collapsed": false,
     "input": [
      "W = instance.W11_init_gpu.get() + instance.W22_init_gpu.get() + instance.W33_init_gpu.get() + instance.W44_init_gpu.get()"
     ],
     "language": "python",
     "metadata": {},
     "outputs": [],
     "prompt_number": 6
    },
    {
     "cell_type": "code",
     "collapsed": false,
     "input": [
      "# Phase space x\n",
      "plt.imshow( W[::,::,instance.gridDIM_x/2, instance.gridDIM_x/2 ].real, \n",
      "           extent=[-instance.y_amplitude , instance.y_amplitude-instance.dy,\n",
      "                   -instance.p_y_amplitude, instance.p_y_amplitude-instance.dp_y] ,\n",
      "           origin='lower', interpolation='none')\n",
      "\n",
      "axis_font = {'size':'24'}\n",
      "plt.title( '$W$' , **axis_font)\n",
      "plt.xlabel('$y$',**axis_font)\n",
      "plt.ylabel('$p_y$',**axis_font)\n",
      "\n",
      "plt.colorbar()\n",
      "plt.axes().set_aspect(4)"
     ],
     "language": "python",
     "metadata": {},
     "outputs": [
      {
       "metadata": {},
       "output_type": "display_data",
       "png": "[encoded data removed]",
       "text": [
        "<matplotlib.figure.Figure at 0x7ff8f460d110>"
       ]
      }
     ],
     "prompt_number": 7
    },
    {
     "cell_type": "code",
     "collapsed": false,
     "input": [
      "# Phase space y\n",
      "plt.imshow( W[instance.gridDIM_y/2, instance.gridDIM_y/2, :, : ].real, \n",
      "           extent=[-instance.x_amplitude , instance.x_amplitude-instance.dx,\n",
      "                   -instance.p_x_amplitude, instance.p_x_amplitude-instance.dp_x] ,\n",
      "           origin='lower', interpolation='none')\n",
      "\n",
      "axis_font = {'size':'24'}\n",
      "plt.title( '$W$' , **axis_font)\n",
      "plt.xlabel('$x$',**axis_font)\n",
      "plt.ylabel('$p_x$',**axis_font)\n",
      "\n",
      "plt.colorbar()\n",
      "plt.axes().set_aspect(4)"
     ],
     "language": "python",
     "metadata": {},
     "outputs": [
      {
       "metadata": {},
       "output_type": "display_data",
       "png": "[encoded data removed]",
       "text": [
        "<matplotlib.figure.Figure at 0x7ff8f4430e90>"
       ]
      }
     ],
     "prompt_number": 8
    },
    {
     "cell_type": "code",
     "collapsed": false,
     "input": [
      "# Configuration space  \n",
      "plt.imshow( W[ instance.gridDIM_y/2 , : , instance.gridDIM_x/2 , : ].real, \n",
      "           extent=[-instance.x_amplitude , instance.x_amplitude-instance.dx,\n",
      "                   -instance.y_amplitude , instance.y_amplitude-instance.dy] ,\n",
      "           origin='lower', interpolation='none')\n",
      "\n",
      "axis_font = {'size':'24'}\n",
      "plt.title( '$W$' , **axis_font)\n",
      "plt.xlabel('$x$',**axis_font)\n",
      "plt.ylabel('$y$',**axis_font)\n",
      "plt.axes().set_aspect(1)\n",
      "plt.colorbar()"
     ],
     "language": "python",
     "metadata": {},
     "outputs": [
      {
       "metadata": {},
       "output_type": "pyout",
       "prompt_number": 9,
       "text": [
        "<matplotlib.colorbar.Colorbar at 0x7ff8f419b8d0>"
       ]
      },
      {
       "metadata": {},
       "output_type": "display_data",
       "png": "[encoded data removed]",
       "text": [
        "<matplotlib.figure.Figure at 0x7ff8f42cf750>"
       ]
      }
     ],
     "prompt_number": 9
    },
    {
     "cell_type": "code",
     "collapsed": false,
     "input": [
      "# Momentum space  \n",
      "plt.imshow( W[ :, instance.gridDIM_y/2 ,  :, instance.gridDIM_x/2 ].real, \n",
      "           extent=[-instance.p_x_amplitude , instance.p_x_amplitude-instance.dp_x,\n",
      "                   -instance.p_y_amplitude , instance.p_y_amplitude-instance.dp_y] ,\n",
      "           origin='lower', interpolation='none')\n",
      "\n",
      "axis_font = {'size':'24'}\n",
      "plt.title( '$W$' , **axis_font)\n",
      "plt.xlabel('$p_x$',**axis_font)\n",
      "plt.ylabel('$p_y$',**axis_font)\n",
      "plt.axes().set_aspect(1)\n",
      "plt.colorbar()"
     ],
     "language": "python",
     "metadata": {},
     "outputs": [
      {
       "metadata": {},
       "output_type": "pyout",
       "prompt_number": 10,
       "text": [
        "<matplotlib.colorbar.Colorbar at 0x7ff8f44e0d10>"
       ]
      },
      {
       "metadata": {},
       "output_type": "display_data",
       "png": "[encoded data removed]",
       "text": [
        "<matplotlib.figure.Figure at 0x7ff8f415a150>"
       ]
      }
     ],
     "prompt_number": 10
    },
    {
     "cell_type": "markdown",
     "metadata": {},
     "source": [
      "RUN"
     ]
    },
    {
     "cell_type": "code",
     "collapsed": false,
     "input": [
      "t_init = time.time()\n",
      "\n",
      "instance.Run()\n",
      "\n",
      "print ' running time = ', (time.time() - t_init)/60. , 'min'"
     ],
     "language": "python",
     "metadata": {},
     "outputs": [
      {
       "output_type": "stream",
       "stream": "stdout",
       "text": [
        "         GPU memory Total        5.17700195312 GB\n",
        "         GPU memory Free         2.62811279297 GB\n",
        " t index =  0\n",
        " t index = "
       ]
      },
      {
       "output_type": "stream",
       "stream": "stdout",
       "text": [
        " 1\n",
        " t index = "
       ]
      },
      {
       "output_type": "stream",
       "stream": "stdout",
       "text": [
        " 2\n",
        " t index = "
       ]
      },
      {
       "output_type": "stream",
       "stream": "stdout",
       "text": [
        " 3\n",
        " t index = "
       ]
      },
      {
       "output_type": "stream",
       "stream": "stdout",
       "text": [
        " 4\n",
        " t index = "
       ]
      },
      {
       "output_type": "stream",
       "stream": "stdout",
       "text": [
        " 5\n",
        " t index = "
       ]
      },
      {
       "output_type": "stream",
       "stream": "stdout",
       "text": [
        " 6\n",
        " t index = "
       ]
      },
      {
       "output_type": "stream",
       "stream": "stdout",
       "text": [
        " 7\n",
        " t index = "
       ]
      },
      {
       "output_type": "stream",
       "stream": "stdout",
       "text": [
        " 8\n",
        " t index = "
       ]
      },
      {
       "output_type": "stream",
       "stream": "stdout",
       "text": [
        " 9\n",
        " t index = "
       ]
      },
      {
       "output_type": "stream",
       "stream": "stdout",
       "text": [
        " 10\n",
        " t index = "
       ]
      },
      {
       "output_type": "stream",
       "stream": "stdout",
       "text": [
        " 11\n",
        " t index = "
       ]
      },
      {
       "output_type": "stream",
       "stream": "stdout",
       "text": [
        " 12\n",
        " t index = "
       ]
      },
      {
       "output_type": "stream",
       "stream": "stdout",
       "text": [
        " 13\n",
        " t index = "
       ]
      },
      {
       "output_type": "stream",
       "stream": "stdout",
       "text": [
        " 14\n",
        " t index = "
       ]
      },
      {
       "output_type": "stream",
       "stream": "stdout",
       "text": [
        " 15\n",
        " t index = "
       ]
      },
      {
       "output_type": "stream",
       "stream": "stdout",
       "text": [
        " 16\n",
        " t index = "
       ]
      },
      {
       "output_type": "stream",
       "stream": "stdout",
       "text": [
        " 17\n",
        " t index = "
       ]
      },
      {
       "output_type": "stream",
       "stream": "stdout",
       "text": [
        " 18\n",
        " t index = "
       ]
      },
      {
       "output_type": "stream",
       "stream": "stdout",
       "text": [
        " 19\n",
        " t index = "
       ]
      },
      {
       "output_type": "stream",
       "stream": "stdout",
       "text": [
        " 20\n",
        " t index = "
       ]
      },
      {
       "output_type": "stream",
       "stream": "stdout",
       "text": [
        " 21\n",
        " t index = "
       ]
      },
      {
       "output_type": "stream",
       "stream": "stdout",
       "text": [
        " 22\n",
        " t index = "
       ]
      },
      {
       "output_type": "stream",
       "stream": "stdout",
       "text": [
        " 23\n",
        " t index = "
       ]
      },
      {
       "output_type": "stream",
       "stream": "stdout",
       "text": [
        " 24\n",
        " t index = "
       ]
      },
      {
       "output_type": "stream",
       "stream": "stdout",
       "text": [
        " 25\n",
        " t index = "
       ]
      },
      {
       "output_type": "stream",
       "stream": "stdout",
       "text": [
        " 26\n",
        " t index = "
       ]
      },
      {
       "output_type": "stream",
       "stream": "stdout",
       "text": [
        " 27\n",
        " t index = "
       ]
      },
      {
       "output_type": "stream",
       "stream": "stdout",
       "text": [
        " 28\n",
        " t index = "
       ]
      },
      {
       "output_type": "stream",
       "stream": "stdout",
       "text": [
        " 29\n",
        " t index = "
       ]
      },
      {
       "output_type": "stream",
       "stream": "stdout",
       "text": [
        " 30\n",
        " t index = "
       ]
      },
      {
       "output_type": "stream",
       "stream": "stdout",
       "text": [
        " 31\n",
        " t index = "
       ]
      },
      {
       "output_type": "stream",
       "stream": "stdout",
       "text": [
        " 32\n",
        " t index = "
       ]
      },
      {
       "output_type": "stream",
       "stream": "stdout",
       "text": [
        " 33\n",
        " t index = "
       ]
      },
      {
       "output_type": "stream",
       "stream": "stdout",
       "text": [
        " 34\n",
        " t index = "
       ]
      },
      {
       "output_type": "stream",
       "stream": "stdout",
       "text": [
        " 35\n",
        " t index = "
       ]
      },
      {
       "output_type": "stream",
       "stream": "stdout",
       "text": [
        " 36\n",
        " t index = "
       ]
      },
      {
       "output_type": "stream",
       "stream": "stdout",
       "text": [
        " 37\n",
        " t index = "
       ]
      },
      {
       "output_type": "stream",
       "stream": "stdout",
       "text": [
        " 38\n",
        " t index = "
       ]
      },
      {
       "output_type": "stream",
       "stream": "stdout",
       "text": [
        " 39\n",
        " t index = "
       ]
      },
      {
       "output_type": "stream",
       "stream": "stdout",
       "text": [
        " 40\n",
        " t index = "
       ]
      },
      {
       "output_type": "stream",
       "stream": "stdout",
       "text": [
        " 41\n",
        " t index = "
       ]
      },
      {
       "output_type": "stream",
       "stream": "stdout",
       "text": [
        " 42\n",
        " t index = "
       ]
      },
      {
       "output_type": "stream",
       "stream": "stdout",
       "text": [
        " 43\n",
        " t index = "
       ]
      },
      {
       "output_type": "stream",
       "stream": "stdout",
       "text": [
        " 44\n",
        " t index = "
       ]
      },
      {
       "output_type": "stream",
       "stream": "stdout",
       "text": [
        " 45\n",
        " t index = "
       ]
      },
      {
       "output_type": "stream",
       "stream": "stdout",
       "text": [
        " 46\n",
        " t index = "
       ]
      },
      {
       "output_type": "stream",
       "stream": "stdout",
       "text": [
        " 47\n",
        " t index = "
       ]
      },
      {
       "output_type": "stream",
       "stream": "stdout",
       "text": [
        " 48\n",
        " t index = "
       ]
      },
      {
       "output_type": "stream",
       "stream": "stdout",
       "text": [
        " 49\n",
        " t index = "
       ]
      },
      {
       "output_type": "stream",
       "stream": "stdout",
       "text": [
        " 50\n",
        " t index = "
       ]
      },
      {
       "output_type": "stream",
       "stream": "stdout",
       "text": [
        " 51\n",
        " t index = "
       ]
      },
      {
       "output_type": "stream",
       "stream": "stdout",
       "text": [
        " 52\n",
        " t index = "
       ]
      },
      {
       "output_type": "stream",
       "stream": "stdout",
       "text": [
        " 53\n",
        " t index = "
       ]
      },
      {
       "output_type": "stream",
       "stream": "stdout",
       "text": [
        " 54\n",
        " t index = "
       ]
      },
      {
       "output_type": "stream",
       "stream": "stdout",
       "text": [
        " 55\n",
        " t index = "
       ]
      },
      {
       "output_type": "stream",
       "stream": "stdout",
       "text": [
        " 56\n",
        " t index = "
       ]
      },
      {
       "output_type": "stream",
       "stream": "stdout",
       "text": [
        " 57\n",
        " t index = "
       ]
      },
      {
       "output_type": "stream",
       "stream": "stdout",
       "text": [
        " 58\n",
        " t index = "
       ]
      },
      {
       "output_type": "stream",
       "stream": "stdout",
       "text": [
        " 59\n",
        " t index = "
       ]
      },
      {
       "output_type": "stream",
       "stream": "stdout",
       "text": [
        " 60\n",
        " t index = "
       ]
      },
      {
       "output_type": "stream",
       "stream": "stdout",
       "text": [
        " 61\n",
        " t index = "
       ]
      },
      {
       "output_type": "stream",
       "stream": "stdout",
       "text": [
        " 62\n",
        " t index = "
       ]
      },
      {
       "output_type": "stream",
       "stream": "stdout",
       "text": [
        " 63\n",
        " t index = "
       ]
      },
      {
       "output_type": "stream",
       "stream": "stdout",
       "text": [
        " 64\n",
        " t index = "
       ]
      },
      {
       "output_type": "stream",
       "stream": "stdout",
       "text": [
        " 65\n",
        " t index = "
       ]
      },
      {
       "output_type": "stream",
       "stream": "stdout",
       "text": [
        " 66\n",
        " t index = "
       ]
      },
      {
       "output_type": "stream",
       "stream": "stdout",
       "text": [
        " 67\n",
        " t index = "
       ]
      },
      {
       "output_type": "stream",
       "stream": "stdout",
       "text": [
        " 68\n",
        " t index = "
       ]
      },
      {
       "output_type": "stream",
       "stream": "stdout",
       "text": [
        " 69\n",
        " t index = "
       ]
      },
      {
       "output_type": "stream",
       "stream": "stdout",
       "text": [
        " 70\n",
        " t index = "
       ]
      },
      {
       "output_type": "stream",
       "stream": "stdout",
       "text": [
        " 71\n",
        " t index = "
       ]
      },
      {
       "output_type": "stream",
       "stream": "stdout",
       "text": [
        " 72\n",
        " t index = "
       ]
      },
      {
       "output_type": "stream",
       "stream": "stdout",
       "text": [
        " 73\n",
        " t index = "
       ]
      },
      {
       "output_type": "stream",
       "stream": "stdout",
       "text": [
        " 74\n",
        " t index = "
       ]
      },
      {
       "output_type": "stream",
       "stream": "stdout",
       "text": [
        " 75\n",
        " t index = "
       ]
      },
      {
       "output_type": "stream",
       "stream": "stdout",
       "text": [
        " 76\n",
        " t index = "
       ]
      },
      {
       "output_type": "stream",
       "stream": "stdout",
       "text": [
        " 77\n",
        " t index = "
       ]
      },
      {
       "output_type": "stream",
       "stream": "stdout",
       "text": [
        " 78\n",
        " t index = "
       ]
      },
      {
       "output_type": "stream",
       "stream": "stdout",
       "text": [
        " 79\n",
        " t index = "
       ]
      },
      {
       "output_type": "stream",
       "stream": "stdout",
       "text": [
        " 80\n",
        " t index = "
       ]
      },
      {
       "output_type": "stream",
       "stream": "stdout",
       "text": [
        " 81\n",
        " t index = "
       ]
      },
      {
       "output_type": "stream",
       "stream": "stdout",
       "text": [
        " 82\n",
        " t index = "
       ]
      },
      {
       "output_type": "stream",
       "stream": "stdout",
       "text": [
        " 83\n",
        " t index = "
       ]
      },
      {
       "output_type": "stream",
       "stream": "stdout",
       "text": [
        " 84\n",
        " t index = "
       ]
      },
      {
       "output_type": "stream",
       "stream": "stdout",
       "text": [
        " 85\n",
        " t index = "
       ]
      },
      {
       "output_type": "stream",
       "stream": "stdout",
       "text": [
        " 86\n",
        " t index = "
       ]
      },
      {
       "output_type": "stream",
       "stream": "stdout",
       "text": [
        " 87\n",
        " t index = "
       ]
      },
      {
       "output_type": "stream",
       "stream": "stdout",
       "text": [
        " 88\n",
        " t index = "
       ]
      },
      {
       "output_type": "stream",
       "stream": "stdout",
       "text": [
        " 89\n",
        " t index = "
       ]
      },
      {
       "output_type": "stream",
       "stream": "stdout",
       "text": [
        " 90\n",
        " t index = "
       ]
      },
      {
       "output_type": "stream",
       "stream": "stdout",
       "text": [
        " 91\n",
        " t index = "
       ]
      },
      {
       "output_type": "stream",
       "stream": "stdout",
       "text": [
        " 92\n",
        " t index = "
       ]
      },
      {
       "output_type": "stream",
       "stream": "stdout",
       "text": [
        " 93\n",
        " t index = "
       ]
      },
      {
       "output_type": "stream",
       "stream": "stdout",
       "text": [
        " 94\n",
        " t index = "
       ]
      },
      {
       "output_type": "stream",
       "stream": "stdout",
       "text": [
        " 95\n",
        " t index = "
       ]
      },
      {
       "output_type": "stream",
       "stream": "stdout",
       "text": [
        " 96\n",
        " t index = "
       ]
      },
      {
       "output_type": "stream",
       "stream": "stdout",
       "text": [
        " 97\n",
        " t index = "
       ]
      },
      {
       "output_type": "stream",
       "stream": "stdout",
       "text": [
        " 98\n",
        " t index = "
       ]
      },
      {
       "output_type": "stream",
       "stream": "stdout",
       "text": [
        " 99\n",
        " t index = "
       ]
      },
      {
       "output_type": "stream",
       "stream": "stdout",
       "text": [
        " 100\n",
        " t index = "
       ]
      },
      {
       "output_type": "stream",
       "stream": "stdout",
       "text": [
        " 101\n",
        " t index = "
       ]
      },
      {
       "output_type": "stream",
       "stream": "stdout",
       "text": [
        " 102\n",
        " t index = "
       ]
      },
      {
       "output_type": "stream",
       "stream": "stdout",
       "text": [
        " 103\n",
        " t index = "
       ]
      },
      {
       "output_type": "stream",
       "stream": "stdout",
       "text": [
        " 104\n",
        " t index = "
       ]
      },
      {
       "output_type": "stream",
       "stream": "stdout",
       "text": [
        " 105\n",
        " t index = "
       ]
      },
      {
       "output_type": "stream",
       "stream": "stdout",
       "text": [
        " 106\n",
        " t index = "
       ]
      },
      {
       "output_type": "stream",
       "stream": "stdout",
       "text": [
        " 107\n",
        " t index = "
       ]
      },
      {
       "output_type": "stream",
       "stream": "stdout",
       "text": [
        " 108\n",
        " t index = "
       ]
      },
      {
       "output_type": "stream",
       "stream": "stdout",
       "text": [
        " 109\n",
        " t index = "
       ]
      },
      {
       "output_type": "stream",
       "stream": "stdout",
       "text": [
        " 110\n",
        " t index = "
       ]
      },
      {
       "output_type": "stream",
       "stream": "stdout",
       "text": [
        " 111\n",
        " t index = "
       ]
      },
      {
       "output_type": "stream",
       "stream": "stdout",
       "text": [
        " 112\n",
        " t index = "
       ]
      },
      {
       "output_type": "stream",
       "stream": "stdout",
       "text": [
        " 113\n",
        " t index = "
       ]
      },
      {
       "output_type": "stream",
       "stream": "stdout",
       "text": [
        " 114\n",
        " t index = "
       ]
      },
      {
       "output_type": "stream",
       "stream": "stdout",
       "text": [
        " 115\n",
        " t index = "
       ]
      },
      {
       "output_type": "stream",
       "stream": "stdout",
       "text": [
        " 116\n",
        " t index = "
       ]
      },
      {
       "output_type": "stream",
       "stream": "stdout",
       "text": [
        " 117\n",
        " t index = "
       ]
      },
      {
       "output_type": "stream",
       "stream": "stdout",
       "text": [
        " 118\n",
        " t index = "
       ]
      },
      {
       "output_type": "stream",
       "stream": "stdout",
       "text": [
        " 119\n",
        " t index = "
       ]
      },
      {
       "output_type": "stream",
       "stream": "stdout",
       "text": [
        " 120\n",
        " t index = "
       ]
      },
      {
       "output_type": "stream",
       "stream": "stdout",
       "text": [
        " 121\n",
        " t index = "
       ]
      },
      {
       "output_type": "stream",
       "stream": "stdout",
       "text": [
        " 122\n",
        " t index = "
       ]
      },
      {
       "output_type": "stream",
       "stream": "stdout",
       "text": [
        " 123\n",
        " t index = "
       ]
      },
      {
       "output_type": "stream",
       "stream": "stdout",
       "text": [
        " 124\n",
        " t index = "
       ]
      },
      {
       "output_type": "stream",
       "stream": "stdout",
       "text": [
        " 125\n",
        " t index = "
       ]
      },
      {
       "output_type": "stream",
       "stream": "stdout",
       "text": [
        " 126\n",
        " t index = "
       ]
      },
      {
       "output_type": "stream",
       "stream": "stdout",
       "text": [
        " 127\n",
        " t index = "
       ]
      },
      {
       "output_type": "stream",
       "stream": "stdout",
       "text": [
        " 128\n",
        " t index = "
       ]
      },
      {
       "output_type": "stream",
       "stream": "stdout",
       "text": [
        " 129\n",
        " t index = "
       ]
      },
      {
       "output_type": "stream",
       "stream": "stdout",
       "text": [
        " 130\n",
        " t index = "
       ]
      },
      {
       "output_type": "stream",
       "stream": "stdout",
       "text": [
        " 131\n",
        " t index = "
       ]
      },
      {
       "output_type": "stream",
       "stream": "stdout",
       "text": [
        " 132\n",
        " t index = "
       ]
      },
      {
       "output_type": "stream",
       "stream": "stdout",
       "text": [
        " 133\n",
        " t index = "
       ]
      },
      {
       "output_type": "stream",
       "stream": "stdout",
       "text": [
        " 134\n",
        " t index = "
       ]
      },
      {
       "output_type": "stream",
       "stream": "stdout",
       "text": [
        " 135\n",
        " t index = "
       ]
      },
      {
       "output_type": "stream",
       "stream": "stdout",
       "text": [
        " 136\n",
        " t index = "
       ]
      },
      {
       "output_type": "stream",
       "stream": "stdout",
       "text": [
        " 137\n",
        " t index = "
       ]
      },
      {
       "output_type": "stream",
       "stream": "stdout",
       "text": [
        " 138\n",
        " t index = "
       ]
      },
      {
       "output_type": "stream",
       "stream": "stdout",
       "text": [
        " 139\n",
        " t index = "
       ]
      },
      {
       "output_type": "stream",
       "stream": "stdout",
       "text": [
        " 140\n",
        " t index = "
       ]
      },
      {
       "output_type": "stream",
       "stream": "stdout",
       "text": [
        " 141\n",
        " t index = "
       ]
      },
      {
       "output_type": "stream",
       "stream": "stdout",
       "text": [
        " 142\n",
        " t index = "
       ]
      },
      {
       "output_type": "stream",
       "stream": "stdout",
       "text": [
        " 143\n",
        " t index = "
       ]
      },
      {
       "output_type": "stream",
       "stream": "stdout",
       "text": [
        " 144\n",
        " t index = "
       ]
      },
      {
       "output_type": "stream",
       "stream": "stdout",
       "text": [
        " 145\n",
        " t index = "
       ]
      },
      {
       "output_type": "stream",
       "stream": "stdout",
       "text": [
        " 146\n",
        " t index = "
       ]
      },
      {
       "output_type": "stream",
       "stream": "stdout",
       "text": [
        " 147\n",
        " t index = "
       ]
      },
      {
       "output_type": "stream",
       "stream": "stdout",
       "text": [
        " 148\n",
        " t index = "
       ]
      },
      {
       "output_type": "stream",
       "stream": "stdout",
       "text": [
        " 149\n",
        " t index = "
       ]
      },
      {
       "output_type": "stream",
       "stream": "stdout",
       "text": [
        " 150\n",
        " t index = "
       ]
      },
      {
       "output_type": "stream",
       "stream": "stdout",
       "text": [
        " 151\n",
        " t index = "
       ]
      },
      {
       "output_type": "stream",
       "stream": "stdout",
       "text": [
        " 152\n",
        " t index = "
       ]
      },
      {
       "output_type": "stream",
       "stream": "stdout",
       "text": [
        " 153\n",
        " t index = "
       ]
      },
      {
       "output_type": "stream",
       "stream": "stdout",
       "text": [
        " 154\n",
        " t index = "
       ]
      },
      {
       "output_type": "stream",
       "stream": "stdout",
       "text": [
        " 155\n",
        " t index = "
       ]
      },
      {
       "output_type": "stream",
       "stream": "stdout",
       "text": [
        " 156\n",
        " t index = "
       ]
      },
      {
       "output_type": "stream",
       "stream": "stdout",
       "text": [
        " 157\n",
        " t index = "
       ]
      },
      {
       "output_type": "stream",
       "stream": "stdout",
       "text": [
        " 158\n",
        " t index = "
       ]
      },
      {
       "output_type": "stream",
       "stream": "stdout",
       "text": [
        " 159\n",
        " t index = "
       ]
      },
      {
       "output_type": "stream",
       "stream": "stdout",
       "text": [
        " 160\n",
        " t index = "
       ]
      },
      {
       "output_type": "stream",
       "stream": "stdout",
       "text": [
        " 161\n",
        " t index = "
       ]
      },
      {
       "output_type": "stream",
       "stream": "stdout",
       "text": [
        " 162\n",
        " t index = "
       ]
      },
      {
       "output_type": "stream",
       "stream": "stdout",
       "text": [
        " 163\n",
        " t index = "
       ]
      },
      {
       "output_type": "stream",
       "stream": "stdout",
       "text": [
        " 164\n",
        " t index = "
       ]
      },
      {
       "output_type": "stream",
       "stream": "stdout",
       "text": [
        " 165\n",
        " t index = "
       ]
      },
      {
       "output_type": "stream",
       "stream": "stdout",
       "text": [
        " 166\n",
        " t index = "
       ]
      },
      {
       "output_type": "stream",
       "stream": "stdout",
       "text": [
        " 167\n",
        " t index = "
       ]
      },
      {
       "output_type": "stream",
       "stream": "stdout",
       "text": [
        " 168\n",
        " t index = "
       ]
      },
      {
       "output_type": "stream",
       "stream": "stdout",
       "text": [
        " 169\n",
        " t index = "
       ]
      },
      {
       "output_type": "stream",
       "stream": "stdout",
       "text": [
        " 170\n",
        " t index = "
       ]
      },
      {
       "output_type": "stream",
       "stream": "stdout",
       "text": [
        " 171\n",
        " t index = "
       ]
      },
      {
       "output_type": "stream",
       "stream": "stdout",
       "text": [
        " 172\n",
        " t index = "
       ]
      },
      {
       "output_type": "stream",
       "stream": "stdout",
       "text": [
        " 173\n",
        " t index = "
       ]
      },
      {
       "output_type": "stream",
       "stream": "stdout",
       "text": [
        " 174\n",
        " t index = "
       ]
      },
      {
       "output_type": "stream",
       "stream": "stdout",
       "text": [
        " 175\n",
        " t index = "
       ]
      },
      {
       "output_type": "stream",
       "stream": "stdout",
       "text": [
        " 176\n",
        " t index = "
       ]
      },
      {
       "output_type": "stream",
       "stream": "stdout",
       "text": [
        " 177\n",
        " t index = "
       ]
      },
      {
       "output_type": "stream",
       "stream": "stdout",
       "text": [
        " 178\n",
        " t index = "
       ]
      },
      {
       "output_type": "stream",
       "stream": "stdout",
       "text": [
        " 179\n",
        " t index = "
       ]
      },
      {
       "output_type": "stream",
       "stream": "stdout",
       "text": [
        " 180\n",
        " t index = "
       ]
      },
      {
       "output_type": "stream",
       "stream": "stdout",
       "text": [
        " 181\n",
        " t index = "
       ]
      },
      {
       "output_type": "stream",
       "stream": "stdout",
       "text": [
        " 182\n",
        " t index = "
       ]
      },
      {
       "output_type": "stream",
       "stream": "stdout",
       "text": [
        " 183\n",
        " t index = "
       ]
      },
      {
       "output_type": "stream",
       "stream": "stdout",
       "text": [
        " 184\n",
        " t index = "
       ]
      },
      {
       "output_type": "stream",
       "stream": "stdout",
       "text": [
        " 185\n",
        " t index = "
       ]
      },
      {
       "output_type": "stream",
       "stream": "stdout",
       "text": [
        " 186\n",
        " t index = "
       ]
      },
      {
       "output_type": "stream",
       "stream": "stdout",
       "text": [
        " 187\n",
        " t index = "
       ]
      },
      {
       "output_type": "stream",
       "stream": "stdout",
       "text": [
        " 188\n",
        " t index = "
       ]
      },
      {
       "output_type": "stream",
       "stream": "stdout",
       "text": [
        " 189\n",
        " t index = "
       ]
      },
      {
       "output_type": "stream",
       "stream": "stdout",
       "text": [
        " 190\n",
        " t index = "
       ]
      },
      {
       "output_type": "stream",
       "stream": "stdout",
       "text": [
        " 191\n",
        " t index = "
       ]
      },
      {
       "output_type": "stream",
       "stream": "stdout",
       "text": [
        " 192\n",
        " t index = "
       ]
      },
      {
       "output_type": "stream",
       "stream": "stdout",
       "text": [
        " 193\n",
        " t index = "
       ]
      },
      {
       "output_type": "stream",
       "stream": "stdout",
       "text": [
        " 194\n",
        " t index = "
       ]
      },
      {
       "output_type": "stream",
       "stream": "stdout",
       "text": [
        " 195\n",
        " t index = "
       ]
      },
      {
       "output_type": "stream",
       "stream": "stdout",
       "text": [
        " 196\n",
        " t index = "
       ]
      },
      {
       "output_type": "stream",
       "stream": "stdout",
       "text": [
        " 197\n",
        " t index = "
       ]
      },
      {
       "output_type": "stream",
       "stream": "stdout",
       "text": [
        " 198\n",
        " t index = "
       ]
      },
      {
       "output_type": "stream",
       "stream": "stdout",
       "text": [
        " 199\n",
        " t index = "
       ]
      },
      {
       "output_type": "stream",
       "stream": "stdout",
       "text": [
        " 200\n",
        " t index = "
       ]
      },
      {
       "output_type": "stream",
       "stream": "stdout",
       "text": [
        " 201\n",
        " t index = "
       ]
      },
      {
       "output_type": "stream",
       "stream": "stdout",
       "text": [
        " 202\n",
        " t index = "
       ]
      },
      {
       "output_type": "stream",
       "stream": "stdout",
       "text": [
        " 203\n",
        " t index = "
       ]
      },
      {
       "output_type": "stream",
       "stream": "stdout",
       "text": [
        " 204\n",
        " t index = "
       ]
      },
      {
       "output_type": "stream",
       "stream": "stdout",
       "text": [
        " 205\n",
        " t index = "
       ]
      },
      {
       "output_type": "stream",
       "stream": "stdout",
       "text": [
        " 206\n",
        " t index = "
       ]
      },
      {
       "output_type": "stream",
       "stream": "stdout",
       "text": [
        " 207\n",
        " t index = "
       ]
      },
      {
       "output_type": "stream",
       "stream": "stdout",
       "text": [
        " 208\n",
        " t index = "
       ]
      },
      {
       "output_type": "stream",
       "stream": "stdout",
       "text": [
        " 209\n",
        " t index = "
       ]
      },
      {
       "output_type": "stream",
       "stream": "stdout",
       "text": [
        " 210\n",
        " t index = "
       ]
      },
      {
       "output_type": "stream",
       "stream": "stdout",
       "text": [
        " 211\n",
        " t index = "
       ]
      },
      {
       "output_type": "stream",
       "stream": "stdout",
       "text": [
        " 212\n",
        " t index = "
       ]
      },
      {
       "output_type": "stream",
       "stream": "stdout",
       "text": [
        " 213\n",
        " t index = "
       ]
      },
      {
       "output_type": "stream",
       "stream": "stdout",
       "text": [
        " 214\n",
        " t index = "
       ]
      },
      {
       "output_type": "stream",
       "stream": "stdout",
       "text": [
        " 215\n",
        " t index = "
       ]
      },
      {
       "output_type": "stream",
       "stream": "stdout",
       "text": [
        " 216\n",
        " t index = "
       ]
      },
      {
       "output_type": "stream",
       "stream": "stdout",
       "text": [
        " 217\n",
        " t index = "
       ]
      },
      {
       "output_type": "stream",
       "stream": "stdout",
       "text": [
        " 218\n",
        " t index = "
       ]
      },
      {
       "output_type": "stream",
       "stream": "stdout",
       "text": [
        " 219\n",
        " t index = "
       ]
      },
      {
       "output_type": "stream",
       "stream": "stdout",
       "text": [
        " 220\n",
        " t index = "
       ]
      },
      {
       "output_type": "stream",
       "stream": "stdout",
       "text": [
        " 221\n",
        " t index = "
       ]
      },
      {
       "output_type": "stream",
       "stream": "stdout",
       "text": [
        " 222\n",
        " t index = "
       ]
      },
      {
       "output_type": "stream",
       "stream": "stdout",
       "text": [
        " 223\n",
        " t index = "
       ]
      },
      {
       "output_type": "stream",
       "stream": "stdout",
       "text": [
        " 224\n",
        " t index = "
       ]
      },
      {
       "output_type": "stream",
       "stream": "stdout",
       "text": [
        " 225\n",
        " t index = "
       ]
      },
      {
       "output_type": "stream",
       "stream": "stdout",
       "text": [
        " 226\n",
        " t index = "
       ]
      },
      {
       "output_type": "stream",
       "stream": "stdout",
       "text": [
        " 227\n",
        " t index = "
       ]
      },
      {
       "output_type": "stream",
       "stream": "stdout",
       "text": [
        " 228\n",
        " t index = "
       ]
      },
      {
       "output_type": "stream",
       "stream": "stdout",
       "text": [
        " 229\n",
        " t index = "
       ]
      },
      {
       "output_type": "stream",
       "stream": "stdout",
       "text": [
        " 230\n",
        " t index = "
       ]
      },
      {
       "output_type": "stream",
       "stream": "stdout",
       "text": [
        " 231\n",
        " t index = "
       ]
      },
      {
       "output_type": "stream",
       "stream": "stdout",
       "text": [
        " 232\n",
        " t index = "
       ]
      },
      {
       "output_type": "stream",
       "stream": "stdout",
       "text": [
        " 233\n",
        " t index = "
       ]
      },
      {
       "output_type": "stream",
       "stream": "stdout",
       "text": [
        " 234\n",
        " t index = "
       ]
      },
      {
       "output_type": "stream",
       "stream": "stdout",
       "text": [
        " 235\n",
        " t index = "
       ]
      },
      {
       "output_type": "stream",
       "stream": "stdout",
       "text": [
        " 236\n",
        " t index = "
       ]
      },
      {
       "output_type": "stream",
       "stream": "stdout",
       "text": [
        " 237\n",
        " t index = "
       ]
      },
      {
       "output_type": "stream",
       "stream": "stdout",
       "text": [
        " 238\n",
        " t index = "
       ]
      },
      {
       "output_type": "stream",
       "stream": "stdout",
       "text": [
        " 239\n",
        " t index = "
       ]
      },
      {
       "output_type": "stream",
       "stream": "stdout",
       "text": [
        " 240\n",
        " t index = "
       ]
      },
      {
       "output_type": "stream",
       "stream": "stdout",
       "text": [
        " 241\n",
        " t index = "
       ]
      },
      {
       "output_type": "stream",
       "stream": "stdout",
       "text": [
        " 242\n",
        " t index = "
       ]
      },
      {
       "output_type": "stream",
       "stream": "stdout",
       "text": [
        " 243\n",
        " t index = "
       ]
      },
      {
       "output_type": "stream",
       "stream": "stdout",
       "text": [
        " 244\n",
        " t index = "
       ]
      },
      {
       "output_type": "stream",
       "stream": "stdout",
       "text": [
        " 245\n",
        " t index = "
       ]
      },
      {
       "output_type": "stream",
       "stream": "stdout",
       "text": [
        " 246\n",
        " t index = "
       ]
      },
      {
       "output_type": "stream",
       "stream": "stdout",
       "text": [
        " 247\n",
        " t index = "
       ]
      },
      {
       "output_type": "stream",
       "stream": "stdout",
       "text": [
        " 248\n",
        " t index = "
       ]
      },
      {
       "output_type": "stream",
       "stream": "stdout",
       "text": [
        " 249\n",
        " t index = "
       ]
      },
      {
       "output_type": "stream",
       "stream": "stdout",
       "text": [
        " 250\n",
        " t index = "
       ]
      },
      {
       "output_type": "stream",
       "stream": "stdout",
       "text": [
        " 251\n",
        " t index = "
       ]
      },
      {
       "output_type": "stream",
       "stream": "stdout",
       "text": [
        " 252\n",
        " t index = "
       ]
      },
      {
       "output_type": "stream",
       "stream": "stdout",
       "text": [
        " 253\n",
        " t index = "
       ]
      },
      {
       "output_type": "stream",
       "stream": "stdout",
       "text": [
        " 254\n",
        " t index = "
       ]
      },
      {
       "output_type": "stream",
       "stream": "stdout",
       "text": [
        " 255\n",
        " t index = "
       ]
      },
      {
       "output_type": "stream",
       "stream": "stdout",
       "text": [
        " 256\n",
        " t index = "
       ]
      },
      {
       "output_type": "stream",
       "stream": "stdout",
       "text": [
        " 257\n",
        " t index = "
       ]
      },
      {
       "output_type": "stream",
       "stream": "stdout",
       "text": [
        " 258\n",
        " t index = "
       ]
      },
      {
       "output_type": "stream",
       "stream": "stdout",
       "text": [
        " 259\n",
        " t index = "
       ]
      },
      {
       "output_type": "stream",
       "stream": "stdout",
       "text": [
        " 260\n",
        " t index = "
       ]
      },
      {
       "output_type": "stream",
       "stream": "stdout",
       "text": [
        " 261\n",
        " t index = "
       ]
      },
      {
       "output_type": "stream",
       "stream": "stdout",
       "text": [
        " 262\n",
        " t index = "
       ]
      },
      {
       "output_type": "stream",
       "stream": "stdout",
       "text": [
        " 263\n",
        " t index = "
       ]
      },
      {
       "output_type": "stream",
       "stream": "stdout",
       "text": [
        " 264\n",
        " t index = "
       ]
      },
      {
       "output_type": "stream",
       "stream": "stdout",
       "text": [
        " 265\n",
        " t index = "
       ]
      },
      {
       "output_type": "stream",
       "stream": "stdout",
       "text": [
        " 266\n",
        " t index = "
       ]
      },
      {
       "output_type": "stream",
       "stream": "stdout",
       "text": [
        " 267\n",
        " t index = "
       ]
      },
      {
       "output_type": "stream",
       "stream": "stdout",
       "text": [
        " 268\n",
        " t index = "
       ]
      },
      {
       "output_type": "stream",
       "stream": "stdout",
       "text": [
        " 269\n",
        " t index = "
       ]
      },
      {
       "output_type": "stream",
       "stream": "stdout",
       "text": [
        " 270\n",
        " t index = "
       ]
      },
      {
       "output_type": "stream",
       "stream": "stdout",
       "text": [
        " 271\n",
        " t index = "
       ]
      },
      {
       "output_type": "stream",
       "stream": "stdout",
       "text": [
        " 272\n",
        " t index = "
       ]
      },
      {
       "output_type": "stream",
       "stream": "stdout",
       "text": [
        " 273\n",
        " t index = "
       ]
      },
      {
       "output_type": "stream",
       "stream": "stdout",
       "text": [
        " 274\n",
        " t index = "
       ]
      },
      {
       "output_type": "stream",
       "stream": "stdout",
       "text": [
        " 275\n",
        " t index = "
       ]
      },
      {
       "output_type": "stream",
       "stream": "stdout",
       "text": [
        " 276\n",
        " t index = "
       ]
      },
      {
       "output_type": "stream",
       "stream": "stdout",
       "text": [
        " 277\n",
        " t index = "
       ]
      },
      {
       "output_type": "stream",
       "stream": "stdout",
       "text": [
        " 278\n",
        " t index = "
       ]
      },
      {
       "output_type": "stream",
       "stream": "stdout",
       "text": [
        " 279\n",
        " t index = "
       ]
      },
      {
       "output_type": "stream",
       "stream": "stdout",
       "text": [
        " 280\n",
        " t index = "
       ]
      },
      {
       "output_type": "stream",
       "stream": "stdout",
       "text": [
        " 281\n",
        " t index = "
       ]
      },
      {
       "output_type": "stream",
       "stream": "stdout",
       "text": [
        " 282\n",
        " t index = "
       ]
      },
      {
       "output_type": "stream",
       "stream": "stdout",
       "text": [
        " 283\n",
        " t index = "
       ]
      },
      {
       "output_type": "stream",
       "stream": "stdout",
       "text": [
        " 284\n",
        " t index = "
       ]
      },
      {
       "output_type": "stream",
       "stream": "stdout",
       "text": [
        " 285\n",
        " t index = "
       ]
      },
      {
       "output_type": "stream",
       "stream": "stdout",
       "text": [
        " 286\n",
        " t index = "
       ]
      },
      {
       "output_type": "stream",
       "stream": "stdout",
       "text": [
        " 287\n",
        " t index = "
       ]
      },
      {
       "output_type": "stream",
       "stream": "stdout",
       "text": [
        " 288\n",
        " t index = "
       ]
      },
      {
       "output_type": "stream",
       "stream": "stdout",
       "text": [
        " 289\n",
        " t index = "
       ]
      },
      {
       "output_type": "stream",
       "stream": "stdout",
       "text": [
        " 290\n",
        " t index = "
       ]
      },
      {
       "output_type": "stream",
       "stream": "stdout",
       "text": [
        " 291\n",
        " t index = "
       ]
      },
      {
       "output_type": "stream",
       "stream": "stdout",
       "text": [
        " 292\n",
        " t index = "
       ]
      },
      {
       "output_type": "stream",
       "stream": "stdout",
       "text": [
        " 293\n",
        " t index = "
       ]
      },
      {
       "output_type": "stream",
       "stream": "stdout",
       "text": [
        " 294\n",
        " t index = "
       ]
      },
      {
       "output_type": "stream",
       "stream": "stdout",
       "text": [
        " 295\n",
        " t index = "
       ]
      },
      {
       "output_type": "stream",
       "stream": "stdout",
       "text": [
        " 296\n",
        " t index = "
       ]
      },
      {
       "output_type": "stream",
       "stream": "stdout",
       "text": [
        " 297\n",
        " t index = "
       ]
      },
      {
       "output_type": "stream",
       "stream": "stdout",
       "text": [
        " 298\n",
        " t index = "
       ]
      },
      {
       "output_type": "stream",
       "stream": "stdout",
       "text": [
        " 299\n",
        " t index = "
       ]
      },
      {
       "output_type": "stream",
       "stream": "stdout",
       "text": [
        " 300\n",
        " t index = "
       ]
      },
      {
       "output_type": "stream",
       "stream": "stdout",
       "text": [
        " 301\n",
        " t index = "
       ]
      },
      {
       "output_type": "stream",
       "stream": "stdout",
       "text": [
        " 302\n",
        " t index = "
       ]
      },
      {
       "output_type": "stream",
       "stream": "stdout",
       "text": [
        " 303\n",
        " t index = "
       ]
      },
      {
       "output_type": "stream",
       "stream": "stdout",
       "text": [
        " 304\n",
        " t index = "
       ]
      },
      {
       "output_type": "stream",
       "stream": "stdout",
       "text": [
        " 305\n",
        " t index = "
       ]
      },
      {
       "output_type": "stream",
       "stream": "stdout",
       "text": [
        " 306\n",
        " t index = "
       ]
      },
      {
       "output_type": "stream",
       "stream": "stdout",
       "text": [
        " 307\n",
        " t index = "
       ]
      },
      {
       "output_type": "stream",
       "stream": "stdout",
       "text": [
        " 308\n",
        " t index = "
       ]
      },
      {
       "output_type": "stream",
       "stream": "stdout",
       "text": [
        " 309\n",
        " t index = "
       ]
      },
      {
       "output_type": "stream",
       "stream": "stdout",
       "text": [
        " 310\n",
        " t index = "
       ]
      },
      {
       "output_type": "stream",
       "stream": "stdout",
       "text": [
        " 311\n",
        " t index = "
       ]
      },
      {
       "output_type": "stream",
       "stream": "stdout",
       "text": [
        " 312\n",
        " t index = "
       ]
      },
      {
       "output_type": "stream",
       "stream": "stdout",
       "text": [
        " 313\n",
        " t index = "
       ]
      },
      {
       "output_type": "stream",
       "stream": "stdout",
       "text": [
        " 314\n",
        " t index = "
       ]
      },
      {
       "output_type": "stream",
       "stream": "stdout",
       "text": [
        " 315\n",
        " t index = "
       ]
      },
      {
       "output_type": "stream",
       "stream": "stdout",
       "text": [
        " 316\n",
        " t index = "
       ]
      },
      {
       "output_type": "stream",
       "stream": "stdout",
       "text": [
        " 317\n",
        " t index = "
       ]
      },
      {
       "output_type": "stream",
       "stream": "stdout",
       "text": [
        " 318\n",
        " t index = "
       ]
      },
      {
       "output_type": "stream",
       "stream": "stdout",
       "text": [
        " 319\n",
        " t index = "
       ]
      },
      {
       "output_type": "stream",
       "stream": "stdout",
       "text": [
        " 320\n",
        " t index = "
       ]
      },
      {
       "output_type": "stream",
       "stream": "stdout",
       "text": [
        " 321\n",
        " t index = "
       ]
      },
      {
       "output_type": "stream",
       "stream": "stdout",
       "text": [
        " 322\n",
        " t index = "
       ]
      },
      {
       "output_type": "stream",
       "stream": "stdout",
       "text": [
        " 323\n",
        " t index = "
       ]
      },
      {
       "output_type": "stream",
       "stream": "stdout",
       "text": [
        " 324\n",
        " t index = "
       ]
      },
      {
       "output_type": "stream",
       "stream": "stdout",
       "text": [
        " 325\n",
        " t index = "
       ]
      },
      {
       "output_type": "stream",
       "stream": "stdout",
       "text": [
        " 326\n",
        " t index = "
       ]
      },
      {
       "output_type": "stream",
       "stream": "stdout",
       "text": [
        " 327\n",
        " t index = "
       ]
      },
      {
       "output_type": "stream",
       "stream": "stdout",
       "text": [
        " 328\n",
        " t index = "
       ]
      },
      {
       "output_type": "stream",
       "stream": "stdout",
       "text": [
        " 329\n",
        " t index = "
       ]
      },
      {
       "output_type": "stream",
       "stream": "stdout",
       "text": [
        " 330\n",
        " t index = "
       ]
      },
      {
       "output_type": "stream",
       "stream": "stdout",
       "text": [
        " 331\n",
        " t index = "
       ]
      },
      {
       "output_type": "stream",
       "stream": "stdout",
       "text": [
        " 332\n",
        " t index = "
       ]
      },
      {
       "output_type": "stream",
       "stream": "stdout",
       "text": [
        " 333\n",
        " t index = "
       ]
      },
      {
       "output_type": "stream",
       "stream": "stdout",
       "text": [
        " 334\n",
        " t index = "
       ]
      },
      {
       "output_type": "stream",
       "stream": "stdout",
       "text": [
        " 335\n",
        " t index = "
       ]
      },
      {
       "output_type": "stream",
       "stream": "stdout",
       "text": [
        " 336\n",
        " t index = "
       ]
      },
      {
       "output_type": "stream",
       "stream": "stdout",
       "text": [
        " 337\n",
        " t index = "
       ]
      },
      {
       "output_type": "stream",
       "stream": "stdout",
       "text": [
        " 338\n",
        " t index = "
       ]
      },
      {
       "output_type": "stream",
       "stream": "stdout",
       "text": [
        " 339\n",
        " t index = "
       ]
      },
      {
       "output_type": "stream",
       "stream": "stdout",
       "text": [
        " 340\n",
        " t index = "
       ]
      },
      {
       "output_type": "stream",
       "stream": "stdout",
       "text": [
        " 341\n",
        " t index = "
       ]
      },
      {
       "output_type": "stream",
       "stream": "stdout",
       "text": [
        " 342\n",
        " t index = "
       ]
      },
      {
       "output_type": "stream",
       "stream": "stdout",
       "text": [
        " 343\n",
        " t index = "
       ]
      },
      {
       "output_type": "stream",
       "stream": "stdout",
       "text": [
        " 344\n",
        " t index = "
       ]
      },
      {
       "output_type": "stream",
       "stream": "stdout",
       "text": [
        " 345\n",
        " t index = "
       ]
      },
      {
       "output_type": "stream",
       "stream": "stdout",
       "text": [
        " 346\n",
        " t index = "
       ]
      },
      {
       "output_type": "stream",
       "stream": "stdout",
       "text": [
        " 347\n",
        " t index = "
       ]
      },
      {
       "output_type": "stream",
       "stream": "stdout",
       "text": [
        " 348\n",
        " t index = "
       ]
      },
      {
       "output_type": "stream",
       "stream": "stdout",
       "text": [
        " 349\n",
        " t index = "
       ]
      },
      {
       "output_type": "stream",
       "stream": "stdout",
       "text": [
        " 350\n",
        " t index = "
       ]
      },
      {
       "output_type": "stream",
       "stream": "stdout",
       "text": [
        " 351\n",
        " t index = "
       ]
      },
      {
       "output_type": "stream",
       "stream": "stdout",
       "text": [
        " 352\n",
        " t index = "
       ]
      },
      {
       "output_type": "stream",
       "stream": "stdout",
       "text": [
        " 353\n",
        " t index = "
       ]
      },
      {
       "output_type": "stream",
       "stream": "stdout",
       "text": [
        " 354\n",
        " t index = "
       ]
      },
      {
       "output_type": "stream",
       "stream": "stdout",
       "text": [
        " 355\n",
        " t index = "
       ]
      },
      {
       "output_type": "stream",
       "stream": "stdout",
       "text": [
        " 356\n",
        " t index = "
       ]
      },
      {
       "output_type": "stream",
       "stream": "stdout",
       "text": [
        " 357\n",
        " t index = "
       ]
      },
      {
       "output_type": "stream",
       "stream": "stdout",
       "text": [
        " 358\n",
        " t index = "
       ]
      },
      {
       "output_type": "stream",
       "stream": "stdout",
       "text": [
        " 359\n",
        " t index = "
       ]
      },
      {
       "output_type": "stream",
       "stream": "stdout",
       "text": [
        " 360\n",
        " t index = "
       ]
      },
      {
       "output_type": "stream",
       "stream": "stdout",
       "text": [
        " 361\n",
        " t index = "
       ]
      },
      {
       "output_type": "stream",
       "stream": "stdout",
       "text": [
        " 362\n",
        " t index = "
       ]
      },
      {
       "output_type": "stream",
       "stream": "stdout",
       "text": [
        " 363\n",
        " t index = "
       ]
      },
      {
       "output_type": "stream",
       "stream": "stdout",
       "text": [
        " 364\n",
        " t index = "
       ]
      },
      {
       "output_type": "stream",
       "stream": "stdout",
       "text": [
        " 365\n",
        " t index = "
       ]
      },
      {
       "output_type": "stream",
       "stream": "stdout",
       "text": [
        " 366\n",
        " t index = "
       ]
      },
      {
       "output_type": "stream",
       "stream": "stdout",
       "text": [
        " 367\n",
        " t index = "
       ]
      },
      {
       "output_type": "stream",
       "stream": "stdout",
       "text": [
        " 368\n",
        " t index = "
       ]
      },
      {
       "output_type": "stream",
       "stream": "stdout",
       "text": [
        " 369\n",
        " t index = "
       ]
      },
      {
       "output_type": "stream",
       "stream": "stdout",
       "text": [
        " 370\n",
        " t index = "
       ]
      },
      {
       "output_type": "stream",
       "stream": "stdout",
       "text": [
        " 371\n",
        " t index = "
       ]
      },
      {
       "output_type": "stream",
       "stream": "stdout",
       "text": [
        " 372\n",
        " t index = "
       ]
      },
      {
       "output_type": "stream",
       "stream": "stdout",
       "text": [
        " 373\n",
        " t index = "
       ]
      },
      {
       "output_type": "stream",
       "stream": "stdout",
       "text": [
        " 374\n",
        " t index = "
       ]
      },
      {
       "output_type": "stream",
       "stream": "stdout",
       "text": [
        " 375\n",
        " t index = "
       ]
      },
      {
       "output_type": "stream",
       "stream": "stdout",
       "text": [
        " 376\n",
        " t index = "
       ]
      },
      {
       "output_type": "stream",
       "stream": "stdout",
       "text": [
        " 377\n",
        " t index = "
       ]
      },
      {
       "output_type": "stream",
       "stream": "stdout",
       "text": [
        " 378\n",
        " t index = "
       ]
      },
      {
       "output_type": "stream",
       "stream": "stdout",
       "text": [
        " 379\n",
        " t index = "
       ]
      },
      {
       "output_type": "stream",
       "stream": "stdout",
       "text": [
        " 380\n",
        " t index = "
       ]
      },
      {
       "output_type": "stream",
       "stream": "stdout",
       "text": [
        " 381\n",
        " t index = "
       ]
      },
      {
       "output_type": "stream",
       "stream": "stdout",
       "text": [
        " 382\n",
        " t index = "
       ]
      },
      {
       "output_type": "stream",
       "stream": "stdout",
       "text": [
        " 383\n",
        " t index = "
       ]
      },
      {
       "output_type": "stream",
       "stream": "stdout",
       "text": [
        " 384\n",
        " t index = "
       ]
      },
      {
       "output_type": "stream",
       "stream": "stdout",
       "text": [
        " 385\n",
        " t index = "
       ]
      },
      {
       "output_type": "stream",
       "stream": "stdout",
       "text": [
        " 386\n",
        " t index = "
       ]
      },
      {
       "output_type": "stream",
       "stream": "stdout",
       "text": [
        " 387\n",
        " t index = "
       ]
      },
      {
       "output_type": "stream",
       "stream": "stdout",
       "text": [
        " 388\n",
        " t index = "
       ]
      },
      {
       "output_type": "stream",
       "stream": "stdout",
       "text": [
        " 389\n",
        " t index = "
       ]
      },
      {
       "output_type": "stream",
       "stream": "stdout",
       "text": [
        " 390\n",
        " t index = "
       ]
      },
      {
       "output_type": "stream",
       "stream": "stdout",
       "text": [
        " 391\n",
        " t index = "
       ]
      },
      {
       "output_type": "stream",
       "stream": "stdout",
       "text": [
        " 392\n",
        " t index = "
       ]
      },
      {
       "output_type": "stream",
       "stream": "stdout",
       "text": [
        " 393\n",
        " t index = "
       ]
      },
      {
       "output_type": "stream",
       "stream": "stdout",
       "text": [
        " 394\n",
        " t index = "
       ]
      },
      {
       "output_type": "stream",
       "stream": "stdout",
       "text": [
        " 395\n",
        " t index = "
       ]
      },
      {
       "output_type": "stream",
       "stream": "stdout",
       "text": [
        " 396\n",
        " t index = "
       ]
      },
      {
       "output_type": "stream",
       "stream": "stdout",
       "text": [
        " 397\n",
        " t index = "
       ]
      },
      {
       "output_type": "stream",
       "stream": "stdout",
       "text": [
        " 398\n",
        " t index = "
       ]
      },
      {
       "output_type": "stream",
       "stream": "stdout",
       "text": [
        " 399\n",
        " t index = "
       ]
      },
      {
       "output_type": "stream",
       "stream": "stdout",
       "text": [
        " 400\n",
        " t index = "
       ]
      },
      {
       "output_type": "stream",
       "stream": "stdout",
       "text": [
        " 401\n",
        " t index = "
       ]
      },
      {
       "output_type": "stream",
       "stream": "stdout",
       "text": [
        " 402\n",
        " t index = "
       ]
      },
      {
       "output_type": "stream",
       "stream": "stdout",
       "text": [
        " 403\n",
        " t index = "
       ]
      },
      {
       "output_type": "stream",
       "stream": "stdout",
       "text": [
        " 404\n",
        " t index = "
       ]
      },
      {
       "output_type": "stream",
       "stream": "stdout",
       "text": [
        " 405\n",
        " t index = "
       ]
      },
      {
       "output_type": "stream",
       "stream": "stdout",
       "text": [
        " 406\n",
        " t index = "
       ]
      },
      {
       "output_type": "stream",
       "stream": "stdout",
       "text": [
        " 407\n",
        " t index = "
       ]
      },
      {
       "output_type": "stream",
       "stream": "stdout",
       "text": [
        " 408\n",
        " t index = "
       ]
      },
      {
       "output_type": "stream",
       "stream": "stdout",
       "text": [
        " 409\n",
        " t index = "
       ]
      },
      {
       "output_type": "stream",
       "stream": "stdout",
       "text": [
        " 410\n",
        " t index = "
       ]
      },
      {
       "output_type": "stream",
       "stream": "stdout",
       "text": [
        " 411\n",
        " t index = "
       ]
      },
      {
       "output_type": "stream",
       "stream": "stdout",
       "text": [
        " 412\n",
        " t index = "
       ]
      },
      {
       "output_type": "stream",
       "stream": "stdout",
       "text": [
        " 413\n",
        " t index = "
       ]
      },
      {
       "output_type": "stream",
       "stream": "stdout",
       "text": [
        " 414\n",
        " t index = "
       ]
      },
      {
       "output_type": "stream",
       "stream": "stdout",
       "text": [
        " 415\n",
        " t index = "
       ]
      },
      {
       "output_type": "stream",
       "stream": "stdout",
       "text": [
        " 416\n",
        " t index = "
       ]
      },
      {
       "output_type": "stream",
       "stream": "stdout",
       "text": [
        " 417\n",
        " t index = "
       ]
      },
      {
       "output_type": "stream",
       "stream": "stdout",
       "text": [
        " 418\n",
        " t index = "
       ]
      },
      {
       "output_type": "stream",
       "stream": "stdout",
       "text": [
        " 419\n",
        " t index = "
       ]
      },
      {
       "output_type": "stream",
       "stream": "stdout",
       "text": [
        " 420\n",
        " t index = "
       ]
      },
      {
       "output_type": "stream",
       "stream": "stdout",
       "text": [
        " 421\n",
        " t index = "
       ]
      },
      {
       "output_type": "stream",
       "stream": "stdout",
       "text": [
        " 422\n",
        " t index = "
       ]
      },
      {
       "output_type": "stream",
       "stream": "stdout",
       "text": [
        " 423\n",
        " t index = "
       ]
      },
      {
       "output_type": "stream",
       "stream": "stdout",
       "text": [
        " 424\n",
        " t index = "
       ]
      },
      {
       "output_type": "stream",
       "stream": "stdout",
       "text": [
        " 425\n",
        " t index = "
       ]
      },
      {
       "output_type": "stream",
       "stream": "stdout",
       "text": [
        " 426\n",
        " t index = "
       ]
      },
      {
       "output_type": "stream",
       "stream": "stdout",
       "text": [
        " 427\n",
        " t index = "
       ]
      },
      {
       "output_type": "stream",
       "stream": "stdout",
       "text": [
        " 428\n",
        " t index = "
       ]
      },
      {
       "output_type": "stream",
       "stream": "stdout",
       "text": [
        " 429\n",
        " t index = "
       ]
      },
      {
       "output_type": "stream",
       "stream": "stdout",
       "text": [
        " 430\n",
        " t index = "
       ]
      },
      {
       "output_type": "stream",
       "stream": "stdout",
       "text": [
        " 431\n",
        " t index = "
       ]
      },
      {
       "output_type": "stream",
       "stream": "stdout",
       "text": [
        " 432\n",
        " t index = "
       ]
      },
      {
       "output_type": "stream",
       "stream": "stdout",
       "text": [
        " 433\n",
        " t index = "
       ]
      },
      {
       "output_type": "stream",
       "stream": "stdout",
       "text": [
        " 434\n",
        " t index = "
       ]
      },
      {
       "output_type": "stream",
       "stream": "stdout",
       "text": [
        " 435\n",
        " t index = "
       ]
      },
      {
       "output_type": "stream",
       "stream": "stdout",
       "text": [
        " 436\n",
        " t index = "
       ]
      },
      {
       "output_type": "stream",
       "stream": "stdout",
       "text": [
        " 437\n",
        " t index = "
       ]
      },
      {
       "output_type": "stream",
       "stream": "stdout",
       "text": [
        " 438\n",
        " t index = "
       ]
      },
      {
       "output_type": "stream",
       "stream": "stdout",
       "text": [
        " 439\n",
        " t index = "
       ]
      },
      {
       "output_type": "stream",
       "stream": "stdout",
       "text": [
        " 440\n",
        " t index = "
       ]
      },
      {
       "output_type": "stream",
       "stream": "stdout",
       "text": [
        " 441\n",
        " t index = "
       ]
      },
      {
       "output_type": "stream",
       "stream": "stdout",
       "text": [
        " 442\n",
        " t index = "
       ]
      },
      {
       "output_type": "stream",
       "stream": "stdout",
       "text": [
        " 443\n",
        " t index = "
       ]
      },
      {
       "output_type": "stream",
       "stream": "stdout",
       "text": [
        " 444\n",
        " t index = "
       ]
      },
      {
       "output_type": "stream",
       "stream": "stdout",
       "text": [
        " 445\n",
        " t index = "
       ]
      },
      {
       "output_type": "stream",
       "stream": "stdout",
       "text": [
        " 446\n",
        " t index = "
       ]
      },
      {
       "output_type": "stream",
       "stream": "stdout",
       "text": [
        " 447\n",
        " t index = "
       ]
      },
      {
       "output_type": "stream",
       "stream": "stdout",
       "text": [
        " 448\n",
        " t index = "
       ]
      },
      {
       "output_type": "stream",
       "stream": "stdout",
       "text": [
        " 449\n",
        " t index = "
       ]
      },
      {
       "output_type": "stream",
       "stream": "stdout",
       "text": [
        " 450\n",
        " t index = "
       ]
      },
      {
       "output_type": "stream",
       "stream": "stdout",
       "text": [
        " 451\n",
        " t index = "
       ]
      },
      {
       "output_type": "stream",
       "stream": "stdout",
       "text": [
        " 452\n",
        " t index = "
       ]
      },
      {
       "output_type": "stream",
       "stream": "stdout",
       "text": [
        " 453\n",
        " t index = "
       ]
      },
      {
       "output_type": "stream",
       "stream": "stdout",
       "text": [
        " 454\n",
        " t index = "
       ]
      },
      {
       "output_type": "stream",
       "stream": "stdout",
       "text": [
        " 455\n",
        " t index = "
       ]
      },
      {
       "output_type": "stream",
       "stream": "stdout",
       "text": [
        " 456\n",
        " t index = "
       ]
      },
      {
       "output_type": "stream",
       "stream": "stdout",
       "text": [
        " 457\n",
        " t index = "
       ]
      },
      {
       "output_type": "stream",
       "stream": "stdout",
       "text": [
        " 458\n",
        " t index = "
       ]
      },
      {
       "output_type": "stream",
       "stream": "stdout",
       "text": [
        " 459\n",
        " t index = "
       ]
      },
      {
       "output_type": "stream",
       "stream": "stdout",
       "text": [
        " 460\n",
        " t index = "
       ]
      },
      {
       "output_type": "stream",
       "stream": "stdout",
       "text": [
        " 461\n",
        " t index = "
       ]
      },
      {
       "output_type": "stream",
       "stream": "stdout",
       "text": [
        " 462\n",
        " t index = "
       ]
      },
      {
       "output_type": "stream",
       "stream": "stdout",
       "text": [
        " 463\n",
        " t index = "
       ]
      },
      {
       "output_type": "stream",
       "stream": "stdout",
       "text": [
        " 464\n",
        " t index = "
       ]
      },
      {
       "output_type": "stream",
       "stream": "stdout",
       "text": [
        " 465\n",
        " t index = "
       ]
      },
      {
       "output_type": "stream",
       "stream": "stdout",
       "text": [
        " 466\n",
        " t index = "
       ]
      },
      {
       "output_type": "stream",
       "stream": "stdout",
       "text": [
        " 467\n",
        " t index = "
       ]
      },
      {
       "output_type": "stream",
       "stream": "stdout",
       "text": [
        " 468\n",
        " t index = "
       ]
      },
      {
       "output_type": "stream",
       "stream": "stdout",
       "text": [
        " 469\n",
        " t index = "
       ]
      },
      {
       "output_type": "stream",
       "stream": "stdout",
       "text": [
        " 470\n",
        " t index = "
       ]
      },
      {
       "output_type": "stream",
       "stream": "stdout",
       "text": [
        " 471\n",
        " t index = "
       ]
      },
      {
       "output_type": "stream",
       "stream": "stdout",
       "text": [
        " 472\n",
        " t index = "
       ]
      },
      {
       "output_type": "stream",
       "stream": "stdout",
       "text": [
        " 473\n",
        " t index = "
       ]
      },
      {
       "output_type": "stream",
       "stream": "stdout",
       "text": [
        " 474\n",
        " t index = "
       ]
      },
      {
       "output_type": "stream",
       "stream": "stdout",
       "text": [
        " 475\n",
        " t index = "
       ]
      },
      {
       "output_type": "stream",
       "stream": "stdout",
       "text": [
        " 476\n",
        " t index = "
       ]
      },
      {
       "output_type": "stream",
       "stream": "stdout",
       "text": [
        " 477\n",
        " t index = "
       ]
      },
      {
       "output_type": "stream",
       "stream": "stdout",
       "text": [
        " 478\n",
        " t index = "
       ]
      },
      {
       "output_type": "stream",
       "stream": "stdout",
       "text": [
        " 479\n",
        " t index = "
       ]
      },
      {
       "output_type": "stream",
       "stream": "stdout",
       "text": [
        " 480\n",
        " t index = "
       ]
      },
      {
       "output_type": "stream",
       "stream": "stdout",
       "text": [
        " 481\n",
        " t index = "
       ]
      },
      {
       "output_type": "stream",
       "stream": "stdout",
       "text": [
        " 482\n",
        " t index = "
       ]
      },
      {
       "output_type": "stream",
       "stream": "stdout",
       "text": [
        " 483\n",
        " t index = "
       ]
      },
      {
       "output_type": "stream",
       "stream": "stdout",
       "text": [
        " 484\n",
        " t index = "
       ]
      },
      {
       "output_type": "stream",
       "stream": "stdout",
       "text": [
        " 485\n",
        " t index = "
       ]
      },
      {
       "output_type": "stream",
       "stream": "stdout",
       "text": [
        " 486\n",
        " t index = "
       ]
      },
      {
       "output_type": "stream",
       "stream": "stdout",
       "text": [
        " 487\n",
        " t index = "
       ]
      },
      {
       "output_type": "stream",
       "stream": "stdout",
       "text": [
        " 488\n",
        " t index = "
       ]
      },
      {
       "output_type": "stream",
       "stream": "stdout",
       "text": [
        " 489\n",
        " t index = "
       ]
      },
      {
       "output_type": "stream",
       "stream": "stdout",
       "text": [
        " 490\n",
        " t index = "
       ]
      },
      {
       "output_type": "stream",
       "stream": "stdout",
       "text": [
        " 491\n",
        " t index = "
       ]
      },
      {
       "output_type": "stream",
       "stream": "stdout",
       "text": [
        " 492\n",
        " t index = "
       ]
      },
      {
       "output_type": "stream",
       "stream": "stdout",
       "text": [
        " 493\n",
        " t index = "
       ]
      },
      {
       "output_type": "stream",
       "stream": "stdout",
       "text": [
        " 494\n",
        " t index = "
       ]
      },
      {
       "output_type": "stream",
       "stream": "stdout",
       "text": [
        " 495\n",
        " t index = "
       ]
      },
      {
       "output_type": "stream",
       "stream": "stdout",
       "text": [
        " 496\n",
        " t index = "
       ]
      },
      {
       "output_type": "stream",
       "stream": "stdout",
       "text": [
        " 497\n",
        " t index = "
       ]
      },
      {
       "output_type": "stream",
       "stream": "stdout",
       "text": [
        " 498\n",
        " t index = "
       ]
      },
      {
       "output_type": "stream",
       "stream": "stdout",
       "text": [
        " 499\n",
        " t index = "
       ]
      },
      {
       "output_type": "stream",
       "stream": "stdout",
       "text": [
        " 500\n",
        " running time = "
       ]
      },
      {
       "output_type": "stream",
       "stream": "stdout",
       "text": [
        " 545.31754965 min\n"
       ]
      }
     ],
     "prompt_number": 11
    },
    {
     "cell_type": "code",
     "collapsed": false,
     "input": [
      "W = instance.W11_init_gpu.get() + instance.W22_init_gpu.get() + instance.W33_init_gpu.get() + instance.W44_init_gpu.get()"
     ],
     "language": "python",
     "metadata": {},
     "outputs": [],
     "prompt_number": 12
    },
    {
     "cell_type": "code",
     "collapsed": false,
     "input": [
      "np.sum(W).real*instance.dx*instance.dy*instance.dp_x*instance.dp_y"
     ],
     "language": "python",
     "metadata": {},
     "outputs": [
      {
       "metadata": {},
       "output_type": "pyout",
       "prompt_number": 13,
       "text": [
        "0.99999999999999811"
       ]
      }
     ],
     "prompt_number": 13
    },
    {
     "cell_type": "code",
     "collapsed": false,
     "input": [
      "# Phase space y \n",
      "plt.imshow( W[:,:,instance.gridDIM_x/2, instance.gridDIM_x/2 ].real, \n",
      "           extent=[-instance.y_amplitude , instance.y_amplitude-instance.dy,\n",
      "                   -instance.p_y_amplitude, instance.p_y_amplitude-instance.dp_y] ,\n",
      "           origin='lower', interpolation='none')\n",
      "\n",
      "axis_font = {'size':'24'}\n",
      "plt.title( '$W$' , **axis_font)\n",
      "plt.xlabel('$y$',**axis_font)\n",
      "plt.ylabel('$p_y$',**axis_font)\n",
      "\n",
      "plt.colorbar()\n",
      "plt.axes().set_aspect(4)"
     ],
     "language": "python",
     "metadata": {},
     "outputs": [
      {
       "metadata": {},
       "output_type": "display_data",
       "png": "[encoded data removed]",
       "text": [
        "<matplotlib.figure.Figure at 0x7ff8f4861950>"
       ]
      }
     ],
     "prompt_number": 14
    },
    {
     "cell_type": "code",
     "collapsed": false,
     "input": [
      "# Phase space x\n",
      "plt.imshow( W[instance.gridDIM_y/2, instance.gridDIM_y/2, :, : ].real, \n",
      "           extent=[-instance.x_amplitude , instance.x_amplitude-instance.dx,\n",
      "                   -instance.p_x_amplitude, instance.p_x_amplitude-instance.dp_x] ,\n",
      "           origin='lower', interpolation='none')\n",
      "\n",
      "axis_font = {'size':'24'}\n",
      "plt.title( '$W$' , **axis_font)\n",
      "plt.xlabel('$x$',**axis_font)\n",
      "plt.ylabel('$p_x$',**axis_font)\n",
      "\n",
      "plt.colorbar()\n",
      "plt.axes().set_aspect(4)"
     ],
     "language": "python",
     "metadata": {},
     "outputs": [
      {
       "metadata": {},
       "output_type": "display_data",
       "png": "[encoded data removed]",
       "text": [
        "<matplotlib.figure.Figure at 0x7ff8f43a7250>"
       ]
      }
     ],
     "prompt_number": 15
    },
    {
     "cell_type": "code",
     "collapsed": false,
     "input": [
      "# Configuration space  \n",
      "plt.imshow( W[ instance.gridDIM_y/2 , : , instance.gridDIM_x/2 , : ].real, \n",
      "           extent=[-instance.x_amplitude , instance.x_amplitude-instance.dx,\n",
      "                   -instance.y_amplitude , instance.y_amplitude-instance.dy] ,\n",
      "           origin='lower', interpolation='none')\n",
      "\n",
      "axis_font = {'size':'24'}\n",
      "plt.title( '$W$' , **axis_font)\n",
      "plt.xlabel('$x$',**axis_font)\n",
      "plt.ylabel('$y$',**axis_font)\n",
      "plt.axes().set_aspect(1)\n",
      "plt.colorbar()"
     ],
     "language": "python",
     "metadata": {},
     "outputs": [
      {
       "metadata": {},
       "output_type": "pyout",
       "prompt_number": 16,
       "text": [
        "<matplotlib.colorbar.Colorbar at 0x7ff8efc7e510>"
       ]
      },
      {
       "metadata": {},
       "output_type": "display_data",
       "png": "[encoded data removed]",
       "text": [
        "<matplotlib.figure.Figure at 0x7ff8f436ecd0>"
       ]
      }
     ],
     "prompt_number": 16
    },
    {
     "cell_type": "code",
     "collapsed": false,
     "input": [
      "# Momentum space  \n",
      "plt.imshow( W[ :, instance.gridDIM_y/2 ,  :, instance.gridDIM_x/2 ].real, \n",
      "           extent=[-instance.p_x_amplitude , instance.p_x_amplitude-instance.dp_x,\n",
      "                   -instance.p_y_amplitude , instance.p_y_amplitude-instance.dp_y] ,\n",
      "           origin='lower', interpolation='none')\n",
      "\n",
      "axis_font = {'size':'24'}\n",
      "plt.title( '$W$' , **axis_font)\n",
      "plt.xlabel('$p_x$',**axis_font)\n",
      "plt.ylabel('$p_y$',**axis_font)\n",
      "plt.axes().set_aspect(1)\n",
      "plt.colorbar()"
     ],
     "language": "python",
     "metadata": {},
     "outputs": [
      {
       "metadata": {},
       "output_type": "pyout",
       "prompt_number": 17,
       "text": [
        "<matplotlib.colorbar.Colorbar at 0x7ff8effd03d0>"
       ]
      },
      {
       "metadata": {},
       "output_type": "display_data",
       "png": "[encoded data removed]",
       "text": [
        "<matplotlib.figure.Figure at 0x7ff8efd14c90>"
       ]
      }
     ],
     "prompt_number": 17
    },
    {
     "cell_type": "code",
     "collapsed": false,
     "input": [
      "plt.plot( instance.average_x  , label=\"$x$\")\n",
      "\n",
      "plt.plot( instance.average_y  , label=\"$y$\")\n",
      "\n",
      "plt.ylabel(\"$x$\")\n",
      "plt.xlabel(\"t\")\n",
      "plt.legend(fontsize=20) "
     ],
     "language": "python",
     "metadata": {},
     "outputs": [
      {
       "metadata": {},
       "output_type": "pyout",
       "prompt_number": 37,
       "text": [
        "<matplotlib.legend.Legend at 0x7ff8ef21eb50>"
       ]
      },
      {
       "metadata": {},
       "output_type": "display_data",
       "png": "[encoded data removed]",
       "text": [
        "<matplotlib.figure.Figure at 0x7ff8ef29d4d0>"
       ]
      }
     ],
     "prompt_number": 37
    },
    {
     "cell_type": "code",
     "collapsed": false,
     "input": [
      "plt.plot( instance.average_p_x , label=\"$p_x$\")\n",
      "plt.plot( instance.average_p_y , label=\"$p_y$\")\n",
      "plt.ylabel(\"$p_x$\")\n",
      "plt.xlabel(\"t\")\n",
      "plt.ylim(-1,3)\n",
      "plt.legend(fontsize=20) "
     ],
     "language": "python",
     "metadata": {},
     "outputs": [
      {
       "metadata": {},
       "output_type": "pyout",
       "prompt_number": 36,
       "text": [
        "<matplotlib.legend.Legend at 0x7ff8ef2d5090>"
       ]
      },
      {
       "metadata": {},
       "output_type": "display_data",
       "png": "[encoded data removed]",
       "text": [
        "<matplotlib.figure.Figure at 0x7ff8ef3c0390>"
       ]
      }
     ],
     "prompt_number": 36
    },
    {
     "cell_type": "code",
     "collapsed": false,
     "input": [
      "instance.average_x.shape"
     ],
     "language": "python",
     "metadata": {},
     "outputs": [
      {
       "metadata": {},
       "output_type": "pyout",
       "prompt_number": 22,
       "text": [
        "(501,)"
       ]
      }
     ],
     "prompt_number": 22
    },
    {
     "cell_type": "code",
     "collapsed": false,
     "input": [
      "print 'initial velocity x = ', 2/np.sqrt( 1 + 2**2 + 2**2  )\n",
      "\n",
      "plt.figure(figsize=(8,8))\n",
      "\n",
      "plt.plot(  np.gradient( instance.average_x , instance.dt)  , label=\"$\\\\frac{dx}{dt}$\")\n",
      "#plt.plot( instance.average_p_x/instance.mass, 'r--' , label=\"$\\\\frac{p_x}{m}$\")\n",
      "plt.plot( instance.average_Alpha_1 ,'r--', label=\"$\\\\alpha^1$\")\n",
      "plt.ylabel(\"$x$\")\n",
      "plt.xlabel(\"t\")\n",
      "\n",
      "plt.ylim(0.64,0.9)\n",
      "plt.legend(fontsize=30) "
     ],
     "language": "python",
     "metadata": {},
     "outputs": [
      {
       "output_type": "stream",
       "stream": "stdout",
       "text": [
        "initial velocity x =  0.666666666667\n"
       ]
      },
      {
       "metadata": {},
       "output_type": "pyout",
       "prompt_number": 33,
       "text": [
        "<matplotlib.legend.Legend at 0x7ff8ef50eb90>"
       ]
      },
      {
       "metadata": {},
       "output_type": "display_data",
       "png": "[encoded data removed]",
       "text": [
        "<matplotlib.figure.Figure at 0x7ff8ef675110>"
       ]
      }
     ],
     "prompt_number": 33
    },
    {
     "cell_type": "code",
     "collapsed": false,
     "input": [
      "print 'initial velocity y = ', 2/np.sqrt( 1 + 2**2 + 2**2  )\n",
      "\n",
      "plt.figure(figsize=(8,8))\n",
      "\n",
      "plt.plot(  np.gradient( instance.average_y , instance.dt )  , label=\"$\\\\frac{dy}{dt}$\")\n",
      "#plt.plot( instance.average_p_x/instance.mass, 'r--' , label=\"$\\\\frac{p_x}{m}$\")\n",
      "plt.plot( instance.average_Alpha_2 ,'r--', label=\"$\\\\alpha^2$\")\n",
      "plt.ylabel(\"$x$\")\n",
      "plt.xlabel(\"t\")\n",
      "\n",
      "plt.ylim(-0.3,0.1)\n",
      "\n",
      "plt.legend(fontsize=30) "
     ],
     "language": "python",
     "metadata": {},
     "outputs": [
      {
       "output_type": "stream",
       "stream": "stdout",
       "text": [
        "initial velocity y =  0.666666666667\n"
       ]
      },
      {
       "metadata": {},
       "output_type": "pyout",
       "prompt_number": 31,
       "text": [
        "<matplotlib.legend.Legend at 0x7ff8ef6dcd90>"
       ]
      },
      {
       "metadata": {},
       "output_type": "display_data",
       "png": "[encoded data removed]",
       "text": [
        "<matplotlib.figure.Figure at 0x7ff8ef757810>"
       ]
      }
     ],
     "prompt_number": 31
    },
    {
     "cell_type": "code",
     "collapsed": false,
     "input": [
      "plt.figure(figsize=(8,8))\n",
      "\n",
      "plt.plot(  instance.energyKinetic , label=\"$Kinetic\\, Energy$\")\n",
      "plt.plot(  instance.energyPotential+instance.energyKinetic , 'r--',label=\"$Total\\, Energy$\")\n",
      "\n",
      "plt.ylabel(\"$E$\")\n",
      "plt.xlabel(\"t\")\n",
      "plt.ylim(0,2)\n",
      "plt.legend(fontsize=30) "
     ],
     "language": "python",
     "metadata": {},
     "outputs": [
      {
       "metadata": {},
       "output_type": "pyout",
       "prompt_number": 34,
       "text": [
        "<matplotlib.legend.Legend at 0x7ff8ef450e90>"
       ]
      },
      {
       "metadata": {},
       "output_type": "display_data",
       "png": "[encoded data removed]",
       "text": [
        "<matplotlib.figure.Figure at 0x7ff8ef604050>"
       ]
      }
     ],
     "prompt_number": 34
    },
    {
     "cell_type": "code",
     "collapsed": false,
     "input": [
      "plt.figure(figsize=(8,8))\n",
      "\n",
      "plt.plot(  instance.energyPotential , label=\"$Potential\\, Energy$\")\n",
      "plt.ylabel(\"$E$\")\n",
      "plt.xlabel(\"t\")\n",
      "plt.ylim(-1,3)\n",
      "plt.legend(fontsize=30) "
     ],
     "language": "python",
     "metadata": {},
     "outputs": [
      {
       "metadata": {},
       "output_type": "pyout",
       "prompt_number": 26,
       "text": [
        "<matplotlib.legend.Legend at 0x7ff8eff3e090>"
       ]
      },
      {
       "metadata": {},
       "output_type": "display_data",
       "png": "[encoded data removed]",
       "text": [
        "<matplotlib.figure.Figure at 0x7ff8eff641d0>"
       ]
      }
     ],
     "prompt_number": 26
    },
    {
     "cell_type": "code",
     "collapsed": false,
     "input": [
      "plt.figure(figsize=(8,8))\n",
      "\n",
      "plt.plot(  instance.average_x_square , label=\"$x^2$\")\n",
      "plt.plot(  instance.average_y_square , label=\"$y^2$\")\n",
      "plt.ylabel(\"$E$\")\n",
      "plt.xlabel(\"t\")\n",
      "plt.ylim(0,4.5)\n",
      "plt.legend(fontsize=30) "
     ],
     "language": "python",
     "metadata": {},
     "outputs": [
      {
       "metadata": {},
       "output_type": "pyout",
       "prompt_number": 27,
       "text": [
        "<matplotlib.legend.Legend at 0x7ff8ef97a1d0>"
       ]
      },
      {
       "metadata": {},
       "output_type": "display_data",
       "png": "[encoded data removed]",
       "text": [
        "<matplotlib.figure.Figure at 0x7ff8efa2fe50>"
       ]
      }
     ],
     "prompt_number": 27
    },
    {
     "cell_type": "code",
     "collapsed": false,
     "input": [
      "plt.figure(figsize=(8,8))\n",
      "\n",
      "plt.plot(  instance.average_p_x_square , label=\"$p_x^2$\")\n",
      "plt.plot(  instance.average_p_y_square , label=\"$p_y^2$\")\n",
      "plt.ylabel(\"$E$\")\n",
      "plt.xlabel(\"t\")\n",
      "plt.ylim(0,4.5)\n",
      "plt.legend(fontsize=30) "
     ],
     "language": "python",
     "metadata": {},
     "outputs": [
      {
       "metadata": {},
       "output_type": "pyout",
       "prompt_number": 28,
       "text": [
        "<matplotlib.legend.Legend at 0x7ff8ef84a510>"
       ]
      },
      {
       "metadata": {},
       "output_type": "display_data",
       "png": "[encoded data removed]",
       "text": [
        "<matplotlib.figure.Figure at 0x7ff8ef9a9f90>"
       ]
      }
     ],
     "prompt_number": 28
    },
    {
     "cell_type": "code",
     "collapsed": false,
     "input": [
      "2/np.sqrt( 1 + 2**2 + 2**2  )"
     ],
     "language": "python",
     "metadata": {},
     "outputs": [
      {
       "metadata": {},
       "output_type": "pyout",
       "prompt_number": 29,
       "text": [
        "0.66666666666666663"
       ]
      }
     ],
     "prompt_number": 29
    },
    {
     "cell_type": "code",
     "collapsed": false,
     "input": [],
     "language": "python",
     "metadata": {},
     "outputs": [],
     "prompt_number": 29
    }
   ],
   "metadata": {}
  }
 ]
}