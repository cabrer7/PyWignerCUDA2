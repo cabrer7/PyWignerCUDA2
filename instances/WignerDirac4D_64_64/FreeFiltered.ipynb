{
 "metadata": {
  "name": "",
  "signature": "sha256:54f27849d0e400c078045983f29aee2cffa1730e49c33d4b0e297b6d2267f352"
 },
 "nbformat": 3,
 "nbformat_minor": 0,
 "worksheets": [
  {
   "cells": [
    {
     "cell_type": "heading",
     "level": 1,
     "metadata": {},
     "source": [
      "$x^2$ potential"
     ]
    },
    {
     "cell_type": "code",
     "collapsed": false,
     "input": [
      "import pickle\n",
      "import numpy as np\n",
      "import pycuda.gpuarray as gpuarray\n",
      "import pycuda.cumath as cumath\n",
      "from scipy.special import hyp1f1\n",
      "import scipy.fftpack as fftpack\n",
      "import pylab as plt\n",
      "import time\n",
      "\n",
      "#-------------------------------------------------------------------------------------\n",
      "from pywignercuda_path import SetPyWignerCUDA_Path\n",
      "SetPyWignerCUDA_Path()\n",
      "\n",
      "from GPU_WignerDirac4D import *"
     ],
     "language": "python",
     "metadata": {},
     "outputs": [
      {
       "output_type": "stream",
       "stream": "stdout",
       "text": [
        " PyWignerCUDA PATH =  /home/rcabrera/Documents/source/Python/PyWignerCUDA2\n"
       ]
      }
     ],
     "prompt_number": 1
    },
    {
     "cell_type": "code",
     "collapsed": false,
     "input": [
      "%matplotlib inline"
     ],
     "language": "python",
     "metadata": {},
     "outputs": [],
     "prompt_number": 2
    },
    {
     "cell_type": "code",
     "collapsed": false,
     "input": [
      "500*0.002"
     ],
     "language": "python",
     "metadata": {},
     "outputs": [
      {
       "metadata": {},
       "output_type": "pyout",
       "prompt_number": 3,
       "text": [
        "1.0"
       ]
      }
     ],
     "prompt_number": 3
    },
    {
     "cell_type": "heading",
     "level": 2,
     "metadata": {},
     "source": [
      "Settings"
     ]
    },
    {
     "cell_type": "code",
     "collapsed": false,
     "input": [
      "class frame( GPU_WignerDirac4D ):\n",
      "    def __init__ (self):\n",
      "        \n",
      "        \n",
      "        self.gridDIM_p_y = 64      #axis 0\n",
      "        self.gridDIM_y   = 64      #axis 1    \n",
      "        self.gridDIM_p_x = 64     #axis 2\n",
      "        self.gridDIM_x   = 64     #axis 3\n",
      "    \n",
      "        self.skipFrames = 1\n",
      "        self.dt         = 0.002\n",
      "        self.timeSteps  =   500\n",
      "    \n",
      "        # Phase space window \n",
      "        self.p_y_amplitude = 4.          #axis 0\n",
      "        self.y_amplitude   = 16.          #axis 1\n",
      "        self.p_x_amplitude = 4.         #axis 2\n",
      "        self.x_amplitude   = 16.        #axis 3\n",
      "        \n",
      "        # Ambiguity space window \n",
      "        self.theta_y_amplitude  = 22.     #axis 0             \n",
      "        self.lambda_y_amplitude = 6.     #axis 1\n",
      "        self.theta_x_amplitude  = 22.    #axis 2\n",
      "        self.lambda_x_amplitude = 6.    #axis 3\n",
      "           \n",
      "        # Dynamics    \n",
      "        self.c       = 1.    \n",
      "        self.HBar    = 1.\n",
      "        \n",
      "        self.mass    = 1.\n",
      "        self.omega_x = 1.\n",
      "        self.omega_y = 1.\n",
      "        \n",
      "        self.kineticString  = '0.5*(p_x*p_x  + p_y*p_y)/{mass}'.format(mass=self.mass)\n",
      "        \n",
      "        self.potential_0_String  = 'x*0'    \n",
      "        self.potential_1_String  = 'x*0'\n",
      "        self.potential_2_String  = 'x*0' \n",
      "            \n",
      "        # Dephasing     \n",
      "        self.D_theta_x  = 0.0001 \n",
      "        self.D_theta_y  = 0.0001 \n",
      "        self.D_lambda_x = 0.0001 \n",
      "        self.D_lambda_y = 0.0001 \n",
      "            \n",
      "        GPU_WignerDirac4D.__init__(self)\n",
      "        \n",
      "    def Set_Initial_Condition(self):\n",
      "        \"\"\"\n",
      "        Sets   self.PsiInitial_XP with the Wigner function of the Harmonic oscillator  \n",
      "        \"\"\"\n",
      "        \n",
      "        self.FilterParticle = False #1  #------------------------Filter-----------------------    \n",
      "        \n",
      "        self.fileName = '/home/rcabrera/DATA/Wigner4D/' + 'HO.hdf5'\n",
      "        \n",
      "        x_mu    = 0.\n",
      "        y_mu    = 0.\n",
      "        x_sigma = 2.\n",
      "        y_sigma = 2.\n",
      "        \n",
      "        u_x = 1.\n",
      "        u_y = 0.\n",
      "\n",
      "        self.WignerDiracGaussian_ParticleUp_GPU(\n",
      "            self.W11 ,  self.W12 ,  self.W13 ,  self.W14 ,\n",
      "                        self.W22 ,  self.W23 ,  self.W24 ,\n",
      "                                    self.W33 ,  self.W34 , \n",
      "                                                self.W44 , u_x, u_y, x_mu, y_mu, x_sigma, y_sigma)\n",
      "        \n",
      "        self.Fourier_Theta_To_P_64_64_4x4_GPU(\n",
      "            self.W11 ,  self.W12 ,  self.W13 ,  self.W14 ,\n",
      "                        self.W22 ,  self.W23 ,  self.W24 ,\n",
      "                                    self.W33 ,  self.W34 , \n",
      "                                                self.W44 )\n",
      "        \n",
      "        \n",
      "        self.Normalize_4x4_GPU(\n",
      "            self.W11 ,  self.W12 ,  self.W13 ,  self.W14 ,\n",
      "                        self.W22 ,  self.W23 ,  self.W24 ,\n",
      "                                    self.W33 ,  self.W34 , \n",
      "                                                self.W44 )\n",
      "        \n",
      "    def Set_Initial_Condition_FilterParticle(self):\n",
      "        \"\"\"\n",
      "        Sets   self.PsiInitial_XP with the Wigner function of the Harmonic oscillator  \n",
      "        \"\"\"\n",
      "        \n",
      "        self.FilterParticle = False  #------------------------Filter-----------------------    \n",
      "        \n",
      "        self.fileName = '/home/rcabrera/DATA/Wigner4D/' + 'HO.hdf5'\n",
      "        \n",
      "        x_mu    = 0.\n",
      "        y_mu    = 0.\n",
      "        x_sigma = 2.\n",
      "        y_sigma = 2.\n",
      "        \n",
      "        u_x = 1.\n",
      "        u_y = 0.\n",
      "\n",
      "        self.WignerDiracGaussian_ParticleUp_GPU(\n",
      "            self.W11 ,  self.W12 ,  self.W13 ,  self.W14 ,\n",
      "                        self.W22 ,  self.W23 ,  self.W24 ,\n",
      "                                    self.W33 ,  self.W34 , \n",
      "                                                self.W44 , u_x, u_y, x_mu, y_mu, x_sigma, y_sigma)\n",
      "        \n",
      "        self.Fourier_Theta_To_P_64_64_4x4_GPU(\n",
      "            self.W11 ,  self.W12 ,  self.W13 ,  self.W14 ,\n",
      "                        self.W22 ,  self.W23 ,  self.W24 ,\n",
      "                                    self.W33 ,  self.W34 , \n",
      "                                                self.W44 )\n",
      "        \n",
      "        sign = np.int32(1)    \n",
      "        #------------------------  p x  ->  p lambda --------------------------------------------\n",
      "        self.Fourier_X_To_Lambda_64_64_4x4_GPU(\n",
      "            self.W11 ,  self.W12 ,  self.W13 ,  self.W14 ,\n",
      "                        self.W22 ,  self.W23 ,  self.W24 ,\n",
      "                                    self.W33 ,  self.W34 , \n",
      "                                                self.W44 )\n",
      "        # --------------------------------Filter-------------------------------------------------\n",
      "        self.ParticleProjector_GPU( self.W11,self.W12,self.W13,self.W14,\n",
      "                                             self.W22,self.W23,self.W24,\n",
      "                                                      self.W33,self.W34, self.W44, sign)\n",
      "        #-------------------------p lambda -> p x  ----------------------------------------------\n",
      "        self.Fourier_Lambda_To_X_64_64_4x4_GPU(\n",
      "            self.W11 ,  self.W12 ,  self.W13 ,  self.W14 ,\n",
      "                        self.W22 ,  self.W23 ,  self.W24 ,\n",
      "                                    self.W33 ,  self.W34 , \n",
      "                                                self.W44 )\n",
      "        #----------------------------------------------------------------------------------------\n",
      "        \n",
      "        self.Normalize_4x4_GPU(\n",
      "            self.W11 ,  self.W12 ,  self.W13 ,  self.W14 ,\n",
      "                        self.W22 ,  self.W23 ,  self.W24 ,\n",
      "                                    self.W33 ,  self.W34 , \n",
      "                                                self.W44 )\n",
      "        \n",
      "        "
     ],
     "language": "python",
     "metadata": {},
     "outputs": [],
     "prompt_number": 4
    },
    {
     "cell_type": "heading",
     "level": 2,
     "metadata": {},
     "source": [
      "Initialize"
     ]
    },
    {
     "cell_type": "code",
     "collapsed": false,
     "input": [
      "instance = frame()"
     ],
     "language": "python",
     "metadata": {},
     "outputs": [
      {
       "output_type": "stream",
       "stream": "stdout",
       "text": [
        "\n",
        "__device__ double c      = 1.000000;   __device__ double HBar   = 1.000000;   __device__ double dt   = 0.002000;   __device__ double mass = 1.000000; \n",
        "__device__ double dp_y   = 0.125000; __device__ double dy     = 0.500000; __device__ double dp_x   = 0.125000; __device__ double dx     = 0.500000; \n",
        "__device__ double dtheta_y   = 0.687500; __device__ double dlambda_y  = 0.187500; __device__ double dtheta_x   = 0.687500; __device__ double dlambda_x  = 0.187500; \n",
        "__device__ int gridDIM_x = 64; __device__ int gridDIM_y = 64; __device__ double D_lambda_x = 0.000100; __device__ double D_lambda_y = 0.000100; __device__ double D_theta_x  = 0.000100; __device__ double D_theta_y  = 0.000100; \n",
        "\n",
        "\n",
        "         GPU memory Total                5.17700195312 GB\n",
        "         GPU memory Free  (Before)       5.13043212891 GB\n",
        "         GPU memory Free  (After)       "
       ]
      },
      {
       "output_type": "stream",
       "stream": "stdout",
       "text": [
        " 2.62945556641 GB\n"
       ]
      }
     ],
     "prompt_number": 5
    },
    {
     "cell_type": "code",
     "collapsed": false,
     "input": [
      "#instance.Set_Initial_Condition()\n",
      "instance.Set_Initial_Condition_FilterParticle()"
     ],
     "language": "python",
     "metadata": {},
     "outputs": [
      {
       "output_type": "stream",
       "stream": "stdout",
       "text": [
        "\t\t\t Norm =  (4941973.06631-7.89218823392e-09j)\n"
       ]
      }
     ],
     "prompt_number": 6
    },
    {
     "cell_type": "markdown",
     "metadata": {},
     "source": [
      "********************************************"
     ]
    },
    {
     "cell_type": "code",
     "collapsed": false,
     "input": [
      "W = instance.W11 .get() + instance.W22 .get() + instance.W33 .get() + instance.W44 .get()"
     ],
     "language": "python",
     "metadata": {},
     "outputs": [],
     "prompt_number": 7
    },
    {
     "cell_type": "code",
     "collapsed": false,
     "input": [
      "# Phase space x\n",
      "plt.imshow( W[::,::,instance.gridDIM_x/2, instance.gridDIM_x/2 ].real, \n",
      "           extent=[-instance.y_amplitude , instance.y_amplitude-instance.dy,\n",
      "                   -instance.p_y_amplitude, instance.p_y_amplitude-instance.dp_y] ,\n",
      "           origin='lower', interpolation='none')\n",
      "\n",
      "axis_font = {'size':'24'}\n",
      "plt.title( '$W$' , **axis_font)\n",
      "plt.xlabel('$y$',**axis_font)\n",
      "plt.ylabel('$p_y$',**axis_font)\n",
      "\n",
      "plt.colorbar()\n",
      "plt.axes().set_aspect(4)"
     ],
     "language": "python",
     "metadata": {},
     "outputs": [
      {
       "metadata": {},
       "output_type": "display_data",
       "png": "[encoded data removed]",
       "text": [
        "<matplotlib.figure.Figure at 0x7f1f8e759350>"
       ]
      }
     ],
     "prompt_number": 8
    },
    {
     "cell_type": "code",
     "collapsed": false,
     "input": [
      "# Phase space y\n",
      "plt.imshow( W[instance.gridDIM_y/2, instance.gridDIM_y/2, :, : ].real, \n",
      "           extent=[-instance.x_amplitude , instance.x_amplitude-instance.dx,\n",
      "                   -instance.p_x_amplitude, instance.p_x_amplitude-instance.dp_x] ,\n",
      "           origin='lower', interpolation='none')\n",
      "\n",
      "axis_font = {'size':'24'}\n",
      "plt.title( '$W$' , **axis_font)\n",
      "plt.xlabel('$x$',**axis_font)\n",
      "plt.ylabel('$p_x$',**axis_font)\n",
      "\n",
      "plt.colorbar()\n",
      "plt.axes().set_aspect(4)"
     ],
     "language": "python",
     "metadata": {},
     "outputs": [
      {
       "metadata": {},
       "output_type": "display_data",
       "png": "[encoded data removed]",
       "text": [
        "<matplotlib.figure.Figure at 0x7f1f8e7d6310>"
       ]
      }
     ],
     "prompt_number": 9
    },
    {
     "cell_type": "code",
     "collapsed": false,
     "input": [
      "# Configuration space  \n",
      "plt.imshow( W[ instance.gridDIM_y/2 , : , instance.gridDIM_x/2 , : ].real, \n",
      "           extent=[-instance.x_amplitude , instance.x_amplitude-instance.dx,\n",
      "                   -instance.y_amplitude , instance.y_amplitude-instance.dy] ,\n",
      "           origin='lower', interpolation='none')\n",
      "\n",
      "axis_font = {'size':'24'}\n",
      "plt.title( '$W$' , **axis_font)\n",
      "plt.xlabel('$x$',**axis_font)\n",
      "plt.ylabel('$y$',**axis_font)\n",
      "plt.axes().set_aspect(1)\n",
      "plt.colorbar()"
     ],
     "language": "python",
     "metadata": {},
     "outputs": [
      {
       "metadata": {},
       "output_type": "pyout",
       "prompt_number": 10,
       "text": [
        "<matplotlib.colorbar.Colorbar at 0x7f1f8e0e6b10>"
       ]
      },
      {
       "metadata": {},
       "output_type": "display_data",
       "png": "[encoded data removed]",
       "text": [
        "<matplotlib.figure.Figure at 0x7f1f8e225210>"
       ]
      }
     ],
     "prompt_number": 10
    },
    {
     "cell_type": "code",
     "collapsed": false,
     "input": [
      "# Momentum space  \n",
      "plt.imshow( W[ :, instance.gridDIM_y/2 ,  :, instance.gridDIM_x/2 ].real, \n",
      "           extent=[-instance.p_x_amplitude , instance.p_x_amplitude-instance.dp_x,\n",
      "                   -instance.p_y_amplitude , instance.p_y_amplitude-instance.dp_y] ,\n",
      "           origin='lower', interpolation='none')\n",
      "\n",
      "axis_font = {'size':'24'}\n",
      "plt.title( '$W$' , **axis_font)\n",
      "plt.xlabel('$p_x$',**axis_font)\n",
      "plt.ylabel('$p_y$',**axis_font)\n",
      "plt.axes().set_aspect(1)\n",
      "plt.colorbar()"
     ],
     "language": "python",
     "metadata": {},
     "outputs": [
      {
       "metadata": {},
       "output_type": "pyout",
       "prompt_number": 11,
       "text": [
        "<matplotlib.colorbar.Colorbar at 0x7f1f8e3c8a90>"
       ]
      },
      {
       "metadata": {},
       "output_type": "display_data",
       "png": "[encoded data removed]",
       "text": [
        "<matplotlib.figure.Figure at 0x7f1f8e187810>"
       ]
      }
     ],
     "prompt_number": 11
    },
    {
     "cell_type": "markdown",
     "metadata": {},
     "source": [
      "RUN"
     ]
    },
    {
     "cell_type": "code",
     "collapsed": false,
     "input": [
      "t_init = time.time()\n",
      "\n",
      "instance.Run()\n",
      "\n",
      "print ' running time = ', (time.time() - t_init)/60. , 'min'"
     ],
     "language": "python",
     "metadata": {},
     "outputs": [
      {
       "output_type": "stream",
       "stream": "stdout",
       "text": [
        "         GPU memory Total        5.17700195312 GB\n",
        "         GPU memory Free         2.62811279297 GB\n",
        " t index =  0\n",
        "\t\t\t Norm =  (1+5.72030203809e-19j)\n",
        " t index = "
       ]
      },
      {
       "output_type": "stream",
       "stream": "stdout",
       "text": [
        " 1\n",
        "\t\t\t Norm =  (109.661724959-2.54973125946e-13j)\n",
        " t index = "
       ]
      },
      {
       "output_type": "stream",
       "stream": "stdout",
       "text": [
        " 2\n",
        "\t\t\t Norm =  (109.66172496-2.56418150602e-13j)\n",
        " t index = "
       ]
      },
      {
       "output_type": "stream",
       "stream": "stdout",
       "text": [
        " 3\n",
        "\t\t\t Norm =  (109.661724961-2.55078944078e-13j)\n",
        " t index = "
       ]
      },
      {
       "output_type": "stream",
       "stream": "stdout",
       "text": [
        " 4\n",
        "\t\t\t Norm =  (109.661724962-2.55771098745e-13j)\n",
        " t index = "
       ]
      },
      {
       "output_type": "stream",
       "stream": "stdout",
       "text": [
        " 5\n",
        "\t\t\t Norm =  (109.661724963-2.55306192853e-13j)\n",
        " t index = "
       ]
      },
      {
       "output_type": "stream",
       "stream": "stdout",
       "text": [
        " 6\n",
        "\t\t\t Norm =  (109.661724964-2.56071205906e-13j)\n",
        " t index = "
       ]
      },
      {
       "output_type": "stream",
       "stream": "stdout",
       "text": [
        " 7\n",
        "\t\t\t Norm =  (109.661724965-2.55542115246e-13j)\n",
        " t index = "
       ]
      },
      {
       "output_type": "stream",
       "stream": "stdout",
       "text": [
        " 8\n",
        "\t\t\t Norm =  (109.661724966-2.5490026756e-13j)\n",
        " t index = "
       ]
      },
      {
       "output_type": "stream",
       "stream": "stdout",
       "text": [
        " 9\n",
        "\t\t\t Norm =  (109.661724967-2.55771098745e-13j)\n",
        " t index = "
       ]
      },
      {
       "output_type": "stream",
       "stream": "stdout",
       "text": [
        " 10\n",
        "\t\t\t Norm =  (109.661724967-2.53540244355e-13j)\n",
        " t index = "
       ]
      },
      {
       "output_type": "stream",
       "stream": "stdout",
       "text": [
        " 11\n",
        "\t\t\t Norm =  (109.661724968-2.56052123948e-13j)\n",
        " t index = "
       ]
      },
      {
       "output_type": "stream",
       "stream": "stdout",
       "text": [
        " 12\n",
        "\t\t\t Norm =  (109.661724969-2.54303522684e-13j)\n",
        " t index = "
       ]
      },
      {
       "output_type": "stream",
       "stream": "stdout",
       "text": [
        " 13\n",
        "\t\t\t Norm =  (109.66172497-2.54973125946e-13j)\n",
        " t index = "
       ]
      },
      {
       "output_type": "stream",
       "stream": "stdout",
       "text": [
        " 14\n",
        "\t\t\t Norm =  (109.661724971-2.54428422775e-13j)\n",
        " t index = "
       ]
      },
      {
       "output_type": "stream",
       "stream": "stdout",
       "text": [
        " 15\n",
        "\t\t\t Norm =  (109.661724972-2.54008619693e-13j)\n",
        " t index = "
       ]
      },
      {
       "output_type": "stream",
       "stream": "stdout",
       "text": [
        " 16\n",
        "\t\t\t Norm =  (109.661724973-2.5505986212e-13j)\n",
        " t index = "
       ]
      },
      {
       "output_type": "stream",
       "stream": "stdout",
       "text": [
        " 17\n",
        "\t\t\t Norm =  (109.661724974-2.55684362571e-13j)\n",
        " t index = "
       ]
      },
      {
       "output_type": "stream",
       "stream": "stdout",
       "text": [
        " 18\n",
        "\t\t\t Norm =  (109.661724975-2.53699838915e-13j)\n",
        " t index = "
       ]
      },
      {
       "output_type": "stream",
       "stream": "stdout",
       "text": [
        " 19\n",
        "\t\t\t Norm =  (109.661724976-2.55767629298e-13j)\n",
        " t index = "
       ]
      },
      {
       "output_type": "stream",
       "stream": "stdout",
       "text": [
        " 20\n",
        "\t\t\t Norm =  (109.661724977-2.54726795212e-13j)\n",
        " t index = "
       ]
      },
      {
       "output_type": "stream",
       "stream": "stdout",
       "text": [
        " 21\n",
        "\t\t\t Norm =  (109.661724978-2.56086818418e-13j)\n",
        " t index = "
       ]
      },
      {
       "output_type": "stream",
       "stream": "stdout",
       "text": [
        " 22\n",
        "\t\t\t Norm =  (109.661724979-2.54921084242e-13j)\n",
        " t index = "
       ]
      },
      {
       "output_type": "stream",
       "stream": "stdout",
       "text": [
        " 23\n",
        "\t\t\t Norm =  (109.66172498-2.53672083339e-13j)\n",
        " t index = "
       ]
      },
      {
       "output_type": "stream",
       "stream": "stdout",
       "text": [
        " 24\n",
        "\t\t\t Norm =  (109.661724981-2.54962717605e-13j)\n",
        " t index = "
       ]
      },
      {
       "output_type": "stream",
       "stream": "stdout",
       "text": [
        " 25\n",
        "\t\t\t Norm =  (109.661724982-2.55698240359e-13j)\n",
        " t index = "
       ]
      },
      {
       "output_type": "stream",
       "stream": "stdout",
       "text": [
        " 26\n",
        "\t\t\t Norm =  (109.661724983-2.52631249253e-13j)\n",
        " t index = "
       ]
      },
      {
       "output_type": "stream",
       "stream": "stdout",
       "text": [
        " 27\n",
        "\t\t\t Norm =  (109.661724984-2.54671284061e-13j)\n",
        " t index = "
       ]
      },
      {
       "output_type": "stream",
       "stream": "stdout",
       "text": [
        " 28\n",
        "\t\t\t Norm =  (109.661724985-2.55795384874e-13j)\n",
        " t index = "
       ]
      },
      {
       "output_type": "stream",
       "stream": "stdout",
       "text": [
        " 29\n",
        "\t\t\t Norm =  (109.661724986-2.53838616793e-13j)\n",
        " t index = "
       ]
      },
      {
       "output_type": "stream",
       "stream": "stdout",
       "text": [
        " 30\n",
        "\t\t\t Norm =  (109.661724987-2.54588017334e-13j)\n",
        " t index = "
       ]
      },
      {
       "output_type": "stream",
       "stream": "stdout",
       "text": [
        " 31\n",
        "\t\t\t Norm =  (109.661724988-2.52867171646e-13j)\n",
        " t index = "
       ]
      },
      {
       "output_type": "stream",
       "stream": "stdout",
       "text": [
        " 32\n",
        "\t\t\t Norm =  (109.661724989-2.54102294761e-13j)\n",
        " t index = "
       ]
      },
      {
       "output_type": "stream",
       "stream": "stdout",
       "text": [
        " 33\n",
        "\t\t\t Norm =  (109.66172499-2.52367571285e-13j)\n",
        " t index = "
       ]
      },
      {
       "output_type": "stream",
       "stream": "stdout",
       "text": [
        " 34\n",
        "\t\t\t Norm =  (109.661724991-2.54657406273e-13j)\n",
        " t index = "
       ]
      },
      {
       "output_type": "stream",
       "stream": "stdout",
       "text": [
        " 35\n",
        "\t\t\t Norm =  (109.661724992-2.52353693497e-13j)\n",
        " t index = "
       ]
      },
      {
       "output_type": "stream",
       "stream": "stdout",
       "text": [
        " 36\n",
        "\t\t\t Norm =  (109.661724993-2.53019827312e-13j)\n",
        " t index = "
       ]
      },
      {
       "output_type": "stream",
       "stream": "stdout",
       "text": [
        " 37\n",
        "\t\t\t Norm =  (109.661724994-2.53908005732e-13j)\n",
        " t index = "
       ]
      },
      {
       "output_type": "stream",
       "stream": "stdout",
       "text": [
        " 38\n",
        "\t\t\t Norm =  (109.661724995-2.53685961127e-13j)\n",
        " t index = "
       ]
      },
      {
       "output_type": "stream",
       "stream": "stdout",
       "text": [
        " 39\n",
        "\t\t\t Norm =  (109.661724996-2.54254950427e-13j)\n",
        " t index = "
       ]
      },
      {
       "output_type": "stream",
       "stream": "stdout",
       "text": [
        " 40\n",
        "\t\t\t Norm =  (109.661724997-2.53005949524e-13j)\n",
        " t index = "
       ]
      },
      {
       "output_type": "stream",
       "stream": "stdout",
       "text": [
        " 41\n",
        "\t\t\t Norm =  (109.661724998-2.53519427673e-13j)\n",
        " t index = "
       ]
      },
      {
       "output_type": "stream",
       "stream": "stdout",
       "text": [
        " 42\n",
        "\t\t\t Norm =  (109.661724998-2.53838616793e-13j)\n",
        " t index = "
       ]
      },
      {
       "output_type": "stream",
       "stream": "stdout",
       "text": [
        " 43\n",
        "\t\t\t Norm =  (109.661724999-2.52381449073e-13j)\n",
        " t index = "
       ]
      },
      {
       "output_type": "stream",
       "stream": "stdout",
       "text": [
        " 44\n",
        "\t\t\t Norm =  (109.661725-2.53977394671e-13j)\n",
        " t index = "
       ]
      },
      {
       "output_type": "stream",
       "stream": "stdout",
       "text": [
        " 45\n",
        "\t\t\t Norm =  (109.661725001-2.5315860519e-13j)\n",
        " t index = "
       ]
      },
      {
       "output_type": "stream",
       "stream": "stdout",
       "text": [
        " 46\n",
        "\t\t\t Norm =  (109.661725002-2.53505549885e-13j)\n",
        " t index = "
       ]
      },
      {
       "output_type": "stream",
       "stream": "stdout",
       "text": [
        " 47\n",
        "\t\t\t Norm =  (109.661725003-2.51951237651e-13j)\n",
        " t index = "
       ]
      },
      {
       "output_type": "stream",
       "stream": "stdout",
       "text": [
        " 48\n",
        "\t\t\t Norm =  (109.661725004-2.53574938824e-13j)\n",
        " t index = "
       ]
      },
      {
       "output_type": "stream",
       "stream": "stdout",
       "text": [
        " 49\n",
        "\t\t\t Norm =  (109.661725005-2.54130050337e-13j)\n",
        " t index = "
       ]
      },
      {
       "output_type": "stream",
       "stream": "stdout",
       "text": [
        " 50\n",
        "\t\t\t Norm =  (109.661725006-2.52131648892e-13j)\n",
        " t index = "
       ]
      },
      {
       "output_type": "stream",
       "stream": "stdout",
       "text": [
        " 51\n",
        "\t\t\t Norm =  (109.661725007-2.54352094942e-13j)\n",
        " t index = "
       ]
      },
      {
       "output_type": "stream",
       "stream": "stdout",
       "text": [
        " 52\n",
        "\t\t\t Norm =  (109.661725008-2.53075338463e-13j)\n",
        " t index = "
       ]
      },
      {
       "output_type": "stream",
       "stream": "stdout",
       "text": [
        " 53\n",
        "\t\t\t Norm =  (109.661725009-2.53561061037e-13j)\n",
        " t index = "
       ]
      },
      {
       "output_type": "stream",
       "stream": "stdout",
       "text": [
        " 54\n",
        "\t\t\t Norm =  (109.66172501-2.53491672098e-13j)\n",
        " t index = "
       ]
      },
      {
       "output_type": "stream",
       "stream": "stdout",
       "text": [
        " 55\n",
        "\t\t\t Norm =  (109.661725011-2.50993670292e-13j)\n",
        " t index = "
       ]
      },
      {
       "output_type": "stream",
       "stream": "stdout",
       "text": [
        " 56\n",
        "\t\t\t Norm =  (109.661725012-2.5347779431e-13j)\n",
        " t index = "
       ]
      },
      {
       "output_type": "stream",
       "stream": "stdout",
       "text": [
        " 57\n",
        "\t\t\t Norm =  (109.661725013-2.51298981624e-13j)\n",
        " t index = "
       ]
      },
      {
       "output_type": "stream",
       "stream": "stdout",
       "text": [
        " 58\n",
        "\t\t\t Norm =  (109.661725014-2.52881049434e-13j)\n",
        " t index = "
       ]
      },
      {
       "output_type": "stream",
       "stream": "stdout",
       "text": [
        " 59\n",
        "\t\t\t Norm =  (109.661725015-2.52298182346e-13j)\n",
        " t index = "
       ]
      },
      {
       "output_type": "stream",
       "stream": "stdout",
       "text": [
        " 60\n",
        "\t\t\t Norm =  (109.661725016-2.52478593588e-13j)\n",
        " t index = "
       ]
      },
      {
       "output_type": "stream",
       "stream": "stdout",
       "text": [
        " 61\n",
        "\t\t\t Norm =  (109.661725017-2.5290880501e-13j)\n",
        " t index = "
       ]
      },
      {
       "output_type": "stream",
       "stream": "stdout",
       "text": [
        " 62\n",
        "\t\t\t Norm =  (109.661725018-2.51382248351e-13j)\n",
        " t index = "
       ]
      },
      {
       "output_type": "stream",
       "stream": "stdout",
       "text": [
        " 63\n",
        "\t\t\t Norm =  (109.661725019-2.50854892414e-13j)\n",
        " t index = "
       ]
      },
      {
       "output_type": "stream",
       "stream": "stdout",
       "text": [
        " 64\n",
        "\t\t\t Norm =  (109.66172502-2.51104692595e-13j)\n",
        " t index = "
       ]
      },
      {
       "output_type": "stream",
       "stream": "stdout",
       "text": [
        " 65\n",
        "\t\t\t Norm =  (109.661725021-2.52436960224e-13j)\n",
        " t index = "
       ]
      },
      {
       "output_type": "stream",
       "stream": "stdout",
       "text": [
        " 66\n",
        "\t\t\t Norm =  (109.661725022-2.51187959321e-13j)\n",
        " t index = "
       ]
      },
      {
       "output_type": "stream",
       "stream": "stdout",
       "text": [
        " 67\n",
        "\t\t\t Norm =  (109.661725023-2.52686760405e-13j)\n",
        " t index = "
       ]
      },
      {
       "output_type": "stream",
       "stream": "stdout",
       "text": [
        " 68\n",
        "\t\t\t Norm =  (109.661725024-2.53186360766e-13j)\n",
        " t index = "
       ]
      },
      {
       "output_type": "stream",
       "stream": "stdout",
       "text": [
        " 69\n",
        "\t\t\t Norm =  (109.661725025-2.524647158e-13j)\n",
        " t index = "
       ]
      },
      {
       "output_type": "stream",
       "stream": "stdout",
       "text": [
        " 70\n",
        "\t\t\t Norm =  (109.661725026-2.51965115439e-13j)\n",
        " t index = "
       ]
      },
      {
       "output_type": "stream",
       "stream": "stdout",
       "text": [
        " 71\n",
        "\t\t\t Norm =  (109.661725027-2.50993670292e-13j)\n",
        " t index = "
       ]
      },
      {
       "output_type": "stream",
       "stream": "stdout",
       "text": [
        " 72\n",
        "\t\t\t Norm =  (109.661725028-2.52936560585e-13j)\n",
        " t index = "
       ]
      },
      {
       "output_type": "stream",
       "stream": "stdout",
       "text": [
        " 73\n",
        "\t\t\t Norm =  (109.661725028-2.50743870112e-13j)\n",
        " t index = "
       ]
      },
      {
       "output_type": "stream",
       "stream": "stdout",
       "text": [
        " 74\n",
        "\t\t\t Norm =  (109.661725029-2.5068835896e-13j)\n",
        " t index = "
       ]
      },
      {
       "output_type": "stream",
       "stream": "stdout",
       "text": [
        " 75\n",
        "\t\t\t Norm =  (109.66172503-2.52686760405e-13j)\n",
        " t index = "
       ]
      },
      {
       "output_type": "stream",
       "stream": "stdout",
       "text": [
        " 76\n",
        "\t\t\t Norm =  (109.661725031-2.51076937019e-13j)\n",
        " t index = "
       ]
      },
      {
       "output_type": "stream",
       "stream": "stdout",
       "text": [
        " 77\n",
        "\t\t\t Norm =  (109.661725032-2.5227042677e-13j)\n",
        " t index = "
       ]
      },
      {
       "output_type": "stream",
       "stream": "stdout",
       "text": [
        " 78\n",
        "\t\t\t Norm =  (109.661725033-2.51937359863e-13j)\n",
        " t index = "
       ]
      },
      {
       "output_type": "stream",
       "stream": "stdout",
       "text": [
        " 79\n",
        "\t\t\t Norm =  (109.661725034-2.52076137741e-13j)\n",
        " t index = "
       ]
      },
      {
       "output_type": "stream",
       "stream": "stdout",
       "text": [
        " 80\n",
        "\t\t\t Norm =  (109.661725035-2.52048382166e-13j)\n",
        " t index = "
       ]
      },
      {
       "output_type": "stream",
       "stream": "stdout",
       "text": [
        " 81\n",
        "\t\t\t Norm =  (109.661725036-2.51770826409e-13j)\n",
        " t index = "
       ]
      },
      {
       "output_type": "stream",
       "stream": "stdout",
       "text": [
        " 82\n",
        "\t\t\t Norm =  (109.661725037-2.50965914717e-13j)\n",
        " t index = "
       ]
      },
      {
       "output_type": "stream",
       "stream": "stdout",
       "text": [
        " 83\n",
        "\t\t\t Norm =  (109.661725038-2.51215714897e-13j)\n",
        " t index = "
       ]
      },
      {
       "output_type": "stream",
       "stream": "stdout",
       "text": [
        " 84\n",
        "\t\t\t Norm =  (109.661725039-2.53908005732e-13j)\n",
        " t index = "
       ]
      },
      {
       "output_type": "stream",
       "stream": "stdout",
       "text": [
        " 85\n",
        "\t\t\t Norm =  (109.66172504-2.51743070834e-13j)\n",
        " t index = "
       ]
      },
      {
       "output_type": "stream",
       "stream": "stdout",
       "text": [
        " 86\n",
        "\t\t\t Norm =  (109.661725041-2.50854892414e-13j)\n",
        " t index = "
       ]
      },
      {
       "output_type": "stream",
       "stream": "stdout",
       "text": [
        " 87\n",
        "\t\t\t Norm =  (109.661725042-2.50577336658e-13j)\n",
        " t index = "
       ]
      },
      {
       "output_type": "stream",
       "stream": "stdout",
       "text": [
        " 88\n",
        "\t\t\t Norm =  (109.661725043-2.50771625687e-13j)\n",
        " t index = "
       ]
      },
      {
       "output_type": "stream",
       "stream": "stdout",
       "text": [
        " 89\n",
        "\t\t\t Norm =  (109.661725044-2.51354492775e-13j)\n",
        " t index = "
       ]
      },
      {
       "output_type": "stream",
       "stream": "stdout",
       "text": [
        " 90\n",
        "\t\t\t Norm =  (109.661725045-2.49911202843e-13j)\n",
        " t index = "
       ]
      },
      {
       "output_type": "stream",
       "stream": "stdout",
       "text": [
        " 91\n",
        "\t\t\t Norm =  (109.661725046-2.50577336658e-13j)\n",
        " t index = "
       ]
      },
      {
       "output_type": "stream",
       "stream": "stdout",
       "text": [
        " 92\n",
        "\t\t\t Norm =  (109.661725047-2.51187959321e-13j)\n",
        " t index = "
       ]
      },
      {
       "output_type": "stream",
       "stream": "stdout",
       "text": [
        " 93\n",
        "\t\t\t Norm =  (109.661725048-2.51465515078e-13j)\n",
        " t index = "
       ]
      },
      {
       "output_type": "stream",
       "stream": "stdout",
       "text": [
        " 94\n",
        "\t\t\t Norm =  (109.661725049-2.50965914717e-13j)\n",
        " t index = "
       ]
      },
      {
       "output_type": "stream",
       "stream": "stdout",
       "text": [
        " 95\n",
        "\t\t\t Norm =  (109.66172505-2.51437759502e-13j)\n",
        " t index = "
       ]
      },
      {
       "output_type": "stream",
       "stream": "stdout",
       "text": [
        " 96\n",
        "\t\t\t Norm =  (109.661725051-2.50244269751e-13j)\n",
        " t index = "
       ]
      },
      {
       "output_type": "stream",
       "stream": "stdout",
       "text": [
        " 97\n",
        "\t\t\t Norm =  (109.661725052-2.50827136838e-13j)\n",
        " t index = "
       ]
      },
      {
       "output_type": "stream",
       "stream": "stdout",
       "text": [
        " 98\n",
        "\t\t\t Norm =  (109.661725053-2.52298182346e-13j)\n",
        " t index = "
       ]
      },
      {
       "output_type": "stream",
       "stream": "stdout",
       "text": [
        " 99\n",
        "\t\t\t Norm =  (109.661725054-2.5113244817e-13j)\n",
        " t index = "
       ]
      },
      {
       "output_type": "stream",
       "stream": "stdout",
       "text": [
        " 100\n",
        "\t\t\t Norm =  (109.661725055-2.50216514175e-13j)\n",
        " t index = "
       ]
      },
      {
       "output_type": "stream",
       "stream": "stdout",
       "text": [
        " 101\n",
        "\t\t\t Norm =  (109.661725056-2.51798581985e-13j)\n",
        " t index = "
       ]
      },
      {
       "output_type": "stream",
       "stream": "stdout",
       "text": [
        " 102\n",
        "\t\t\t Norm =  (109.661725057-2.513267372e-13j)\n",
        " t index = "
       ]
      },
      {
       "output_type": "stream",
       "stream": "stdout",
       "text": [
        " 103\n",
        "\t\t\t Norm =  (109.661725058-2.52076137741e-13j)\n",
        " t index = "
       ]
      },
      {
       "output_type": "stream",
       "stream": "stdout",
       "text": [
        " 104\n",
        "\t\t\t Norm =  (109.661725058-2.49078535575e-13j)\n",
        " t index = "
       ]
      },
      {
       "output_type": "stream",
       "stream": "stdout",
       "text": [
        " 105\n",
        "\t\t\t Norm =  (109.661725059-2.50133247448e-13j)\n",
        " t index = "
       ]
      },
      {
       "output_type": "stream",
       "stream": "stdout",
       "text": [
        " 106\n",
        "\t\t\t Norm =  (109.66172506-2.50133247448e-13j)\n",
        " t index = "
       ]
      },
      {
       "output_type": "stream",
       "stream": "stdout",
       "text": [
        " 107\n",
        "\t\t\t Norm =  (109.661725061-2.51021425868e-13j)\n",
        " t index = "
       ]
      },
      {
       "output_type": "stream",
       "stream": "stdout",
       "text": [
        " 108\n",
        "\t\t\t Norm =  (109.661725062-2.49605891511e-13j)\n",
        " t index = "
       ]
      },
      {
       "output_type": "stream",
       "stream": "stdout",
       "text": [
        " 109\n",
        "\t\t\t Norm =  (109.661725063-2.4930058018e-13j)\n",
        " t index = "
       ]
      },
      {
       "output_type": "stream",
       "stream": "stdout",
       "text": [
        " 110\n",
        "\t\t\t Norm =  (109.661725064-2.50577336658e-13j)\n",
        " t index = "
       ]
      },
      {
       "output_type": "stream",
       "stream": "stdout",
       "text": [
        " 111\n",
        "\t\t\t Norm =  (109.661725065-2.49467113633e-13j)\n",
        " t index = "
       ]
      },
      {
       "output_type": "stream",
       "stream": "stdout",
       "text": [
        " 112\n",
        "\t\t\t Norm =  (109.661725066-2.49189557877e-13j)\n",
        " t index = "
       ]
      },
      {
       "output_type": "stream",
       "stream": "stdout",
       "text": [
        " 113\n",
        "\t\t\t Norm =  (109.661725067-2.50521825507e-13j)\n",
        " t index = "
       ]
      },
      {
       "output_type": "stream",
       "stream": "stdout",
       "text": [
        " 114\n",
        "\t\t\t Norm =  (109.661725068-2.49134046726e-13j)\n",
        " t index = "
       ]
      },
      {
       "output_type": "stream",
       "stream": "stdout",
       "text": [
        " 115\n",
        "\t\t\t Norm =  (109.661725069-2.49855691692e-13j)\n",
        " t index = "
       ]
      },
      {
       "output_type": "stream",
       "stream": "stdout",
       "text": [
        " 116\n",
        "\t\t\t Norm =  (109.66172507-2.50632847809e-13j)\n",
        " t index = "
       ]
      },
      {
       "output_type": "stream",
       "stream": "stdout",
       "text": [
        " 117\n",
        "\t\t\t Norm =  (109.661725071-2.49023024423e-13j)\n",
        " t index = "
       ]
      },
      {
       "output_type": "stream",
       "stream": "stdout",
       "text": [
        " 118\n",
        "\t\t\t Norm =  (109.661725072-2.50854892414e-13j)\n",
        " t index = "
       ]
      },
      {
       "output_type": "stream",
       "stream": "stdout",
       "text": [
        " 119\n",
        "\t\t\t Norm =  (109.661725073-2.50743870112e-13j)\n",
        " t index = "
       ]
      },
      {
       "output_type": "stream",
       "stream": "stdout",
       "text": [
        " 120\n",
        "\t\t\t Norm =  (109.661725074-2.47357689886e-13j)\n",
        " t index = "
       ]
      },
      {
       "output_type": "stream",
       "stream": "stdout",
       "text": [
        " 121\n",
        "\t\t\t Norm =  (109.661725075-2.50299780902e-13j)\n",
        " t index = "
       ]
      },
      {
       "output_type": "stream",
       "stream": "stdout",
       "text": [
        " 122\n",
        "\t\t\t Norm =  (109.661725076-2.48134846004e-13j)\n",
        " t index = "
       ]
      },
      {
       "output_type": "stream",
       "stream": "stdout",
       "text": [
        " 123\n",
        "\t\t\t Norm =  (109.661725077-2.49911202843e-13j)\n",
        " t index = "
       ]
      },
      {
       "output_type": "stream",
       "stream": "stdout",
       "text": [
        " 124\n",
        "\t\t\t Norm =  (109.661725078-2.48800979818e-13j)\n",
        " t index = "
       ]
      },
      {
       "output_type": "stream",
       "stream": "stdout",
       "text": [
        " 125\n",
        "\t\t\t Norm =  (109.661725079-2.49800180541e-13j)\n",
        " t index = "
       ]
      },
      {
       "output_type": "stream",
       "stream": "stdout",
       "text": [
        " 126\n",
        "\t\t\t Norm =  (109.66172508-2.50049980721e-13j)\n",
        " t index = "
       ]
      },
      {
       "output_type": "stream",
       "stream": "stdout",
       "text": [
        " 127\n",
        "\t\t\t Norm =  (109.661725081-2.49633647087e-13j)\n",
        " t index = "
       ]
      },
      {
       "output_type": "stream",
       "stream": "stdout",
       "text": [
        " 128\n",
        "\t\t\t Norm =  (109.661725082-2.48356890609e-13j)\n",
        " t index = "
       ]
      },
      {
       "output_type": "stream",
       "stream": "stdout",
       "text": [
        " 129\n",
        "\t\t\t Norm =  (109.661725083-2.50521825507e-13j)\n",
        " t index = "
       ]
      },
      {
       "output_type": "stream",
       "stream": "stdout",
       "text": [
        " 130\n",
        "\t\t\t Norm =  (109.661725084-2.49050779999e-13j)\n",
        " t index = "
       ]
      },
      {
       "output_type": "stream",
       "stream": "stdout",
       "text": [
        " 131\n",
        "\t\t\t Norm =  (109.661725085-2.49883447268e-13j)\n",
        " t index = "
       ]
      },
      {
       "output_type": "stream",
       "stream": "stdout",
       "text": [
        " 132\n",
        "\t\t\t Norm =  (109.661725086-2.50355292053e-13j)\n",
        " t index = "
       ]
      },
      {
       "output_type": "stream",
       "stream": "stdout",
       "text": [
        " 133\n",
        "\t\t\t Norm =  (109.661725087-2.48023823701e-13j)\n",
        " t index = "
       ]
      },
      {
       "output_type": "stream",
       "stream": "stdout",
       "text": [
        " 134\n",
        "\t\t\t Norm =  (109.661725088-2.48523424062e-13j)\n",
        " t index = "
       ]
      },
      {
       "output_type": "stream",
       "stream": "stdout",
       "text": [
        " 135\n",
        "\t\t\t Norm =  (109.661725088-2.48578935214e-13j)\n",
        " t index = "
       ]
      },
      {
       "output_type": "stream",
       "stream": "stdout",
       "text": [
        " 136\n",
        "\t\t\t Norm =  (109.661725089-2.47246667584e-13j)\n",
        " t index = "
       ]
      },
      {
       "output_type": "stream",
       "stream": "stdout",
       "text": [
        " 137\n",
        "\t\t\t Norm =  (109.66172509-2.50244269751e-13j)\n",
        " t index = "
       ]
      },
      {
       "output_type": "stream",
       "stream": "stdout",
       "text": [
        " 138\n",
        "\t\t\t Norm =  (109.661725091-2.4885649097e-13j)\n",
        " t index = "
       ]
      },
      {
       "output_type": "stream",
       "stream": "stdout",
       "text": [
        " 139\n",
        "\t\t\t Norm =  (109.661725092-2.48134846004e-13j)\n",
        " t index = "
       ]
      },
      {
       "output_type": "stream",
       "stream": "stdout",
       "text": [
        " 140\n",
        "\t\t\t Norm =  (109.661725093-2.46858089525e-13j)\n",
        " t index = "
       ]
      },
      {
       "output_type": "stream",
       "stream": "stdout",
       "text": [
        " 141\n",
        "\t\t\t Norm =  (109.661725094-2.46580533769e-13j)\n",
        " t index = "
       ]
      },
      {
       "output_type": "stream",
       "stream": "stdout",
       "text": [
        " 142\n",
        "\t\t\t Norm =  (109.661725095-2.4752422334e-13j)\n",
        " t index = "
       ]
      },
      {
       "output_type": "stream",
       "stream": "stdout",
       "text": [
        " 143\n",
        "\t\t\t Norm =  (109.661725096-2.47690756794e-13j)\n",
        " t index = "
       ]
      },
      {
       "output_type": "stream",
       "stream": "stdout",
       "text": [
        " 144\n",
        "\t\t\t Norm =  (109.661725097-2.49356091331e-13j)\n",
        " t index = "
       ]
      },
      {
       "output_type": "stream",
       "stream": "stdout",
       "text": [
        " 145\n",
        "\t\t\t Norm =  (109.661725098-2.4796831255e-13j)\n",
        " t index = "
       ]
      },
      {
       "output_type": "stream",
       "stream": "stdout",
       "text": [
        " 146\n",
        "\t\t\t Norm =  (109.661725099-2.48356890609e-13j)\n",
        " t index = "
       ]
      },
      {
       "output_type": "stream",
       "stream": "stdout",
       "text": [
        " 147\n",
        "\t\t\t Norm =  (109.6617251-2.46691556072e-13j)\n",
        " t index = "
       ]
      },
      {
       "output_type": "stream",
       "stream": "stdout",
       "text": [
        " 148\n",
        "\t\t\t Norm =  (109.661725101-2.47912801399e-13j)\n",
        " t index = "
       ]
      },
      {
       "output_type": "stream",
       "stream": "stdout",
       "text": [
        " 149\n",
        "\t\t\t Norm =  (109.661725102-2.50133247448e-13j)\n",
        " t index = "
       ]
      },
      {
       "output_type": "stream",
       "stream": "stdout",
       "text": [
        " 150\n",
        "\t\t\t Norm =  (109.661725103-2.47246667584e-13j)\n",
        " t index = "
       ]
      },
      {
       "output_type": "stream",
       "stream": "stdout",
       "text": [
        " 151\n",
        "\t\t\t Norm =  (109.661725104-2.47357689886e-13j)\n",
        " t index = "
       ]
      },
      {
       "output_type": "stream",
       "stream": "stdout",
       "text": [
        " 152\n",
        "\t\t\t Norm =  (109.661725105-2.48079334852e-13j)\n",
        " t index = "
       ]
      },
      {
       "output_type": "stream",
       "stream": "stdout",
       "text": [
        " 153\n",
        "\t\t\t Norm =  (109.661725106-2.46913600677e-13j)\n",
        " t index = "
       ]
      },
      {
       "output_type": "stream",
       "stream": "stdout",
       "text": [
        " 154\n",
        "\t\t\t Norm =  (109.661725107-2.48800979818e-13j)\n",
        " t index = "
       ]
      },
      {
       "output_type": "stream",
       "stream": "stdout",
       "text": [
        " 155\n",
        "\t\t\t Norm =  (109.661725108-2.47246667584e-13j)\n",
        " t index = "
       ]
      },
      {
       "output_type": "stream",
       "stream": "stdout",
       "text": [
        " 156\n",
        "\t\t\t Norm =  (109.661725109-2.47912801399e-13j)\n",
        " t index = "
       ]
      },
      {
       "output_type": "stream",
       "stream": "stdout",
       "text": [
        " 157\n",
        "\t\t\t Norm =  (109.66172511-2.4885649097e-13j)\n",
        " t index = "
       ]
      },
      {
       "output_type": "stream",
       "stream": "stdout",
       "text": [
        " 158\n",
        "\t\t\t Norm =  (109.661725111-2.47191156433e-13j)\n",
        " t index = "
       ]
      },
      {
       "output_type": "stream",
       "stream": "stdout",
       "text": [
        " 159\n",
        "\t\t\t Norm =  (109.661725112-2.46136444559e-13j)\n",
        " t index = "
       ]
      },
      {
       "output_type": "stream",
       "stream": "stdout",
       "text": [
        " 160\n",
        "\t\t\t Norm =  (109.661725113-2.46802578374e-13j)\n",
        " t index = "
       ]
      },
      {
       "output_type": "stream",
       "stream": "stdout",
       "text": [
        " 161\n",
        "\t\t\t Norm =  (109.661725114-2.47579734491e-13j)\n",
        " t index = "
       ]
      },
      {
       "output_type": "stream",
       "stream": "stdout",
       "text": [
        " 162\n",
        "\t\t\t Norm =  (109.661725115-2.47468712189e-13j)\n",
        " t index = "
       ]
      },
      {
       "output_type": "stream",
       "stream": "stdout",
       "text": [
        " 163\n",
        "\t\t\t Norm =  (109.661725116-2.47024622979e-13j)\n",
        " t index = "
       ]
      },
      {
       "output_type": "stream",
       "stream": "stdout",
       "text": [
        " 164\n",
        "\t\t\t Norm =  (109.661725117-2.46469511467e-13j)\n",
        " t index = "
       ]
      },
      {
       "output_type": "stream",
       "stream": "stdout",
       "text": [
        " 165\n",
        "\t\t\t Norm =  (109.661725118-2.47468712189e-13j)\n",
        " t index = "
       ]
      },
      {
       "output_type": "stream",
       "stream": "stdout",
       "text": [
        " 166\n",
        "\t\t\t Norm =  (109.661725118-2.48800979818e-13j)\n",
        " t index = "
       ]
      },
      {
       "output_type": "stream",
       "stream": "stdout",
       "text": [
        " 167\n",
        "\t\t\t Norm =  (109.661725119-2.46580533769e-13j)\n",
        " t index = "
       ]
      },
      {
       "output_type": "stream",
       "stream": "stdout",
       "text": [
        " 168\n",
        "\t\t\t Norm =  (109.66172512-2.45414799593e-13j)\n",
        " t index = "
       ]
      },
      {
       "output_type": "stream",
       "stream": "stdout",
       "text": [
        " 169\n",
        "\t\t\t Norm =  (109.661725121-2.46691556072e-13j)\n",
        " t index = "
       ]
      },
      {
       "output_type": "stream",
       "stream": "stdout",
       "text": [
        " 170\n",
        "\t\t\t Norm =  (109.661725122-2.46247466862e-13j)\n",
        " t index = "
       ]
      },
      {
       "output_type": "stream",
       "stream": "stdout",
       "text": [
        " 171\n",
        "\t\t\t Norm =  (109.661725123-2.46913600677e-13j)\n",
        " t index = "
       ]
      },
      {
       "output_type": "stream",
       "stream": "stdout",
       "text": [
        " 172\n",
        "\t\t\t Norm =  (109.661725124-2.48245868306e-13j)\n",
        " t index = "
       ]
      },
      {
       "output_type": "stream",
       "stream": "stdout",
       "text": [
        " 173\n",
        "\t\t\t Norm =  (109.661725125-2.45803377652e-13j)\n",
        " t index = "
       ]
      },
      {
       "output_type": "stream",
       "stream": "stdout",
       "text": [
        " 174\n",
        "\t\t\t Norm =  (109.661725126-2.46191955711e-13j)\n",
        " t index = "
       ]
      },
      {
       "output_type": "stream",
       "stream": "stdout",
       "text": [
        " 175\n",
        "\t\t\t Norm =  (109.661725127-2.46358489164e-13j)\n",
        " t index = "
       ]
      },
      {
       "output_type": "stream",
       "stream": "stdout",
       "text": [
        " 176\n",
        "\t\t\t Norm =  (109.661725128-2.46858089525e-13j)\n",
        " t index = "
       ]
      },
      {
       "output_type": "stream",
       "stream": "stdout",
       "text": [
        " 177\n",
        "\t\t\t Norm =  (109.661725129-2.4663604492e-13j)\n",
        " t index = "
       ]
      },
      {
       "output_type": "stream",
       "stream": "stdout",
       "text": [
        " 178\n",
        "\t\t\t Norm =  (109.66172513-2.44637643476e-13j)\n",
        " t index = "
       ]
      },
      {
       "output_type": "stream",
       "stream": "stdout",
       "text": [
        " 179\n",
        "\t\t\t Norm =  (109.661725131-2.47024622979e-13j)\n",
        " t index = "
       ]
      },
      {
       "output_type": "stream",
       "stream": "stdout",
       "text": [
        " 180\n",
        "\t\t\t Norm =  (109.661725132-2.48134846004e-13j)\n",
        " t index = "
       ]
      },
      {
       "output_type": "stream",
       "stream": "stdout",
       "text": [
        " 181\n",
        "\t\t\t Norm =  (109.661725133-2.45803377652e-13j)\n",
        " t index = "
       ]
      },
      {
       "output_type": "stream",
       "stream": "stdout",
       "text": [
        " 182\n",
        "\t\t\t Norm =  (109.661725134-2.45137243837e-13j)\n",
        " t index = "
       ]
      },
      {
       "output_type": "stream",
       "stream": "stdout",
       "text": [
        " 183\n",
        "\t\t\t Norm =  (109.661725135-2.45192754988e-13j)\n",
        " t index = "
       ]
      },
      {
       "output_type": "stream",
       "stream": "stdout",
       "text": [
        " 184\n",
        "\t\t\t Norm =  (109.661725136-2.44637643476e-13j)\n",
        " t index = "
       ]
      },
      {
       "output_type": "stream",
       "stream": "stdout",
       "text": [
        " 185\n",
        "\t\t\t Norm =  (109.661725137-2.48467912911e-13j)\n",
        " t index = "
       ]
      },
      {
       "output_type": "stream",
       "stream": "stdout",
       "text": [
        " 186\n",
        "\t\t\t Norm =  (109.661725138-2.45803377652e-13j)\n",
        " t index = "
       ]
      },
      {
       "output_type": "stream",
       "stream": "stdout",
       "text": [
        " 187\n",
        "\t\t\t Norm =  (109.661725139-2.45914399954e-13j)\n",
        " t index = "
       ]
      },
      {
       "output_type": "stream",
       "stream": "stdout",
       "text": [
        " 188\n",
        "\t\t\t Norm =  (109.66172514-2.45137243837e-13j)\n",
        " t index = "
       ]
      },
      {
       "output_type": "stream",
       "stream": "stdout",
       "text": [
        " 189\n",
        "\t\t\t Norm =  (109.661725141-2.45303777291e-13j)\n",
        " t index = "
       ]
      },
      {
       "output_type": "stream",
       "stream": "stdout",
       "text": [
        " 190\n",
        "\t\t\t Norm =  (109.661725142-2.43360886998e-13j)\n",
        " t index = "
       ]
      },
      {
       "output_type": "stream",
       "stream": "stdout",
       "text": [
        " 191\n",
        "\t\t\t Norm =  (109.661725143-2.46691556072e-13j)\n",
        " t index = "
       ]
      },
      {
       "output_type": "stream",
       "stream": "stdout",
       "text": [
        " 192\n",
        "\t\t\t Norm =  (109.661725144-2.45192754988e-13j)\n",
        " t index = "
       ]
      },
      {
       "output_type": "stream",
       "stream": "stdout",
       "text": [
        " 193\n",
        "\t\t\t Norm =  (109.661725145-2.46136444559e-13j)\n",
        " t index = "
       ]
      },
      {
       "output_type": "stream",
       "stream": "stdout",
       "text": [
        " 194\n",
        "\t\t\t Norm =  (109.661725146-2.43804976208e-13j)\n",
        " t index = "
       ]
      },
      {
       "output_type": "stream",
       "stream": "stdout",
       "text": [
        " 195\n",
        "\t\t\t Norm =  (109.661725147-2.44526621174e-13j)\n",
        " t index = "
       ]
      },
      {
       "output_type": "stream",
       "stream": "stdout",
       "text": [
        " 196\n",
        "\t\t\t Norm =  (109.661725148-2.44193554266e-13j)\n",
        " t index = "
       ]
      },
      {
       "output_type": "stream",
       "stream": "stdout",
       "text": [
        " 197\n",
        "\t\t\t Norm =  (109.661725148-2.46136444559e-13j)\n",
        " t index = "
       ]
      },
      {
       "output_type": "stream",
       "stream": "stdout",
       "text": [
        " 198\n",
        "\t\t\t Norm =  (109.661725149-2.44415598871e-13j)\n",
        " t index = "
       ]
      },
      {
       "output_type": "stream",
       "stream": "stdout",
       "text": [
        " 199\n",
        "\t\t\t Norm =  (109.66172515-2.4436008772e-13j)\n",
        " t index = "
       ]
      },
      {
       "output_type": "stream",
       "stream": "stdout",
       "text": [
        " 200\n",
        "\t\t\t Norm =  (109.661725151-2.42916797788e-13j)\n",
        " t index = "
       ]
      },
      {
       "output_type": "stream",
       "stream": "stdout",
       "text": [
        " 201\n",
        "\t\t\t Norm =  (109.661725152-2.46136444559e-13j)\n",
        " t index = "
       ]
      },
      {
       "output_type": "stream",
       "stream": "stdout",
       "text": [
        " 202\n",
        "\t\t\t Norm =  (109.661725153-2.4391599851e-13j)\n",
        " t index = "
       ]
      },
      {
       "output_type": "stream",
       "stream": "stdout",
       "text": [
        " 203\n",
        "\t\t\t Norm =  (109.661725154-2.42805775486e-13j)\n",
        " t index = "
       ]
      },
      {
       "output_type": "stream",
       "stream": "stdout",
       "text": [
        " 204\n",
        "\t\t\t Norm =  (109.661725155-2.42694753183e-13j)\n",
        " t index = "
       ]
      },
      {
       "output_type": "stream",
       "stream": "stdout",
       "text": [
        " 205\n",
        "\t\t\t Norm =  (109.661725156-2.4436008772e-13j)\n",
        " t index = "
       ]
      },
      {
       "output_type": "stream",
       "stream": "stdout",
       "text": [
        " 206\n",
        "\t\t\t Norm =  (109.661725157-2.434719093e-13j)\n",
        " t index = "
       ]
      },
      {
       "output_type": "stream",
       "stream": "stdout",
       "text": [
        " 207\n",
        "\t\t\t Norm =  (109.661725158-2.45581333047e-13j)\n",
        " t index = "
       ]
      },
      {
       "output_type": "stream",
       "stream": "stdout",
       "text": [
        " 208\n",
        "\t\t\t Norm =  (109.661725159-2.43138842393e-13j)\n",
        " t index = "
       ]
      },
      {
       "output_type": "stream",
       "stream": "stdout",
       "text": [
        " 209\n",
        "\t\t\t Norm =  (109.66172516-2.45081732686e-13j)\n",
        " t index = "
       ]
      },
      {
       "output_type": "stream",
       "stream": "stdout",
       "text": [
        " 210\n",
        "\t\t\t Norm =  (109.661725161-2.42139641671e-13j)\n",
        " t index = "
       ]
      },
      {
       "output_type": "stream",
       "stream": "stdout",
       "text": [
        " 211\n",
        "\t\t\t Norm =  (109.661725162-2.42805775486e-13j)\n",
        " t index = "
       ]
      },
      {
       "output_type": "stream",
       "stream": "stdout",
       "text": [
        " 212\n",
        "\t\t\t Norm =  (109.661725163-2.44637643476e-13j)\n",
        " t index = "
       ]
      },
      {
       "output_type": "stream",
       "stream": "stdout",
       "text": [
        " 213\n",
        "\t\t\t Norm =  (109.661725164-2.42805775486e-13j)\n",
        " t index = "
       ]
      },
      {
       "output_type": "stream",
       "stream": "stdout",
       "text": [
        " 214\n",
        "\t\t\t Norm =  (109.661725165-2.45026221535e-13j)\n",
        " t index = "
       ]
      },
      {
       "output_type": "stream",
       "stream": "stdout",
       "text": [
        " 215\n",
        "\t\t\t Norm =  (109.661725166-2.44471110022e-13j)\n",
        " t index = "
       ]
      },
      {
       "output_type": "stream",
       "stream": "stdout",
       "text": [
        " 216\n",
        "\t\t\t Norm =  (109.661725167-2.43083331242e-13j)\n",
        " t index = "
       ]
      },
      {
       "output_type": "stream",
       "stream": "stdout",
       "text": [
        " 217\n",
        "\t\t\t Norm =  (109.661725168-2.44138043115e-13j)\n",
        " t index = "
       ]
      },
      {
       "output_type": "stream",
       "stream": "stdout",
       "text": [
        " 218\n",
        "\t\t\t Norm =  (109.661725169-2.44471110022e-13j)\n",
        " t index = "
       ]
      },
      {
       "output_type": "stream",
       "stream": "stdout",
       "text": [
        " 219\n",
        "\t\t\t Norm =  (109.66172517-2.43083331242e-13j)\n",
        " t index = "
       ]
      },
      {
       "output_type": "stream",
       "stream": "stdout",
       "text": [
        " 220\n",
        "\t\t\t Norm =  (109.661725171-2.43582931603e-13j)\n",
        " t index = "
       ]
      },
      {
       "output_type": "stream",
       "stream": "stdout",
       "text": [
        " 221\n",
        "\t\t\t Norm =  (109.661725172-2.42916797788e-13j)\n",
        " t index = "
       ]
      },
      {
       "output_type": "stream",
       "stream": "stdout",
       "text": [
        " 222\n",
        "\t\t\t Norm =  (109.661725173-2.42250663973e-13j)\n",
        " t index = "
       ]
      },
      {
       "output_type": "stream",
       "stream": "stdout",
       "text": [
        " 223\n",
        "\t\t\t Norm =  (109.661725174-2.42528219729e-13j)\n",
        " t index = "
       ]
      },
      {
       "output_type": "stream",
       "stream": "stdout",
       "text": [
        " 224\n",
        "\t\t\t Norm =  (109.661725175-2.42972308939e-13j)\n",
        " t index = "
       ]
      },
      {
       "output_type": "stream",
       "stream": "stdout",
       "text": [
        " 225\n",
        "\t\t\t Norm =  (109.661725176-2.41473507856e-13j)\n",
        " t index = "
       ]
      },
      {
       "output_type": "stream",
       "stream": "stdout",
       "text": [
        " 226\n",
        "\t\t\t Norm =  (109.661725177-2.42250663973e-13j)\n",
        " t index = "
       ]
      },
      {
       "output_type": "stream",
       "stream": "stdout",
       "text": [
        " 227\n",
        "\t\t\t Norm =  (109.661725178-2.42472708578e-13j)\n",
        " t index = "
       ]
      },
      {
       "output_type": "stream",
       "stream": "stdout",
       "text": [
        " 228\n",
        "\t\t\t Norm =  (109.661725178-2.44693154627e-13j)\n",
        " t index = "
       ]
      },
      {
       "output_type": "stream",
       "stream": "stdout",
       "text": [
        " 229\n",
        "\t\t\t Norm =  (109.661725179-2.41917597066e-13j)\n",
        " t index = "
       ]
      },
      {
       "output_type": "stream",
       "stream": "stdout",
       "text": [
        " 230\n",
        "\t\t\t Norm =  (109.66172518-2.41251463251e-13j)\n",
        " t index = "
       ]
      },
      {
       "output_type": "stream",
       "stream": "stdout",
       "text": [
        " 231\n",
        "\t\t\t Norm =  (109.661725181-2.43194353544e-13j)\n",
        " t index = "
       ]
      },
      {
       "output_type": "stream",
       "stream": "stdout",
       "text": [
        " 232\n",
        "\t\t\t Norm =  (109.661725182-2.41140440949e-13j)\n",
        " t index = "
       ]
      },
      {
       "output_type": "stream",
       "stream": "stdout",
       "text": [
        " 233\n",
        "\t\t\t Norm =  (109.661725183-2.41473507856e-13j)\n",
        " t index = "
       ]
      },
      {
       "output_type": "stream",
       "stream": "stdout",
       "text": [
        " 234\n",
        "\t\t\t Norm =  (109.661725184-2.43138842393e-13j)\n",
        " t index = "
       ]
      },
      {
       "output_type": "stream",
       "stream": "stdout",
       "text": [
        " 235\n",
        "\t\t\t Norm =  (109.661725185-2.41862085915e-13j)\n",
        " t index = "
       ]
      },
      {
       "output_type": "stream",
       "stream": "stdout",
       "text": [
        " 236\n",
        "\t\t\t Norm =  (109.661725186-2.42361686276e-13j)\n",
        " t index = "
       ]
      },
      {
       "output_type": "stream",
       "stream": "stdout",
       "text": [
        " 237\n",
        "\t\t\t Norm =  (109.661725187-2.40141240226e-13j)\n",
        " t index = "
       ]
      },
      {
       "output_type": "stream",
       "stream": "stdout",
       "text": [
        " 238\n",
        "\t\t\t Norm =  (109.661725188-2.40807374041e-13j)\n",
        " t index = "
       ]
      },
      {
       "output_type": "stream",
       "stream": "stdout",
       "text": [
        " 239\n",
        "\t\t\t Norm =  (109.661725189-2.41251463251e-13j)\n",
        " t index = "
       ]
      },
      {
       "output_type": "stream",
       "stream": "stdout",
       "text": [
        " 240\n",
        "\t\t\t Norm =  (109.66172519-2.42195152822e-13j)\n",
        " t index = "
       ]
      },
      {
       "output_type": "stream",
       "stream": "stdout",
       "text": [
        " 241\n",
        "\t\t\t Norm =  (109.661725191-2.39253061807e-13j)\n",
        " t index = "
       ]
      },
      {
       "output_type": "stream",
       "stream": "stdout",
       "text": [
        " 242\n",
        "\t\t\t Norm =  (109.661725192-2.39197550655e-13j)\n",
        " t index = "
       ]
      },
      {
       "output_type": "stream",
       "stream": "stdout",
       "text": [
        " 243\n",
        "\t\t\t Norm =  (109.661725193-2.42472708578e-13j)\n",
        " t index = "
       ]
      },
      {
       "output_type": "stream",
       "stream": "stdout",
       "text": [
        " 244\n",
        "\t\t\t Norm =  (109.661725194-2.40807374041e-13j)\n",
        " t index = "
       ]
      },
      {
       "output_type": "stream",
       "stream": "stdout",
       "text": [
        " 245\n",
        "\t\t\t Norm =  (109.661725195-2.38808972597e-13j)\n",
        " t index = "
       ]
      },
      {
       "output_type": "stream",
       "stream": "stdout",
       "text": [
        " 246\n",
        "\t\t\t Norm =  (109.661725196-2.40696351739e-13j)\n",
        " t index = "
       ]
      },
      {
       "output_type": "stream",
       "stream": "stdout",
       "text": [
        " 247\n",
        "\t\t\t Norm =  (109.661725197-2.41695552461e-13j)\n",
        " t index = "
       ]
      },
      {
       "output_type": "stream",
       "stream": "stdout",
       "text": [
        " 248\n",
        "\t\t\t Norm =  (109.661725198-2.39364084109e-13j)\n",
        " t index = "
       ]
      },
      {
       "output_type": "stream",
       "stream": "stdout",
       "text": [
        " 249\n",
        "\t\t\t Norm =  (109.661725199-2.41584530158e-13j)\n",
        " t index = "
       ]
      },
      {
       "output_type": "stream",
       "stream": "stdout",
       "text": [
        " 250\n",
        "\t\t\t Norm =  (109.6617252-2.38919994899e-13j)\n",
        " t index = "
       ]
      },
      {
       "output_type": "stream",
       "stream": "stdout",
       "text": [
        " 251\n",
        "\t\t\t Norm =  (109.661725201-2.41140440949e-13j)\n",
        " t index = "
       ]
      },
      {
       "output_type": "stream",
       "stream": "stdout",
       "text": [
        " 252\n",
        "\t\t\t Norm =  (109.661725202-2.3986368447e-13j)\n",
        " t index = "
       ]
      },
      {
       "output_type": "stream",
       "stream": "stdout",
       "text": [
        " 253\n",
        "\t\t\t Norm =  (109.661725203-2.41473507856e-13j)\n",
        " t index = "
       ]
      },
      {
       "output_type": "stream",
       "stream": "stdout",
       "text": [
        " 254\n",
        "\t\t\t Norm =  (109.661725204-2.42694753183e-13j)\n",
        " t index = "
       ]
      },
      {
       "output_type": "stream",
       "stream": "stdout",
       "text": [
        " 255\n",
        "\t\t\t Norm =  (109.661725205-2.4075186289e-13j)\n",
        " t index = "
       ]
      },
      {
       "output_type": "stream",
       "stream": "stdout",
       "text": [
        " 256\n",
        "\t\t\t Norm =  (109.661725206-2.39308572958e-13j)\n",
        " t index = "
       ]
      },
      {
       "output_type": "stream",
       "stream": "stdout",
       "text": [
        " 257\n",
        "\t\t\t Norm =  (109.661725207-2.39808173319e-13j)\n",
        " t index = "
       ]
      },
      {
       "output_type": "stream",
       "stream": "stdout",
       "text": [
        " 258\n",
        "\t\t\t Norm =  (109.661725207-2.38475905689e-13j)\n",
        " t index = "
       ]
      },
      {
       "output_type": "stream",
       "stream": "stdout",
       "text": [
        " 259\n",
        "\t\t\t Norm =  (109.661725208-2.40085729075e-13j)\n",
        " t index = "
       ]
      },
      {
       "output_type": "stream",
       "stream": "stdout",
       "text": [
        " 260\n",
        "\t\t\t Norm =  (109.661725209-2.40141240226e-13j)\n",
        " t index = "
       ]
      },
      {
       "output_type": "stream",
       "stream": "stdout",
       "text": [
        " 261\n",
        "\t\t\t Norm =  (109.66172521-2.39475106412e-13j)\n",
        " t index = "
       ]
      },
      {
       "output_type": "stream",
       "stream": "stdout",
       "text": [
        " 262\n",
        "\t\t\t Norm =  (109.661725211-2.3803181648e-13j)\n",
        " t index = "
       ]
      },
      {
       "output_type": "stream",
       "stream": "stdout",
       "text": [
        " 263\n",
        "\t\t\t Norm =  (109.661725212-2.38753461446e-13j)\n",
        " t index = "
       ]
      },
      {
       "output_type": "stream",
       "stream": "stdout",
       "text": [
        " 264\n",
        "\t\t\t Norm =  (109.661725213-2.38253861085e-13j)\n",
        " t index = "
       ]
      },
      {
       "output_type": "stream",
       "stream": "stdout",
       "text": [
        " 265\n",
        "\t\t\t Norm =  (109.661725214-2.39142039504e-13j)\n",
        " t index = "
       ]
      },
      {
       "output_type": "stream",
       "stream": "stdout",
       "text": [
        " 266\n",
        "\t\t\t Norm =  (109.661725215-2.38364883387e-13j)\n",
        " t index = "
       ]
      },
      {
       "output_type": "stream",
       "stream": "stdout",
       "text": [
        " 267\n",
        "\t\t\t Norm =  (109.661725216-2.3758772727e-13j)\n",
        " t index = "
       ]
      },
      {
       "output_type": "stream",
       "stream": "stdout",
       "text": [
        " 268\n",
        "\t\t\t Norm =  (109.661725217-2.3803181648e-13j)\n",
        " t index = "
       ]
      },
      {
       "output_type": "stream",
       "stream": "stdout",
       "text": [
        " 269\n",
        "\t\t\t Norm =  (109.661725218-2.3803181648e-13j)\n",
        " t index = "
       ]
      },
      {
       "output_type": "stream",
       "stream": "stdout",
       "text": [
        " 270\n",
        "\t\t\t Norm =  (109.661725219-2.36810571153e-13j)\n",
        " t index = "
       ]
      },
      {
       "output_type": "stream",
       "stream": "stdout",
       "text": [
        " 271\n",
        "\t\t\t Norm =  (109.66172522-2.39308572958e-13j)\n",
        " t index = "
       ]
      },
      {
       "output_type": "stream",
       "stream": "stdout",
       "text": [
        " 272\n",
        "\t\t\t Norm =  (109.661725221-2.36366481943e-13j)\n",
        " t index = "
       ]
      },
      {
       "output_type": "stream",
       "stream": "stdout",
       "text": [
        " 273\n",
        "\t\t\t Norm =  (109.661725222-2.38697950294e-13j)\n",
        " t index = "
       ]
      },
      {
       "output_type": "stream",
       "stream": "stdout",
       "text": [
        " 274\n",
        "\t\t\t Norm =  (109.661725223-2.38808972597e-13j)\n",
        " t index = "
       ]
      },
      {
       "output_type": "stream",
       "stream": "stdout",
       "text": [
        " 275\n",
        "\t\t\t Norm =  (109.661725224-2.38475905689e-13j)\n",
        " t index = "
       ]
      },
      {
       "output_type": "stream",
       "stream": "stdout",
       "text": [
        " 276\n",
        "\t\t\t Norm =  (109.661725225-2.34923192011e-13j)\n",
        " t index = "
       ]
      },
      {
       "output_type": "stream",
       "stream": "stdout",
       "text": [
        " 277\n",
        "\t\t\t Norm =  (109.661725226-2.3803181648e-13j)\n",
        " t index = "
       ]
      },
      {
       "output_type": "stream",
       "stream": "stdout",
       "text": [
        " 278\n",
        "\t\t\t Norm =  (109.661725227-2.35700348128e-13j)\n",
        " t index = "
       ]
      },
      {
       "output_type": "stream",
       "stream": "stdout",
       "text": [
        " 279\n",
        "\t\t\t Norm =  (109.661725228-2.3758772727e-13j)\n",
        " t index = "
       ]
      },
      {
       "output_type": "stream",
       "stream": "stdout",
       "text": [
        " 280\n",
        "\t\t\t Norm =  (109.661725229-2.36477504245e-13j)\n",
        " t index = "
       ]
      },
      {
       "output_type": "stream",
       "stream": "stdout",
       "text": [
        " 281\n",
        "\t\t\t Norm =  (109.66172523-2.3758772727e-13j)\n",
        " t index = "
       ]
      },
      {
       "output_type": "stream",
       "stream": "stdout",
       "text": [
        " 282\n",
        "\t\t\t Norm =  (109.661725231-2.36755060001e-13j)\n",
        " t index = "
       ]
      },
      {
       "output_type": "stream",
       "stream": "stdout",
       "text": [
        " 283\n",
        "\t\t\t Norm =  (109.661725232-2.38475905689e-13j)\n",
        " t index = "
       ]
      },
      {
       "output_type": "stream",
       "stream": "stdout",
       "text": [
        " 284\n",
        "\t\t\t Norm =  (109.661725233-2.3625545964e-13j)\n",
        " t index = "
       ]
      },
      {
       "output_type": "stream",
       "stream": "stdout",
       "text": [
        " 285\n",
        "\t\t\t Norm =  (109.661725234-2.39919195621e-13j)\n",
        " t index = "
       ]
      },
      {
       "output_type": "stream",
       "stream": "stdout",
       "text": [
        " 286\n",
        "\t\t\t Norm =  (109.661725235-2.36866082304e-13j)\n",
        " t index = "
       ]
      },
      {
       "output_type": "stream",
       "stream": "stdout",
       "text": [
        " 287\n",
        "\t\t\t Norm =  (109.661725236-2.37698749572e-13j)\n",
        " t index = "
       ]
      },
      {
       "output_type": "stream",
       "stream": "stdout",
       "text": [
        " 288\n",
        "\t\t\t Norm =  (109.661725237-2.34035013591e-13j)\n",
        " t index = "
       ]
      },
      {
       "output_type": "stream",
       "stream": "stdout",
       "text": [
        " 289\n",
        "\t\t\t Norm =  (109.661725237-2.35922392733e-13j)\n",
        " t index = "
       ]
      },
      {
       "output_type": "stream",
       "stream": "stdout",
       "text": [
        " 290\n",
        "\t\t\t Norm =  (109.661725238-2.35478303523e-13j)\n",
        " t index = "
       ]
      },
      {
       "output_type": "stream",
       "stream": "stdout",
       "text": [
        " 291\n",
        "\t\t\t Norm =  (109.661725239-2.36088926187e-13j)\n",
        " t index = "
       ]
      },
      {
       "output_type": "stream",
       "stream": "stdout",
       "text": [
        " 292\n",
        "\t\t\t Norm =  (109.66172524-2.35311770069e-13j)\n",
        " t index = "
       ]
      },
      {
       "output_type": "stream",
       "stream": "stdout",
       "text": [
        " 293\n",
        "\t\t\t Norm =  (109.661725241-2.37809771875e-13j)\n",
        " t index = "
       ]
      },
      {
       "output_type": "stream",
       "stream": "stdout",
       "text": [
        " 294\n",
        "\t\t\t Norm =  (109.661725242-2.35922392733e-13j)\n",
        " t index = "
       ]
      },
      {
       "output_type": "stream",
       "stream": "stdout",
       "text": [
        " 295\n",
        "\t\t\t Norm =  (109.661725243-2.36810571153e-13j)\n",
        " t index = "
       ]
      },
      {
       "output_type": "stream",
       "stream": "stdout",
       "text": [
        " 296\n",
        "\t\t\t Norm =  (109.661725244-2.33701946684e-13j)\n",
        " t index = "
       ]
      },
      {
       "output_type": "stream",
       "stream": "stdout",
       "text": [
        " 297\n",
        "\t\t\t Norm =  (109.661725245-2.36088926187e-13j)\n",
        " t index = "
       ]
      },
      {
       "output_type": "stream",
       "stream": "stdout",
       "text": [
        " 298\n",
        "\t\t\t Norm =  (109.661725246-2.33923991289e-13j)\n",
        " t index = "
       ]
      },
      {
       "output_type": "stream",
       "stream": "stdout",
       "text": [
        " 299\n",
        "\t\t\t Norm =  (109.661725247-2.34923192011e-13j)\n",
        " t index = "
       ]
      },
      {
       "output_type": "stream",
       "stream": "stdout",
       "text": [
        " 300\n",
        "\t\t\t Norm =  (109.661725248-2.36755060001e-13j)\n",
        " t index = "
       ]
      },
      {
       "output_type": "stream",
       "stream": "stdout",
       "text": [
        " 301\n",
        "\t\t\t Norm =  (109.661725249-2.36088926187e-13j)\n",
        " t index = "
       ]
      },
      {
       "output_type": "stream",
       "stream": "stdout",
       "text": [
        " 302\n",
        "\t\t\t Norm =  (109.66172525-2.33479902079e-13j)\n",
        " t index = "
       ]
      },
      {
       "output_type": "stream",
       "stream": "stdout",
       "text": [
        " 303\n",
        "\t\t\t Norm =  (109.661725251-2.35644836977e-13j)\n",
        " t index = "
       ]
      },
      {
       "output_type": "stream",
       "stream": "stdout",
       "text": [
        " 304\n",
        "\t\t\t Norm =  (109.661725252-2.33424390927e-13j)\n",
        " t index = "
       ]
      },
      {
       "output_type": "stream",
       "stream": "stdout",
       "text": [
        " 305\n",
        "\t\t\t Norm =  (109.661725253-2.34312569347e-13j)\n",
        " t index = "
       ]
      },
      {
       "output_type": "stream",
       "stream": "stdout",
       "text": [
        " 306\n",
        "\t\t\t Norm =  (109.661725254-2.35089725464e-13j)\n",
        " t index = "
       ]
      },
      {
       "output_type": "stream",
       "stream": "stdout",
       "text": [
        " 307\n",
        "\t\t\t Norm =  (109.661725255-2.33812968986e-13j)\n",
        " t index = "
       ]
      },
      {
       "output_type": "stream",
       "stream": "stdout",
       "text": [
        " 308\n",
        "\t\t\t Norm =  (109.661725256-2.34590125103e-13j)\n",
        " t index = "
       ]
      },
      {
       "output_type": "stream",
       "stream": "stdout",
       "text": [
        " 309\n",
        "\t\t\t Norm =  (109.661725257-2.34368080498e-13j)\n",
        " t index = "
       ]
      },
      {
       "output_type": "stream",
       "stream": "stdout",
       "text": [
        " 310\n",
        "\t\t\t Norm =  (109.661725258-2.322031456e-13j)\n",
        " t index = "
       ]
      },
      {
       "output_type": "stream",
       "stream": "stdout",
       "text": [
        " 311\n",
        "\t\t\t Norm =  (109.661725259-2.34035013591e-13j)\n",
        " t index = "
       ]
      },
      {
       "output_type": "stream",
       "stream": "stdout",
       "text": [
        " 312\n",
        "\t\t\t Norm =  (109.66172526-2.33757457835e-13j)\n",
        " t index = "
       ]
      },
      {
       "output_type": "stream",
       "stream": "stdout",
       "text": [
        " 313\n",
        "\t\t\t Norm =  (109.661725261-2.32092123298e-13j)\n",
        " t index = "
       ]
      },
      {
       "output_type": "stream",
       "stream": "stdout",
       "text": [
        " 314\n",
        "\t\t\t Norm =  (109.661725262-2.33812968986e-13j)\n",
        " t index = "
       ]
      },
      {
       "output_type": "stream",
       "stream": "stdout",
       "text": [
        " 315\n",
        "\t\t\t Norm =  (109.661725263-2.34867680859e-13j)\n",
        " t index = "
       ]
      },
      {
       "output_type": "stream",
       "stream": "stdout",
       "text": [
        " 316\n",
        "\t\t\t Norm =  (109.661725264-2.32869279415e-13j)\n",
        " t index = "
       ]
      },
      {
       "output_type": "stream",
       "stream": "stdout",
       "text": [
        " 317\n",
        "\t\t\t Norm =  (109.661725265-2.34701147406e-13j)\n",
        " t index = "
       ]
      },
      {
       "output_type": "stream",
       "stream": "stdout",
       "text": [
        " 318\n",
        "\t\t\t Norm =  (109.661725266-2.3309132402e-13j)\n",
        " t index = "
       ]
      },
      {
       "output_type": "stream",
       "stream": "stdout",
       "text": [
        " 319\n",
        "\t\t\t Norm =  (109.661725267-2.32536212508e-13j)\n",
        " t index = "
       ]
      },
      {
       "output_type": "stream",
       "stream": "stdout",
       "text": [
        " 320\n",
        "\t\t\t Norm =  (109.661725267-2.31925589844e-13j)\n",
        " t index = "
       ]
      },
      {
       "output_type": "stream",
       "stream": "stdout",
       "text": [
        " 321\n",
        "\t\t\t Norm =  (109.661725268-2.31259456029e-13j)\n",
        " t index = "
       ]
      },
      {
       "output_type": "stream",
       "stream": "stdout",
       "text": [
        " 322\n",
        "\t\t\t Norm =  (109.661725269-2.31759056391e-13j)\n",
        " t index = "
       ]
      },
      {
       "output_type": "stream",
       "stream": "stdout",
       "text": [
        " 323\n",
        "\t\t\t Norm =  (109.66172527-2.32092123298e-13j)\n",
        " t index = "
       ]
      },
      {
       "output_type": "stream",
       "stream": "stdout",
       "text": [
        " 324\n",
        "\t\t\t Norm =  (109.661725271-2.31759056391e-13j)\n",
        " t index = "
       ]
      },
      {
       "output_type": "stream",
       "stream": "stdout",
       "text": [
        " 325\n",
        "\t\t\t Norm =  (109.661725272-2.29205543434e-13j)\n",
        " t index = "
       ]
      },
      {
       "output_type": "stream",
       "stream": "stdout",
       "text": [
        " 326\n",
        "\t\t\t Norm =  (109.661725273-2.32147634449e-13j)\n",
        " t index = "
       ]
      },
      {
       "output_type": "stream",
       "stream": "stdout",
       "text": [
        " 327\n",
        "\t\t\t Norm =  (109.661725274-2.30593322215e-13j)\n",
        " t index = "
       ]
      },
      {
       "output_type": "stream",
       "stream": "stdout",
       "text": [
        " 328\n",
        "\t\t\t Norm =  (109.661725275-2.30426788761e-13j)\n",
        " t index = "
       ]
      },
      {
       "output_type": "stream",
       "stream": "stdout",
       "text": [
        " 329\n",
        "\t\t\t Norm =  (109.661725276-2.31814567542e-13j)\n",
        " t index = "
       ]
      },
      {
       "output_type": "stream",
       "stream": "stdout",
       "text": [
        " 330\n",
        "\t\t\t Norm =  (109.661725277-2.32092123298e-13j)\n",
        " t index = "
       ]
      },
      {
       "output_type": "stream",
       "stream": "stdout",
       "text": [
        " 331\n",
        "\t\t\t Norm =  (109.661725278-2.30593322215e-13j)\n",
        " t index = "
       ]
      },
      {
       "output_type": "stream",
       "stream": "stdout",
       "text": [
        " 332\n",
        "\t\t\t Norm =  (109.661725279-2.33646435532e-13j)\n",
        " t index = "
       ]
      },
      {
       "output_type": "stream",
       "stream": "stdout",
       "text": [
        " 333\n",
        "\t\t\t Norm =  (109.66172528-2.31425989483e-13j)\n",
        " t index = "
       ]
      },
      {
       "output_type": "stream",
       "stream": "stdout",
       "text": [
        " 334\n",
        "\t\t\t Norm =  (109.661725281-2.30426788761e-13j)\n",
        " t index = "
       ]
      },
      {
       "output_type": "stream",
       "stream": "stdout",
       "text": [
        " 335\n",
        "\t\t\t Norm =  (109.661725282-2.30149233005e-13j)\n",
        " t index = "
       ]
      },
      {
       "output_type": "stream",
       "stream": "stdout",
       "text": [
        " 336\n",
        "\t\t\t Norm =  (109.661725283-2.30038210702e-13j)\n",
        " t index = "
       ]
      },
      {
       "output_type": "stream",
       "stream": "stdout",
       "text": [
        " 337\n",
        "\t\t\t Norm =  (109.661725284-2.31092922576e-13j)\n",
        " t index = "
       ]
      },
      {
       "output_type": "stream",
       "stream": "stdout",
       "text": [
        " 338\n",
        "\t\t\t Norm =  (109.661725285-2.29261054585e-13j)\n",
        " t index = "
       ]
      },
      {
       "output_type": "stream",
       "stream": "stdout",
       "text": [
        " 339\n",
        "\t\t\t Norm =  (109.661725286-2.29372076888e-13j)\n",
        " t index = "
       ]
      },
      {
       "output_type": "stream",
       "stream": "stdout",
       "text": [
        " 340\n",
        "\t\t\t Norm =  (109.661725287-2.28761454224e-13j)\n",
        " t index = "
       ]
      },
      {
       "output_type": "stream",
       "stream": "stdout",
       "text": [
        " 341\n",
        "\t\t\t Norm =  (109.661725288-2.30038210702e-13j)\n",
        " t index = "
       ]
      },
      {
       "output_type": "stream",
       "stream": "stdout",
       "text": [
        " 342\n",
        "\t\t\t Norm =  (109.661725289-2.29538610341e-13j)\n",
        " t index = "
       ]
      },
      {
       "output_type": "stream",
       "stream": "stdout",
       "text": [
        " 343\n",
        "\t\t\t Norm =  (109.66172529-2.31037411424e-13j)\n",
        " t index = "
       ]
      },
      {
       "output_type": "stream",
       "stream": "stdout",
       "text": [
        " 344\n",
        "\t\t\t Norm =  (109.661725291-2.28261853863e-13j)\n",
        " t index = "
       ]
      },
      {
       "output_type": "stream",
       "stream": "stdout",
       "text": [
        " 345\n",
        "\t\t\t Norm =  (109.661725292-2.27096119687e-13j)\n",
        " t index = "
       ]
      },
      {
       "output_type": "stream",
       "stream": "stdout",
       "text": [
        " 346\n",
        "\t\t\t Norm =  (109.661725293-2.30537811063e-13j)\n",
        " t index = "
       ]
      },
      {
       "output_type": "stream",
       "stream": "stdout",
       "text": [
        " 347\n",
        "\t\t\t Norm =  (109.661725294-2.26818563931e-13j)\n",
        " t index = "
       ]
      },
      {
       "output_type": "stream",
       "stream": "stdout",
       "text": [
        " 348\n",
        "\t\t\t Norm =  (109.661725295-2.27484697746e-13j)\n",
        " t index = "
       ]
      },
      {
       "output_type": "stream",
       "stream": "stdout",
       "text": [
        " 349\n",
        "\t\t\t Norm =  (109.661725296-2.27706742351e-13j)\n",
        " t index = "
       ]
      },
      {
       "output_type": "stream",
       "stream": "stdout",
       "text": [
        " 350\n",
        "\t\t\t Norm =  (109.661725296-2.27706742351e-13j)\n",
        " t index = "
       ]
      },
      {
       "output_type": "stream",
       "stream": "stdout",
       "text": [
        " 351\n",
        "\t\t\t Norm =  (109.661725297-2.28650431922e-13j)\n",
        " t index = "
       ]
      },
      {
       "output_type": "stream",
       "stream": "stdout",
       "text": [
        " 352\n",
        "\t\t\t Norm =  (109.661725298-2.27151630838e-13j)\n",
        " t index = "
       ]
      },
      {
       "output_type": "stream",
       "stream": "stdout",
       "text": [
        " 353\n",
        "\t\t\t Norm =  (109.661725299-2.27262653141e-13j)\n",
        " t index = "
       ]
      },
      {
       "output_type": "stream",
       "stream": "stdout",
       "text": [
        " 354\n",
        "\t\t\t Norm =  (109.6617253-2.28206342712e-13j)\n",
        " t index = "
       ]
      },
      {
       "output_type": "stream",
       "stream": "stdout",
       "text": [
        " 355\n",
        "\t\t\t Norm =  (109.661725301-2.27762253502e-13j)\n",
        " t index = "
       ]
      },
      {
       "output_type": "stream",
       "stream": "stdout",
       "text": [
        " 356\n",
        "\t\t\t Norm =  (109.661725302-2.2720714199e-13j)\n",
        " t index = "
       ]
      },
      {
       "output_type": "stream",
       "stream": "stdout",
       "text": [
        " 357\n",
        "\t\t\t Norm =  (109.661725303-2.27984298107e-13j)\n",
        " t index = "
       ]
      },
      {
       "output_type": "stream",
       "stream": "stdout",
       "text": [
        " 358\n",
        "\t\t\t Norm =  (109.661725304-2.27540208897e-13j)\n",
        " t index = "
       ]
      },
      {
       "output_type": "stream",
       "stream": "stdout",
       "text": [
        " 359\n",
        "\t\t\t Norm =  (109.661725305-2.25708340906e-13j)\n",
        " t index = "
       ]
      },
      {
       "output_type": "stream",
       "stream": "stdout",
       "text": [
        " 360\n",
        "\t\t\t Norm =  (109.661725306-2.27373675443e-13j)\n",
        " t index = "
       ]
      },
      {
       "output_type": "stream",
       "stream": "stdout",
       "text": [
        " 361\n",
        "\t\t\t Norm =  (109.661725307-2.27651231199e-13j)\n",
        " t index = "
       ]
      },
      {
       "output_type": "stream",
       "stream": "stdout",
       "text": [
        " 362\n",
        "\t\t\t Norm =  (109.661725308-2.28261853863e-13j)\n",
        " t index = "
       ]
      },
      {
       "output_type": "stream",
       "stream": "stdout",
       "text": [
        " 363\n",
        "\t\t\t Norm =  (109.661725309-2.26096918965e-13j)\n",
        " t index = "
       ]
      },
      {
       "output_type": "stream",
       "stream": "stdout",
       "text": [
        " 364\n",
        "\t\t\t Norm =  (109.66172531-2.25208740545e-13j)\n",
        " t index = "
       ]
      },
      {
       "output_type": "stream",
       "stream": "stdout",
       "text": [
        " 365\n",
        "\t\t\t Norm =  (109.661725311-2.27262653141e-13j)\n",
        " t index = "
       ]
      },
      {
       "output_type": "stream",
       "stream": "stdout",
       "text": [
        " 366\n",
        "\t\t\t Norm =  (109.661725312-2.26985097385e-13j)\n",
        " t index = "
       ]
      },
      {
       "output_type": "stream",
       "stream": "stdout",
       "text": [
        " 367\n",
        "\t\t\t Norm =  (109.661725313-2.26596519326e-13j)\n",
        " t index = "
       ]
      },
      {
       "output_type": "stream",
       "stream": "stdout",
       "text": [
        " 368\n",
        "\t\t\t Norm =  (109.661725314-2.24653629033e-13j)\n",
        " t index = "
       ]
      },
      {
       "output_type": "stream",
       "stream": "stdout",
       "text": [
        " 369\n",
        "\t\t\t Norm =  (109.661725315-2.24653629033e-13j)\n",
        " t index = "
       ]
      },
      {
       "output_type": "stream",
       "stream": "stdout",
       "text": [
        " 370\n",
        "\t\t\t Norm =  (109.661725316-2.26485497024e-13j)\n",
        " t index = "
       ]
      },
      {
       "output_type": "stream",
       "stream": "stdout",
       "text": [
        " 371\n",
        "\t\t\t Norm =  (109.661725317-2.26152430116e-13j)\n",
        " t index = "
       ]
      },
      {
       "output_type": "stream",
       "stream": "stdout",
       "text": [
        " 372\n",
        "\t\t\t Norm =  (109.661725318-2.2498669594e-13j)\n",
        " t index = "
       ]
      },
      {
       "output_type": "stream",
       "stream": "stdout",
       "text": [
        " 373\n",
        "\t\t\t Norm =  (109.661725319-2.26985097385e-13j)\n",
        " t index = "
       ]
      },
      {
       "output_type": "stream",
       "stream": "stdout",
       "text": [
        " 374\n",
        "\t\t\t Norm =  (109.66172532-2.2498669594e-13j)\n",
        " t index = "
       ]
      },
      {
       "output_type": "stream",
       "stream": "stdout",
       "text": [
        " 375\n",
        "\t\t\t Norm =  (109.661725321-2.25097718243e-13j)\n",
        " t index = "
       ]
      },
      {
       "output_type": "stream",
       "stream": "stdout",
       "text": [
        " 376\n",
        "\t\t\t Norm =  (109.661725322-2.24653629033e-13j)\n",
        " t index = "
       ]
      },
      {
       "output_type": "stream",
       "stream": "stdout",
       "text": [
        " 377\n",
        "\t\t\t Norm =  (109.661725323-2.24598117882e-13j)\n",
        " t index = "
       ]
      },
      {
       "output_type": "stream",
       "stream": "stdout",
       "text": [
        " 378\n",
        "\t\t\t Norm =  (109.661725324-2.24098517521e-13j)\n",
        " t index = "
       ]
      },
      {
       "output_type": "stream",
       "stream": "stdout",
       "text": [
        " 379\n",
        "\t\t\t Norm =  (109.661725325-2.26041407814e-13j)\n",
        " t index = "
       ]
      },
      {
       "output_type": "stream",
       "stream": "stdout",
       "text": [
        " 380\n",
        "\t\t\t Norm =  (109.661725325-2.23376872555e-13j)\n",
        " t index = "
       ]
      },
      {
       "output_type": "stream",
       "stream": "stdout",
       "text": [
        " 381\n",
        "\t\t\t Norm =  (109.661725326-2.24431584428e-13j)\n",
        " t index = "
       ]
      },
      {
       "output_type": "stream",
       "stream": "stdout",
       "text": [
        " 382\n",
        "\t\t\t Norm =  (109.661725327-2.23265850252e-13j)\n",
        " t index = "
       ]
      },
      {
       "output_type": "stream",
       "stream": "stdout",
       "text": [
        " 383\n",
        "\t\t\t Norm =  (109.661725328-2.24098517521e-13j)\n",
        " t index = "
       ]
      },
      {
       "output_type": "stream",
       "stream": "stdout",
       "text": [
        " 384\n",
        "\t\t\t Norm =  (109.661725329-2.23931984067e-13j)\n",
        " t index = "
       ]
      },
      {
       "output_type": "stream",
       "stream": "stdout",
       "text": [
        " 385\n",
        "\t\t\t Norm =  (109.66172533-2.2359891716e-13j)\n",
        " t index = "
       ]
      },
      {
       "output_type": "stream",
       "stream": "stdout",
       "text": [
        " 386\n",
        "\t\t\t Norm =  (109.661725331-2.24265050974e-13j)\n",
        " t index = "
       ]
      },
      {
       "output_type": "stream",
       "stream": "stdout",
       "text": [
        " 387\n",
        "\t\t\t Norm =  (109.661725332-2.2137847111e-13j)\n",
        " t index = "
       ]
      },
      {
       "output_type": "stream",
       "stream": "stdout",
       "text": [
        " 388\n",
        "\t\t\t Norm =  (109.661725333-2.23709939462e-13j)\n",
        " t index = "
       ]
      },
      {
       "output_type": "stream",
       "stream": "stdout",
       "text": [
        " 389\n",
        "\t\t\t Norm =  (109.661725334-2.22932783345e-13j)\n",
        " t index = "
       ]
      },
      {
       "output_type": "stream",
       "stream": "stdout",
       "text": [
        " 390\n",
        "\t\t\t Norm =  (109.661725335-2.22988294496e-13j)\n",
        " t index = "
       ]
      },
      {
       "output_type": "stream",
       "stream": "stdout",
       "text": [
        " 391\n",
        "\t\t\t Norm =  (109.661725336-2.21211937657e-13j)\n",
        " t index = "
       ]
      },
      {
       "output_type": "stream",
       "stream": "stdout",
       "text": [
        " 392\n",
        "\t\t\t Norm =  (109.661725337-2.20434781539e-13j)\n",
        " t index = "
       ]
      },
      {
       "output_type": "stream",
       "stream": "stdout",
       "text": [
        " 393\n",
        "\t\t\t Norm =  (109.661725338-2.2315482795e-13j)\n",
        " t index = "
       ]
      },
      {
       "output_type": "stream",
       "stream": "stdout",
       "text": [
        " 394\n",
        "\t\t\t Norm =  (109.661725339-2.23265850252e-13j)\n",
        " t index = "
       ]
      },
      {
       "output_type": "stream",
       "stream": "stdout",
       "text": [
        " 395\n",
        "\t\t\t Norm =  (109.66172534-2.20878870749e-13j)\n",
        " t index = "
       ]
      },
      {
       "output_type": "stream",
       "stream": "stdout",
       "text": [
        " 396\n",
        "\t\t\t Norm =  (109.661725341-2.22100116076e-13j)\n",
        " t index = "
       ]
      },
      {
       "output_type": "stream",
       "stream": "stdout",
       "text": [
        " 397\n",
        "\t\t\t Norm =  (109.661725342-2.2315482795e-13j)\n",
        " t index = "
       ]
      },
      {
       "output_type": "stream",
       "stream": "stdout",
       "text": [
        " 398\n",
        "\t\t\t Norm =  (109.661725343-2.20545803842e-13j)\n",
        " t index = "
       ]
      },
      {
       "output_type": "stream",
       "stream": "stdout",
       "text": [
        " 399\n",
        "\t\t\t Norm =  (109.661725344-2.21767049169e-13j)\n",
        " t index = "
       ]
      },
      {
       "output_type": "stream",
       "stream": "stdout",
       "text": [
        " 400\n",
        "\t\t\t Norm =  (109.661725345-2.20268248086e-13j)\n",
        " t index = "
       ]
      },
      {
       "output_type": "stream",
       "stream": "stdout",
       "text": [
        " 401\n",
        "\t\t\t Norm =  (109.661725346-2.22766249891e-13j)\n",
        " t index = "
       ]
      },
      {
       "output_type": "stream",
       "stream": "stdout",
       "text": [
        " 402\n",
        "\t\t\t Norm =  (109.661725347-2.19824158876e-13j)\n",
        " t index = "
       ]
      },
      {
       "output_type": "stream",
       "stream": "stdout",
       "text": [
        " 403\n",
        "\t\t\t Norm =  (109.661725348-2.19935181178e-13j)\n",
        " t index = "
       ]
      },
      {
       "output_type": "stream",
       "stream": "stdout",
       "text": [
        " 404\n",
        "\t\t\t Norm =  (109.661725349-2.19657625422e-13j)\n",
        " t index = "
       ]
      },
      {
       "output_type": "stream",
       "stream": "stdout",
       "text": [
        " 405\n",
        "\t\t\t Norm =  (109.66172535-2.20601314993e-13j)\n",
        " t index = "
       ]
      },
      {
       "output_type": "stream",
       "stream": "stdout",
       "text": [
        " 406\n",
        "\t\t\t Norm =  (109.661725351-2.19269047363e-13j)\n",
        " t index = "
       ]
      },
      {
       "output_type": "stream",
       "stream": "stdout",
       "text": [
        " 407\n",
        "\t\t\t Norm =  (109.661725352-2.19990692329e-13j)\n",
        " t index = "
       ]
      },
      {
       "output_type": "stream",
       "stream": "stdout",
       "text": [
        " 408\n",
        "\t\t\t Norm =  (109.661725353-2.19491091968e-13j)\n",
        " t index = "
       ]
      },
      {
       "output_type": "stream",
       "stream": "stdout",
       "text": [
        " 409\n",
        "\t\t\t Norm =  (109.661725354-2.20545803842e-13j)\n",
        " t index = "
       ]
      },
      {
       "output_type": "stream",
       "stream": "stdout",
       "text": [
        " 410\n",
        "\t\t\t Norm =  (109.661725355-2.18935980456e-13j)\n",
        " t index = "
       ]
      },
      {
       "output_type": "stream",
       "stream": "stdout",
       "text": [
        " 411\n",
        "\t\t\t Norm =  (109.661725355-2.21100915354e-13j)\n",
        " t index = "
       ]
      },
      {
       "output_type": "stream",
       "stream": "stdout",
       "text": [
        " 412\n",
        "\t\t\t Norm =  (109.661725356-2.18991491607e-13j)\n",
        " t index = "
       ]
      },
      {
       "output_type": "stream",
       "stream": "stdout",
       "text": [
        " 413\n",
        "\t\t\t Norm =  (109.661725357-2.15383266777e-13j)\n",
        " t index = "
       ]
      },
      {
       "output_type": "stream",
       "stream": "stdout",
       "text": [
        " 414\n",
        "\t\t\t Norm =  (109.661725358-2.19657625422e-13j)\n",
        " t index = "
       ]
      },
      {
       "output_type": "stream",
       "stream": "stdout",
       "text": [
        " 415\n",
        "\t\t\t Norm =  (109.661725359-2.17825757431e-13j)\n",
        " t index = "
       ]
      },
      {
       "output_type": "stream",
       "stream": "stdout",
       "text": [
        " 416\n",
        "\t\t\t Norm =  (109.66172536-2.16826556709e-13j)\n",
        " t index = "
       ]
      },
      {
       "output_type": "stream",
       "stream": "stdout",
       "text": [
        " 417\n",
        "\t\t\t Norm =  (109.661725361-2.19657625422e-13j)\n",
        " t index = "
       ]
      },
      {
       "output_type": "stream",
       "stream": "stdout",
       "text": [
        " 418\n",
        "\t\t\t Norm =  (109.661725362-2.17159623617e-13j)\n",
        " t index = "
       ]
      },
      {
       "output_type": "stream",
       "stream": "stdout",
       "text": [
        " 419\n",
        "\t\t\t Norm =  (109.661725363-2.17936779734e-13j)\n",
        " t index = "
       ]
      },
      {
       "output_type": "stream",
       "stream": "stdout",
       "text": [
        " 420\n",
        "\t\t\t Norm =  (109.661725364-2.17881268583e-13j)\n",
        " t index = "
       ]
      },
      {
       "output_type": "stream",
       "stream": "stdout",
       "text": [
        " 421\n",
        "\t\t\t Norm =  (109.661725365-2.17936779734e-13j)\n",
        " t index = "
       ]
      },
      {
       "output_type": "stream",
       "stream": "stdout",
       "text": [
        " 422\n",
        "\t\t\t Norm =  (109.661725366-2.1777024628e-13j)\n",
        " t index = "
       ]
      },
      {
       "output_type": "stream",
       "stream": "stdout",
       "text": [
        " 423\n",
        "\t\t\t Norm =  (109.661725367-2.16771045558e-13j)\n",
        " t index = "
       ]
      },
      {
       "output_type": "stream",
       "stream": "stdout",
       "text": [
        " 424\n",
        "\t\t\t Norm =  (109.661725368-2.17270645919e-13j)\n",
        " t index = "
       ]
      },
      {
       "output_type": "stream",
       "stream": "stdout",
       "text": [
        " 425\n",
        "\t\t\t Norm =  (109.661725369-2.18103313188e-13j)\n",
        " t index = "
       ]
      },
      {
       "output_type": "stream",
       "stream": "stdout",
       "text": [
        " 426\n",
        "\t\t\t Norm =  (109.66172537-2.16382467499e-13j)\n",
        " t index = "
       ]
      },
      {
       "output_type": "stream",
       "stream": "stdout",
       "text": [
        " 427\n",
        "\t\t\t Norm =  (109.661725371-2.16437978651e-13j)\n",
        " t index = "
       ]
      },
      {
       "output_type": "stream",
       "stream": "stdout",
       "text": [
        " 428\n",
        "\t\t\t Norm =  (109.661725372-2.15827355987e-13j)\n",
        " t index = "
       ]
      },
      {
       "output_type": "stream",
       "stream": "stdout",
       "text": [
        " 429\n",
        "\t\t\t Norm =  (109.661725373-2.15438777929e-13j)\n",
        " t index = "
       ]
      },
      {
       "output_type": "stream",
       "stream": "stdout",
       "text": [
        " 430\n",
        "\t\t\t Norm =  (109.661725374-2.1549428908e-13j)\n",
        " t index = "
       ]
      },
      {
       "output_type": "stream",
       "stream": "stdout",
       "text": [
        " 431\n",
        "\t\t\t Norm =  (109.661725375-2.19213536212e-13j)\n",
        " t index = "
       ]
      },
      {
       "output_type": "stream",
       "stream": "stdout",
       "text": [
        " 432\n",
        "\t\t\t Norm =  (109.661725376-2.15272244475e-13j)\n",
        " t index = "
       ]
      },
      {
       "output_type": "stream",
       "stream": "stdout",
       "text": [
        " 433\n",
        "\t\t\t Norm =  (109.661725377-2.1549428908e-13j)\n",
        " t index = "
       ]
      },
      {
       "output_type": "stream",
       "stream": "stdout",
       "text": [
        " 434\n",
        "\t\t\t Norm =  (109.661725378-2.15771844836e-13j)\n",
        " t index = "
       ]
      },
      {
       "output_type": "stream",
       "stream": "stdout",
       "text": [
        " 435\n",
        "\t\t\t Norm =  (109.661725379-2.15660822533e-13j)\n",
        " t index = "
       ]
      },
      {
       "output_type": "stream",
       "stream": "stdout",
       "text": [
        " 436\n",
        "\t\t\t Norm =  (109.66172538-2.14439577206e-13j)\n",
        " t index = "
       ]
      },
      {
       "output_type": "stream",
       "stream": "stdout",
       "text": [
        " 437\n",
        "\t\t\t Norm =  (109.661725381-2.15105711021e-13j)\n",
        " t index = "
       ]
      },
      {
       "output_type": "stream",
       "stream": "stdout",
       "text": [
        " 438\n",
        "\t\t\t Norm =  (109.661725382-2.16826556709e-13j)\n",
        " t index = "
       ]
      },
      {
       "output_type": "stream",
       "stream": "stdout",
       "text": [
        " 439\n",
        "\t\t\t Norm =  (109.661725383-2.15660822533e-13j)\n",
        " t index = "
       ]
      },
      {
       "output_type": "stream",
       "stream": "stdout",
       "text": [
        " 440\n",
        "\t\t\t Norm =  (109.661725384-2.12552198064e-13j)\n",
        " t index = "
       ]
      },
      {
       "output_type": "stream",
       "stream": "stdout",
       "text": [
        " 441\n",
        "\t\t\t Norm =  (109.661725384-2.15549800231e-13j)\n",
        " t index = "
       ]
      },
      {
       "output_type": "stream",
       "stream": "stdout",
       "text": [
        " 442\n",
        "\t\t\t Norm =  (109.661725385-2.14939177567e-13j)\n",
        " t index = "
       ]
      },
      {
       "output_type": "stream",
       "stream": "stdout",
       "text": [
        " 443\n",
        "\t\t\t Norm =  (109.661725386-2.12996287274e-13j)\n",
        " t index = "
       ]
      },
      {
       "output_type": "stream",
       "stream": "stdout",
       "text": [
        " 444\n",
        "\t\t\t Norm =  (109.661725387-2.14106510299e-13j)\n",
        " t index = "
       ]
      },
      {
       "output_type": "stream",
       "stream": "stdout",
       "text": [
        " 445\n",
        "\t\t\t Norm =  (109.661725388-2.13551398787e-13j)\n",
        " t index = "
       ]
      },
      {
       "output_type": "stream",
       "stream": "stdout",
       "text": [
        " 446\n",
        "\t\t\t Norm =  (109.661725389-2.14994688719e-13j)\n",
        " t index = "
       ]
      },
      {
       "output_type": "stream",
       "stream": "stdout",
       "text": [
        " 447\n",
        "\t\t\t Norm =  (109.66172539-2.13162820728e-13j)\n",
        " t index = "
       ]
      },
      {
       "output_type": "stream",
       "stream": "stdout",
       "text": [
        " 448\n",
        "\t\t\t Norm =  (109.661725391-2.1371793224e-13j)\n",
        " t index = "
       ]
      },
      {
       "output_type": "stream",
       "stream": "stdout",
       "text": [
        " 449\n",
        "\t\t\t Norm =  (109.661725392-2.12163620006e-13j)\n",
        " t index = "
       ]
      },
      {
       "output_type": "stream",
       "stream": "stdout",
       "text": [
        " 450\n",
        "\t\t\t Norm =  (109.661725393-2.13995487996e-13j)\n",
        " t index = "
       ]
      },
      {
       "output_type": "stream",
       "stream": "stdout",
       "text": [
        " 451\n",
        "\t\t\t Norm =  (109.661725394-2.1233015346e-13j)\n",
        " t index = "
       ]
      },
      {
       "output_type": "stream",
       "stream": "stdout",
       "text": [
        " 452\n",
        "\t\t\t Norm =  (109.661725395-2.13218331879e-13j)\n",
        " t index = "
       ]
      },
      {
       "output_type": "stream",
       "stream": "stdout",
       "text": [
        " 453\n",
        "\t\t\t Norm =  (109.661725396-2.1233015346e-13j)\n",
        " t index = "
       ]
      },
      {
       "output_type": "stream",
       "stream": "stdout",
       "text": [
        " 454\n",
        "\t\t\t Norm =  (109.661725397-2.15327755626e-13j)\n",
        " t index = "
       ]
      },
      {
       "output_type": "stream",
       "stream": "stdout",
       "text": [
        " 455\n",
        "\t\t\t Norm =  (109.661725398-2.1144197504e-13j)\n",
        " t index = "
       ]
      },
      {
       "output_type": "stream",
       "stream": "stdout",
       "text": [
        " 456\n",
        "\t\t\t Norm =  (109.661725399-2.11608508494e-13j)\n",
        " t index = "
       ]
      },
      {
       "output_type": "stream",
       "stream": "stdout",
       "text": [
        " 457\n",
        "\t\t\t Norm =  (109.6617254-2.12718731518e-13j)\n",
        " t index = "
       ]
      },
      {
       "output_type": "stream",
       "stream": "stdout",
       "text": [
        " 458\n",
        "\t\t\t Norm =  (109.661725401-2.11497486191e-13j)\n",
        " t index = "
       ]
      },
      {
       "output_type": "stream",
       "stream": "stdout",
       "text": [
        " 459\n",
        "\t\t\t Norm =  (109.661725402-2.11608508494e-13j)\n",
        " t index = "
       ]
      },
      {
       "output_type": "stream",
       "stream": "stdout",
       "text": [
        " 460\n",
        "\t\t\t Norm =  (109.661725403-2.11941575401e-13j)\n",
        " t index = "
       ]
      },
      {
       "output_type": "stream",
       "stream": "stdout",
       "text": [
        " 461\n",
        "\t\t\t Norm =  (109.661725404-2.11219930435e-13j)\n",
        " t index = "
       ]
      },
      {
       "output_type": "stream",
       "stream": "stdout",
       "text": [
        " 462\n",
        "\t\t\t Norm =  (109.661725405-2.14217532601e-13j)\n",
        " t index = "
       ]
      },
      {
       "output_type": "stream",
       "stream": "stdout",
       "text": [
        " 463\n",
        "\t\t\t Norm =  (109.661725406-2.11830553098e-13j)\n",
        " t index = "
       ]
      },
      {
       "output_type": "stream",
       "stream": "stdout",
       "text": [
        " 464\n",
        "\t\t\t Norm =  (109.661725407-2.10220729713e-13j)\n",
        " t index = "
       ]
      },
      {
       "output_type": "stream",
       "stream": "stdout",
       "text": [
        " 465\n",
        "\t\t\t Norm =  (109.661725408-2.10886863528e-13j)\n",
        " t index = "
       ]
      },
      {
       "output_type": "stream",
       "stream": "stdout",
       "text": [
        " 466\n",
        "\t\t\t Norm =  (109.661725409-2.11941575401e-13j)\n",
        " t index = "
       ]
      },
      {
       "output_type": "stream",
       "stream": "stdout",
       "text": [
        " 467\n",
        "\t\t\t Norm =  (109.66172541-2.08333350571e-13j)\n",
        " t index = "
       ]
      },
      {
       "output_type": "stream",
       "stream": "stdout",
       "text": [
        " 468\n",
        "\t\t\t Norm =  (109.661725411-2.10387263166e-13j)\n",
        " t index = "
       ]
      },
      {
       "output_type": "stream",
       "stream": "stdout",
       "text": [
        " 469\n",
        "\t\t\t Norm =  (109.661725412-2.11219930435e-13j)\n",
        " t index = "
       ]
      },
      {
       "output_type": "stream",
       "stream": "stdout",
       "text": [
        " 470\n",
        "\t\t\t Norm =  (109.661725413-2.09887662805e-13j)\n",
        " t index = "
       ]
      },
      {
       "output_type": "stream",
       "stream": "stdout",
       "text": [
        " 471\n",
        "\t\t\t Norm =  (109.661725413-2.09943173957e-13j)\n",
        " t index = "
       ]
      },
      {
       "output_type": "stream",
       "stream": "stdout",
       "text": [
        " 472\n",
        "\t\t\t Norm =  (109.661725414-2.12219131157e-13j)\n",
        " t index = "
       ]
      },
      {
       "output_type": "stream",
       "stream": "stdout",
       "text": [
        " 473\n",
        "\t\t\t Norm =  (109.661725415-2.10387263166e-13j)\n",
        " t index = "
       ]
      },
      {
       "output_type": "stream",
       "stream": "stdout",
       "text": [
        " 474\n",
        "\t\t\t Norm =  (109.661725416-2.08666417478e-13j)\n",
        " t index = "
       ]
      },
      {
       "output_type": "stream",
       "stream": "stdout",
       "text": [
        " 475\n",
        "\t\t\t Norm =  (109.661725417-2.11275441586e-13j)\n",
        " t index = "
       ]
      },
      {
       "output_type": "stream",
       "stream": "stdout",
       "text": [
        " 476\n",
        "\t\t\t Norm =  (109.661725418-2.06834549488e-13j)\n",
        " t index = "
       ]
      },
      {
       "output_type": "stream",
       "stream": "stdout",
       "text": [
        " 477\n",
        "\t\t\t Norm =  (109.661725419-2.10775841225e-13j)\n",
        " t index = "
       ]
      },
      {
       "output_type": "stream",
       "stream": "stdout",
       "text": [
        " 478\n",
        "\t\t\t Norm =  (109.66172542-2.07722727907e-13j)\n",
        " t index = "
       ]
      },
      {
       "output_type": "stream",
       "stream": "stdout",
       "text": [
        " 479\n",
        "\t\t\t Norm =  (109.661725421-2.07778239059e-13j)\n",
        " t index = "
       ]
      },
      {
       "output_type": "stream",
       "stream": "stdout",
       "text": [
        " 480\n",
        "\t\t\t Norm =  (109.661725422-2.07389661e-13j)\n",
        " t index = "
       ]
      },
      {
       "output_type": "stream",
       "stream": "stdout",
       "text": [
        " 481\n",
        "\t\t\t Norm =  (109.661725423-2.06779038336e-13j)\n",
        " t index = "
       ]
      },
      {
       "output_type": "stream",
       "stream": "stdout",
       "text": [
        " 482\n",
        "\t\t\t Norm =  (109.661725424-2.07556194454e-13j)\n",
        " t index = "
       ]
      },
      {
       "output_type": "stream",
       "stream": "stdout",
       "text": [
        " 483\n",
        "\t\t\t Norm =  (109.661725425-2.08055794815e-13j)\n",
        " t index = "
       ]
      },
      {
       "output_type": "stream",
       "stream": "stdout",
       "text": [
        " 484\n",
        "\t\t\t Norm =  (109.661725426-2.09887662805e-13j)\n",
        " t index = "
       ]
      },
      {
       "output_type": "stream",
       "stream": "stdout",
       "text": [
        " 485\n",
        "\t\t\t Norm =  (109.661725427-2.09554595898e-13j)\n",
        " t index = "
       ]
      },
      {
       "output_type": "stream",
       "stream": "stdout",
       "text": [
        " 486\n",
        "\t\t\t Norm =  (109.661725428-2.04891659195e-13j)\n",
        " t index = "
       ]
      },
      {
       "output_type": "stream",
       "stream": "stdout",
       "text": [
        " 487\n",
        "\t\t\t Norm =  (109.661725429-2.07278638698e-13j)\n",
        " t index = "
       ]
      },
      {
       "output_type": "stream",
       "stream": "stdout",
       "text": [
        " 488\n",
        "\t\t\t Norm =  (109.66172543-2.05779837614e-13j)\n",
        " t index = "
       ]
      },
      {
       "output_type": "stream",
       "stream": "stdout",
       "text": [
        " 489\n",
        "\t\t\t Norm =  (109.661725431-2.07500683302e-13j)\n",
        " t index = "
       ]
      },
      {
       "output_type": "stream",
       "stream": "stdout",
       "text": [
        " 490\n",
        "\t\t\t Norm =  (109.661725432-2.06334949127e-13j)\n",
        " t index = "
       ]
      },
      {
       "output_type": "stream",
       "stream": "stdout",
       "text": [
        " 491\n",
        "\t\t\t Norm =  (109.661725433-2.05557793009e-13j)\n",
        " t index = "
       ]
      },
      {
       "output_type": "stream",
       "stream": "stdout",
       "text": [
        " 492\n",
        "\t\t\t Norm =  (109.661725434-2.08666417478e-13j)\n",
        " t index = "
       ]
      },
      {
       "output_type": "stream",
       "stream": "stdout",
       "text": [
        " 493\n",
        "\t\t\t Norm =  (109.661725435-2.0422552538e-13j)\n",
        " t index = "
       ]
      },
      {
       "output_type": "stream",
       "stream": "stdout",
       "text": [
        " 494\n",
        "\t\t\t Norm =  (109.661725436-2.08222328268e-13j)\n",
        " t index = "
       ]
      },
      {
       "output_type": "stream",
       "stream": "stdout",
       "text": [
        " 495\n",
        "\t\t\t Norm =  (109.661725437-2.05613304161e-13j)\n",
        " t index = "
       ]
      },
      {
       "output_type": "stream",
       "stream": "stdout",
       "text": [
        " 496\n",
        "\t\t\t Norm =  (109.661725438-2.06723527185e-13j)\n",
        " t index = "
       ]
      },
      {
       "output_type": "stream",
       "stream": "stdout",
       "text": [
        " 497\n",
        "\t\t\t Norm =  (109.661725439-2.04392058833e-13j)\n",
        " t index = "
       ]
      },
      {
       "output_type": "stream",
       "stream": "stdout",
       "text": [
        " 498\n",
        "\t\t\t Norm =  (109.66172544-2.07611705605e-13j)\n",
        " t index = "
       ]
      },
      {
       "output_type": "stream",
       "stream": "stdout",
       "text": [
        " 499\n",
        "\t\t\t Norm =  (109.661725441-2.04780636892e-13j)\n",
        " t index = "
       ]
      },
      {
       "output_type": "stream",
       "stream": "stdout",
       "text": [
        " 500\n",
        "\t\t\t Norm =  (109.661725442-2.05613304161e-13j)\n",
        "\t\t\t Norm = "
       ]
      },
      {
       "output_type": "stream",
       "stream": "stdout",
       "text": [
        " (109.661725442-2.05224726102e-13j)\n",
        " running time =  273.285682849 min\n"
       ]
      }
     ],
     "prompt_number": 12
    },
    {
     "cell_type": "code",
     "collapsed": false,
     "input": [
      "W = instance.W11 .get() + instance.W22 .get() + instance.W33 .get() + instance.W44 .get()"
     ],
     "language": "python",
     "metadata": {},
     "outputs": [],
     "prompt_number": 13
    },
    {
     "cell_type": "code",
     "collapsed": false,
     "input": [
      "np.sum(W).real*instance.dx*instance.dy*instance.dp_x*instance.dp_y"
     ],
     "language": "python",
     "metadata": {},
     "outputs": [
      {
       "metadata": {},
       "output_type": "pyout",
       "prompt_number": 14,
       "text": [
        "0.99999999999999956"
       ]
      }
     ],
     "prompt_number": 14
    },
    {
     "cell_type": "code",
     "collapsed": false,
     "input": [
      "# Phase space y \n",
      "plt.imshow( W[:,:,instance.gridDIM_x/2, instance.gridDIM_x/2 ].real, \n",
      "           extent=[-instance.y_amplitude , instance.y_amplitude-instance.dy,\n",
      "                   -instance.p_y_amplitude, instance.p_y_amplitude-instance.dp_y] ,\n",
      "           origin='lower', interpolation='none')\n",
      "\n",
      "axis_font = {'size':'24'}\n",
      "plt.title( '$W$' , **axis_font)\n",
      "plt.xlabel('$y$',**axis_font)\n",
      "plt.ylabel('$p_y$',**axis_font)\n",
      "\n",
      "plt.colorbar()\n",
      "plt.axes().set_aspect(4)"
     ],
     "language": "python",
     "metadata": {},
     "outputs": [
      {
       "metadata": {},
       "output_type": "display_data",
       "png": "[encoded data removed]",
       "text": [
        "<matplotlib.figure.Figure at 0x7f1f8e0aa1d0>"
       ]
      }
     ],
     "prompt_number": 15
    },
    {
     "cell_type": "code",
     "collapsed": false,
     "input": [
      "# Phase space x\n",
      "plt.imshow( W[instance.gridDIM_y/2, instance.gridDIM_y/2, :, : ].real, \n",
      "           extent=[-instance.x_amplitude , instance.x_amplitude-instance.dx,\n",
      "                   -instance.p_x_amplitude, instance.p_x_amplitude-instance.dp_x] ,\n",
      "           origin='lower', interpolation='none')\n",
      "\n",
      "axis_font = {'size':'24'}\n",
      "plt.title( '$W$' , **axis_font)\n",
      "plt.xlabel('$x$',**axis_font)\n",
      "plt.ylabel('$p_x$',**axis_font)\n",
      "\n",
      "plt.colorbar()\n",
      "plt.axes().set_aspect(4)"
     ],
     "language": "python",
     "metadata": {},
     "outputs": [
      {
       "metadata": {},
       "output_type": "display_data",
       "png": "[encoded data removed]",
       "text": [
        "<matplotlib.figure.Figure at 0x7f1f8e450d90>"
       ]
      }
     ],
     "prompt_number": 16
    },
    {
     "cell_type": "code",
     "collapsed": false,
     "input": [
      "# Configuration space  \n",
      "plt.imshow( W[ instance.gridDIM_y/2 , : , instance.gridDIM_x/2 , : ].real, \n",
      "           extent=[-instance.x_amplitude , instance.x_amplitude-instance.dx,\n",
      "                   -instance.y_amplitude , instance.y_amplitude-instance.dy] ,\n",
      "           origin='lower', interpolation='none')\n",
      "\n",
      "axis_font = {'size':'24'}\n",
      "plt.title( '$W$' , **axis_font)\n",
      "plt.xlabel('$x$',**axis_font)\n",
      "plt.ylabel('$y$',**axis_font)\n",
      "plt.axes().set_aspect(1)\n",
      "plt.colorbar()"
     ],
     "language": "python",
     "metadata": {},
     "outputs": [
      {
       "metadata": {},
       "output_type": "pyout",
       "prompt_number": 17,
       "text": [
        "<matplotlib.colorbar.Colorbar at 0x7f1f8dbf4810>"
       ]
      },
      {
       "metadata": {},
       "output_type": "display_data",
       "png": "[encoded data removed]",
       "text": [
        "<matplotlib.figure.Figure at 0x7f1f8e45a6d0>"
       ]
      }
     ],
     "prompt_number": 17
    },
    {
     "cell_type": "code",
     "collapsed": false,
     "input": [
      "# Momentum space  \n",
      "plt.imshow( W[ :, instance.gridDIM_y/2 ,  :, instance.gridDIM_x/2 ].real, \n",
      "           extent=[-instance.p_x_amplitude , instance.p_x_amplitude-instance.dp_x,\n",
      "                   -instance.p_y_amplitude , instance.p_y_amplitude-instance.dp_y] ,\n",
      "           origin='lower', interpolation='none')\n",
      "\n",
      "axis_font = {'size':'24'}\n",
      "plt.title( '$W$' , **axis_font)\n",
      "plt.xlabel('$p_x$',**axis_font)\n",
      "plt.ylabel('$p_y$',**axis_font)\n",
      "plt.axes().set_aspect(1)\n",
      "plt.colorbar()"
     ],
     "language": "python",
     "metadata": {},
     "outputs": [
      {
       "metadata": {},
       "output_type": "pyout",
       "prompt_number": 18,
       "text": [
        "<matplotlib.colorbar.Colorbar at 0x7f1f8df44090>"
       ]
      },
      {
       "metadata": {},
       "output_type": "display_data",
       "png": "[encoded data removed]",
       "text": [
        "<matplotlib.figure.Figure at 0x7f1f8e2ce150>"
       ]
      }
     ],
     "prompt_number": 18
    },
    {
     "cell_type": "code",
     "collapsed": false,
     "input": [
      "plt.plot( instance.average_x  , label=\"$x$\")\n",
      "plt.plot( instance.average_y  ,'r--', label=\"$y$\")\n",
      "plt.ylabel(\"$x$\")\n",
      "plt.xlabel(\"t\")\n",
      "plt.legend(fontsize=20) "
     ],
     "language": "python",
     "metadata": {},
     "outputs": [
      {
       "metadata": {},
       "output_type": "pyout",
       "prompt_number": 19,
       "text": [
        "<matplotlib.legend.Legend at 0x7f1f8de8fe10>"
       ]
      },
      {
       "metadata": {},
       "output_type": "display_data",
       "png": "[encoded data removed]",
       "text": [
        "<matplotlib.figure.Figure at 0x7f1f8e1f3350>"
       ]
      }
     ],
     "prompt_number": 19
    },
    {
     "cell_type": "code",
     "collapsed": false,
     "input": [
      "plt.plot( instance.average_p_x , label=\"$p_x$\")\n",
      "plt.plot( instance.average_p_y ,'r--', label=\"$p_y$\")\n",
      "plt.ylabel(\"$p_x$\")\n",
      "plt.xlabel(\"t\")\n",
      "plt.ylim(-1,3)\n",
      "plt.legend(fontsize=20) "
     ],
     "language": "python",
     "metadata": {},
     "outputs": [
      {
       "metadata": {},
       "output_type": "pyout",
       "prompt_number": 20,
       "text": [
        "<matplotlib.legend.Legend at 0x7f1f8dde8b90>"
       ]
      },
      {
       "metadata": {},
       "output_type": "display_data",
       "png": "[encoded data removed]",
       "text": [
        "<matplotlib.figure.Figure at 0x7f1f8dec08d0>"
       ]
      }
     ],
     "prompt_number": 20
    },
    {
     "cell_type": "code",
     "collapsed": false,
     "input": [
      "instance.average_x.shape"
     ],
     "language": "python",
     "metadata": {},
     "outputs": [
      {
       "metadata": {},
       "output_type": "pyout",
       "prompt_number": 21,
       "text": [
        "(501,)"
       ]
      }
     ],
     "prompt_number": 21
    },
    {
     "cell_type": "code",
     "collapsed": false,
     "input": [
      "print 'initial velocity x = ', 2/np.sqrt( 1 + 2**2 + 2**2  )\n",
      "\n",
      "plt.figure(figsize=(8,8))\n",
      "\n",
      "plt.plot(  np.gradient( instance.average_x , instance.dt)  , label=\"$\\\\frac{dx}{dt}$\")\n",
      "plt.plot( instance.average_Alpha_1 ,'r--', label=\"$\\\\alpha^1$\")\n",
      "plt.ylabel(\"$x$\")\n",
      "plt.xlabel(\"t\")\n",
      "\n",
      "plt.ylim( 0.64 , 0.9 )\n",
      "plt.legend(fontsize=30) "
     ],
     "language": "python",
     "metadata": {},
     "outputs": [
      {
       "output_type": "stream",
       "stream": "stdout",
       "text": [
        "initial velocity x =  0.666666666667\n"
       ]
      },
      {
       "metadata": {},
       "output_type": "pyout",
       "prompt_number": 32,
       "text": [
        "<matplotlib.legend.Legend at 0x7f1f8d8b6d50>"
       ]
      },
      {
       "metadata": {},
       "output_type": "display_data",
       "png": "[encoded data removed]",
       "text": [
        "<matplotlib.figure.Figure at 0x7f1f8d91ef10>"
       ]
      }
     ],
     "prompt_number": 32
    },
    {
     "cell_type": "code",
     "collapsed": false,
     "input": [
      "0.698-0.690"
     ],
     "language": "python",
     "metadata": {},
     "outputs": [
      {
       "metadata": {},
       "output_type": "pyout",
       "prompt_number": 23,
       "text": [
        "0.008000000000000007"
       ]
      }
     ],
     "prompt_number": 23
    },
    {
     "cell_type": "code",
     "collapsed": false,
     "input": [
      "print 'initial velocity y = ', 2/np.sqrt( 1 + 2**2 + 2**2  )\n",
      "\n",
      "plt.figure(figsize=(8,8))\n",
      "\n",
      "plt.plot(  np.gradient( instance.average_y , instance.dt )  , label=\"$\\\\frac{dy}{dt}$\")\n",
      "#plt.plot( instance.average_p_x/instance.mass, 'r--' , label=\"$\\\\frac{p_x}{m}$\")\n",
      "plt.plot( instance.average_Alpha_2 ,'r--', label=\"$\\\\alpha^2$\")\n",
      "plt.ylabel(\"$x$\")\n",
      "plt.xlabel(\"t\")\n",
      "\n",
      "plt.ylim(-0.4,0.05)\n",
      "\n",
      "plt.legend(fontsize=30) "
     ],
     "language": "python",
     "metadata": {},
     "outputs": [
      {
       "output_type": "stream",
       "stream": "stdout",
       "text": [
        "initial velocity y =  0.666666666667\n"
       ]
      },
      {
       "metadata": {},
       "output_type": "pyout",
       "prompt_number": 34,
       "text": [
        "<matplotlib.legend.Legend at 0x7f1f8d6e2590>"
       ]
      },
      {
       "metadata": {},
       "output_type": "display_data",
       "png": "[encoded data removed]",
       "text": [
        "<matplotlib.figure.Figure at 0x7f1f8dd3a110>"
       ]
      }
     ],
     "prompt_number": 34
    },
    {
     "cell_type": "code",
     "collapsed": false,
     "input": [
      "plt.figure(figsize=(8,8))\n",
      "\n",
      "plt.plot(  instance.energyKinetic , label=\"$Kinetic\\, Energy$\")\n",
      "plt.plot(  instance.energyPotential+instance.energyKinetic , 'r--',label=\"$Total\\, Energy$\")\n",
      "\n",
      "plt.ylabel(\"$E$\")\n",
      "plt.xlabel(\"t\")\n",
      "plt.ylim(1,2)\n",
      "plt.legend(fontsize=30) "
     ],
     "language": "python",
     "metadata": {},
     "outputs": [
      {
       "metadata": {},
       "output_type": "pyout",
       "prompt_number": 25,
       "text": [
        "<matplotlib.legend.Legend at 0x7f1f8e089d50>"
       ]
      },
      {
       "metadata": {},
       "output_type": "display_data",
       "png": "[encoded data removed]",
       "text": [
        "<matplotlib.figure.Figure at 0x7f1f8df3c7d0>"
       ]
      }
     ],
     "prompt_number": 25
    },
    {
     "cell_type": "code",
     "collapsed": false,
     "input": [
      "sigma_x   = np.sqrt(instance.average_x_square   - instance.average_x**2)\n",
      "sigma_p_x = np.sqrt(instance.average_p_x_square - instance.average_p_x**2)\n",
      "\n",
      "sigma_y   = np.sqrt(instance.average_y_square   - instance.average_y**2)\n",
      "sigma_p_y = np.sqrt(instance.average_p_y_square - instance.average_p_y**2)\n",
      "\n",
      "plt.figure(figsize=(8,8))\n",
      "\n",
      "plt.plot( sigma_x*sigma_p_x ,   label=\"$\\\\Delta x \\\\Delta p_x$\")\n",
      "plt.plot( sigma_y*sigma_p_y ,'r--', label=\"$\\\\Delta y \\\\Delta p_y$\")\n",
      "\n",
      "plt.ylabel(\"$\\\\Delta$\")\n",
      "plt.xlabel(\"t\")\n",
      "plt.ylim(0.4,0.6)\n",
      "plt.legend(fontsize=30) "
     ],
     "language": "python",
     "metadata": {},
     "outputs": [
      {
       "metadata": {},
       "output_type": "pyout",
       "prompt_number": 26,
       "text": [
        "<matplotlib.legend.Legend at 0x7f1f8da805d0>"
       ]
      },
      {
       "metadata": {},
       "output_type": "display_data",
       "png": "[encoded data removed]",
       "text": [
        "<matplotlib.figure.Figure at 0x7f1f8e4dad90>"
       ]
      }
     ],
     "prompt_number": 26
    },
    {
     "cell_type": "code",
     "collapsed": false,
     "input": [
      "plt.figure(figsize=(8,8))\n",
      "\n",
      "plt.plot(  instance.average_x_square - instance.average_x**2, label=\"$\\\\langle x^2 \\\\rangle - \\\\langle x \\\\rangle^2 $\")\n",
      "plt.plot(  instance.average_y_square - instance.average_y**2, 'r--' , label=\"$\\\\langle y^2 \\\\rangle - \\\\langle y \\\\rangle^2 $\")\n",
      "plt.ylabel(\"$\\\\Delta$\")\n",
      "plt.xlabel(\"t\")\n",
      "plt.ylim(0,4.5)\n",
      "plt.legend(fontsize=30) "
     ],
     "language": "python",
     "metadata": {},
     "outputs": [
      {
       "metadata": {},
       "output_type": "pyout",
       "prompt_number": 27,
       "text": [
        "<matplotlib.legend.Legend at 0x7f1f8da2fc10>"
       ]
      },
      {
       "metadata": {},
       "output_type": "display_data",
       "png": "[encoded data removed]",
       "text": [
        "<matplotlib.figure.Figure at 0x7f1f8db56d10>"
       ]
      }
     ],
     "prompt_number": 27
    },
    {
     "cell_type": "code",
     "collapsed": false,
     "input": [
      "plt.figure(figsize=(8,8))\n",
      "\n",
      "plt.plot(  instance.average_p_x_square - instance.average_p_x**2 ,\n",
      "         label=\"$\\\\langle p_x^2 \\\\rangle - \\\\langle p_x \\\\rangle^2 $\")\n",
      "plt.plot(  instance.average_p_y_square - instance.average_p_y**2 ,'r--',\n",
      "         label=\"$\\\\langle p_y^2 \\\\rangle - \\\\langle p_y\\\\rangle^2 $\")\n",
      "plt.ylabel(\"$E$\")\n",
      "plt.xlabel(\"t\")\n",
      "plt.ylim(0.,0.25)\n",
      "plt.legend(fontsize=30) "
     ],
     "language": "python",
     "metadata": {},
     "outputs": [
      {
       "metadata": {},
       "output_type": "pyout",
       "prompt_number": 28,
       "text": [
        "<matplotlib.legend.Legend at 0x7f1f8d907fd0>"
       ]
      },
      {
       "metadata": {},
       "output_type": "display_data",
       "png": "[encoded data removed]",
       "text": [
        "<matplotlib.figure.Figure at 0x7f1f8de1d650>"
       ]
      }
     ],
     "prompt_number": 28
    },
    {
     "cell_type": "code",
     "collapsed": false,
     "input": [
      "instance.Norm_4x4_GPU( instance.W11, instance.W22, instance.W33, instance.W44 )"
     ],
     "language": "python",
     "metadata": {},
     "outputs": [
      {
       "metadata": {},
       "output_type": "pyout",
       "prompt_number": 29,
       "text": [
        "(0.99999999999999978-2.6020852139652106e-18j)"
       ]
      }
     ],
     "prompt_number": 29
    },
    {
     "cell_type": "code",
     "collapsed": false,
     "input": [
      "sign = np.int32(1)\n",
      "\n",
      "instance.ParticleProjector_GPU( instance.W11,instance.W12,instance.W13,instance.W14,\n",
      "                                             instance.W22,instance.W23,instance.W24,\n",
      "                                                      instance.W33,instance.W34,instance.W44, sign)"
     ],
     "language": "python",
     "metadata": {},
     "outputs": [],
     "prompt_number": 30
    },
    {
     "cell_type": "code",
     "collapsed": false,
     "input": [
      "instance.Norm_4x4_GPU( instance.W11, instance.W22, instance.W33, instance.W44 )"
     ],
     "language": "python",
     "metadata": {},
     "outputs": [
      {
       "metadata": {},
       "output_type": "pyout",
       "prompt_number": 31,
       "text": [
        "(1.071730452264227-0.0068332560756867167j)"
       ]
      }
     ],
     "prompt_number": 31
    },
    {
     "cell_type": "code",
     "collapsed": false,
     "input": [],
     "language": "python",
     "metadata": {},
     "outputs": [],
     "prompt_number": 31
    }
   ],
   "metadata": {}
  }
 ]
}