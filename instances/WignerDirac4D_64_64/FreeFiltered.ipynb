{
 "metadata": {
  "name": "",
  "signature": "sha256:f0f1b34c4bd2cc829662d9922de983fd4b7aa5959459ebd15d628ff70fa8851a"
 },
 "nbformat": 3,
 "nbformat_minor": 0,
 "worksheets": [
  {
   "cells": [
    {
     "cell_type": "heading",
     "level": 1,
     "metadata": {},
     "source": [
      "$x^2$ potential"
     ]
    },
    {
     "cell_type": "code",
     "collapsed": false,
     "input": [
      "import pickle\n",
      "import numpy as np\n",
      "import pycuda.gpuarray as gpuarray\n",
      "import pycuda.cumath as cumath\n",
      "from scipy.special import hyp1f1\n",
      "import scipy.fftpack as fftpack\n",
      "import pylab as plt\n",
      "import time\n",
      "\n",
      "#-------------------------------------------------------------------------------------\n",
      "from pywignercuda_path import SetPyWignerCUDA_Path\n",
      "SetPyWignerCUDA_Path()\n",
      "\n",
      "from GPU_WignerDirac4D import *"
     ],
     "language": "python",
     "metadata": {},
     "outputs": [
      {
       "output_type": "stream",
       "stream": "stdout",
       "text": [
        " PyWignerCUDA PATH =  /home/rcabrera/Documents/source/Python/PyWignerCUDA2\n"
       ]
      }
     ],
     "prompt_number": 1
    },
    {
     "cell_type": "code",
     "collapsed": false,
     "input": [
      "%matplotlib inline"
     ],
     "language": "python",
     "metadata": {},
     "outputs": [],
     "prompt_number": 2
    },
    {
     "cell_type": "code",
     "collapsed": false,
     "input": [
      "500*0.002"
     ],
     "language": "python",
     "metadata": {},
     "outputs": [
      {
       "metadata": {},
       "output_type": "pyout",
       "prompt_number": 3,
       "text": [
        "1.0"
       ]
      }
     ],
     "prompt_number": 3
    },
    {
     "cell_type": "heading",
     "level": 2,
     "metadata": {},
     "source": [
      "Settings"
     ]
    },
    {
     "cell_type": "code",
     "collapsed": false,
     "input": [
      "class frame( GPU_WignerDirac4D ):\n",
      "    def __init__ (self):\n",
      "        \n",
      "        \n",
      "        self.gridDIM_p_y = 64      #axis 0\n",
      "        self.gridDIM_y   = 64      #axis 1    \n",
      "        self.gridDIM_p_x = 64     #axis 2\n",
      "        self.gridDIM_x   = 64     #axis 3\n",
      "    \n",
      "        self.skipFrames = 1\n",
      "        self.dt         = 0.002\n",
      "        self.timeSteps  =   60\n",
      "    \n",
      "        # Phase space window \n",
      "        self.p_y_amplitude = 4.          #axis 0\n",
      "        self.y_amplitude   = 16.          #axis 1\n",
      "        self.p_x_amplitude = 4.         #axis 2\n",
      "        self.x_amplitude   = 16.        #axis 3\n",
      "        \n",
      "        # Ambiguity space window \n",
      "        self.theta_y_amplitude  = 20.     #axis 0             \n",
      "        self.lambda_y_amplitude = 6.     #axis 1\n",
      "        self.theta_x_amplitude  = 22.    #axis 2\n",
      "        self.lambda_x_amplitude = 6.    #axis 3\n",
      "           \n",
      "        # Dynamics    \n",
      "        self.c       = 1.    \n",
      "        self.HBar    = 1.\n",
      "        \n",
      "        self.mass    = 1.\n",
      "        self.omega_x = 1.\n",
      "        self.omega_y = 1.\n",
      "        \n",
      "        self.kineticString  = '0.5*(p_x*p_x  + p_y*p_y)/{mass}'.format(mass=self.mass)\n",
      "        \n",
      "        self.potential_0_String  = 'x*0'    \n",
      "        self.potential_1_String  = 'x*0'\n",
      "        self.potential_2_String  = 'x*0' \n",
      "            \n",
      "        # Dephasing     \n",
      "        self.D_theta_x  = 0.0001 \n",
      "        self.D_theta_y  = 0.0001 \n",
      "        self.D_lambda_x = 0.0001 \n",
      "        self.D_lambda_y = 0.0001 \n",
      "            \n",
      "        GPU_WignerDirac4D.__init__(self)\n",
      "        \n",
      "    def Set_Initial_Condition(self):\n",
      "        \"\"\"\n",
      "        Sets   self.PsiInitial_XP with the Wigner function of the Harmonic oscillator  \n",
      "        \"\"\"\n",
      "        \n",
      "        self.FilterParticle = False #1  #------------------------Filter-----------------------    \n",
      "        \n",
      "        self.fileName = '/home/rcabrera/DATA/Wigner4D/' + 'HO.hdf5'\n",
      "        \n",
      "        x_mu    = 0.\n",
      "        y_mu    = 0.\n",
      "        x_sigma = 2.\n",
      "        y_sigma = 2.\n",
      "        \n",
      "        u_x = 1.\n",
      "        u_y = 0.\n",
      "\n",
      "        self.WignerDiracGaussian_ParticleUp_GPU(\n",
      "            self.W11_init_gpu,  self.W12_init_gpu,  self.W13_init_gpu,  self.W14_init_gpu,\n",
      "                                self.W22_init_gpu,  self.W23_init_gpu,  self.W24_init_gpu,\n",
      "                                                    self.W33_init_gpu,  self.W34_init_gpu, \n",
      "                                                                        self.W44_init_gpu, u_x, u_y, x_mu, y_mu, x_sigma, y_sigma)\n",
      "        \n",
      "        self.Fourier_Theta_To_P_64_64_4x4_GPU(\n",
      "            self.W11_init_gpu,  self.W12_init_gpu,  self.W13_init_gpu,  self.W14_init_gpu,\n",
      "                                self.W22_init_gpu,  self.W23_init_gpu,  self.W24_init_gpu,\n",
      "                                                    self.W33_init_gpu,  self.W34_init_gpu, \n",
      "                                                                        self.W44_init_gpu)\n",
      "        \n",
      "        \n",
      "        self.Normalize_4x4_GPU(\n",
      "            self.W11_init_gpu,  self.W12_init_gpu,  self.W13_init_gpu,  self.W14_init_gpu,\n",
      "                                self.W22_init_gpu,  self.W23_init_gpu,  self.W24_init_gpu,\n",
      "                                                    self.W33_init_gpu,  self.W34_init_gpu, \n",
      "                                                                        self.W44_init_gpu)\n",
      "        \n",
      "    def Set_Initial_Condition_FilterParticle(self):\n",
      "        \"\"\"\n",
      "        Sets   self.PsiInitial_XP with the Wigner function of the Harmonic oscillator  \n",
      "        \"\"\"\n",
      "        \n",
      "        self.FilterParticle = False  #------------------------Filter-----------------------    \n",
      "        \n",
      "        self.fileName = '/home/rcabrera/DATA/Wigner4D/' + 'HO.hdf5'\n",
      "        \n",
      "        x_mu    = 0.\n",
      "        y_mu    = 0.\n",
      "        x_sigma = 2.\n",
      "        y_sigma = 2.\n",
      "        \n",
      "        u_x = 1.\n",
      "        u_y = 0.\n",
      "\n",
      "        self.WignerDiracGaussian_ParticleUp_GPU(\n",
      "            self.W11_init_gpu,  self.W12_init_gpu,  self.W13_init_gpu,  self.W14_init_gpu,\n",
      "                                self.W22_init_gpu,  self.W23_init_gpu,  self.W24_init_gpu,\n",
      "                                                    self.W33_init_gpu,  self.W34_init_gpu, \n",
      "                                                                        self.W44_init_gpu, u_x, u_y, x_mu, y_mu, x_sigma, y_sigma)\n",
      "        \n",
      "        self.Fourier_Theta_To_P_64_64_4x4_GPU(\n",
      "            self.W11_init_gpu,  self.W12_init_gpu,  self.W13_init_gpu,  self.W14_init_gpu,\n",
      "                                self.W22_init_gpu,  self.W23_init_gpu,  self.W24_init_gpu,\n",
      "                                                    self.W33_init_gpu,  self.W34_init_gpu, \n",
      "                                                                        self.W44_init_gpu)\n",
      "        \n",
      "        sign = np.int32(1)    \n",
      "        #------------------------  p x  ->  p lambda --------------------------------------------\n",
      "        self.Fourier_X_To_Lambda_64_64_4x4_GPU(\n",
      "            self.W11_init_gpu,  self.W12_init_gpu,  self.W13_init_gpu,  self.W14_init_gpu,\n",
      "                                self.W22_init_gpu,  self.W23_init_gpu,  self.W24_init_gpu,\n",
      "                                                    self.W33_init_gpu,  self.W34_init_gpu, \n",
      "                                                                        self.W44_init_gpu)\n",
      "        # --------------------------------Filter-------------------------------------------------\n",
      "        self.ParticleProjector_GPU(\n",
      "            self.W11_init_gpu,  self.W12_init_gpu,  self.W13_init_gpu,  self.W14_init_gpu,\n",
      "                                self.W22_init_gpu,  self.W23_init_gpu,  self.W24_init_gpu,\n",
      "                                                    self.W33_init_gpu,  self.W34_init_gpu, \n",
      "                                                                        self.W44_init_gpu, sign)\n",
      "        #-------------------------p lambda -> p x  ----------------------------------------------\n",
      "        self.Fourier_Lambda_To_X_64_64_4x4_GPU(\n",
      "            self.W11_init_gpu,  self.W12_init_gpu,  self.W13_init_gpu,  self.W14_init_gpu,\n",
      "                                self.W22_init_gpu,  self.W23_init_gpu,  self.W24_init_gpu,\n",
      "                                                    self.W33_init_gpu,  self.W34_init_gpu, \n",
      "                                                                        self.W44_init_gpu)\n",
      "        #----------------------------------------------------------------------------------------\n",
      "        \n",
      "        self.Normalize_4x4_GPU(\n",
      "            self.W11_init_gpu,  self.W12_init_gpu,  self.W13_init_gpu,  self.W14_init_gpu,\n",
      "                                self.W22_init_gpu,  self.W23_init_gpu,  self.W24_init_gpu,\n",
      "                                                    self.W33_init_gpu,  self.W34_init_gpu, \n",
      "                                                                        self.W44_init_gpu)\n",
      "        \n",
      "        "
     ],
     "language": "python",
     "metadata": {},
     "outputs": [],
     "prompt_number": 4
    },
    {
     "cell_type": "heading",
     "level": 2,
     "metadata": {},
     "source": [
      "Initialize"
     ]
    },
    {
     "cell_type": "code",
     "collapsed": false,
     "input": [
      "instance = frame()"
     ],
     "language": "python",
     "metadata": {},
     "outputs": [
      {
       "output_type": "stream",
       "stream": "stdout",
       "text": [
        "\n",
        "__device__ double c      = 1.000000;   __device__ double HBar   = 1.000000;   __device__ double dt   = 0.002000;   __device__ double mass = 1.000000; \n",
        "__device__ double dp_y   = 0.125000; __device__ double dy     = 0.500000; __device__ double dp_x   = 0.125000; __device__ double dx     = 0.500000; \n",
        "__device__ double dtheta_y   = 0.625000; __device__ double dlambda_y  = 0.187500; __device__ double dtheta_x   = 0.687500; __device__ double dlambda_x  = 0.187500; \n",
        "__device__ int gridDIM_x = 64; __device__ int gridDIM_y = 64; __device__ double D_lambda_x = 0.000100; __device__ double D_lambda_y = 0.000100; __device__ double D_theta_x  = 0.000100; __device__ double D_theta_y  = 0.000100; \n",
        "\n",
        "\n",
        "         GPU memory Total                5.17700195312 GB\n",
        "         GPU memory Free  (Before)       5.13043212891 GB\n",
        "         GPU memory Free  (After)       "
       ]
      },
      {
       "output_type": "stream",
       "stream": "stdout",
       "text": [
        " 2.62945556641 GB\n"
       ]
      }
     ],
     "prompt_number": 5
    },
    {
     "cell_type": "code",
     "collapsed": false,
     "input": [
      "#instance.Set_Initial_Condition()\n",
      "instance.Set_Initial_Condition_FilterParticle()"
     ],
     "language": "python",
     "metadata": {},
     "outputs": [
      {
       "output_type": "stream",
       "stream": "stdout",
       "text": [
        "\t\t\t Norm =  (5440959.41194-1.46703951711e-08j)\n"
       ]
      }
     ],
     "prompt_number": 6
    },
    {
     "cell_type": "markdown",
     "metadata": {},
     "source": [
      "********************************************"
     ]
    },
    {
     "cell_type": "code",
     "collapsed": false,
     "input": [
      "W = instance.W11_init_gpu.get() + instance.W22_init_gpu.get() + instance.W33_init_gpu.get() + instance.W44_init_gpu.get()"
     ],
     "language": "python",
     "metadata": {},
     "outputs": [],
     "prompt_number": 7
    },
    {
     "cell_type": "code",
     "collapsed": false,
     "input": [
      "# Phase space x\n",
      "plt.imshow( W[::,::,instance.gridDIM_x/2, instance.gridDIM_x/2 ].real, \n",
      "           extent=[-instance.y_amplitude , instance.y_amplitude-instance.dy,\n",
      "                   -instance.p_y_amplitude, instance.p_y_amplitude-instance.dp_y] ,\n",
      "           origin='lower', interpolation='none')\n",
      "\n",
      "axis_font = {'size':'24'}\n",
      "plt.title( '$W$' , **axis_font)\n",
      "plt.xlabel('$y$',**axis_font)\n",
      "plt.ylabel('$p_y$',**axis_font)\n",
      "\n",
      "plt.colorbar()\n",
      "plt.axes().set_aspect(4)"
     ],
     "language": "python",
     "metadata": {},
     "outputs": [
      {
       "metadata": {},
       "output_type": "display_data",
       "png": "[encoded data removed]",
       "text": [
        "<matplotlib.figure.Figure at 0x7f8736e6b350>"
       ]
      }
     ],
     "prompt_number": 8
    },
    {
     "cell_type": "code",
     "collapsed": false,
     "input": [
      "# Phase space y\n",
      "plt.imshow( W[instance.gridDIM_y/2, instance.gridDIM_y/2, :, : ].real, \n",
      "           extent=[-instance.x_amplitude , instance.x_amplitude-instance.dx,\n",
      "                   -instance.p_x_amplitude, instance.p_x_amplitude-instance.dp_x] ,\n",
      "           origin='lower', interpolation='none')\n",
      "\n",
      "axis_font = {'size':'24'}\n",
      "plt.title( '$W$' , **axis_font)\n",
      "plt.xlabel('$x$',**axis_font)\n",
      "plt.ylabel('$p_x$',**axis_font)\n",
      "\n",
      "plt.colorbar()\n",
      "plt.axes().set_aspect(4)"
     ],
     "language": "python",
     "metadata": {},
     "outputs": [
      {
       "metadata": {},
       "output_type": "display_data",
       "png": "[encoded data removed]",
       "text": [
        "<matplotlib.figure.Figure at 0x7f8736a51090>"
       ]
      }
     ],
     "prompt_number": 9
    },
    {
     "cell_type": "code",
     "collapsed": false,
     "input": [
      "# Configuration space  \n",
      "plt.imshow( W[ instance.gridDIM_y/2 , : , instance.gridDIM_x/2 , : ].real, \n",
      "           extent=[-instance.x_amplitude , instance.x_amplitude-instance.dx,\n",
      "                   -instance.y_amplitude , instance.y_amplitude-instance.dy] ,\n",
      "           origin='lower', interpolation='none')\n",
      "\n",
      "axis_font = {'size':'24'}\n",
      "plt.title( '$W$' , **axis_font)\n",
      "plt.xlabel('$x$',**axis_font)\n",
      "plt.ylabel('$y$',**axis_font)\n",
      "plt.axes().set_aspect(1)\n",
      "plt.colorbar()"
     ],
     "language": "python",
     "metadata": {},
     "outputs": [
      {
       "metadata": {},
       "output_type": "pyout",
       "prompt_number": 10,
       "text": [
        "<matplotlib.colorbar.Colorbar at 0x7f87367f9b10>"
       ]
      },
      {
       "metadata": {},
       "output_type": "display_data",
       "png": "[encoded data removed]",
       "text": [
        "<matplotlib.figure.Figure at 0x7f8736938410>"
       ]
      }
     ],
     "prompt_number": 10
    },
    {
     "cell_type": "code",
     "collapsed": false,
     "input": [
      "# Momentum space  \n",
      "plt.imshow( W[ :, instance.gridDIM_y/2 ,  :, instance.gridDIM_x/2 ].real, \n",
      "           extent=[-instance.p_x_amplitude , instance.p_x_amplitude-instance.dp_x,\n",
      "                   -instance.p_y_amplitude , instance.p_y_amplitude-instance.dp_y] ,\n",
      "           origin='lower', interpolation='none')\n",
      "\n",
      "axis_font = {'size':'24'}\n",
      "plt.title( '$W$' , **axis_font)\n",
      "plt.xlabel('$p_x$',**axis_font)\n",
      "plt.ylabel('$p_y$',**axis_font)\n",
      "plt.axes().set_aspect(1)\n",
      "plt.colorbar()"
     ],
     "language": "python",
     "metadata": {},
     "outputs": [
      {
       "metadata": {},
       "output_type": "pyout",
       "prompt_number": 11,
       "text": [
        "<matplotlib.colorbar.Colorbar at 0x7f8736add590>"
       ]
      },
      {
       "metadata": {},
       "output_type": "display_data",
       "png": "[encoded data removed]",
       "text": [
        "<matplotlib.figure.Figure at 0x7f873690e110>"
       ]
      }
     ],
     "prompt_number": 11
    },
    {
     "cell_type": "markdown",
     "metadata": {},
     "source": [
      "RUN"
     ]
    },
    {
     "cell_type": "code",
     "collapsed": false,
     "input": [
      "t_init = time.time()\n",
      "\n",
      "instance.Run()\n",
      "\n",
      "print ' running time = ', (time.time() - t_init)/60. , 'min'"
     ],
     "language": "python",
     "metadata": {},
     "outputs": [
      {
       "output_type": "stream",
       "stream": "stdout",
       "text": [
        "         GPU memory Total        5.17700195312 GB\n",
        "         GPU memory Free         2.62811279297 GB\n",
        " t index =  0\n",
        "\t\t\t Norm =  (1-6.751856683e-19j)\n",
        " t index = "
       ]
      },
      {
       "output_type": "stream",
       "stream": "stdout",
       "text": [
        " 1\n",
        "\t\t\t Norm =  (109.661632395-2.52866304284e-13j)\n",
        " t index = "
       ]
      },
      {
       "output_type": "stream",
       "stream": "stdout",
       "text": [
        " 2\n",
        "\t\t\t Norm =  (109.661632397-2.54555057588e-13j)\n",
        " t index = "
       ]
      },
      {
       "output_type": "stream",
       "stream": "stdout",
       "text": [
        " 3\n",
        "\t\t\t Norm =  (109.661632398-2.55864773813e-13j)\n",
        " t index = "
       ]
      },
      {
       "output_type": "stream",
       "stream": "stdout",
       "text": [
        " 4\n",
        "\t\t\t Norm =  (109.6616324-2.55425888773e-13j)\n",
        " t index = "
       ]
      },
      {
       "output_type": "stream",
       "stream": "stdout",
       "text": [
        " 5\n",
        "\t\t\t Norm =  (109.661632401-2.57533577797e-13j)\n",
        " t index = "
       ]
      },
      {
       "output_type": "stream",
       "stream": "stdout",
       "text": [
        " 6\n",
        "\t\t\t Norm =  (109.661632402-2.54254950427e-13j)\n",
        " t index = "
       ]
      },
      {
       "output_type": "stream",
       "stream": "stdout",
       "text": [
        " 7\n",
        "\t\t\t Norm =  (109.661632404-2.55472726307e-13j)\n",
        " t index = "
       ]
      },
      {
       "output_type": "stream",
       "stream": "stdout",
       "text": [
        " 8\n",
        "\t\t\t Norm =  (109.661632405-2.53106563486e-13j)\n",
        " t index = "
       ]
      },
      {
       "output_type": "stream",
       "stream": "stdout",
       "text": [
        " 9\n",
        "\t\t\t Norm =  (109.661632406-2.55129251059e-13j)\n",
        " t index = "
       ]
      },
      {
       "output_type": "stream",
       "stream": "stdout",
       "text": [
        " 10\n",
        "\t\t\t Norm =  (109.661632408-2.54463117244e-13j)\n",
        " t index = "
       ]
      },
      {
       "output_type": "stream",
       "stream": "stdout",
       "text": [
        " 11\n",
        "\t\t\t Norm =  (109.661632409-2.56017429479e-13j)\n",
        " t index = "
       ]
      },
      {
       "output_type": "stream",
       "stream": "stdout",
       "text": [
        " 12\n",
        "\t\t\t Norm =  (109.661632411-2.56170085144e-13j)\n",
        " t index = "
       ]
      },
      {
       "output_type": "stream",
       "stream": "stdout",
       "text": [
        " 13\n",
        "\t\t\t Norm =  (109.661632412-2.53307791409e-13j)\n",
        " t index = "
       ]
      },
      {
       "output_type": "stream",
       "stream": "stdout",
       "text": [
        " 14\n",
        "\t\t\t Norm =  (109.661632413-2.55490073542e-13j)\n",
        " t index = "
       ]
      },
      {
       "output_type": "stream",
       "stream": "stdout",
       "text": [
        " 15\n",
        "\t\t\t Norm =  (109.661632415-2.53658205551e-13j)\n",
        " t index = "
       ]
      },
      {
       "output_type": "stream",
       "stream": "stdout",
       "text": [
        " 16\n",
        "\t\t\t Norm =  (109.661632416-2.54019028034e-13j)\n",
        " t index = "
       ]
      },
      {
       "output_type": "stream",
       "stream": "stdout",
       "text": [
        " 17\n",
        "\t\t\t Norm =  (109.661632417-2.54782306364e-13j)\n",
        " t index = "
       ]
      },
      {
       "output_type": "stream",
       "stream": "stdout",
       "text": [
        " 18\n",
        "\t\t\t Norm =  (109.661632419-2.52846354964e-13j)\n",
        " t index = "
       ]
      },
      {
       "output_type": "stream",
       "stream": "stdout",
       "text": [
        " 19\n",
        "\t\t\t Norm =  (109.66163242-2.53561061037e-13j)\n",
        " t index = "
       ]
      },
      {
       "output_type": "stream",
       "stream": "stdout",
       "text": [
        " 20\n",
        "\t\t\t Norm =  (109.661632422-2.51625109637e-13j)\n",
        " t index = "
       ]
      },
      {
       "output_type": "stream",
       "stream": "stdout",
       "text": [
        " 21\n",
        "\t\t\t Norm =  (109.661632423-2.53949639095e-13j)\n",
        " t index = "
       ]
      },
      {
       "output_type": "stream",
       "stream": "stdout",
       "text": [
        " 22\n",
        "\t\t\t Norm =  (109.661632424-2.53408405371e-13j)\n",
        " t index = "
       ]
      },
      {
       "output_type": "stream",
       "stream": "stdout",
       "text": [
        " 23\n",
        "\t\t\t Norm =  (109.661632426-2.54532506183e-13j)\n",
        " t index = "
       ]
      },
      {
       "output_type": "stream",
       "stream": "stdout",
       "text": [
        " 24\n",
        "\t\t\t Norm =  (109.661632427-2.53824739005e-13j)\n",
        " t index = "
       ]
      },
      {
       "output_type": "stream",
       "stream": "stdout",
       "text": [
        " 25\n",
        "\t\t\t Norm =  (109.661632428-2.53901066838e-13j)\n",
        " t index = "
       ]
      },
      {
       "output_type": "stream",
       "stream": "stdout",
       "text": [
        " 26\n",
        "\t\t\t Norm =  (109.66163243-2.54914145348e-13j)\n",
        " t index = "
       ]
      },
      {
       "output_type": "stream",
       "stream": "stdout",
       "text": [
        " 27\n",
        "\t\t\t Norm =  (109.661632431-2.57321941532e-13j)\n",
        " t index = "
       ]
      },
      {
       "output_type": "stream",
       "stream": "stdout",
       "text": [
        " 28\n",
        "\t\t\t Norm =  (109.661632433-2.53269627493e-13j)\n",
        " t index = "
       ]
      },
      {
       "output_type": "stream",
       "stream": "stdout",
       "text": [
        " 29\n",
        "\t\t\t Norm =  (109.661632434-2.51729193046e-13j)\n",
        " t index = "
       ]
      },
      {
       "output_type": "stream",
       "stream": "stdout",
       "text": [
        " 30\n",
        "\t\t\t Norm =  (109.661632435-2.51798581985e-13j)\n",
        " t index = "
       ]
      },
      {
       "output_type": "stream",
       "stream": "stdout",
       "text": [
        " 31\n",
        "\t\t\t Norm =  (109.661632437-2.5404678361e-13j)\n",
        " t index = "
       ]
      },
      {
       "output_type": "stream",
       "stream": "stdout",
       "text": [
        " 32\n",
        "\t\t\t Norm =  (109.661632438-2.53630449976e-13j)\n",
        " t index = "
       ]
      },
      {
       "output_type": "stream",
       "stream": "stdout",
       "text": [
        " 33\n",
        "\t\t\t Norm =  (109.661632439-2.54629650698e-13j)\n",
        " t index = "
       ]
      },
      {
       "output_type": "stream",
       "stream": "stdout",
       "text": [
        " 34\n",
        "\t\t\t Norm =  (109.661632441-2.55448440178e-13j)\n",
        " t index = "
       ]
      },
      {
       "output_type": "stream",
       "stream": "stdout",
       "text": [
        " 35\n",
        "\t\t\t Norm =  (109.661632442-2.54712917425e-13j)\n",
        " t index = "
       ]
      },
      {
       "output_type": "stream",
       "stream": "stdout",
       "text": [
        " 36\n",
        "\t\t\t Norm =  (109.661632444-2.5372759449e-13j)\n",
        " t index = "
       ]
      },
      {
       "output_type": "stream",
       "stream": "stdout",
       "text": [
        " 37\n",
        "\t\t\t Norm =  (109.661632445-2.53908005732e-13j)\n",
        " t index = "
       ]
      },
      {
       "output_type": "stream",
       "stream": "stdout",
       "text": [
        " 38\n",
        "\t\t\t Norm =  (109.661632446-2.53352894219e-13j)\n",
        " t index = "
       ]
      },
      {
       "output_type": "stream",
       "stream": "stdout",
       "text": [
        " 39\n",
        "\t\t\t Norm =  (109.661632448-2.52090015529e-13j)\n",
        " t index = "
       ]
      },
      {
       "output_type": "stream",
       "stream": "stdout",
       "text": [
        " 40\n",
        "\t\t\t Norm =  (109.661632449-2.52936560585e-13j)\n",
        " t index = "
       ]
      },
      {
       "output_type": "stream",
       "stream": "stdout",
       "text": [
        " 41\n",
        "\t\t\t Norm =  (109.66163245-2.51215714897e-13j)\n",
        " t index = "
       ]
      },
      {
       "output_type": "stream",
       "stream": "stdout",
       "text": [
        " 42\n",
        "\t\t\t Norm =  (109.661632452-2.52894927222e-13j)\n",
        " t index = "
       ]
      },
      {
       "output_type": "stream",
       "stream": "stdout",
       "text": [
        " 43\n",
        "\t\t\t Norm =  (109.661632453-2.53352894219e-13j)\n",
        " t index = "
       ]
      },
      {
       "output_type": "stream",
       "stream": "stdout",
       "text": [
        " 44\n",
        "\t\t\t Norm =  (109.661632455-2.53658205551e-13j)\n",
        " t index = "
       ]
      },
      {
       "output_type": "stream",
       "stream": "stdout",
       "text": [
        " 45\n",
        "\t\t\t Norm =  (109.661632456-2.52783904919e-13j)\n",
        " t index = "
       ]
      },
      {
       "output_type": "stream",
       "stream": "stdout",
       "text": [
        " 46\n",
        "\t\t\t Norm =  (109.661632457-2.52325937922e-13j)\n",
        " t index = "
       ]
      },
      {
       "output_type": "stream",
       "stream": "stdout",
       "text": [
        " 47\n",
        "\t\t\t Norm =  (109.661632459-2.536026944e-13j)\n",
        " t index = "
       ]
      },
      {
       "output_type": "stream",
       "stream": "stdout",
       "text": [
        " 48\n",
        "\t\t\t Norm =  (109.66163246-2.5328350528e-13j)\n",
        " t index = "
       ]
      },
      {
       "output_type": "stream",
       "stream": "stdout",
       "text": [
        " 49\n",
        "\t\t\t Norm =  (109.661632461-2.51215714897e-13j)\n",
        " t index = "
       ]
      },
      {
       "output_type": "stream",
       "stream": "stdout",
       "text": [
        " 50\n",
        "\t\t\t Norm =  (109.661632463-2.5290880501e-13j)\n",
        " t index = "
       ]
      },
      {
       "output_type": "stream",
       "stream": "stdout",
       "text": [
        " 51\n",
        "\t\t\t Norm =  (109.661632464-2.52825538283e-13j)\n",
        " t index = "
       ]
      },
      {
       "output_type": "stream",
       "stream": "stdout",
       "text": [
        " 52\n",
        "\t\t\t Norm =  (109.661632465-2.52561860314e-13j)\n",
        " t index = "
       ]
      },
      {
       "output_type": "stream",
       "stream": "stdout",
       "text": [
        " 53\n",
        "\t\t\t Norm =  (109.661632467-2.53075338463e-13j)\n",
        " t index = "
       ]
      },
      {
       "output_type": "stream",
       "stream": "stdout",
       "text": [
        " 54\n",
        "\t\t\t Norm =  (109.661632468-2.51187959321e-13j)\n",
        " t index = "
       ]
      },
      {
       "output_type": "stream",
       "stream": "stdout",
       "text": [
        " 55\n",
        "\t\t\t Norm =  (109.66163247-2.51521026229e-13j)\n",
        " t index = "
       ]
      },
      {
       "output_type": "stream",
       "stream": "stdout",
       "text": [
        " 56\n",
        "\t\t\t Norm =  (109.661632471-2.50632847809e-13j)\n",
        " t index = "
       ]
      },
      {
       "output_type": "stream",
       "stream": "stdout",
       "text": [
        " 57\n",
        "\t\t\t Norm =  (109.661632472-2.51798581985e-13j)\n",
        " t index = "
       ]
      },
      {
       "output_type": "stream",
       "stream": "stdout",
       "text": [
        " 58\n",
        "\t\t\t Norm =  (109.661632474-2.52936560585e-13j)\n",
        " t index = "
       ]
      },
      {
       "output_type": "stream",
       "stream": "stdout",
       "text": [
        " 59\n",
        "\t\t\t Norm =  (109.661632475-2.52575738102e-13j)\n",
        " t index = "
       ]
      },
      {
       "output_type": "stream",
       "stream": "stdout",
       "text": [
        " 60\n",
        "\t\t\t Norm =  (109.661632476-2.51715315258e-13j)\n",
        "\t\t\t Norm = "
       ]
      },
      {
       "output_type": "stream",
       "stream": "stdout",
       "text": [
        " (109.661632478-2.52742271556e-13j)\n",
        " running time =  33.2754986366 min\n"
       ]
      }
     ],
     "prompt_number": 12
    },
    {
     "cell_type": "code",
     "collapsed": false,
     "input": [
      "W = instance.W11_init_gpu.get() + instance.W22_init_gpu.get() + instance.W33_init_gpu.get() + instance.W44_init_gpu.get()"
     ],
     "language": "python",
     "metadata": {},
     "outputs": [],
     "prompt_number": 13
    },
    {
     "cell_type": "code",
     "collapsed": false,
     "input": [
      "np.sum(W).real*instance.dx*instance.dy*instance.dp_x*instance.dp_y"
     ],
     "language": "python",
     "metadata": {},
     "outputs": [
      {
       "metadata": {},
       "output_type": "pyout",
       "prompt_number": 14,
       "text": [
        "0.99999999999999922"
       ]
      }
     ],
     "prompt_number": 14
    },
    {
     "cell_type": "code",
     "collapsed": false,
     "input": [
      "# Phase space y \n",
      "plt.imshow( W[:,:,instance.gridDIM_x/2, instance.gridDIM_x/2 ].real, \n",
      "           extent=[-instance.y_amplitude , instance.y_amplitude-instance.dy,\n",
      "                   -instance.p_y_amplitude, instance.p_y_amplitude-instance.dp_y] ,\n",
      "           origin='lower', interpolation='none')\n",
      "\n",
      "axis_font = {'size':'24'}\n",
      "plt.title( '$W$' , **axis_font)\n",
      "plt.xlabel('$y$',**axis_font)\n",
      "plt.ylabel('$p_y$',**axis_font)\n",
      "\n",
      "plt.colorbar()\n",
      "plt.axes().set_aspect(4)"
     ],
     "language": "python",
     "metadata": {},
     "outputs": [
      {
       "metadata": {},
       "output_type": "display_data",
       "png": "[encoded data removed]",
       "text": [
        "<matplotlib.figure.Figure at 0x7f8736ebe210>"
       ]
      }
     ],
     "prompt_number": 15
    },
    {
     "cell_type": "code",
     "collapsed": false,
     "input": [
      "# Phase space x\n",
      "plt.imshow( W[instance.gridDIM_y/2, instance.gridDIM_y/2, :, : ].real, \n",
      "           extent=[-instance.x_amplitude , instance.x_amplitude-instance.dx,\n",
      "                   -instance.p_x_amplitude, instance.p_x_amplitude-instance.dp_x] ,\n",
      "           origin='lower', interpolation='none')\n",
      "\n",
      "axis_font = {'size':'24'}\n",
      "plt.title( '$W$' , **axis_font)\n",
      "plt.xlabel('$x$',**axis_font)\n",
      "plt.ylabel('$p_x$',**axis_font)\n",
      "\n",
      "plt.colorbar()\n",
      "plt.axes().set_aspect(4)"
     ],
     "language": "python",
     "metadata": {},
     "outputs": [
      {
       "metadata": {},
       "output_type": "display_data",
       "png": "[encoded data removed]",
       "text": [
        "<matplotlib.figure.Figure at 0x7f87369edd90>"
       ]
      }
     ],
     "prompt_number": 16
    },
    {
     "cell_type": "code",
     "collapsed": false,
     "input": [
      "# Configuration space  \n",
      "plt.imshow( W[ instance.gridDIM_y/2 , : , instance.gridDIM_x/2 , : ].real, \n",
      "           extent=[-instance.x_amplitude , instance.x_amplitude-instance.dx,\n",
      "                   -instance.y_amplitude , instance.y_amplitude-instance.dy] ,\n",
      "           origin='lower', interpolation='none')\n",
      "\n",
      "axis_font = {'size':'24'}\n",
      "plt.title( '$W$' , **axis_font)\n",
      "plt.xlabel('$x$',**axis_font)\n",
      "plt.ylabel('$y$',**axis_font)\n",
      "plt.axes().set_aspect(1)\n",
      "plt.colorbar()"
     ],
     "language": "python",
     "metadata": {},
     "outputs": [
      {
       "metadata": {},
       "output_type": "pyout",
       "prompt_number": 17,
       "text": [
        "<matplotlib.colorbar.Colorbar at 0x7f873652bed0>"
       ]
      },
      {
       "metadata": {},
       "output_type": "display_data",
       "png": "[encoded data removed]",
       "text": [
        "<matplotlib.figure.Figure at 0x7f873665ed50>"
       ]
      }
     ],
     "prompt_number": 17
    },
    {
     "cell_type": "code",
     "collapsed": false,
     "input": [
      "# Momentum space  \n",
      "plt.imshow( W[ :, instance.gridDIM_y/2 ,  :, instance.gridDIM_x/2 ].real, \n",
      "           extent=[-instance.p_x_amplitude , instance.p_x_amplitude-instance.dp_x,\n",
      "                   -instance.p_y_amplitude , instance.p_y_amplitude-instance.dp_y] ,\n",
      "           origin='lower', interpolation='none')\n",
      "\n",
      "axis_font = {'size':'24'}\n",
      "plt.title( '$W$' , **axis_font)\n",
      "plt.xlabel('$p_x$',**axis_font)\n",
      "plt.ylabel('$p_y$',**axis_font)\n",
      "plt.axes().set_aspect(1)\n",
      "plt.colorbar()"
     ],
     "language": "python",
     "metadata": {},
     "outputs": [
      {
       "metadata": {},
       "output_type": "pyout",
       "prompt_number": 18,
       "text": [
        "<matplotlib.colorbar.Colorbar at 0x7f8736765e50>"
       ]
      },
      {
       "metadata": {},
       "output_type": "display_data",
       "png": "[encoded data removed]",
       "text": [
        "<matplotlib.figure.Figure at 0x7f873654fe50>"
       ]
      }
     ],
     "prompt_number": 18
    },
    {
     "cell_type": "code",
     "collapsed": false,
     "input": [
      "plt.plot( instance.average_x  , label=\"$x$\")\n",
      "plt.ylabel(\"$x$\")\n",
      "plt.xlabel(\"t\")\n",
      "plt.legend(fontsize=20) "
     ],
     "language": "python",
     "metadata": {},
     "outputs": [
      {
       "metadata": {},
       "output_type": "pyout",
       "prompt_number": 19,
       "text": [
        "<matplotlib.legend.Legend at 0x7f8736b51d10>"
       ]
      },
      {
       "metadata": {},
       "output_type": "display_data",
       "png": "[encoded data removed]",
       "text": [
        "<matplotlib.figure.Figure at 0x7f8736b51e90>"
       ]
      }
     ],
     "prompt_number": 19
    },
    {
     "cell_type": "code",
     "collapsed": false,
     "input": [
      "plt.plot( instance.average_p_x , label=\"$p_x$\")\n",
      "plt.ylabel(\"$p_x$\")\n",
      "plt.xlabel(\"t\")\n",
      "plt.ylim(0,3)\n",
      "plt.legend(fontsize=20) "
     ],
     "language": "python",
     "metadata": {},
     "outputs": [
      {
       "metadata": {},
       "output_type": "pyout",
       "prompt_number": 20,
       "text": [
        "<matplotlib.legend.Legend at 0x7f873677c9d0>"
       ]
      },
      {
       "metadata": {},
       "output_type": "display_data",
       "png": "[encoded data removed]",
       "text": [
        "<matplotlib.figure.Figure at 0x7f873677c910>"
       ]
      }
     ],
     "prompt_number": 20
    },
    {
     "cell_type": "code",
     "collapsed": false,
     "input": [
      "plt.plot( instance.average_y  , label=\"$y$\")\n",
      "plt.ylabel(\"$y$\")\n",
      "plt.xlabel(\"t\")\n",
      "plt.ylim(-1,1)\n",
      "plt.legend(fontsize=20) "
     ],
     "language": "python",
     "metadata": {},
     "outputs": [
      {
       "metadata": {},
       "output_type": "pyout",
       "prompt_number": 21,
       "text": [
        "<matplotlib.legend.Legend at 0x7f8736717550>"
       ]
      },
      {
       "metadata": {},
       "output_type": "display_data",
       "png": "[encoded data removed]",
       "text": [
        "<matplotlib.figure.Figure at 0x7f87367173d0>"
       ]
      }
     ],
     "prompt_number": 21
    },
    {
     "cell_type": "code",
     "collapsed": false,
     "input": [
      "plt.plot( instance.average_p_y ,label=\"$p_y$\")\n",
      "plt.ylabel(\"$p_y$\")\n",
      "plt.xlabel(\"t\")\n",
      "plt.ylim(-1,1)\n",
      "plt.legend(fontsize=20) "
     ],
     "language": "python",
     "metadata": {},
     "outputs": [
      {
       "metadata": {},
       "output_type": "pyout",
       "prompt_number": 22,
       "text": [
        "<matplotlib.legend.Legend at 0x7f87363b6ad0>"
       ]
      },
      {
       "metadata": {},
       "output_type": "display_data",
       "png": "[encoded data removed]",
       "text": [
        "<matplotlib.figure.Figure at 0x7f87366ac990>"
       ]
      }
     ],
     "prompt_number": 22
    },
    {
     "cell_type": "code",
     "collapsed": false,
     "input": [
      "instance.average_x.shape"
     ],
     "language": "python",
     "metadata": {},
     "outputs": [
      {
       "metadata": {},
       "output_type": "pyout",
       "prompt_number": 23,
       "text": [
        "(61,)"
       ]
      }
     ],
     "prompt_number": 23
    },
    {
     "cell_type": "code",
     "collapsed": false,
     "input": [
      "print 'initial velocity x = ', 2/np.sqrt( 1 + 2**2 + 2**2  )\n",
      "\n",
      "plt.figure(figsize=(8,8))\n",
      "\n",
      "plt.plot(  np.gradient( instance.average_x , instance.dt)  , label=\"$\\\\frac{dx}{dt}$\")\n",
      "plt.plot( instance.average_Alpha_1 ,'r--', label=\"$\\\\alpha^1$\")\n",
      "plt.ylabel(\"$x$\")\n",
      "plt.xlabel(\"t\")\n",
      "\n",
      "plt.ylim( 0.69 , 0.698 )\n",
      "plt.legend(fontsize=30) "
     ],
     "language": "python",
     "metadata": {},
     "outputs": [
      {
       "output_type": "stream",
       "stream": "stdout",
       "text": [
        "initial velocity x =  0.666666666667\n"
       ]
      },
      {
       "metadata": {},
       "output_type": "pyout",
       "prompt_number": 36,
       "text": [
        "<matplotlib.legend.Legend at 0x7f873591fa90>"
       ]
      },
      {
       "metadata": {},
       "output_type": "display_data",
       "png": "[encoded data removed]",
       "text": [
        "<matplotlib.figure.Figure at 0x7f87361248d0>"
       ]
      }
     ],
     "prompt_number": 36
    },
    {
     "cell_type": "code",
     "collapsed": false,
     "input": [
      "0.698-0.690"
     ],
     "language": "python",
     "metadata": {},
     "outputs": [
      {
       "metadata": {},
       "output_type": "pyout",
       "prompt_number": 37,
       "text": [
        "0.008000000000000007"
       ]
      }
     ],
     "prompt_number": 37
    },
    {
     "cell_type": "code",
     "collapsed": false,
     "input": [
      "print 'initial velocity y = ', 2/np.sqrt( 1 + 2**2 + 2**2  )\n",
      "\n",
      "plt.figure(figsize=(8,8))\n",
      "\n",
      "plt.plot(  np.gradient( instance.average_y , instance.dt )  , label=\"$\\\\frac{dy}{dt}$\")\n",
      "#plt.plot( instance.average_p_x/instance.mass, 'r--' , label=\"$\\\\frac{p_x}{m}$\")\n",
      "plt.plot( instance.average_Alpha_2 ,'r--', label=\"$\\\\alpha^2$\")\n",
      "plt.ylabel(\"$x$\")\n",
      "plt.xlabel(\"t\")\n",
      "\n",
      "plt.ylim(-0.1,0.1)\n",
      "\n",
      "plt.legend(fontsize=30) "
     ],
     "language": "python",
     "metadata": {},
     "outputs": [
      {
       "output_type": "stream",
       "stream": "stdout",
       "text": [
        "initial velocity y =  0.666666666667\n"
       ]
      },
      {
       "metadata": {},
       "output_type": "pyout",
       "prompt_number": 25,
       "text": [
        "<matplotlib.legend.Legend at 0x7f87361d6e50>"
       ]
      },
      {
       "metadata": {},
       "output_type": "display_data",
       "png": "[encoded data removed]",
       "text": [
        "<matplotlib.figure.Figure at 0x7f87363e01d0>"
       ]
      }
     ],
     "prompt_number": 25
    },
    {
     "cell_type": "code",
     "collapsed": false,
     "input": [
      "plt.figure(figsize=(8,8))\n",
      "\n",
      "plt.plot(  instance.energyKinetic , label=\"$Kinetic\\, Energy$\")\n",
      "plt.plot(  instance.energyPotential+instance.energyKinetic , 'r--',label=\"$Total\\, Energy$\")\n",
      "\n",
      "plt.ylabel(\"$E$\")\n",
      "plt.xlabel(\"t\")\n",
      "plt.ylim(1,2)\n",
      "plt.legend(fontsize=30) "
     ],
     "language": "python",
     "metadata": {},
     "outputs": [
      {
       "metadata": {},
       "output_type": "pyout",
       "prompt_number": 26,
       "text": [
        "<matplotlib.legend.Legend at 0x7f8736124990>"
       ]
      },
      {
       "metadata": {},
       "output_type": "display_data",
       "png": "[encoded data removed]",
       "text": [
        "<matplotlib.figure.Figure at 0x7f87362a4f50>"
       ]
      }
     ],
     "prompt_number": 26
    },
    {
     "cell_type": "code",
     "collapsed": false,
     "input": [
      "plt.figure(figsize=(8,8))\n",
      "\n",
      "plt.plot(  instance.energyPotential , label=\"$Potential\\, Energy$\")\n",
      "plt.ylabel(\"$E$\")\n",
      "plt.xlabel(\"t\")\n",
      "plt.ylim(-1,3)\n",
      "plt.legend(fontsize=30) "
     ],
     "language": "python",
     "metadata": {},
     "outputs": [
      {
       "metadata": {},
       "output_type": "pyout",
       "prompt_number": 27,
       "text": [
        "<matplotlib.legend.Legend at 0x7f87363e0750>"
       ]
      },
      {
       "metadata": {},
       "output_type": "display_data",
       "png": "[encoded data removed]",
       "text": [
        "<matplotlib.figure.Figure at 0x7f8736431a90>"
       ]
      }
     ],
     "prompt_number": 27
    },
    {
     "cell_type": "code",
     "collapsed": false,
     "input": [
      "plt.figure(figsize=(8,8))\n",
      "\n",
      "plt.plot(  instance.average_x_square , label=\"$x^2$\")\n",
      "plt.plot(  instance.average_y_square , 'r--' , label=\"$y^2$\")\n",
      "plt.ylabel(\"$\\\\Delta$\")\n",
      "plt.xlabel(\"t\")\n",
      "plt.ylim(0,4.5)\n",
      "plt.legend(fontsize=30) "
     ],
     "language": "python",
     "metadata": {},
     "outputs": [
      {
       "metadata": {},
       "output_type": "pyout",
       "prompt_number": 28,
       "text": [
        "<matplotlib.legend.Legend at 0x7f8735faff50>"
       ]
      },
      {
       "metadata": {},
       "output_type": "display_data",
       "png": "[encoded data removed]",
       "text": [
        "<matplotlib.figure.Figure at 0x7f873674d5d0>"
       ]
      }
     ],
     "prompt_number": 28
    },
    {
     "cell_type": "code",
     "collapsed": false,
     "input": [
      "plt.figure(figsize=(8,8))\n",
      "\n",
      "plt.plot(  instance.average_p_x_square - instance.average_p_x**2 ,\n",
      "         label=\"$\\\\langle p_x^2 \\\\rangle - \\\\langle p_x \\\\rangle^2 $\")\n",
      "plt.plot(  instance.average_p_y_square - instance.average_p_y**2 ,'r--',\n",
      "         label=\"$\\\\langle p_y^2 \\\\rangle - \\\\langle p_y\\\\rangle^2 $\")\n",
      "plt.ylabel(\"$E$\")\n",
      "plt.xlabel(\"t\")\n",
      "plt.ylim(0.,0.25)\n",
      "plt.legend(fontsize=30) "
     ],
     "language": "python",
     "metadata": {},
     "outputs": [
      {
       "metadata": {},
       "output_type": "pyout",
       "prompt_number": 29,
       "text": [
        "<matplotlib.legend.Legend at 0x7f8735f0be50>"
       ]
      },
      {
       "metadata": {},
       "output_type": "display_data",
       "png": "[encoded data removed]",
       "text": [
        "<matplotlib.figure.Figure at 0x7f8735f7ab50>"
       ]
      }
     ],
     "prompt_number": 29
    },
    {
     "cell_type": "code",
     "collapsed": false,
     "input": [],
     "language": "python",
     "metadata": {},
     "outputs": [],
     "prompt_number": 29
    }
   ],
   "metadata": {}
  }
 ]
}